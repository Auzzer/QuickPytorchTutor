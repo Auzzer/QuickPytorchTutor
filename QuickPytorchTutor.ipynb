{
  "nbformat": 4,
  "nbformat_minor": 0,
  "metadata": {
    "colab": {
      "name": "QuickPytorchTutor.ipynb",
      "provenance": [],
      "collapsed_sections": [
        "mfivPcEtj6xv",
        "Jhf_3MDZk4Lt"
      ],
      "toc_visible": true,
      "authorship_tag": "ABX9TyMAmi2CdrFvYlffbHo44Kwq",
      "include_colab_link": true
    },
    "kernelspec": {
      "name": "python3",
      "display_name": "Python 3"
    },
    "language_info": {
      "name": "python"
    },
    "widgets": {
      "application/vnd.jupyter.widget-state+json": {
        "b6b64362c1d14895b1a7dc1f63fd5b85": {
          "model_module": "@jupyter-widgets/controls",
          "model_name": "HBoxModel",
          "state": {
            "_view_name": "HBoxView",
            "_dom_classes": [],
            "_model_name": "HBoxModel",
            "_view_module": "@jupyter-widgets/controls",
            "_model_module_version": "1.5.0",
            "_view_count": null,
            "_view_module_version": "1.5.0",
            "box_style": "",
            "layout": "IPY_MODEL_df16457dfb1f4fe7b77c937e4a77cd8d",
            "_model_module": "@jupyter-widgets/controls",
            "children": [
              "IPY_MODEL_5ad1fbca528d4d69a0fa152f0f6c389c",
              "IPY_MODEL_e61191e54fd74f4cbaa21aa19af5f104"
            ]
          }
        },
        "df16457dfb1f4fe7b77c937e4a77cd8d": {
          "model_module": "@jupyter-widgets/base",
          "model_name": "LayoutModel",
          "state": {
            "_view_name": "LayoutView",
            "grid_template_rows": null,
            "right": null,
            "justify_content": null,
            "_view_module": "@jupyter-widgets/base",
            "overflow": null,
            "_model_module_version": "1.2.0",
            "_view_count": null,
            "flex_flow": null,
            "width": null,
            "min_width": null,
            "border": null,
            "align_items": null,
            "bottom": null,
            "_model_module": "@jupyter-widgets/base",
            "top": null,
            "grid_column": null,
            "overflow_y": null,
            "overflow_x": null,
            "grid_auto_flow": null,
            "grid_area": null,
            "grid_template_columns": null,
            "flex": null,
            "_model_name": "LayoutModel",
            "justify_items": null,
            "grid_row": null,
            "max_height": null,
            "align_content": null,
            "visibility": null,
            "align_self": null,
            "height": null,
            "min_height": null,
            "padding": null,
            "grid_auto_rows": null,
            "grid_gap": null,
            "max_width": null,
            "order": null,
            "_view_module_version": "1.2.0",
            "grid_template_areas": null,
            "object_position": null,
            "object_fit": null,
            "grid_auto_columns": null,
            "margin": null,
            "display": null,
            "left": null
          }
        },
        "5ad1fbca528d4d69a0fa152f0f6c389c": {
          "model_module": "@jupyter-widgets/controls",
          "model_name": "FloatProgressModel",
          "state": {
            "_view_name": "ProgressView",
            "style": "IPY_MODEL_bdde1efdb54d4ff48aaa952c5aa4690c",
            "_dom_classes": [],
            "description": "",
            "_model_name": "FloatProgressModel",
            "bar_style": "success",
            "max": 9912422,
            "_view_module": "@jupyter-widgets/controls",
            "_model_module_version": "1.5.0",
            "value": 9912422,
            "_view_count": null,
            "_view_module_version": "1.5.0",
            "orientation": "horizontal",
            "min": 0,
            "description_tooltip": null,
            "_model_module": "@jupyter-widgets/controls",
            "layout": "IPY_MODEL_61b64285e5444e77bade5e79b7b32087"
          }
        },
        "e61191e54fd74f4cbaa21aa19af5f104": {
          "model_module": "@jupyter-widgets/controls",
          "model_name": "HTMLModel",
          "state": {
            "_view_name": "HTMLView",
            "style": "IPY_MODEL_40e37d2c5e7e40aa9d1b3bb4027c42eb",
            "_dom_classes": [],
            "description": "",
            "_model_name": "HTMLModel",
            "placeholder": "​",
            "_view_module": "@jupyter-widgets/controls",
            "_model_module_version": "1.5.0",
            "value": " 9913344/? [00:05&lt;00:00, 1861249.74it/s]",
            "_view_count": null,
            "_view_module_version": "1.5.0",
            "description_tooltip": null,
            "_model_module": "@jupyter-widgets/controls",
            "layout": "IPY_MODEL_be40d526314e41bd953a8de099f78ba2"
          }
        },
        "bdde1efdb54d4ff48aaa952c5aa4690c": {
          "model_module": "@jupyter-widgets/controls",
          "model_name": "ProgressStyleModel",
          "state": {
            "_view_name": "StyleView",
            "_model_name": "ProgressStyleModel",
            "description_width": "initial",
            "_view_module": "@jupyter-widgets/base",
            "_model_module_version": "1.5.0",
            "_view_count": null,
            "_view_module_version": "1.2.0",
            "bar_color": null,
            "_model_module": "@jupyter-widgets/controls"
          }
        },
        "61b64285e5444e77bade5e79b7b32087": {
          "model_module": "@jupyter-widgets/base",
          "model_name": "LayoutModel",
          "state": {
            "_view_name": "LayoutView",
            "grid_template_rows": null,
            "right": null,
            "justify_content": null,
            "_view_module": "@jupyter-widgets/base",
            "overflow": null,
            "_model_module_version": "1.2.0",
            "_view_count": null,
            "flex_flow": null,
            "width": null,
            "min_width": null,
            "border": null,
            "align_items": null,
            "bottom": null,
            "_model_module": "@jupyter-widgets/base",
            "top": null,
            "grid_column": null,
            "overflow_y": null,
            "overflow_x": null,
            "grid_auto_flow": null,
            "grid_area": null,
            "grid_template_columns": null,
            "flex": null,
            "_model_name": "LayoutModel",
            "justify_items": null,
            "grid_row": null,
            "max_height": null,
            "align_content": null,
            "visibility": null,
            "align_self": null,
            "height": null,
            "min_height": null,
            "padding": null,
            "grid_auto_rows": null,
            "grid_gap": null,
            "max_width": null,
            "order": null,
            "_view_module_version": "1.2.0",
            "grid_template_areas": null,
            "object_position": null,
            "object_fit": null,
            "grid_auto_columns": null,
            "margin": null,
            "display": null,
            "left": null
          }
        },
        "40e37d2c5e7e40aa9d1b3bb4027c42eb": {
          "model_module": "@jupyter-widgets/controls",
          "model_name": "DescriptionStyleModel",
          "state": {
            "_view_name": "StyleView",
            "_model_name": "DescriptionStyleModel",
            "description_width": "",
            "_view_module": "@jupyter-widgets/base",
            "_model_module_version": "1.5.0",
            "_view_count": null,
            "_view_module_version": "1.2.0",
            "_model_module": "@jupyter-widgets/controls"
          }
        },
        "be40d526314e41bd953a8de099f78ba2": {
          "model_module": "@jupyter-widgets/base",
          "model_name": "LayoutModel",
          "state": {
            "_view_name": "LayoutView",
            "grid_template_rows": null,
            "right": null,
            "justify_content": null,
            "_view_module": "@jupyter-widgets/base",
            "overflow": null,
            "_model_module_version": "1.2.0",
            "_view_count": null,
            "flex_flow": null,
            "width": null,
            "min_width": null,
            "border": null,
            "align_items": null,
            "bottom": null,
            "_model_module": "@jupyter-widgets/base",
            "top": null,
            "grid_column": null,
            "overflow_y": null,
            "overflow_x": null,
            "grid_auto_flow": null,
            "grid_area": null,
            "grid_template_columns": null,
            "flex": null,
            "_model_name": "LayoutModel",
            "justify_items": null,
            "grid_row": null,
            "max_height": null,
            "align_content": null,
            "visibility": null,
            "align_self": null,
            "height": null,
            "min_height": null,
            "padding": null,
            "grid_auto_rows": null,
            "grid_gap": null,
            "max_width": null,
            "order": null,
            "_view_module_version": "1.2.0",
            "grid_template_areas": null,
            "object_position": null,
            "object_fit": null,
            "grid_auto_columns": null,
            "margin": null,
            "display": null,
            "left": null
          }
        },
        "09b1cfee407742fc9801cfda599017bd": {
          "model_module": "@jupyter-widgets/controls",
          "model_name": "HBoxModel",
          "state": {
            "_view_name": "HBoxView",
            "_dom_classes": [],
            "_model_name": "HBoxModel",
            "_view_module": "@jupyter-widgets/controls",
            "_model_module_version": "1.5.0",
            "_view_count": null,
            "_view_module_version": "1.5.0",
            "box_style": "",
            "layout": "IPY_MODEL_82a5857bca4448b7b96e94479afa4576",
            "_model_module": "@jupyter-widgets/controls",
            "children": [
              "IPY_MODEL_a004d8ed92714e3bb47177c22aa6c20f",
              "IPY_MODEL_19f61c51f1924eae81e0fd1962c3fd4b"
            ]
          }
        },
        "82a5857bca4448b7b96e94479afa4576": {
          "model_module": "@jupyter-widgets/base",
          "model_name": "LayoutModel",
          "state": {
            "_view_name": "LayoutView",
            "grid_template_rows": null,
            "right": null,
            "justify_content": null,
            "_view_module": "@jupyter-widgets/base",
            "overflow": null,
            "_model_module_version": "1.2.0",
            "_view_count": null,
            "flex_flow": null,
            "width": null,
            "min_width": null,
            "border": null,
            "align_items": null,
            "bottom": null,
            "_model_module": "@jupyter-widgets/base",
            "top": null,
            "grid_column": null,
            "overflow_y": null,
            "overflow_x": null,
            "grid_auto_flow": null,
            "grid_area": null,
            "grid_template_columns": null,
            "flex": null,
            "_model_name": "LayoutModel",
            "justify_items": null,
            "grid_row": null,
            "max_height": null,
            "align_content": null,
            "visibility": null,
            "align_self": null,
            "height": null,
            "min_height": null,
            "padding": null,
            "grid_auto_rows": null,
            "grid_gap": null,
            "max_width": null,
            "order": null,
            "_view_module_version": "1.2.0",
            "grid_template_areas": null,
            "object_position": null,
            "object_fit": null,
            "grid_auto_columns": null,
            "margin": null,
            "display": null,
            "left": null
          }
        },
        "a004d8ed92714e3bb47177c22aa6c20f": {
          "model_module": "@jupyter-widgets/controls",
          "model_name": "FloatProgressModel",
          "state": {
            "_view_name": "ProgressView",
            "style": "IPY_MODEL_461a2289b34d462a970ef5baff32d176",
            "_dom_classes": [],
            "description": "",
            "_model_name": "FloatProgressModel",
            "bar_style": "success",
            "max": 28881,
            "_view_module": "@jupyter-widgets/controls",
            "_model_module_version": "1.5.0",
            "value": 28881,
            "_view_count": null,
            "_view_module_version": "1.5.0",
            "orientation": "horizontal",
            "min": 0,
            "description_tooltip": null,
            "_model_module": "@jupyter-widgets/controls",
            "layout": "IPY_MODEL_cf56fcbb786a4aa693e289188b1e39ca"
          }
        },
        "19f61c51f1924eae81e0fd1962c3fd4b": {
          "model_module": "@jupyter-widgets/controls",
          "model_name": "HTMLModel",
          "state": {
            "_view_name": "HTMLView",
            "style": "IPY_MODEL_3b2cb945368a4a5a95dcaeac2890239a",
            "_dom_classes": [],
            "description": "",
            "_model_name": "HTMLModel",
            "placeholder": "​",
            "_view_module": "@jupyter-widgets/controls",
            "_model_module_version": "1.5.0",
            "value": " 29696/? [00:00&lt;00:00, 40713.77it/s]",
            "_view_count": null,
            "_view_module_version": "1.5.0",
            "description_tooltip": null,
            "_model_module": "@jupyter-widgets/controls",
            "layout": "IPY_MODEL_0b9a3c708b45429f94bf9216c61d1568"
          }
        },
        "461a2289b34d462a970ef5baff32d176": {
          "model_module": "@jupyter-widgets/controls",
          "model_name": "ProgressStyleModel",
          "state": {
            "_view_name": "StyleView",
            "_model_name": "ProgressStyleModel",
            "description_width": "initial",
            "_view_module": "@jupyter-widgets/base",
            "_model_module_version": "1.5.0",
            "_view_count": null,
            "_view_module_version": "1.2.0",
            "bar_color": null,
            "_model_module": "@jupyter-widgets/controls"
          }
        },
        "cf56fcbb786a4aa693e289188b1e39ca": {
          "model_module": "@jupyter-widgets/base",
          "model_name": "LayoutModel",
          "state": {
            "_view_name": "LayoutView",
            "grid_template_rows": null,
            "right": null,
            "justify_content": null,
            "_view_module": "@jupyter-widgets/base",
            "overflow": null,
            "_model_module_version": "1.2.0",
            "_view_count": null,
            "flex_flow": null,
            "width": null,
            "min_width": null,
            "border": null,
            "align_items": null,
            "bottom": null,
            "_model_module": "@jupyter-widgets/base",
            "top": null,
            "grid_column": null,
            "overflow_y": null,
            "overflow_x": null,
            "grid_auto_flow": null,
            "grid_area": null,
            "grid_template_columns": null,
            "flex": null,
            "_model_name": "LayoutModel",
            "justify_items": null,
            "grid_row": null,
            "max_height": null,
            "align_content": null,
            "visibility": null,
            "align_self": null,
            "height": null,
            "min_height": null,
            "padding": null,
            "grid_auto_rows": null,
            "grid_gap": null,
            "max_width": null,
            "order": null,
            "_view_module_version": "1.2.0",
            "grid_template_areas": null,
            "object_position": null,
            "object_fit": null,
            "grid_auto_columns": null,
            "margin": null,
            "display": null,
            "left": null
          }
        },
        "3b2cb945368a4a5a95dcaeac2890239a": {
          "model_module": "@jupyter-widgets/controls",
          "model_name": "DescriptionStyleModel",
          "state": {
            "_view_name": "StyleView",
            "_model_name": "DescriptionStyleModel",
            "description_width": "",
            "_view_module": "@jupyter-widgets/base",
            "_model_module_version": "1.5.0",
            "_view_count": null,
            "_view_module_version": "1.2.0",
            "_model_module": "@jupyter-widgets/controls"
          }
        },
        "0b9a3c708b45429f94bf9216c61d1568": {
          "model_module": "@jupyter-widgets/base",
          "model_name": "LayoutModel",
          "state": {
            "_view_name": "LayoutView",
            "grid_template_rows": null,
            "right": null,
            "justify_content": null,
            "_view_module": "@jupyter-widgets/base",
            "overflow": null,
            "_model_module_version": "1.2.0",
            "_view_count": null,
            "flex_flow": null,
            "width": null,
            "min_width": null,
            "border": null,
            "align_items": null,
            "bottom": null,
            "_model_module": "@jupyter-widgets/base",
            "top": null,
            "grid_column": null,
            "overflow_y": null,
            "overflow_x": null,
            "grid_auto_flow": null,
            "grid_area": null,
            "grid_template_columns": null,
            "flex": null,
            "_model_name": "LayoutModel",
            "justify_items": null,
            "grid_row": null,
            "max_height": null,
            "align_content": null,
            "visibility": null,
            "align_self": null,
            "height": null,
            "min_height": null,
            "padding": null,
            "grid_auto_rows": null,
            "grid_gap": null,
            "max_width": null,
            "order": null,
            "_view_module_version": "1.2.0",
            "grid_template_areas": null,
            "object_position": null,
            "object_fit": null,
            "grid_auto_columns": null,
            "margin": null,
            "display": null,
            "left": null
          }
        },
        "978dd1c1b9544b578060b4b741bd623b": {
          "model_module": "@jupyter-widgets/controls",
          "model_name": "HBoxModel",
          "state": {
            "_view_name": "HBoxView",
            "_dom_classes": [],
            "_model_name": "HBoxModel",
            "_view_module": "@jupyter-widgets/controls",
            "_model_module_version": "1.5.0",
            "_view_count": null,
            "_view_module_version": "1.5.0",
            "box_style": "",
            "layout": "IPY_MODEL_d6fca1a676cc49dd8e05b9c7c2a994a8",
            "_model_module": "@jupyter-widgets/controls",
            "children": [
              "IPY_MODEL_b4c0e9cf33264f8094ed999f010b8b96",
              "IPY_MODEL_581a68de3bdf4f8892e0419bed382cd4"
            ]
          }
        },
        "d6fca1a676cc49dd8e05b9c7c2a994a8": {
          "model_module": "@jupyter-widgets/base",
          "model_name": "LayoutModel",
          "state": {
            "_view_name": "LayoutView",
            "grid_template_rows": null,
            "right": null,
            "justify_content": null,
            "_view_module": "@jupyter-widgets/base",
            "overflow": null,
            "_model_module_version": "1.2.0",
            "_view_count": null,
            "flex_flow": null,
            "width": null,
            "min_width": null,
            "border": null,
            "align_items": null,
            "bottom": null,
            "_model_module": "@jupyter-widgets/base",
            "top": null,
            "grid_column": null,
            "overflow_y": null,
            "overflow_x": null,
            "grid_auto_flow": null,
            "grid_area": null,
            "grid_template_columns": null,
            "flex": null,
            "_model_name": "LayoutModel",
            "justify_items": null,
            "grid_row": null,
            "max_height": null,
            "align_content": null,
            "visibility": null,
            "align_self": null,
            "height": null,
            "min_height": null,
            "padding": null,
            "grid_auto_rows": null,
            "grid_gap": null,
            "max_width": null,
            "order": null,
            "_view_module_version": "1.2.0",
            "grid_template_areas": null,
            "object_position": null,
            "object_fit": null,
            "grid_auto_columns": null,
            "margin": null,
            "display": null,
            "left": null
          }
        },
        "b4c0e9cf33264f8094ed999f010b8b96": {
          "model_module": "@jupyter-widgets/controls",
          "model_name": "FloatProgressModel",
          "state": {
            "_view_name": "ProgressView",
            "style": "IPY_MODEL_470f0bdcc6994ee38f006313676cbab1",
            "_dom_classes": [],
            "description": "",
            "_model_name": "FloatProgressModel",
            "bar_style": "success",
            "max": 1648877,
            "_view_module": "@jupyter-widgets/controls",
            "_model_module_version": "1.5.0",
            "value": 1648877,
            "_view_count": null,
            "_view_module_version": "1.5.0",
            "orientation": "horizontal",
            "min": 0,
            "description_tooltip": null,
            "_model_module": "@jupyter-widgets/controls",
            "layout": "IPY_MODEL_986381aa5be749a189b32f3d7369c0c1"
          }
        },
        "581a68de3bdf4f8892e0419bed382cd4": {
          "model_module": "@jupyter-widgets/controls",
          "model_name": "HTMLModel",
          "state": {
            "_view_name": "HTMLView",
            "style": "IPY_MODEL_78b20f82ca9b440f90a43debe48b14e4",
            "_dom_classes": [],
            "description": "",
            "_model_name": "HTMLModel",
            "placeholder": "​",
            "_view_module": "@jupyter-widgets/controls",
            "_model_module_version": "1.5.0",
            "value": " 1649664/? [00:00&lt;00:00, 5369654.89it/s]",
            "_view_count": null,
            "_view_module_version": "1.5.0",
            "description_tooltip": null,
            "_model_module": "@jupyter-widgets/controls",
            "layout": "IPY_MODEL_0e013a4a6c4a45518600c0f7ca9199b9"
          }
        },
        "470f0bdcc6994ee38f006313676cbab1": {
          "model_module": "@jupyter-widgets/controls",
          "model_name": "ProgressStyleModel",
          "state": {
            "_view_name": "StyleView",
            "_model_name": "ProgressStyleModel",
            "description_width": "initial",
            "_view_module": "@jupyter-widgets/base",
            "_model_module_version": "1.5.0",
            "_view_count": null,
            "_view_module_version": "1.2.0",
            "bar_color": null,
            "_model_module": "@jupyter-widgets/controls"
          }
        },
        "986381aa5be749a189b32f3d7369c0c1": {
          "model_module": "@jupyter-widgets/base",
          "model_name": "LayoutModel",
          "state": {
            "_view_name": "LayoutView",
            "grid_template_rows": null,
            "right": null,
            "justify_content": null,
            "_view_module": "@jupyter-widgets/base",
            "overflow": null,
            "_model_module_version": "1.2.0",
            "_view_count": null,
            "flex_flow": null,
            "width": null,
            "min_width": null,
            "border": null,
            "align_items": null,
            "bottom": null,
            "_model_module": "@jupyter-widgets/base",
            "top": null,
            "grid_column": null,
            "overflow_y": null,
            "overflow_x": null,
            "grid_auto_flow": null,
            "grid_area": null,
            "grid_template_columns": null,
            "flex": null,
            "_model_name": "LayoutModel",
            "justify_items": null,
            "grid_row": null,
            "max_height": null,
            "align_content": null,
            "visibility": null,
            "align_self": null,
            "height": null,
            "min_height": null,
            "padding": null,
            "grid_auto_rows": null,
            "grid_gap": null,
            "max_width": null,
            "order": null,
            "_view_module_version": "1.2.0",
            "grid_template_areas": null,
            "object_position": null,
            "object_fit": null,
            "grid_auto_columns": null,
            "margin": null,
            "display": null,
            "left": null
          }
        },
        "78b20f82ca9b440f90a43debe48b14e4": {
          "model_module": "@jupyter-widgets/controls",
          "model_name": "DescriptionStyleModel",
          "state": {
            "_view_name": "StyleView",
            "_model_name": "DescriptionStyleModel",
            "description_width": "",
            "_view_module": "@jupyter-widgets/base",
            "_model_module_version": "1.5.0",
            "_view_count": null,
            "_view_module_version": "1.2.0",
            "_model_module": "@jupyter-widgets/controls"
          }
        },
        "0e013a4a6c4a45518600c0f7ca9199b9": {
          "model_module": "@jupyter-widgets/base",
          "model_name": "LayoutModel",
          "state": {
            "_view_name": "LayoutView",
            "grid_template_rows": null,
            "right": null,
            "justify_content": null,
            "_view_module": "@jupyter-widgets/base",
            "overflow": null,
            "_model_module_version": "1.2.0",
            "_view_count": null,
            "flex_flow": null,
            "width": null,
            "min_width": null,
            "border": null,
            "align_items": null,
            "bottom": null,
            "_model_module": "@jupyter-widgets/base",
            "top": null,
            "grid_column": null,
            "overflow_y": null,
            "overflow_x": null,
            "grid_auto_flow": null,
            "grid_area": null,
            "grid_template_columns": null,
            "flex": null,
            "_model_name": "LayoutModel",
            "justify_items": null,
            "grid_row": null,
            "max_height": null,
            "align_content": null,
            "visibility": null,
            "align_self": null,
            "height": null,
            "min_height": null,
            "padding": null,
            "grid_auto_rows": null,
            "grid_gap": null,
            "max_width": null,
            "order": null,
            "_view_module_version": "1.2.0",
            "grid_template_areas": null,
            "object_position": null,
            "object_fit": null,
            "grid_auto_columns": null,
            "margin": null,
            "display": null,
            "left": null
          }
        },
        "324da98cf57b4c028140ab1d9264199c": {
          "model_module": "@jupyter-widgets/controls",
          "model_name": "HBoxModel",
          "state": {
            "_view_name": "HBoxView",
            "_dom_classes": [],
            "_model_name": "HBoxModel",
            "_view_module": "@jupyter-widgets/controls",
            "_model_module_version": "1.5.0",
            "_view_count": null,
            "_view_module_version": "1.5.0",
            "box_style": "",
            "layout": "IPY_MODEL_eff5f7fd58344e35b3c17e47d24596e1",
            "_model_module": "@jupyter-widgets/controls",
            "children": [
              "IPY_MODEL_c4a5ec3dabe44453b17711fa9d753225",
              "IPY_MODEL_84d656f7672349bcaf675f7a9d3fc852"
            ]
          }
        },
        "eff5f7fd58344e35b3c17e47d24596e1": {
          "model_module": "@jupyter-widgets/base",
          "model_name": "LayoutModel",
          "state": {
            "_view_name": "LayoutView",
            "grid_template_rows": null,
            "right": null,
            "justify_content": null,
            "_view_module": "@jupyter-widgets/base",
            "overflow": null,
            "_model_module_version": "1.2.0",
            "_view_count": null,
            "flex_flow": null,
            "width": null,
            "min_width": null,
            "border": null,
            "align_items": null,
            "bottom": null,
            "_model_module": "@jupyter-widgets/base",
            "top": null,
            "grid_column": null,
            "overflow_y": null,
            "overflow_x": null,
            "grid_auto_flow": null,
            "grid_area": null,
            "grid_template_columns": null,
            "flex": null,
            "_model_name": "LayoutModel",
            "justify_items": null,
            "grid_row": null,
            "max_height": null,
            "align_content": null,
            "visibility": null,
            "align_self": null,
            "height": null,
            "min_height": null,
            "padding": null,
            "grid_auto_rows": null,
            "grid_gap": null,
            "max_width": null,
            "order": null,
            "_view_module_version": "1.2.0",
            "grid_template_areas": null,
            "object_position": null,
            "object_fit": null,
            "grid_auto_columns": null,
            "margin": null,
            "display": null,
            "left": null
          }
        },
        "c4a5ec3dabe44453b17711fa9d753225": {
          "model_module": "@jupyter-widgets/controls",
          "model_name": "FloatProgressModel",
          "state": {
            "_view_name": "ProgressView",
            "style": "IPY_MODEL_d99e0c9e6a13490b859d076f9c24fae4",
            "_dom_classes": [],
            "description": "",
            "_model_name": "FloatProgressModel",
            "bar_style": "success",
            "max": 4542,
            "_view_module": "@jupyter-widgets/controls",
            "_model_module_version": "1.5.0",
            "value": 4542,
            "_view_count": null,
            "_view_module_version": "1.5.0",
            "orientation": "horizontal",
            "min": 0,
            "description_tooltip": null,
            "_model_module": "@jupyter-widgets/controls",
            "layout": "IPY_MODEL_29182f5def434b738feecdffc8c633e0"
          }
        },
        "84d656f7672349bcaf675f7a9d3fc852": {
          "model_module": "@jupyter-widgets/controls",
          "model_name": "HTMLModel",
          "state": {
            "_view_name": "HTMLView",
            "style": "IPY_MODEL_ddae3b42994d4c53b9f43338496beae6",
            "_dom_classes": [],
            "description": "",
            "_model_name": "HTMLModel",
            "placeholder": "​",
            "_view_module": "@jupyter-widgets/controls",
            "_model_module_version": "1.5.0",
            "value": " 5120/? [00:03&lt;00:00, 1326.59it/s]",
            "_view_count": null,
            "_view_module_version": "1.5.0",
            "description_tooltip": null,
            "_model_module": "@jupyter-widgets/controls",
            "layout": "IPY_MODEL_ca3fcfc7e98146a4be1299e89fbd264c"
          }
        },
        "d99e0c9e6a13490b859d076f9c24fae4": {
          "model_module": "@jupyter-widgets/controls",
          "model_name": "ProgressStyleModel",
          "state": {
            "_view_name": "StyleView",
            "_model_name": "ProgressStyleModel",
            "description_width": "initial",
            "_view_module": "@jupyter-widgets/base",
            "_model_module_version": "1.5.0",
            "_view_count": null,
            "_view_module_version": "1.2.0",
            "bar_color": null,
            "_model_module": "@jupyter-widgets/controls"
          }
        },
        "29182f5def434b738feecdffc8c633e0": {
          "model_module": "@jupyter-widgets/base",
          "model_name": "LayoutModel",
          "state": {
            "_view_name": "LayoutView",
            "grid_template_rows": null,
            "right": null,
            "justify_content": null,
            "_view_module": "@jupyter-widgets/base",
            "overflow": null,
            "_model_module_version": "1.2.0",
            "_view_count": null,
            "flex_flow": null,
            "width": null,
            "min_width": null,
            "border": null,
            "align_items": null,
            "bottom": null,
            "_model_module": "@jupyter-widgets/base",
            "top": null,
            "grid_column": null,
            "overflow_y": null,
            "overflow_x": null,
            "grid_auto_flow": null,
            "grid_area": null,
            "grid_template_columns": null,
            "flex": null,
            "_model_name": "LayoutModel",
            "justify_items": null,
            "grid_row": null,
            "max_height": null,
            "align_content": null,
            "visibility": null,
            "align_self": null,
            "height": null,
            "min_height": null,
            "padding": null,
            "grid_auto_rows": null,
            "grid_gap": null,
            "max_width": null,
            "order": null,
            "_view_module_version": "1.2.0",
            "grid_template_areas": null,
            "object_position": null,
            "object_fit": null,
            "grid_auto_columns": null,
            "margin": null,
            "display": null,
            "left": null
          }
        },
        "ddae3b42994d4c53b9f43338496beae6": {
          "model_module": "@jupyter-widgets/controls",
          "model_name": "DescriptionStyleModel",
          "state": {
            "_view_name": "StyleView",
            "_model_name": "DescriptionStyleModel",
            "description_width": "",
            "_view_module": "@jupyter-widgets/base",
            "_model_module_version": "1.5.0",
            "_view_count": null,
            "_view_module_version": "1.2.0",
            "_model_module": "@jupyter-widgets/controls"
          }
        },
        "ca3fcfc7e98146a4be1299e89fbd264c": {
          "model_module": "@jupyter-widgets/base",
          "model_name": "LayoutModel",
          "state": {
            "_view_name": "LayoutView",
            "grid_template_rows": null,
            "right": null,
            "justify_content": null,
            "_view_module": "@jupyter-widgets/base",
            "overflow": null,
            "_model_module_version": "1.2.0",
            "_view_count": null,
            "flex_flow": null,
            "width": null,
            "min_width": null,
            "border": null,
            "align_items": null,
            "bottom": null,
            "_model_module": "@jupyter-widgets/base",
            "top": null,
            "grid_column": null,
            "overflow_y": null,
            "overflow_x": null,
            "grid_auto_flow": null,
            "grid_area": null,
            "grid_template_columns": null,
            "flex": null,
            "_model_name": "LayoutModel",
            "justify_items": null,
            "grid_row": null,
            "max_height": null,
            "align_content": null,
            "visibility": null,
            "align_self": null,
            "height": null,
            "min_height": null,
            "padding": null,
            "grid_auto_rows": null,
            "grid_gap": null,
            "max_width": null,
            "order": null,
            "_view_module_version": "1.2.0",
            "grid_template_areas": null,
            "object_position": null,
            "object_fit": null,
            "grid_auto_columns": null,
            "margin": null,
            "display": null,
            "left": null
          }
        },
        "90b838cb50994a1c87d1017ac509207f": {
          "model_module": "@jupyter-widgets/controls",
          "model_name": "HBoxModel",
          "state": {
            "_view_name": "HBoxView",
            "_dom_classes": [],
            "_model_name": "HBoxModel",
            "_view_module": "@jupyter-widgets/controls",
            "_model_module_version": "1.5.0",
            "_view_count": null,
            "_view_module_version": "1.5.0",
            "box_style": "",
            "layout": "IPY_MODEL_652984466576427c9152717be8b19af7",
            "_model_module": "@jupyter-widgets/controls",
            "children": [
              "IPY_MODEL_39d55bbca3ba41e2b1b0b59f4e127532",
              "IPY_MODEL_db81bfda10c6427d96bfe9e4358c6d28"
            ]
          }
        },
        "652984466576427c9152717be8b19af7": {
          "model_module": "@jupyter-widgets/base",
          "model_name": "LayoutModel",
          "state": {
            "_view_name": "LayoutView",
            "grid_template_rows": null,
            "right": null,
            "justify_content": null,
            "_view_module": "@jupyter-widgets/base",
            "overflow": null,
            "_model_module_version": "1.2.0",
            "_view_count": null,
            "flex_flow": null,
            "width": null,
            "min_width": null,
            "border": null,
            "align_items": null,
            "bottom": null,
            "_model_module": "@jupyter-widgets/base",
            "top": null,
            "grid_column": null,
            "overflow_y": null,
            "overflow_x": null,
            "grid_auto_flow": null,
            "grid_area": null,
            "grid_template_columns": null,
            "flex": null,
            "_model_name": "LayoutModel",
            "justify_items": null,
            "grid_row": null,
            "max_height": null,
            "align_content": null,
            "visibility": null,
            "align_self": null,
            "height": null,
            "min_height": null,
            "padding": null,
            "grid_auto_rows": null,
            "grid_gap": null,
            "max_width": null,
            "order": null,
            "_view_module_version": "1.2.0",
            "grid_template_areas": null,
            "object_position": null,
            "object_fit": null,
            "grid_auto_columns": null,
            "margin": null,
            "display": null,
            "left": null
          }
        },
        "39d55bbca3ba41e2b1b0b59f4e127532": {
          "model_module": "@jupyter-widgets/controls",
          "model_name": "FloatProgressModel",
          "state": {
            "_view_name": "ProgressView",
            "style": "IPY_MODEL_1786d96f8a234d3e8772f39079d82e41",
            "_dom_classes": [],
            "description": "",
            "_model_name": "FloatProgressModel",
            "bar_style": "success",
            "max": 9912422,
            "_view_module": "@jupyter-widgets/controls",
            "_model_module_version": "1.5.0",
            "value": 9912422,
            "_view_count": null,
            "_view_module_version": "1.5.0",
            "orientation": "horizontal",
            "min": 0,
            "description_tooltip": null,
            "_model_module": "@jupyter-widgets/controls",
            "layout": "IPY_MODEL_a9f92b7585194d49993120f4a85e43af"
          }
        },
        "db81bfda10c6427d96bfe9e4358c6d28": {
          "model_module": "@jupyter-widgets/controls",
          "model_name": "HTMLModel",
          "state": {
            "_view_name": "HTMLView",
            "style": "IPY_MODEL_36bc554e40814936b000f33354d0f126",
            "_dom_classes": [],
            "description": "",
            "_model_name": "HTMLModel",
            "placeholder": "​",
            "_view_module": "@jupyter-widgets/controls",
            "_model_module_version": "1.5.0",
            "value": " 9913344/? [00:01&lt;00:00, 8597310.82it/s]",
            "_view_count": null,
            "_view_module_version": "1.5.0",
            "description_tooltip": null,
            "_model_module": "@jupyter-widgets/controls",
            "layout": "IPY_MODEL_668840537c964723b2673a6f563af81f"
          }
        },
        "1786d96f8a234d3e8772f39079d82e41": {
          "model_module": "@jupyter-widgets/controls",
          "model_name": "ProgressStyleModel",
          "state": {
            "_view_name": "StyleView",
            "_model_name": "ProgressStyleModel",
            "description_width": "initial",
            "_view_module": "@jupyter-widgets/base",
            "_model_module_version": "1.5.0",
            "_view_count": null,
            "_view_module_version": "1.2.0",
            "bar_color": null,
            "_model_module": "@jupyter-widgets/controls"
          }
        },
        "a9f92b7585194d49993120f4a85e43af": {
          "model_module": "@jupyter-widgets/base",
          "model_name": "LayoutModel",
          "state": {
            "_view_name": "LayoutView",
            "grid_template_rows": null,
            "right": null,
            "justify_content": null,
            "_view_module": "@jupyter-widgets/base",
            "overflow": null,
            "_model_module_version": "1.2.0",
            "_view_count": null,
            "flex_flow": null,
            "width": null,
            "min_width": null,
            "border": null,
            "align_items": null,
            "bottom": null,
            "_model_module": "@jupyter-widgets/base",
            "top": null,
            "grid_column": null,
            "overflow_y": null,
            "overflow_x": null,
            "grid_auto_flow": null,
            "grid_area": null,
            "grid_template_columns": null,
            "flex": null,
            "_model_name": "LayoutModel",
            "justify_items": null,
            "grid_row": null,
            "max_height": null,
            "align_content": null,
            "visibility": null,
            "align_self": null,
            "height": null,
            "min_height": null,
            "padding": null,
            "grid_auto_rows": null,
            "grid_gap": null,
            "max_width": null,
            "order": null,
            "_view_module_version": "1.2.0",
            "grid_template_areas": null,
            "object_position": null,
            "object_fit": null,
            "grid_auto_columns": null,
            "margin": null,
            "display": null,
            "left": null
          }
        },
        "36bc554e40814936b000f33354d0f126": {
          "model_module": "@jupyter-widgets/controls",
          "model_name": "DescriptionStyleModel",
          "state": {
            "_view_name": "StyleView",
            "_model_name": "DescriptionStyleModel",
            "description_width": "",
            "_view_module": "@jupyter-widgets/base",
            "_model_module_version": "1.5.0",
            "_view_count": null,
            "_view_module_version": "1.2.0",
            "_model_module": "@jupyter-widgets/controls"
          }
        },
        "668840537c964723b2673a6f563af81f": {
          "model_module": "@jupyter-widgets/base",
          "model_name": "LayoutModel",
          "state": {
            "_view_name": "LayoutView",
            "grid_template_rows": null,
            "right": null,
            "justify_content": null,
            "_view_module": "@jupyter-widgets/base",
            "overflow": null,
            "_model_module_version": "1.2.0",
            "_view_count": null,
            "flex_flow": null,
            "width": null,
            "min_width": null,
            "border": null,
            "align_items": null,
            "bottom": null,
            "_model_module": "@jupyter-widgets/base",
            "top": null,
            "grid_column": null,
            "overflow_y": null,
            "overflow_x": null,
            "grid_auto_flow": null,
            "grid_area": null,
            "grid_template_columns": null,
            "flex": null,
            "_model_name": "LayoutModel",
            "justify_items": null,
            "grid_row": null,
            "max_height": null,
            "align_content": null,
            "visibility": null,
            "align_self": null,
            "height": null,
            "min_height": null,
            "padding": null,
            "grid_auto_rows": null,
            "grid_gap": null,
            "max_width": null,
            "order": null,
            "_view_module_version": "1.2.0",
            "grid_template_areas": null,
            "object_position": null,
            "object_fit": null,
            "grid_auto_columns": null,
            "margin": null,
            "display": null,
            "left": null
          }
        },
        "e60c6b5db13d4550be3810e180497a89": {
          "model_module": "@jupyter-widgets/controls",
          "model_name": "HBoxModel",
          "state": {
            "_view_name": "HBoxView",
            "_dom_classes": [],
            "_model_name": "HBoxModel",
            "_view_module": "@jupyter-widgets/controls",
            "_model_module_version": "1.5.0",
            "_view_count": null,
            "_view_module_version": "1.5.0",
            "box_style": "",
            "layout": "IPY_MODEL_b6e199d7668c4f608ab6f888b032450d",
            "_model_module": "@jupyter-widgets/controls",
            "children": [
              "IPY_MODEL_7b3a8ba7964c4de196b3242b238f82b4",
              "IPY_MODEL_41f1452e06404051800a775c99bd5920"
            ]
          }
        },
        "b6e199d7668c4f608ab6f888b032450d": {
          "model_module": "@jupyter-widgets/base",
          "model_name": "LayoutModel",
          "state": {
            "_view_name": "LayoutView",
            "grid_template_rows": null,
            "right": null,
            "justify_content": null,
            "_view_module": "@jupyter-widgets/base",
            "overflow": null,
            "_model_module_version": "1.2.0",
            "_view_count": null,
            "flex_flow": null,
            "width": null,
            "min_width": null,
            "border": null,
            "align_items": null,
            "bottom": null,
            "_model_module": "@jupyter-widgets/base",
            "top": null,
            "grid_column": null,
            "overflow_y": null,
            "overflow_x": null,
            "grid_auto_flow": null,
            "grid_area": null,
            "grid_template_columns": null,
            "flex": null,
            "_model_name": "LayoutModel",
            "justify_items": null,
            "grid_row": null,
            "max_height": null,
            "align_content": null,
            "visibility": null,
            "align_self": null,
            "height": null,
            "min_height": null,
            "padding": null,
            "grid_auto_rows": null,
            "grid_gap": null,
            "max_width": null,
            "order": null,
            "_view_module_version": "1.2.0",
            "grid_template_areas": null,
            "object_position": null,
            "object_fit": null,
            "grid_auto_columns": null,
            "margin": null,
            "display": null,
            "left": null
          }
        },
        "7b3a8ba7964c4de196b3242b238f82b4": {
          "model_module": "@jupyter-widgets/controls",
          "model_name": "FloatProgressModel",
          "state": {
            "_view_name": "ProgressView",
            "style": "IPY_MODEL_640f1d8301534e4498e574bd989b1ce7",
            "_dom_classes": [],
            "description": "",
            "_model_name": "FloatProgressModel",
            "bar_style": "success",
            "max": 28881,
            "_view_module": "@jupyter-widgets/controls",
            "_model_module_version": "1.5.0",
            "value": 28881,
            "_view_count": null,
            "_view_module_version": "1.5.0",
            "orientation": "horizontal",
            "min": 0,
            "description_tooltip": null,
            "_model_module": "@jupyter-widgets/controls",
            "layout": "IPY_MODEL_b9876fcfdc6a4ed2a96e2b02a684c548"
          }
        },
        "41f1452e06404051800a775c99bd5920": {
          "model_module": "@jupyter-widgets/controls",
          "model_name": "HTMLModel",
          "state": {
            "_view_name": "HTMLView",
            "style": "IPY_MODEL_31bd88acb0ce4175921224d8c2957609",
            "_dom_classes": [],
            "description": "",
            "_model_name": "HTMLModel",
            "placeholder": "​",
            "_view_module": "@jupyter-widgets/controls",
            "_model_module_version": "1.5.0",
            "value": " 29696/? [00:00&lt;00:00, 156635.71it/s]",
            "_view_count": null,
            "_view_module_version": "1.5.0",
            "description_tooltip": null,
            "_model_module": "@jupyter-widgets/controls",
            "layout": "IPY_MODEL_0f95e8a08e0b40dcad2b3f2f35582db2"
          }
        },
        "640f1d8301534e4498e574bd989b1ce7": {
          "model_module": "@jupyter-widgets/controls",
          "model_name": "ProgressStyleModel",
          "state": {
            "_view_name": "StyleView",
            "_model_name": "ProgressStyleModel",
            "description_width": "initial",
            "_view_module": "@jupyter-widgets/base",
            "_model_module_version": "1.5.0",
            "_view_count": null,
            "_view_module_version": "1.2.0",
            "bar_color": null,
            "_model_module": "@jupyter-widgets/controls"
          }
        },
        "b9876fcfdc6a4ed2a96e2b02a684c548": {
          "model_module": "@jupyter-widgets/base",
          "model_name": "LayoutModel",
          "state": {
            "_view_name": "LayoutView",
            "grid_template_rows": null,
            "right": null,
            "justify_content": null,
            "_view_module": "@jupyter-widgets/base",
            "overflow": null,
            "_model_module_version": "1.2.0",
            "_view_count": null,
            "flex_flow": null,
            "width": null,
            "min_width": null,
            "border": null,
            "align_items": null,
            "bottom": null,
            "_model_module": "@jupyter-widgets/base",
            "top": null,
            "grid_column": null,
            "overflow_y": null,
            "overflow_x": null,
            "grid_auto_flow": null,
            "grid_area": null,
            "grid_template_columns": null,
            "flex": null,
            "_model_name": "LayoutModel",
            "justify_items": null,
            "grid_row": null,
            "max_height": null,
            "align_content": null,
            "visibility": null,
            "align_self": null,
            "height": null,
            "min_height": null,
            "padding": null,
            "grid_auto_rows": null,
            "grid_gap": null,
            "max_width": null,
            "order": null,
            "_view_module_version": "1.2.0",
            "grid_template_areas": null,
            "object_position": null,
            "object_fit": null,
            "grid_auto_columns": null,
            "margin": null,
            "display": null,
            "left": null
          }
        },
        "31bd88acb0ce4175921224d8c2957609": {
          "model_module": "@jupyter-widgets/controls",
          "model_name": "DescriptionStyleModel",
          "state": {
            "_view_name": "StyleView",
            "_model_name": "DescriptionStyleModel",
            "description_width": "",
            "_view_module": "@jupyter-widgets/base",
            "_model_module_version": "1.5.0",
            "_view_count": null,
            "_view_module_version": "1.2.0",
            "_model_module": "@jupyter-widgets/controls"
          }
        },
        "0f95e8a08e0b40dcad2b3f2f35582db2": {
          "model_module": "@jupyter-widgets/base",
          "model_name": "LayoutModel",
          "state": {
            "_view_name": "LayoutView",
            "grid_template_rows": null,
            "right": null,
            "justify_content": null,
            "_view_module": "@jupyter-widgets/base",
            "overflow": null,
            "_model_module_version": "1.2.0",
            "_view_count": null,
            "flex_flow": null,
            "width": null,
            "min_width": null,
            "border": null,
            "align_items": null,
            "bottom": null,
            "_model_module": "@jupyter-widgets/base",
            "top": null,
            "grid_column": null,
            "overflow_y": null,
            "overflow_x": null,
            "grid_auto_flow": null,
            "grid_area": null,
            "grid_template_columns": null,
            "flex": null,
            "_model_name": "LayoutModel",
            "justify_items": null,
            "grid_row": null,
            "max_height": null,
            "align_content": null,
            "visibility": null,
            "align_self": null,
            "height": null,
            "min_height": null,
            "padding": null,
            "grid_auto_rows": null,
            "grid_gap": null,
            "max_width": null,
            "order": null,
            "_view_module_version": "1.2.0",
            "grid_template_areas": null,
            "object_position": null,
            "object_fit": null,
            "grid_auto_columns": null,
            "margin": null,
            "display": null,
            "left": null
          }
        },
        "aee1894e84cf4d2e9192d635e708ac2a": {
          "model_module": "@jupyter-widgets/controls",
          "model_name": "HBoxModel",
          "state": {
            "_view_name": "HBoxView",
            "_dom_classes": [],
            "_model_name": "HBoxModel",
            "_view_module": "@jupyter-widgets/controls",
            "_model_module_version": "1.5.0",
            "_view_count": null,
            "_view_module_version": "1.5.0",
            "box_style": "",
            "layout": "IPY_MODEL_6e384060a7c447759b6716e6e4fa23b4",
            "_model_module": "@jupyter-widgets/controls",
            "children": [
              "IPY_MODEL_47c11a80a62d4ea193b6528e2b3b9fa1",
              "IPY_MODEL_f4e344db034f4f9fa4086a3e56db95f6"
            ]
          }
        },
        "6e384060a7c447759b6716e6e4fa23b4": {
          "model_module": "@jupyter-widgets/base",
          "model_name": "LayoutModel",
          "state": {
            "_view_name": "LayoutView",
            "grid_template_rows": null,
            "right": null,
            "justify_content": null,
            "_view_module": "@jupyter-widgets/base",
            "overflow": null,
            "_model_module_version": "1.2.0",
            "_view_count": null,
            "flex_flow": null,
            "width": null,
            "min_width": null,
            "border": null,
            "align_items": null,
            "bottom": null,
            "_model_module": "@jupyter-widgets/base",
            "top": null,
            "grid_column": null,
            "overflow_y": null,
            "overflow_x": null,
            "grid_auto_flow": null,
            "grid_area": null,
            "grid_template_columns": null,
            "flex": null,
            "_model_name": "LayoutModel",
            "justify_items": null,
            "grid_row": null,
            "max_height": null,
            "align_content": null,
            "visibility": null,
            "align_self": null,
            "height": null,
            "min_height": null,
            "padding": null,
            "grid_auto_rows": null,
            "grid_gap": null,
            "max_width": null,
            "order": null,
            "_view_module_version": "1.2.0",
            "grid_template_areas": null,
            "object_position": null,
            "object_fit": null,
            "grid_auto_columns": null,
            "margin": null,
            "display": null,
            "left": null
          }
        },
        "47c11a80a62d4ea193b6528e2b3b9fa1": {
          "model_module": "@jupyter-widgets/controls",
          "model_name": "FloatProgressModel",
          "state": {
            "_view_name": "ProgressView",
            "style": "IPY_MODEL_f9aada43f5f24330982f10ae8033e0bb",
            "_dom_classes": [],
            "description": "",
            "_model_name": "FloatProgressModel",
            "bar_style": "success",
            "max": 1648877,
            "_view_module": "@jupyter-widgets/controls",
            "_model_module_version": "1.5.0",
            "value": 1648877,
            "_view_count": null,
            "_view_module_version": "1.5.0",
            "orientation": "horizontal",
            "min": 0,
            "description_tooltip": null,
            "_model_module": "@jupyter-widgets/controls",
            "layout": "IPY_MODEL_94f31bfae2d9412d8d6bdeb62e0c43a7"
          }
        },
        "f4e344db034f4f9fa4086a3e56db95f6": {
          "model_module": "@jupyter-widgets/controls",
          "model_name": "HTMLModel",
          "state": {
            "_view_name": "HTMLView",
            "style": "IPY_MODEL_d0c0aae6bde94378b09a513cffde9701",
            "_dom_classes": [],
            "description": "",
            "_model_name": "HTMLModel",
            "placeholder": "​",
            "_view_module": "@jupyter-widgets/controls",
            "_model_module_version": "1.5.0",
            "value": " 1649664/? [00:02&lt;00:00, 743625.28it/s]",
            "_view_count": null,
            "_view_module_version": "1.5.0",
            "description_tooltip": null,
            "_model_module": "@jupyter-widgets/controls",
            "layout": "IPY_MODEL_b74ecabb400443e9a7f36b2f7705830c"
          }
        },
        "f9aada43f5f24330982f10ae8033e0bb": {
          "model_module": "@jupyter-widgets/controls",
          "model_name": "ProgressStyleModel",
          "state": {
            "_view_name": "StyleView",
            "_model_name": "ProgressStyleModel",
            "description_width": "initial",
            "_view_module": "@jupyter-widgets/base",
            "_model_module_version": "1.5.0",
            "_view_count": null,
            "_view_module_version": "1.2.0",
            "bar_color": null,
            "_model_module": "@jupyter-widgets/controls"
          }
        },
        "94f31bfae2d9412d8d6bdeb62e0c43a7": {
          "model_module": "@jupyter-widgets/base",
          "model_name": "LayoutModel",
          "state": {
            "_view_name": "LayoutView",
            "grid_template_rows": null,
            "right": null,
            "justify_content": null,
            "_view_module": "@jupyter-widgets/base",
            "overflow": null,
            "_model_module_version": "1.2.0",
            "_view_count": null,
            "flex_flow": null,
            "width": null,
            "min_width": null,
            "border": null,
            "align_items": null,
            "bottom": null,
            "_model_module": "@jupyter-widgets/base",
            "top": null,
            "grid_column": null,
            "overflow_y": null,
            "overflow_x": null,
            "grid_auto_flow": null,
            "grid_area": null,
            "grid_template_columns": null,
            "flex": null,
            "_model_name": "LayoutModel",
            "justify_items": null,
            "grid_row": null,
            "max_height": null,
            "align_content": null,
            "visibility": null,
            "align_self": null,
            "height": null,
            "min_height": null,
            "padding": null,
            "grid_auto_rows": null,
            "grid_gap": null,
            "max_width": null,
            "order": null,
            "_view_module_version": "1.2.0",
            "grid_template_areas": null,
            "object_position": null,
            "object_fit": null,
            "grid_auto_columns": null,
            "margin": null,
            "display": null,
            "left": null
          }
        },
        "d0c0aae6bde94378b09a513cffde9701": {
          "model_module": "@jupyter-widgets/controls",
          "model_name": "DescriptionStyleModel",
          "state": {
            "_view_name": "StyleView",
            "_model_name": "DescriptionStyleModel",
            "description_width": "",
            "_view_module": "@jupyter-widgets/base",
            "_model_module_version": "1.5.0",
            "_view_count": null,
            "_view_module_version": "1.2.0",
            "_model_module": "@jupyter-widgets/controls"
          }
        },
        "b74ecabb400443e9a7f36b2f7705830c": {
          "model_module": "@jupyter-widgets/base",
          "model_name": "LayoutModel",
          "state": {
            "_view_name": "LayoutView",
            "grid_template_rows": null,
            "right": null,
            "justify_content": null,
            "_view_module": "@jupyter-widgets/base",
            "overflow": null,
            "_model_module_version": "1.2.0",
            "_view_count": null,
            "flex_flow": null,
            "width": null,
            "min_width": null,
            "border": null,
            "align_items": null,
            "bottom": null,
            "_model_module": "@jupyter-widgets/base",
            "top": null,
            "grid_column": null,
            "overflow_y": null,
            "overflow_x": null,
            "grid_auto_flow": null,
            "grid_area": null,
            "grid_template_columns": null,
            "flex": null,
            "_model_name": "LayoutModel",
            "justify_items": null,
            "grid_row": null,
            "max_height": null,
            "align_content": null,
            "visibility": null,
            "align_self": null,
            "height": null,
            "min_height": null,
            "padding": null,
            "grid_auto_rows": null,
            "grid_gap": null,
            "max_width": null,
            "order": null,
            "_view_module_version": "1.2.0",
            "grid_template_areas": null,
            "object_position": null,
            "object_fit": null,
            "grid_auto_columns": null,
            "margin": null,
            "display": null,
            "left": null
          }
        },
        "eed9abd324224f6280b3167ef7701eaf": {
          "model_module": "@jupyter-widgets/controls",
          "model_name": "HBoxModel",
          "state": {
            "_view_name": "HBoxView",
            "_dom_classes": [],
            "_model_name": "HBoxModel",
            "_view_module": "@jupyter-widgets/controls",
            "_model_module_version": "1.5.0",
            "_view_count": null,
            "_view_module_version": "1.5.0",
            "box_style": "",
            "layout": "IPY_MODEL_24d600f7ed0c47418cab0f273caf4640",
            "_model_module": "@jupyter-widgets/controls",
            "children": [
              "IPY_MODEL_86ede56d43304ba1ba5d4f832bb773f8",
              "IPY_MODEL_545b8f21078a4e819b6ae3fcec6a1442"
            ]
          }
        },
        "24d600f7ed0c47418cab0f273caf4640": {
          "model_module": "@jupyter-widgets/base",
          "model_name": "LayoutModel",
          "state": {
            "_view_name": "LayoutView",
            "grid_template_rows": null,
            "right": null,
            "justify_content": null,
            "_view_module": "@jupyter-widgets/base",
            "overflow": null,
            "_model_module_version": "1.2.0",
            "_view_count": null,
            "flex_flow": null,
            "width": null,
            "min_width": null,
            "border": null,
            "align_items": null,
            "bottom": null,
            "_model_module": "@jupyter-widgets/base",
            "top": null,
            "grid_column": null,
            "overflow_y": null,
            "overflow_x": null,
            "grid_auto_flow": null,
            "grid_area": null,
            "grid_template_columns": null,
            "flex": null,
            "_model_name": "LayoutModel",
            "justify_items": null,
            "grid_row": null,
            "max_height": null,
            "align_content": null,
            "visibility": null,
            "align_self": null,
            "height": null,
            "min_height": null,
            "padding": null,
            "grid_auto_rows": null,
            "grid_gap": null,
            "max_width": null,
            "order": null,
            "_view_module_version": "1.2.0",
            "grid_template_areas": null,
            "object_position": null,
            "object_fit": null,
            "grid_auto_columns": null,
            "margin": null,
            "display": null,
            "left": null
          }
        },
        "86ede56d43304ba1ba5d4f832bb773f8": {
          "model_module": "@jupyter-widgets/controls",
          "model_name": "FloatProgressModel",
          "state": {
            "_view_name": "ProgressView",
            "style": "IPY_MODEL_61d5e8d5701a43c0ae080028e8180508",
            "_dom_classes": [],
            "description": "",
            "_model_name": "FloatProgressModel",
            "bar_style": "success",
            "max": 4542,
            "_view_module": "@jupyter-widgets/controls",
            "_model_module_version": "1.5.0",
            "value": 4542,
            "_view_count": null,
            "_view_module_version": "1.5.0",
            "orientation": "horizontal",
            "min": 0,
            "description_tooltip": null,
            "_model_module": "@jupyter-widgets/controls",
            "layout": "IPY_MODEL_22fd55ed76764e3c8ddf0d6ddf395796"
          }
        },
        "545b8f21078a4e819b6ae3fcec6a1442": {
          "model_module": "@jupyter-widgets/controls",
          "model_name": "HTMLModel",
          "state": {
            "_view_name": "HTMLView",
            "style": "IPY_MODEL_e0f650d701e34932aa11eefb580749d6",
            "_dom_classes": [],
            "description": "",
            "_model_name": "HTMLModel",
            "placeholder": "​",
            "_view_module": "@jupyter-widgets/controls",
            "_model_module_version": "1.5.0",
            "value": " 5120/? [00:00&lt;00:00, 13273.21it/s]",
            "_view_count": null,
            "_view_module_version": "1.5.0",
            "description_tooltip": null,
            "_model_module": "@jupyter-widgets/controls",
            "layout": "IPY_MODEL_339f57f2993b45e6a14894c0a0c68370"
          }
        },
        "61d5e8d5701a43c0ae080028e8180508": {
          "model_module": "@jupyter-widgets/controls",
          "model_name": "ProgressStyleModel",
          "state": {
            "_view_name": "StyleView",
            "_model_name": "ProgressStyleModel",
            "description_width": "initial",
            "_view_module": "@jupyter-widgets/base",
            "_model_module_version": "1.5.0",
            "_view_count": null,
            "_view_module_version": "1.2.0",
            "bar_color": null,
            "_model_module": "@jupyter-widgets/controls"
          }
        },
        "22fd55ed76764e3c8ddf0d6ddf395796": {
          "model_module": "@jupyter-widgets/base",
          "model_name": "LayoutModel",
          "state": {
            "_view_name": "LayoutView",
            "grid_template_rows": null,
            "right": null,
            "justify_content": null,
            "_view_module": "@jupyter-widgets/base",
            "overflow": null,
            "_model_module_version": "1.2.0",
            "_view_count": null,
            "flex_flow": null,
            "width": null,
            "min_width": null,
            "border": null,
            "align_items": null,
            "bottom": null,
            "_model_module": "@jupyter-widgets/base",
            "top": null,
            "grid_column": null,
            "overflow_y": null,
            "overflow_x": null,
            "grid_auto_flow": null,
            "grid_area": null,
            "grid_template_columns": null,
            "flex": null,
            "_model_name": "LayoutModel",
            "justify_items": null,
            "grid_row": null,
            "max_height": null,
            "align_content": null,
            "visibility": null,
            "align_self": null,
            "height": null,
            "min_height": null,
            "padding": null,
            "grid_auto_rows": null,
            "grid_gap": null,
            "max_width": null,
            "order": null,
            "_view_module_version": "1.2.0",
            "grid_template_areas": null,
            "object_position": null,
            "object_fit": null,
            "grid_auto_columns": null,
            "margin": null,
            "display": null,
            "left": null
          }
        },
        "e0f650d701e34932aa11eefb580749d6": {
          "model_module": "@jupyter-widgets/controls",
          "model_name": "DescriptionStyleModel",
          "state": {
            "_view_name": "StyleView",
            "_model_name": "DescriptionStyleModel",
            "description_width": "",
            "_view_module": "@jupyter-widgets/base",
            "_model_module_version": "1.5.0",
            "_view_count": null,
            "_view_module_version": "1.2.0",
            "_model_module": "@jupyter-widgets/controls"
          }
        },
        "339f57f2993b45e6a14894c0a0c68370": {
          "model_module": "@jupyter-widgets/base",
          "model_name": "LayoutModel",
          "state": {
            "_view_name": "LayoutView",
            "grid_template_rows": null,
            "right": null,
            "justify_content": null,
            "_view_module": "@jupyter-widgets/base",
            "overflow": null,
            "_model_module_version": "1.2.0",
            "_view_count": null,
            "flex_flow": null,
            "width": null,
            "min_width": null,
            "border": null,
            "align_items": null,
            "bottom": null,
            "_model_module": "@jupyter-widgets/base",
            "top": null,
            "grid_column": null,
            "overflow_y": null,
            "overflow_x": null,
            "grid_auto_flow": null,
            "grid_area": null,
            "grid_template_columns": null,
            "flex": null,
            "_model_name": "LayoutModel",
            "justify_items": null,
            "grid_row": null,
            "max_height": null,
            "align_content": null,
            "visibility": null,
            "align_self": null,
            "height": null,
            "min_height": null,
            "padding": null,
            "grid_auto_rows": null,
            "grid_gap": null,
            "max_width": null,
            "order": null,
            "_view_module_version": "1.2.0",
            "grid_template_areas": null,
            "object_position": null,
            "object_fit": null,
            "grid_auto_columns": null,
            "margin": null,
            "display": null,
            "left": null
          }
        }
      }
    }
  },
  "cells": [
    {
      "cell_type": "markdown",
      "metadata": {
        "id": "view-in-github",
        "colab_type": "text"
      },
      "source": [
        "<a href=\"https://colab.research.google.com/github/Auzzer/QuickPytorchTutor/blob/main/QuickPytorchTutor.ipynb\" target=\"_parent\"><img src=\"https://colab.research.google.com/assets/colab-badge.svg\" alt=\"Open In Colab\"/></a>"
      ]
    },
    {
      "cell_type": "markdown",
      "metadata": {
        "id": "Ibcrniah2B94"
      },
      "source": [
        ""
      ]
    },
    {
      "cell_type": "markdown",
      "metadata": {
        "id": "GjsadXRuj12S"
      },
      "source": [
        "# Tensor (张量)的创建与基本操作\n",
        "张量是GPU运算中常见的数据类型，类似于Numpy中的数组，但是由于深度学习中常常需要使用GPU进行并行运算，提升计算速度，因此使用Tensor"
      ]
    },
    {
      "cell_type": "markdown",
      "metadata": {
        "id": "DAknU9WCkuqU"
      },
      "source": [
        "## 创建"
      ]
    },
    {
      "cell_type": "code",
      "metadata": {
        "id": "TZlmxcMRjhR1"
      },
      "source": [
        "import torch"
      ],
      "execution_count": 2,
      "outputs": []
    },
    {
      "cell_type": "code",
      "metadata": {
        "colab": {
          "base_uri": "https://localhost:8080/"
        },
        "id": "ig-ZWsc6kfzD",
        "outputId": "158f294f-24a7-4bd0-c18b-e8acb70a641b"
      },
      "source": [
        "# 创建一个张量通常需要初始化，我们一般使用：\n",
        "x1 = torch.empty(5, 3) #一个5x3的张量\n",
        "print(x1)\n",
        "\n",
        "# 随机初始化张量\n",
        "x2 = torch.rand(5, 3)\n",
        "print(x2)\n",
        "\n",
        "# 在初始化张量时，有时需要指定数据类型：\n",
        "x3 = torch.zeros(5, 3, dtype=torch.long) #创建一个数据类型为long的\"0\"填充矩阵\n",
        "print(x3)\n",
        "\n",
        "# 如果已知一个矩阵，将其转化为张量加速计算\n",
        "x4 = torch.tensor([[1,2,3],[6,7,8]]) \n",
        "print(x4)"
      ],
      "execution_count": 3,
      "outputs": [
        {
          "output_type": "stream",
          "text": [
            "tensor([[5.1744e+08, 3.0829e-41, 3.3631e-44],\n",
            "        [0.0000e+00,        nan, 3.0829e-41],\n",
            "        [1.1578e+27, 1.1362e+30, 7.1547e+22],\n",
            "        [4.5828e+30, 1.2121e+04, 7.1846e+22],\n",
            "        [9.2198e-39, 7.0374e+22, 1.6660e+08]])\n",
            "tensor([[0.7525, 0.1940, 0.1311],\n",
            "        [0.9557, 0.5275, 0.4971],\n",
            "        [0.4305, 0.8307, 0.8196],\n",
            "        [0.3001, 0.2640, 0.5383],\n",
            "        [0.1618, 0.0167, 0.1394]])\n",
            "tensor([[0, 0, 0],\n",
            "        [0, 0, 0],\n",
            "        [0, 0, 0],\n",
            "        [0, 0, 0],\n",
            "        [0, 0, 0]])\n",
            "tensor([[1, 2, 3],\n",
            "        [6, 7, 8]])\n"
          ],
          "name": "stdout"
        }
      ]
    },
    {
      "cell_type": "code",
      "metadata": {
        "colab": {
          "base_uri": "https://localhost:8080/"
        },
        "id": "aBQL0ZvouIbW",
        "outputId": "b9a1880d-12da-4cd0-ffc1-b12d30d53641"
      },
      "source": [
        "# 获取size\n",
        "print(x4.size()) # 结果表示为两行三列"
      ],
      "execution_count": 4,
      "outputs": [
        {
          "output_type": "stream",
          "text": [
            "torch.Size([2, 3])\n"
          ],
          "name": "stdout"
        }
      ]
    },
    {
      "cell_type": "markdown",
      "metadata": {
        "id": "mfivPcEtj6xv"
      },
      "source": [
        "## Basic Product\n"
      ]
    },
    {
      "cell_type": "markdown",
      "metadata": {
        "id": "LhcpNne0v146"
      },
      "source": [
        "### 加法"
      ]
    },
    {
      "cell_type": "code",
      "metadata": {
        "colab": {
          "base_uri": "https://localhost:8080/"
        },
        "id": "8AEOQiMQk0C8",
        "outputId": "de16c73c-b913-489e-ad21-ae652014c927"
      },
      "source": [
        "# 对于一个最简单的加法\n",
        "x = torch.rand(5, 3)\n",
        "y = torch.rand(5, 3)\n",
        "print (x+y)\n",
        "# 或者\n",
        "print (torch.add(x, y))\n",
        "\n",
        "# 对于torch.add(),有一个option可以将结果保存下来,但是首先需要将结果初始化\n",
        "result = torch.empty(5, 3)\n",
        "torch.add(x, y, out = result)\n",
        "print(\"result: \\n\",result)\n",
        "\n",
        "#特别值得注意的是，torch.add()函数只能对两个张量进行运算，当数量大于二的时候：\n",
        "y1 = torch.zeros(5, 3)\n",
        "y2 = torch.empty(5, 3)\n",
        "for i in range(0, 5):\n",
        "  xi = torch.rand(5, 3)\n",
        "  y1.add(xi)\n",
        "  y2.add(xi)\n",
        "\n",
        "print(\"y1\\n\",y1)\n",
        "print(\"y2\\n\",y2)\n",
        "# 结果显示在做加法的时候，由于empty张量会随机给一个值，所以应该使用\"zeros张量\""
      ],
      "execution_count": 5,
      "outputs": [
        {
          "output_type": "stream",
          "text": [
            "tensor([[0.7991, 0.6582, 0.1950],\n",
            "        [1.1997, 1.6182, 1.2461],\n",
            "        [0.7578, 0.9874, 1.3339],\n",
            "        [0.8957, 0.8560, 0.4414],\n",
            "        [0.2321, 0.4849, 1.0495]])\n",
            "tensor([[0.7991, 0.6582, 0.1950],\n",
            "        [1.1997, 1.6182, 1.2461],\n",
            "        [0.7578, 0.9874, 1.3339],\n",
            "        [0.8957, 0.8560, 0.4414],\n",
            "        [0.2321, 0.4849, 1.0495]])\n",
            "result: \n",
            " tensor([[0.7991, 0.6582, 0.1950],\n",
            "        [1.1997, 1.6182, 1.2461],\n",
            "        [0.7578, 0.9874, 1.3339],\n",
            "        [0.8957, 0.8560, 0.4414],\n",
            "        [0.2321, 0.4849, 1.0495]])\n",
            "y1\n",
            " tensor([[0., 0., 0.],\n",
            "        [0., 0., 0.],\n",
            "        [0., 0., 0.],\n",
            "        [0., 0., 0.],\n",
            "        [0., 0., 0.]])\n",
            "y2\n",
            " tensor([[5.1746e+08, 3.0829e-41, 1.9498e-01],\n",
            "        [1.1997e+00, 1.6182e+00, 1.2461e+00],\n",
            "        [7.5777e-01, 9.8741e-01, 1.3339e+00],\n",
            "        [8.9569e-01, 8.5599e-01, 4.4136e-01],\n",
            "        [2.3212e-01, 4.8486e-01, 1.0495e+00]])\n"
          ],
          "name": "stdout"
        }
      ]
    },
    {
      "cell_type": "markdown",
      "metadata": {
        "id": "GnVEnYjsyuBR"
      },
      "source": [
        "### 乘法\n",
        "在矩阵中，乘法有点乘和叉乘两种，张量也有相对应的不同计算方法"
      ]
    },
    {
      "cell_type": "code",
      "metadata": {
        "colab": {
          "base_uri": "https://localhost:8080/"
        },
        "id": "a_Pe1mhsy9-b",
        "outputId": "423b1e15-3d1a-4746-824a-47984bf77951"
      },
      "source": [
        "# 点乘\n",
        "x1 = torch.rand(5, 3)\n",
        "x2 = torch.rand(5, 3)\n",
        "y = torch.mul(x1, x2)# 类似与上文的add，在多个张量可以使用x1.mul(x2)\n",
        "print(\"x1:\\n\", x1, \"\\n x2:\\n\", x2, \"\\n y:\\n\",y)\n",
        "\n",
        "# 叉乘\n",
        "x1 = torch.rand(2, 3)\n",
        "x2 = torch.rand(3, 4)\n",
        "y = torch.mm(x1, x2)# 类似与上文的add，在多个张量可以使用x1.mm(x2)\n",
        "print(\"x1:\\n\", x1, \"\\nx2:\\n\", x2, \"\\ny:\\n\",y)"
      ],
      "execution_count": 6,
      "outputs": [
        {
          "output_type": "stream",
          "text": [
            "x1:\n",
            " tensor([[0.9683, 0.8925, 0.7538],\n",
            "        [0.3389, 0.7155, 0.7408],\n",
            "        [0.8868, 0.7700, 0.4897],\n",
            "        [0.5311, 0.6848, 0.7789],\n",
            "        [0.7912, 0.3158, 0.3047]]) \n",
            " x2:\n",
            " tensor([[0.2336, 0.0887, 0.3054],\n",
            "        [0.1792, 0.6720, 0.3686],\n",
            "        [0.7706, 0.4090, 0.2499],\n",
            "        [0.8003, 0.9167, 0.6720],\n",
            "        [0.1173, 0.1767, 0.6372]]) \n",
            " y:\n",
            " tensor([[0.2262, 0.0792, 0.2302],\n",
            "        [0.0607, 0.4809, 0.2731],\n",
            "        [0.6834, 0.3150, 0.1224],\n",
            "        [0.4250, 0.6278, 0.5234],\n",
            "        [0.0928, 0.0558, 0.1941]])\n",
            "x1:\n",
            " tensor([[0.6251, 0.1818, 0.3952],\n",
            "        [0.5657, 0.6150, 0.8426]]) \n",
            "x2:\n",
            " tensor([[0.4008, 0.3040, 0.7904, 0.2116],\n",
            "        [0.8709, 0.7667, 0.6683, 0.0707],\n",
            "        [0.2428, 0.4073, 0.1466, 0.1071]]) \n",
            "y:\n",
            " tensor([[0.5048, 0.4904, 0.6735, 0.1874],\n",
            "        [0.9669, 0.9867, 0.9816, 0.2534]])\n"
          ],
          "name": "stdout"
        }
      ]
    },
    {
      "cell_type": "markdown",
      "metadata": {
        "id": "B6mEi_L_58zQ"
      },
      "source": [
        "### Numpy中的对应与转化"
      ]
    },
    {
      "cell_type": "markdown",
      "metadata": {
        "id": "Aio6cWJ63gDh"
      },
      "source": [
        "#### 索引\n",
        "torch支持使用类似于Numpy中的索引对张量进行操作\n"
      ]
    },
    {
      "cell_type": "code",
      "metadata": {
        "colab": {
          "base_uri": "https://localhost:8080/"
        },
        "id": "NVOpdct03fK0",
        "outputId": "dc7971c8-2a0b-4251-a4fa-b49c2e6a2b6d"
      },
      "source": [
        "x = torch.tensor([[1,2,3],[3,4,5]])\n",
        "print(x[:,0])\n",
        "print(x[1,:])"
      ],
      "execution_count": 7,
      "outputs": [
        {
          "output_type": "stream",
          "text": [
            "tensor([1, 3])\n",
            "tensor([3, 4, 5])\n"
          ],
          "name": "stdout"
        }
      ]
    },
    {
      "cell_type": "markdown",
      "metadata": {
        "id": "J3cygC_r5wiA"
      },
      "source": [
        "#### 在numpy中reshape对应"
      ]
    },
    {
      "cell_type": "code",
      "metadata": {
        "colab": {
          "base_uri": "https://localhost:8080/"
        },
        "id": "27uYpMdW6MbV",
        "outputId": "4716b615-86e2-4923-f276-5891b038f9ef"
      },
      "source": [
        "x = torch.randn(5, 3)\n",
        "y = x.view(3, 5)\n",
        "z = x.view(-1, 5) # 当选项中有一个-1时候，代表从另外一个维度考虑转化方式\n",
        "print(x)\n",
        "print(y)\n",
        "print(z)"
      ],
      "execution_count": 8,
      "outputs": [
        {
          "output_type": "stream",
          "text": [
            "tensor([[-1.2559,  0.6462,  0.2519],\n",
            "        [ 0.6353,  1.2795, -0.3136],\n",
            "        [ 0.0864, -0.9788, -0.5080],\n",
            "        [ 0.8784, -0.2250,  2.0877],\n",
            "        [-2.0187,  1.3974, -0.0423]])\n",
            "tensor([[-1.2559,  0.6462,  0.2519,  0.6353,  1.2795],\n",
            "        [-0.3136,  0.0864, -0.9788, -0.5080,  0.8784],\n",
            "        [-0.2250,  2.0877, -2.0187,  1.3974, -0.0423]])\n",
            "tensor([[-1.2559,  0.6462,  0.2519,  0.6353,  1.2795],\n",
            "        [-0.3136,  0.0864, -0.9788, -0.5080,  0.8784],\n",
            "        [-0.2250,  2.0877, -2.0187,  1.3974, -0.0423]])\n"
          ],
          "name": "stdout"
        }
      ]
    },
    {
      "cell_type": "markdown",
      "metadata": {
        "id": "4nJJsSoI84R5"
      },
      "source": [
        "### 覆盖操作\n",
        "任何以\"_\"结尾的函数（操作）都会替换原来的变量"
      ]
    },
    {
      "cell_type": "code",
      "metadata": {
        "colab": {
          "base_uri": "https://localhost:8080/"
        },
        "id": "wkXlm9j29Kal",
        "outputId": "050c02f5-c178-429d-dda4-2789d8265ef4"
      },
      "source": [
        "x1 = torch.rand(5, 3)\n",
        "print(\"覆盖以前的x1:\\n\", x1)\n",
        "x2 = torch.rand(5, 3)\n",
        "y = x1.add_(x2)\n",
        "print(\"覆盖以后的x1:\\n\", x1)\n",
        "print(y)"
      ],
      "execution_count": 9,
      "outputs": [
        {
          "output_type": "stream",
          "text": [
            "覆盖以前的x1:\n",
            " tensor([[0.4366, 0.8698, 0.8413],\n",
            "        [0.3547, 0.5832, 0.8633],\n",
            "        [0.8586, 0.1226, 0.3494],\n",
            "        [0.3807, 0.6102, 0.3383],\n",
            "        [0.8489, 0.5306, 0.7302]])\n",
            "覆盖以后的x1:\n",
            " tensor([[0.8861, 0.9280, 1.5115],\n",
            "        [1.1984, 0.6268, 1.8247],\n",
            "        [1.4088, 0.5498, 0.7248],\n",
            "        [1.2823, 1.2932, 0.8999],\n",
            "        [1.6692, 1.0823, 0.8780]])\n",
            "tensor([[0.8861, 0.9280, 1.5115],\n",
            "        [1.1984, 0.6268, 1.8247],\n",
            "        [1.4088, 0.5498, 0.7248],\n",
            "        [1.2823, 1.2932, 0.8999],\n",
            "        [1.6692, 1.0823, 0.8780]])\n"
          ],
          "name": "stdout"
        }
      ]
    },
    {
      "cell_type": "markdown",
      "metadata": {
        "id": "JyRe1bB96GIy"
      },
      "source": [
        "可以看到x1的值发生了变化,但是和y的值是一样的<br>\n",
        "更多对于tensor的operation可以参考官方文档：https://pytorch.org/docs/stable/torch.html\n"
      ]
    },
    {
      "cell_type": "markdown",
      "metadata": {
        "id": "Jhf_3MDZk4Lt"
      },
      "source": [
        "## Cuda加速\n",
        "在这里我们先提出一个概念：\n",
        "为了计算加速，有一些数据可以被放入cuda中加速计算。<br>\n",
        "在这里我们先将tensor放入cuda中，第一步需要先判定是否有cuda(GPU)可以使用"
      ]
    },
    {
      "cell_type": "code",
      "metadata": {
        "colab": {
          "base_uri": "https://localhost:8080/"
        },
        "id": "OkSHA4gKlBAp",
        "outputId": "f10ba278-4a13-4db9-c03e-cf31146d6480"
      },
      "source": [
        "import torch\n",
        "x = torch.rand(5, 3)\n",
        "\n",
        "device = torch.device(\"cuda\" if torch.cuda.is_available() else \"cpu\")\n",
        "\n",
        "# 下面分别从cuda中直接生成tensor以及将tensor生成后放进cuda中\n",
        "x = x.to(device)\n",
        "y = torch.ones_like(x, device=device)\n",
        "z = x + y\n",
        "print(z)\n",
        "print(z.to(\"cpu\", torch.double))\n"
      ],
      "execution_count": 10,
      "outputs": [
        {
          "output_type": "stream",
          "text": [
            "tensor([[1.6361, 1.8581, 1.3978],\n",
            "        [1.5559, 1.8863, 1.5595],\n",
            "        [1.6689, 1.3454, 1.1014],\n",
            "        [1.1323, 1.4744, 1.4460],\n",
            "        [1.8029, 1.6676, 1.2836]])\n",
            "tensor([[1.6361, 1.8581, 1.3978],\n",
            "        [1.5559, 1.8863, 1.5595],\n",
            "        [1.6689, 1.3454, 1.1014],\n",
            "        [1.1323, 1.4744, 1.4460],\n",
            "        [1.8029, 1.6676, 1.2836]], dtype=torch.float64)\n"
          ],
          "name": "stdout"
        }
      ]
    },
    {
      "cell_type": "markdown",
      "metadata": {
        "id": "kx-3siwizYOp"
      },
      "source": [
        "# 神经网络训练\n",
        "对于一个神经网络而言，一般都会有\n",
        "\n",
        "1.   数据处理\n",
        "2.   定义网络\n",
        "3.   训练策略\n",
        "4.   可视化\n",
        "5.   Pre-train & Fine-Tune(可选) <br>\n",
        "\n",
        "这几个部分，接下来我们将逐一介绍\n",
        "\n"
      ]
    },
    {
      "cell_type": "markdown",
      "metadata": {
        "id": "6S6iMV6lzhnI"
      },
      "source": [
        "## 数据处理\n"
      ]
    },
    {
      "cell_type": "markdown",
      "metadata": {
        "id": "EPYyc6wy_AWE"
      },
      "source": [
        "### 数据加载"
      ]
    },
    {
      "cell_type": "markdown",
      "metadata": {
        "id": "LgQ27Wk5ADLk"
      },
      "source": [
        "在进行对比实验时，经常需要公用数据集，torch内置了几个常用数据集包括：\n",
        "\n",
        "* MNIST\n",
        "* ImageNet\n",
        "* COCO\n",
        "* CIFAR <br>\n",
        "\n",
        "等等....<br>\n",
        "我们只需要调用torchvision中的torchvision.datasets就可以使用它，他的安装方式是：\n",
        "\n",
        "\n",
        "```\n",
        "pip install torchvision\n",
        "```\n",
        "torchvision.datasets 可以理解为PyTorch团队自定义的dataset，这些dataset帮我们提前处理好了很多的图片数据集，我们拿来就可以直接使用,具体使用方式如下：\n",
        "\n",
        "\n",
        "\n"
      ]
    },
    {
      "cell_type": "code",
      "metadata": {
        "id": "MbebLkcDAEX_",
        "colab": {
          "base_uri": "https://localhost:8080/",
          "height": 909,
          "referenced_widgets": [
            "b6b64362c1d14895b1a7dc1f63fd5b85",
            "df16457dfb1f4fe7b77c937e4a77cd8d",
            "5ad1fbca528d4d69a0fa152f0f6c389c",
            "e61191e54fd74f4cbaa21aa19af5f104",
            "bdde1efdb54d4ff48aaa952c5aa4690c",
            "61b64285e5444e77bade5e79b7b32087",
            "40e37d2c5e7e40aa9d1b3bb4027c42eb",
            "be40d526314e41bd953a8de099f78ba2",
            "09b1cfee407742fc9801cfda599017bd",
            "82a5857bca4448b7b96e94479afa4576",
            "a004d8ed92714e3bb47177c22aa6c20f",
            "19f61c51f1924eae81e0fd1962c3fd4b",
            "461a2289b34d462a970ef5baff32d176",
            "cf56fcbb786a4aa693e289188b1e39ca",
            "3b2cb945368a4a5a95dcaeac2890239a",
            "0b9a3c708b45429f94bf9216c61d1568",
            "978dd1c1b9544b578060b4b741bd623b",
            "d6fca1a676cc49dd8e05b9c7c2a994a8",
            "b4c0e9cf33264f8094ed999f010b8b96",
            "581a68de3bdf4f8892e0419bed382cd4",
            "470f0bdcc6994ee38f006313676cbab1",
            "986381aa5be749a189b32f3d7369c0c1",
            "78b20f82ca9b440f90a43debe48b14e4",
            "0e013a4a6c4a45518600c0f7ca9199b9",
            "324da98cf57b4c028140ab1d9264199c",
            "eff5f7fd58344e35b3c17e47d24596e1",
            "c4a5ec3dabe44453b17711fa9d753225",
            "84d656f7672349bcaf675f7a9d3fc852",
            "d99e0c9e6a13490b859d076f9c24fae4",
            "29182f5def434b738feecdffc8c633e0",
            "ddae3b42994d4c53b9f43338496beae6",
            "ca3fcfc7e98146a4be1299e89fbd264c"
          ]
        },
        "outputId": "37a70754-748a-4434-8e97-7c4f42461b81"
      },
      "source": [
        "import torchvision.datasets as datasets\n",
        "\n",
        "trainset = datasets.MNIST(root=\"./data\",\n",
        "              train=True,# True为训练集，False为测试集\n",
        "              download=True, #表示是否需要下载数据集\n",
        "              transform=None) #是否对其进行数据增广\n",
        "validset = datasets.MNIST(root=\"./data\", train=True, download=False, transform=None)        "
      ],
      "execution_count": 11,
      "outputs": [
        {
          "output_type": "stream",
          "text": [
            "Downloading http://yann.lecun.com/exdb/mnist/train-images-idx3-ubyte.gz\n",
            "Downloading http://yann.lecun.com/exdb/mnist/train-images-idx3-ubyte.gz to ./data/MNIST/raw/train-images-idx3-ubyte.gz\n",
            "Failed to download (trying next):\n",
            "HTTP Error 503: Service Unavailable\n",
            "\n",
            "Downloading https://ossci-datasets.s3.amazonaws.com/mnist/train-images-idx3-ubyte.gz\n",
            "Downloading https://ossci-datasets.s3.amazonaws.com/mnist/train-images-idx3-ubyte.gz to ./data/MNIST/raw/train-images-idx3-ubyte.gz\n"
          ],
          "name": "stdout"
        },
        {
          "output_type": "display_data",
          "data": {
            "application/vnd.jupyter.widget-view+json": {
              "model_id": "b6b64362c1d14895b1a7dc1f63fd5b85",
              "version_minor": 0,
              "version_major": 2
            },
            "text/plain": [
              "HBox(children=(FloatProgress(value=0.0, max=9912422.0), HTML(value='')))"
            ]
          },
          "metadata": {
            "tags": []
          }
        },
        {
          "output_type": "stream",
          "text": [
            "\n",
            "Extracting ./data/MNIST/raw/train-images-idx3-ubyte.gz to ./data/MNIST/raw\n",
            "\n",
            "Downloading http://yann.lecun.com/exdb/mnist/train-labels-idx1-ubyte.gz\n",
            "Failed to download (trying next):\n",
            "HTTP Error 503: Service Unavailable\n",
            "\n",
            "Downloading https://ossci-datasets.s3.amazonaws.com/mnist/train-labels-idx1-ubyte.gz\n",
            "Downloading https://ossci-datasets.s3.amazonaws.com/mnist/train-labels-idx1-ubyte.gz to ./data/MNIST/raw/train-labels-idx1-ubyte.gz\n"
          ],
          "name": "stdout"
        },
        {
          "output_type": "display_data",
          "data": {
            "application/vnd.jupyter.widget-view+json": {
              "model_id": "09b1cfee407742fc9801cfda599017bd",
              "version_minor": 0,
              "version_major": 2
            },
            "text/plain": [
              "HBox(children=(FloatProgress(value=0.0, max=28881.0), HTML(value='')))"
            ]
          },
          "metadata": {
            "tags": []
          }
        },
        {
          "output_type": "stream",
          "text": [
            "\n",
            "Extracting ./data/MNIST/raw/train-labels-idx1-ubyte.gz to ./data/MNIST/raw\n",
            "\n",
            "Downloading http://yann.lecun.com/exdb/mnist/t10k-images-idx3-ubyte.gz\n",
            "Downloading http://yann.lecun.com/exdb/mnist/t10k-images-idx3-ubyte.gz to ./data/MNIST/raw/t10k-images-idx3-ubyte.gz\n",
            "Failed to download (trying next):\n",
            "HTTP Error 503: Service Unavailable\n",
            "\n",
            "Downloading https://ossci-datasets.s3.amazonaws.com/mnist/t10k-images-idx3-ubyte.gz\n",
            "Downloading https://ossci-datasets.s3.amazonaws.com/mnist/t10k-images-idx3-ubyte.gz to ./data/MNIST/raw/t10k-images-idx3-ubyte.gz\n"
          ],
          "name": "stdout"
        },
        {
          "output_type": "display_data",
          "data": {
            "application/vnd.jupyter.widget-view+json": {
              "model_id": "978dd1c1b9544b578060b4b741bd623b",
              "version_minor": 0,
              "version_major": 2
            },
            "text/plain": [
              "HBox(children=(FloatProgress(value=0.0, max=1648877.0), HTML(value='')))"
            ]
          },
          "metadata": {
            "tags": []
          }
        },
        {
          "output_type": "stream",
          "text": [
            "\n",
            "Extracting ./data/MNIST/raw/t10k-images-idx3-ubyte.gz to ./data/MNIST/raw\n",
            "\n",
            "Downloading http://yann.lecun.com/exdb/mnist/t10k-labels-idx1-ubyte.gz\n",
            "Failed to download (trying next):\n",
            "HTTP Error 503: Service Unavailable\n",
            "\n",
            "Downloading https://ossci-datasets.s3.amazonaws.com/mnist/t10k-labels-idx1-ubyte.gz\n",
            "Downloading https://ossci-datasets.s3.amazonaws.com/mnist/t10k-labels-idx1-ubyte.gz to ./data/MNIST/raw/t10k-labels-idx1-ubyte.gz\n"
          ],
          "name": "stdout"
        },
        {
          "output_type": "display_data",
          "data": {
            "application/vnd.jupyter.widget-view+json": {
              "model_id": "324da98cf57b4c028140ab1d9264199c",
              "version_minor": 0,
              "version_major": 2
            },
            "text/plain": [
              "HBox(children=(FloatProgress(value=0.0, max=4542.0), HTML(value='')))"
            ]
          },
          "metadata": {
            "tags": []
          }
        },
        {
          "output_type": "stream",
          "text": [
            "\n",
            "Extracting ./data/MNIST/raw/t10k-labels-idx1-ubyte.gz to ./data/MNIST/raw\n",
            "\n",
            "Processing...\n",
            "Done!\n"
          ],
          "name": "stdout"
        },
        {
          "output_type": "stream",
          "text": [
            "/usr/local/lib/python3.7/dist-packages/torchvision/datasets/mnist.py:502: UserWarning: The given NumPy array is not writeable, and PyTorch does not support non-writeable tensors. This means you can write to the underlying (supposedly non-writeable) NumPy array using the tensor. You may want to copy the array to protect its data or make it writeable before converting it to a tensor. This type of warning will be suppressed for the rest of this program. (Triggered internally at  /pytorch/torch/csrc/utils/tensor_numpy.cpp:143.)\n",
            "  return torch.from_numpy(parsed.astype(m[2], copy=False)).view(*s)\n"
          ],
          "name": "stderr"
        }
      ]
    },
    {
      "cell_type": "markdown",
      "metadata": {
        "id": "emzhThi3CL6l"
      },
      "source": [
        "在很多时候，我们也需要自定义数据集去完成我们需要的任务，接下来介绍如何进行操作"
      ]
    },
    {
      "cell_type": "markdown",
      "metadata": {
        "id": "gu6QgsKmXXR9"
      },
      "source": [
        "在Pytorch中为了便于调用函数（因为通常在文件过大的时候会将不同部分拆分成为几个python脚本），我们通常需要声明类。对于数据加载的类编写方式如下：其主要分为两步：1. 数据集定义 2. 数据加载器 <br>\n",
        "注：为了方便起见，使用kaggle上的[猫狗大战数据集](https://www.kaggle.com/c/dogs-vs-cats)举例"
      ]
    },
    {
      "cell_type": "code",
      "metadata": {
        "id": "57gyXGg0XRFK"
      },
      "source": [
        "import glob\n",
        "import os\n",
        "import zipfile\n",
        "from PIL import Image\n",
        "from matplotlib.pyplot as plt\n",
        "from torch.utils.data import DataLoader, Dataset\n",
        "from torchvision import datasets, transforms\n",
        "import random\n",
        "import torch\n",
        "import numpy as np\n",
        "\n",
        "os.makedirs('data', exist_ok=True)\n",
        "\n",
        "train_dir = 'data/train'\n",
        "test_dir = 'data/test'\n",
        "\n",
        "\"\"\"\n",
        "解压数据集\n",
        "with zipfile.ZipFile('train.zip') as train_zip:\n",
        "    train_zip.extractall('data')\n",
        "\n",
        "with zipfile.ZipFile('test.zip') as test_zip:\n",
        "    test_zip.extractall('data')\n",
        "\"\"\"\n",
        "\n",
        "\n",
        "train_list = glob.glob(os.path.join(train_dir,'*.jpg'))\n",
        "test_list = glob.glob(os.path.join(test_dir, '*.jpg'))\n",
        "\n",
        "\n",
        "print(f\"Train Data: {len(train_list)}\")\n",
        "print(f\"Test Data: {len(test_list)}\")\n",
        "\n",
        "\n",
        "labels = [path.split('/ ')[-1].split('.')[0] for path in train_list]\n",
        "\n",
        "\n",
        "random_idx = np.random.randint(1, len(train_list), size=9)\n",
        "fig, axes = plt.subplots(3, 3, figsize=(16, 12))\n",
        "\n",
        "for idx, ax in enumerate(axes.ravel()):\n",
        "    img = Image.open(train_list[idx])\n",
        "    ax.set_title(labels[idx])\n",
        "    ax.imshow(img)\n",
        "\n",
        "## splite\n",
        "\n",
        "seed = 1010 #保证随机划分一致\n",
        "def seed_everything(seed):\n",
        "    random.seed(seed)\n",
        "    os.environ['PYTHONHASHSEED'] = str(seed)\n",
        "    np.random.seed(seed)\n",
        "    torch.manual_seed(seed)\n",
        "    torch.cuda.manual_seed(seed)\n",
        "    torch.cuda.manual_seed_all(seed)\n",
        "    torch.backends.cudnn.deterministic = True\n",
        "\n",
        "seed_everything(seed)\n",
        "train_list, valid_list = train_test_split(train_list,test_size=0.2,stratify=labels,random_state=seed)\n",
        "\n",
        "\n",
        "print(f\"Train Data: {len(train_list)}\")\n",
        "print(f\"Validation Data: {len(valid_list)}\")\n",
        "print(f\"Test Data: {len(test_list)}\")\n",
        "\n",
        "\n",
        "\n",
        "## Image Augumentation\n",
        "\n",
        "\n",
        "\n",
        "train_transforms = transforms.Compose(\n",
        "    [\n",
        "        transforms.Resize((224, 224)),\n",
        "        transforms.RandomResizedCrop(224),\n",
        "        transforms.RandomHorizontalFlip(),\n",
        "        transforms.ToTensor(),\n",
        "    ]\n",
        ")\n",
        "\n",
        "val_transforms = transforms.Compose(\n",
        "    [\n",
        "        transforms.Resize((224, 224)),\n",
        "        transforms.RandomResizedCrop(224),\n",
        "        transforms.RandomHorizontalFlip(),\n",
        "        transforms.ToTensor(),\n",
        "    ]\n",
        ")\n",
        "\n",
        "\n",
        "test_transforms = transforms.Compose(\n",
        "    [\n",
        "        transforms.Resize((224, 224)),\n",
        "        transforms.RandomResizedCrop(224),\n",
        "        transforms.RandomHorizontalFlip(),\n",
        "        transforms.ToTensor(),\n",
        "    ]\n",
        ")\n",
        "\n",
        "\n",
        "\n",
        "## Load Datasets\n",
        "\n",
        "\n",
        "\n",
        "class CatsDogsDataset(Dataset):\n",
        "    def __init__(self, file_list, transform=None):\n",
        "        self.file_list = file_list\n",
        "        self.transform = transform\n",
        "\n",
        "    def __len__(self):\n",
        "        self.filelength = len(self.file_list)\n",
        "        return self.filelength\n",
        "\n",
        "    def __getitem__(self, idx):\n",
        "        img_path = self.file_list[idx]\n",
        "        img = Image.open(img_path)\n",
        "        img_transformed = self.transform(img)\n",
        "\n",
        "        label = img_path.split(\"/\")[-1].split(\".\")[0]\n",
        "        label = 1 if label == \"dog\" else 0\n",
        "\n",
        "        return img_transformed, label\n",
        "\n",
        "\n",
        "\n",
        "\n",
        "train_data = CatsDogsDataset(train_list, transform=train_transforms)\n",
        "valid_data = CatsDogsDataset(valid_list, transform=test_transforms)\n",
        "test_data = CatsDogsDataset(test_list, transform=test_transforms)\n",
        "\n",
        "\n",
        "\n",
        "train_loader = DataLoader(dataset = train_data, batch_size=batch_size, shuffle=True )\n",
        "valid_loader = DataLoader(dataset = valid_data, batch_size=batch_size, shuffle=True)\n",
        "test_loader = DataLoader(dataset = test_data, batch_size=batch_size, shuffle=True)\n",
        "\n",
        "\n",
        "\n",
        "print(len(train_data), len(train_loader))\n",
        "\n",
        "\n",
        "\n",
        "print(len(valid_data), len(valid_loader))\n"
      ],
      "execution_count": 11,
      "outputs": []
    },
    {
      "cell_type": "markdown",
      "metadata": {
        "id": "_VKnbJy7_Cq_"
      },
      "source": [
        "### 数据预处理\n",
        "一般来说，即便是对于ImageNet这样大型数据集也需要进行数据增广(data augementation)，在torchvision中的transforms模块内置了大量的操作，这里我们只进行简单举例，更多可以访问transforms操作文件。\n"
      ]
    },
    {
      "cell_type": "code",
      "metadata": {
        "id": "MOrSnzv0bozY"
      },
      "source": [
        "from torchvision import transforms\n",
        "transform = transforms.Compose([\n",
        "    transforms.RandomCrop(32, padding=4),  #先四周填充0，在把图像随机裁剪成32*32\n",
        "    transforms.RandomHorizontalFlip(),  #图像一半的概率翻转，一半的概率不翻转\n",
        "    transforms.RandomRotation((-45,45)), #随机旋转\n",
        "    transforms.ToTensor(),\n",
        "    transforms.Normalize((0.1307,), (0.3081,)), #R,G,B每层的归一化用到的均值和方差\n",
        "])\n",
        "\n"
      ],
      "execution_count": 12,
      "outputs": []
    },
    {
      "cell_type": "markdown",
      "metadata": {
        "id": "fnpQfXllbqog"
      },
      "source": [
        "接下来我们只需要对数据数据加载部分进行简单修改即可"
      ]
    },
    {
      "cell_type": "code",
      "metadata": {
        "id": "byDfMqSmboxk"
      },
      "source": [
        "trainset = datasets.MNIST(root=\"./data\", train=True, download=False, transform= transform)  "
      ],
      "execution_count": 13,
      "outputs": []
    },
    {
      "cell_type": "markdown",
      "metadata": {
        "id": "_GBlvogEdHZ0"
      },
      "source": [
        "由于Pytorch中以及包含了MNIST数据集，也可以直接使用DataLoader对数据进行读取。\n"
      ]
    },
    {
      "cell_type": "code",
      "metadata": {
        "id": "09B_Qf93dYli"
      },
      "source": [
        "\n",
        "train_loader = torch.utils.data.DataLoader(\n",
        "        datasets.MNIST('./data', train=True, download=True, \n",
        "                       transform=transforms.Compose([\n",
        "                           transforms.ToTensor(),# 将读取的数据转化为张量方便计算\n",
        "                           transforms.Normalize((0.1307,), (0.3081,))#这一部分来源于前人根据这个数据集获得的标准化参数，不同的数据集不同\n",
        "                       ])),\n",
        "                       \n",
        "        batch_size=512, #这里的batch_size将在下文的训练策略中详细介绍\n",
        "        shuffle=True)"
      ],
      "execution_count": 14,
      "outputs": []
    },
    {
      "cell_type": "code",
      "metadata": {
        "id": "Afvjdl8yhSlO"
      },
      "source": [
        "test_loader = torch.utils.data.DataLoader(\n",
        "        datasets.MNIST('data', train=False, transform=transforms.Compose([\n",
        "                           transforms.ToTensor(), \n",
        "                           transforms.Normalize((0.1307,), (0.3081,))])), \n",
        "        batch_size=512, shuffle=True)"
      ],
      "execution_count": 15,
      "outputs": []
    },
    {
      "cell_type": "code",
      "metadata": {
        "colab": {
          "base_uri": "https://localhost:8080/",
          "height": 874,
          "referenced_widgets": [
            "90b838cb50994a1c87d1017ac509207f",
            "652984466576427c9152717be8b19af7",
            "39d55bbca3ba41e2b1b0b59f4e127532",
            "db81bfda10c6427d96bfe9e4358c6d28",
            "1786d96f8a234d3e8772f39079d82e41",
            "a9f92b7585194d49993120f4a85e43af",
            "36bc554e40814936b000f33354d0f126",
            "668840537c964723b2673a6f563af81f",
            "e60c6b5db13d4550be3810e180497a89",
            "b6e199d7668c4f608ab6f888b032450d",
            "7b3a8ba7964c4de196b3242b238f82b4",
            "41f1452e06404051800a775c99bd5920",
            "640f1d8301534e4498e574bd989b1ce7",
            "b9876fcfdc6a4ed2a96e2b02a684c548",
            "31bd88acb0ce4175921224d8c2957609",
            "0f95e8a08e0b40dcad2b3f2f35582db2",
            "aee1894e84cf4d2e9192d635e708ac2a",
            "6e384060a7c447759b6716e6e4fa23b4",
            "47c11a80a62d4ea193b6528e2b3b9fa1",
            "f4e344db034f4f9fa4086a3e56db95f6",
            "f9aada43f5f24330982f10ae8033e0bb",
            "94f31bfae2d9412d8d6bdeb62e0c43a7",
            "d0c0aae6bde94378b09a513cffde9701",
            "b74ecabb400443e9a7f36b2f7705830c",
            "eed9abd324224f6280b3167ef7701eaf",
            "24d600f7ed0c47418cab0f273caf4640",
            "86ede56d43304ba1ba5d4f832bb773f8",
            "545b8f21078a4e819b6ae3fcec6a1442",
            "61d5e8d5701a43c0ae080028e8180508",
            "22fd55ed76764e3c8ddf0d6ddf395796",
            "e0f650d701e34932aa11eefb580749d6",
            "339f57f2993b45e6a14894c0a0c68370"
          ]
        },
        "id": "fO8d21Jy53x3",
        "outputId": "6d7dbce4-e85e-43ec-e2b7-6bb6a990f7ec"
      },
      "source": [
        "import torchvision\n",
        "import torch\n",
        "ds_train = torchvision.datasets.MNIST(root=\"./data/minist/\",train=True,download=True,transform=transform)\n",
        "ds_valid = torchvision.datasets.MNIST(root=\"./data/minist/\",train=False,download=True,transform=transform)\n",
        "\n",
        "dl_train =  torch.utils.data.DataLoader(ds_train, batch_size=128, shuffle=True, num_workers=4)\n",
        "dl_valid =  torch.utils.data.DataLoader(ds_valid, batch_size=128, shuffle=False, num_workers=4)"
      ],
      "execution_count": 16,
      "outputs": [
        {
          "output_type": "stream",
          "text": [
            "Downloading http://yann.lecun.com/exdb/mnist/train-images-idx3-ubyte.gz\n",
            "Failed to download (trying next):\n",
            "HTTP Error 503: Service Unavailable\n",
            "\n",
            "Downloading https://ossci-datasets.s3.amazonaws.com/mnist/train-images-idx3-ubyte.gz\n",
            "Downloading https://ossci-datasets.s3.amazonaws.com/mnist/train-images-idx3-ubyte.gz to ./data/minist/MNIST/raw/train-images-idx3-ubyte.gz\n"
          ],
          "name": "stdout"
        },
        {
          "output_type": "display_data",
          "data": {
            "application/vnd.jupyter.widget-view+json": {
              "model_id": "90b838cb50994a1c87d1017ac509207f",
              "version_minor": 0,
              "version_major": 2
            },
            "text/plain": [
              "HBox(children=(FloatProgress(value=0.0, max=9912422.0), HTML(value='')))"
            ]
          },
          "metadata": {
            "tags": []
          }
        },
        {
          "output_type": "stream",
          "text": [
            "\n",
            "Extracting ./data/minist/MNIST/raw/train-images-idx3-ubyte.gz to ./data/minist/MNIST/raw\n",
            "\n",
            "Downloading http://yann.lecun.com/exdb/mnist/train-labels-idx1-ubyte.gz\n",
            "Failed to download (trying next):\n",
            "HTTP Error 503: Service Unavailable\n",
            "\n",
            "Downloading https://ossci-datasets.s3.amazonaws.com/mnist/train-labels-idx1-ubyte.gz\n",
            "Downloading https://ossci-datasets.s3.amazonaws.com/mnist/train-labels-idx1-ubyte.gz to ./data/minist/MNIST/raw/train-labels-idx1-ubyte.gz\n"
          ],
          "name": "stdout"
        },
        {
          "output_type": "display_data",
          "data": {
            "application/vnd.jupyter.widget-view+json": {
              "model_id": "e60c6b5db13d4550be3810e180497a89",
              "version_minor": 0,
              "version_major": 2
            },
            "text/plain": [
              "HBox(children=(FloatProgress(value=0.0, max=28881.0), HTML(value='')))"
            ]
          },
          "metadata": {
            "tags": []
          }
        },
        {
          "output_type": "stream",
          "text": [
            "\n",
            "Extracting ./data/minist/MNIST/raw/train-labels-idx1-ubyte.gz to ./data/minist/MNIST/raw\n",
            "\n",
            "Downloading http://yann.lecun.com/exdb/mnist/t10k-images-idx3-ubyte.gz\n",
            "Failed to download (trying next):\n",
            "HTTP Error 503: Service Unavailable\n",
            "\n",
            "Downloading https://ossci-datasets.s3.amazonaws.com/mnist/t10k-images-idx3-ubyte.gz\n",
            "Downloading https://ossci-datasets.s3.amazonaws.com/mnist/t10k-images-idx3-ubyte.gz to ./data/minist/MNIST/raw/t10k-images-idx3-ubyte.gz\n"
          ],
          "name": "stdout"
        },
        {
          "output_type": "display_data",
          "data": {
            "application/vnd.jupyter.widget-view+json": {
              "model_id": "aee1894e84cf4d2e9192d635e708ac2a",
              "version_minor": 0,
              "version_major": 2
            },
            "text/plain": [
              "HBox(children=(FloatProgress(value=0.0, max=1648877.0), HTML(value='')))"
            ]
          },
          "metadata": {
            "tags": []
          }
        },
        {
          "output_type": "stream",
          "text": [
            "\n",
            "Extracting ./data/minist/MNIST/raw/t10k-images-idx3-ubyte.gz to ./data/minist/MNIST/raw\n",
            "\n",
            "Downloading http://yann.lecun.com/exdb/mnist/t10k-labels-idx1-ubyte.gz\n",
            "Failed to download (trying next):\n",
            "HTTP Error 503: Service Unavailable\n",
            "\n",
            "Downloading https://ossci-datasets.s3.amazonaws.com/mnist/t10k-labels-idx1-ubyte.gz\n",
            "Downloading https://ossci-datasets.s3.amazonaws.com/mnist/t10k-labels-idx1-ubyte.gz to ./data/minist/MNIST/raw/t10k-labels-idx1-ubyte.gz\n"
          ],
          "name": "stdout"
        },
        {
          "output_type": "display_data",
          "data": {
            "application/vnd.jupyter.widget-view+json": {
              "model_id": "eed9abd324224f6280b3167ef7701eaf",
              "version_minor": 0,
              "version_major": 2
            },
            "text/plain": [
              "HBox(children=(FloatProgress(value=0.0, max=4542.0), HTML(value='')))"
            ]
          },
          "metadata": {
            "tags": []
          }
        },
        {
          "output_type": "stream",
          "text": [
            "\n",
            "Extracting ./data/minist/MNIST/raw/t10k-labels-idx1-ubyte.gz to ./data/minist/MNIST/raw\n",
            "\n",
            "Processing...\n",
            "Done!\n"
          ],
          "name": "stdout"
        },
        {
          "output_type": "stream",
          "text": [
            "/usr/local/lib/python3.7/dist-packages/torch/utils/data/dataloader.py:477: UserWarning: This DataLoader will create 4 worker processes in total. Our suggested max number of worker in current system is 2, which is smaller than what this DataLoader is going to create. Please be aware that excessive worker creation might get DataLoader running slow or even freeze, lower the worker number to avoid potential slowness/freeze if necessary.\n",
            "  cpuset_checked))\n"
          ],
          "name": "stderr"
        }
      ]
    },
    {
      "cell_type": "markdown",
      "metadata": {
        "id": "AeZjrn1RzjuG"
      },
      "source": [
        "## 定义网络"
      ]
    },
    {
      "cell_type": "markdown",
      "metadata": {
        "id": "X1Dwet6scTGI"
      },
      "source": [
        "正如上文对数据调用时声明类一样，建议使用类定义网网络：                                                          \n",
        "\n"
      ]
    },
    {
      "cell_type": "code",
      "metadata": {
        "id": "xR_niT3Fl7Lr"
      },
      "source": [
        "import torch\n",
        "import torch.nn as nn # 定义网络\n",
        "import torch.nn.functional as F #网络中的操作，如卷积、padding通常在这个里面"
      ],
      "execution_count": 17,
      "outputs": []
    },
    {
      "cell_type": "code",
      "metadata": {
        "id": "1LenDw2tkjXq"
      },
      "source": [
        "class ConvNet(nn.Module):\n",
        "    def __init__(self):\n",
        "        super().__init__()\n",
        "        # batch*1*28*28（每次会送入batch个样本，输入通道数1（黑白图像），图像分辨率是28x28）\n",
        "        # 下面的卷积层Conv2d的第一个参数指输入通道数，第二个参数指输出通道数，第三个参数指卷积核的大小\n",
        "        self.conv1 = nn.Conv2d(1, 10, 5) # 输入通道数1，输出通道数10，核的大小5\n",
        "        self.conv2 = nn.Conv2d(10, 20, 3) # 输入通道数10，输出通道数20，核的大小3\n",
        "        # 下面的全连接层Linear的第一个参数指输入通道数，第二个参数指输出通道数\n",
        "        self.fc1 = nn.Linear(20*10*10, 500) # 输入通道数是2000，输出通道数是500\n",
        "        self.fc2 = nn.Linear(500, 10) # 输入通道数是500，输出通道数是10，即10分类\n",
        "    def forward(self,x):\n",
        "        in_size = x.size(0) # 在本例中in_size=512，也就是BATCH_SIZE的值。输入的x可以看成是512*1*28*28的张量。\n",
        "        x = self.conv1(x) # batch*1*28*28 -> batch*10*24*24（28x28的图像经过一次核为5x5的卷积，输出变为24x24）\n",
        "        x = F.relu(x) # batch*10*24*24（激活函数ReLU不改变形状））\n",
        "        x = F.max_pool2d(x, 2, 2) # batch*10*24*24 -> batch*10*12*12（2*2的池化层会减半）\n",
        "        x = self.conv2(x) # batch*10*12*12 -> batch*20*10*10（再卷积一次，核的大小是3）\n",
        "        x = F.relu(x) # batch*20*10*10\n",
        "        x = x.view(in_size, -1) # batch*20*10*10 -> batch*2000（out的第二维是-1，说明是自动推算，本例中第二维是20*10*10）\n",
        "        x = self.fc1(x) # batch*2000 -> batch*500\n",
        "        x = F.relu(x) # batch*500\n",
        "        x = self.fc2(x) # batch*500 -> batch*10\n",
        "        x = F.log_softmax(x, dim=1) # 计算log(softmax(x))\n",
        "        return x"
      ],
      "execution_count": 18,
      "outputs": []
    },
    {
      "cell_type": "markdown",
      "metadata": {
        "id": "qiiRD2Kexkzv"
      },
      "source": [
        "正如上文所说的，tensor放入cuda中可以加速运算，这里也适用"
      ]
    },
    {
      "cell_type": "code",
      "metadata": {
        "colab": {
          "base_uri": "https://localhost:8080/"
        },
        "id": "8hNdGrXHxjp2",
        "outputId": "a51e2036-d56d-4c8f-b2bd-5aa6e35b9c13"
      },
      "source": [
        "# 依然按照上文的方法来判断是否有cuda可以使用\n",
        "device = torch.device(\"cuda\" if torch.cuda.is_available() else \"cpu\")\n",
        "model = ConvNet().to(device)\n",
        "print(model)"
      ],
      "execution_count": 19,
      "outputs": [
        {
          "output_type": "stream",
          "text": [
            "ConvNet(\n",
            "  (conv1): Conv2d(1, 10, kernel_size=(5, 5), stride=(1, 1))\n",
            "  (conv2): Conv2d(10, 20, kernel_size=(3, 3), stride=(1, 1))\n",
            "  (fc1): Linear(in_features=2000, out_features=500, bias=True)\n",
            "  (fc2): Linear(in_features=500, out_features=10, bias=True)\n",
            ")\n"
          ],
          "name": "stdout"
        }
      ]
    },
    {
      "cell_type": "markdown",
      "metadata": {
        "id": "ZlbYhHHFz5VG"
      },
      "source": [
        "很多情况下，我们需要分析模型的复杂度，需要通过查看模型的参数个数来看.另外需要查看学习的参数和名称"
      ]
    },
    {
      "cell_type": "code",
      "metadata": {
        "id": "Rz6Ng7Xiz4wu",
        "colab": {
          "base_uri": "https://localhost:8080/"
        },
        "outputId": "740b0e4a-ef15-42ef-ed8c-448f915a12dd"
      },
      "source": [
        "for parameters in ConvNet().parameters(): \n",
        "#注意，在部分程序中，有人会将定义好的神经网络存储到net中，这是这个net是一个类，parameters这个函数必须跟一个类，而不是一个函数名名称\n",
        "#比方说这里ConvNet.parametrics()就是错误的，因为ConvNet()才是一个类\n",
        "#但是如果使用net = ConvNet()定义以后，就可以使用：net.parameters()\n",
        "    print(parameters)"
      ],
      "execution_count": 20,
      "outputs": [
        {
          "output_type": "stream",
          "text": [
            "Parameter containing:\n",
            "tensor([[[[-0.1209, -0.1328, -0.0506,  0.1218, -0.1203],\n",
            "          [-0.0267, -0.1180, -0.1032,  0.0192, -0.1371],\n",
            "          [-0.1545, -0.1602,  0.1825,  0.0311, -0.0654],\n",
            "          [ 0.0973,  0.1876,  0.1746,  0.0858,  0.1358],\n",
            "          [ 0.0268,  0.0340, -0.1317, -0.1366,  0.0736]]],\n",
            "\n",
            "\n",
            "        [[[-0.1135,  0.1438,  0.0590, -0.0651, -0.1935],\n",
            "          [ 0.1754,  0.1595,  0.1836, -0.0381,  0.0600],\n",
            "          [-0.0885, -0.0765, -0.1800, -0.0833, -0.0269],\n",
            "          [ 0.1486, -0.0127, -0.0748, -0.0047, -0.1790],\n",
            "          [-0.1981,  0.0062,  0.1957,  0.0651, -0.1886]]],\n",
            "\n",
            "\n",
            "        [[[ 0.0527, -0.0344, -0.0158,  0.0737,  0.1428],\n",
            "          [-0.1406,  0.0017,  0.0115, -0.1936,  0.1217],\n",
            "          [-0.0810,  0.1252,  0.0523, -0.0841, -0.0584],\n",
            "          [ 0.1368,  0.1758, -0.1153, -0.0903, -0.0096],\n",
            "          [-0.0268,  0.0452,  0.0971, -0.1717,  0.0281]]],\n",
            "\n",
            "\n",
            "        [[[-0.0059,  0.0359, -0.0243, -0.0165, -0.0108],\n",
            "          [-0.0368, -0.0658, -0.1697,  0.1558, -0.0101],\n",
            "          [-0.1271,  0.1796,  0.0458,  0.1671, -0.0816],\n",
            "          [ 0.0578,  0.1154, -0.0713,  0.0216, -0.0071],\n",
            "          [-0.1413, -0.0393, -0.1480, -0.0115,  0.0681]]],\n",
            "\n",
            "\n",
            "        [[[ 0.1094, -0.1839,  0.0803,  0.1885,  0.1758],\n",
            "          [ 0.0859,  0.0375,  0.1135, -0.0400, -0.0430],\n",
            "          [ 0.0921,  0.1112, -0.0554, -0.1997, -0.0421],\n",
            "          [-0.0354,  0.0457, -0.0599, -0.0288,  0.0345],\n",
            "          [ 0.0501, -0.1553, -0.0796, -0.0463,  0.1288]]],\n",
            "\n",
            "\n",
            "        [[[ 0.0882, -0.1611,  0.0526, -0.0218,  0.1626],\n",
            "          [ 0.1691,  0.0547, -0.0475, -0.1398, -0.0484],\n",
            "          [ 0.0499,  0.0232, -0.0914,  0.1110,  0.1217],\n",
            "          [ 0.0368, -0.1779, -0.1742,  0.0576,  0.0232],\n",
            "          [ 0.0170, -0.1285, -0.1274, -0.1567,  0.1290]]],\n",
            "\n",
            "\n",
            "        [[[-0.1187,  0.0495,  0.1502,  0.0672,  0.0414],\n",
            "          [-0.0779, -0.0059, -0.0118, -0.0923,  0.1552],\n",
            "          [-0.0098, -0.1146, -0.1393, -0.0179, -0.0176],\n",
            "          [ 0.1140,  0.1173, -0.1965, -0.1649,  0.1768],\n",
            "          [ 0.1752, -0.0635, -0.0705,  0.1273, -0.1297]]],\n",
            "\n",
            "\n",
            "        [[[-0.0007, -0.1024, -0.1311,  0.1639, -0.0545],\n",
            "          [-0.1092, -0.0961, -0.1670,  0.0652, -0.1812],\n",
            "          [-0.1430,  0.1524,  0.0154,  0.0716,  0.1534],\n",
            "          [ 0.0640, -0.0062,  0.1321,  0.0031, -0.1552],\n",
            "          [-0.1006,  0.1753,  0.1688, -0.1769, -0.0195]]],\n",
            "\n",
            "\n",
            "        [[[-0.0677,  0.0834, -0.1305,  0.1108, -0.0433],\n",
            "          [ 0.0015,  0.0682,  0.0071,  0.0058, -0.1347],\n",
            "          [ 0.0450, -0.0863, -0.1542, -0.1316,  0.0130],\n",
            "          [-0.0488,  0.1524, -0.0942, -0.1794, -0.1488],\n",
            "          [ 0.1532, -0.1459, -0.1443, -0.0481,  0.0960]]],\n",
            "\n",
            "\n",
            "        [[[-0.1653, -0.1458, -0.1264,  0.0370,  0.1825],\n",
            "          [-0.0337, -0.0038,  0.0851,  0.1741, -0.1166],\n",
            "          [-0.1903, -0.0349,  0.1806,  0.1315, -0.0238],\n",
            "          [ 0.1270, -0.0588, -0.1118,  0.0481,  0.0494],\n",
            "          [ 0.0922,  0.0595,  0.0667,  0.0327, -0.1560]]]], requires_grad=True)\n",
            "Parameter containing:\n",
            "tensor([ 0.1338,  0.0373, -0.0036, -0.0691, -0.1255,  0.1844, -0.0071,  0.1082,\n",
            "         0.0707,  0.1843], requires_grad=True)\n",
            "Parameter containing:\n",
            "tensor([[[[-0.0883,  0.0002, -0.0933],\n",
            "          [ 0.0847, -0.0560, -0.0525],\n",
            "          [-0.0681, -0.0547,  0.0570]],\n",
            "\n",
            "         [[ 0.0240,  0.1024,  0.0473],\n",
            "          [-0.0822,  0.0420, -0.0899],\n",
            "          [-0.0595,  0.0659, -0.1029]],\n",
            "\n",
            "         [[ 0.0654, -0.0195,  0.0288],\n",
            "          [-0.0481,  0.0160,  0.0418],\n",
            "          [-0.0205,  0.0960,  0.0314]],\n",
            "\n",
            "         ...,\n",
            "\n",
            "         [[ 0.0516, -0.0677,  0.0906],\n",
            "          [ 0.0078, -0.0143,  0.0881],\n",
            "          [-0.0805, -0.0423,  0.0911]],\n",
            "\n",
            "         [[-0.0012,  0.0788, -0.0251],\n",
            "          [-0.0122,  0.0634,  0.0564],\n",
            "          [ 0.0819, -0.0222, -0.0145]],\n",
            "\n",
            "         [[-0.0763, -0.1006, -0.0179],\n",
            "          [ 0.0804,  0.0163, -0.0205],\n",
            "          [ 0.0088,  0.0773,  0.0986]]],\n",
            "\n",
            "\n",
            "        [[[ 0.0293, -0.0950,  0.0038],\n",
            "          [ 0.1045, -0.0974,  0.0123],\n",
            "          [ 0.0140,  0.0283,  0.0482]],\n",
            "\n",
            "         [[-0.0215,  0.0002, -0.0711],\n",
            "          [ 0.0872,  0.0143, -0.0501],\n",
            "          [-0.0233, -0.0425,  0.0914]],\n",
            "\n",
            "         [[ 0.0943,  0.0787,  0.0623],\n",
            "          [ 0.0149,  0.0439,  0.0969],\n",
            "          [ 0.0195, -0.0202,  0.0325]],\n",
            "\n",
            "         ...,\n",
            "\n",
            "         [[ 0.0452, -0.0966, -0.0880],\n",
            "          [-0.0540,  0.0140, -0.0659],\n",
            "          [-0.0214, -0.0510, -0.0848]],\n",
            "\n",
            "         [[-0.0731, -0.0108,  0.0624],\n",
            "          [ 0.0962,  0.0812,  0.0909],\n",
            "          [ 0.0235,  0.0490,  0.0994]],\n",
            "\n",
            "         [[ 0.0813, -0.0627,  0.0529],\n",
            "          [-0.0325, -0.0112, -0.0103],\n",
            "          [ 0.0860,  0.0724,  0.0564]]],\n",
            "\n",
            "\n",
            "        [[[ 0.0146,  0.0061, -0.0534],\n",
            "          [-0.0821,  0.0827,  0.0157],\n",
            "          [-0.0700,  0.0366, -0.0658]],\n",
            "\n",
            "         [[-0.0283,  0.0305,  0.0714],\n",
            "          [ 0.0497,  0.0270,  0.0113],\n",
            "          [-0.0177,  0.0519, -0.0664]],\n",
            "\n",
            "         [[-0.0503,  0.1005,  0.0711],\n",
            "          [-0.0459,  0.0139,  0.1015],\n",
            "          [ 0.0354, -0.0321, -0.0630]],\n",
            "\n",
            "         ...,\n",
            "\n",
            "         [[-0.0086,  0.0140, -0.0228],\n",
            "          [-0.0817, -0.0416, -0.0116],\n",
            "          [-0.0690, -0.0890,  0.0459]],\n",
            "\n",
            "         [[-0.0351,  0.0861, -0.0093],\n",
            "          [-0.0259,  0.0767, -0.0150],\n",
            "          [-0.0630,  0.0126, -0.0824]],\n",
            "\n",
            "         [[-0.0524, -0.0726, -0.0693],\n",
            "          [ 0.0620, -0.0686,  0.0880],\n",
            "          [-0.0250,  0.0926, -0.0860]]],\n",
            "\n",
            "\n",
            "        ...,\n",
            "\n",
            "\n",
            "        [[[-0.0608,  0.0363, -0.1022],\n",
            "          [ 0.0066, -0.0029, -0.0048],\n",
            "          [ 0.0747,  0.0383, -0.0197]],\n",
            "\n",
            "         [[ 0.0888, -0.0777,  0.0360],\n",
            "          [ 0.0699,  0.0104,  0.0484],\n",
            "          [ 0.0966, -0.0811, -0.0365]],\n",
            "\n",
            "         [[ 0.0117,  0.0205,  0.0168],\n",
            "          [-0.0794, -0.0996, -0.1020],\n",
            "          [-0.1024,  0.0765, -0.0052]],\n",
            "\n",
            "         ...,\n",
            "\n",
            "         [[-0.0504, -0.0533, -0.0832],\n",
            "          [ 0.0467, -0.0021, -0.0791],\n",
            "          [ 0.0299,  0.0940, -0.0223]],\n",
            "\n",
            "         [[-0.0319,  0.0853,  0.0888],\n",
            "          [ 0.0183,  0.0903,  0.0290],\n",
            "          [ 0.0535, -0.0955,  0.0178]],\n",
            "\n",
            "         [[ 0.0704, -0.0538, -0.0628],\n",
            "          [-0.0854, -0.0016, -0.0923],\n",
            "          [-0.0420, -0.0184, -0.0707]]],\n",
            "\n",
            "\n",
            "        [[[ 0.0154, -0.1011,  0.0358],\n",
            "          [-0.0669,  0.0631, -0.0991],\n",
            "          [ 0.0499,  0.0889, -0.0533]],\n",
            "\n",
            "         [[ 0.0694, -0.0864, -0.0169],\n",
            "          [ 0.0492,  0.0854,  0.0461],\n",
            "          [-0.0681, -0.0029,  0.0785]],\n",
            "\n",
            "         [[-0.0688, -0.0483, -0.0546],\n",
            "          [-0.0777,  0.0124, -0.0480],\n",
            "          [ 0.0296, -0.0707,  0.0335]],\n",
            "\n",
            "         ...,\n",
            "\n",
            "         [[-0.0712, -0.0618,  0.0644],\n",
            "          [-0.0353, -0.0507, -0.0432],\n",
            "          [ 0.0325, -0.0660,  0.0501]],\n",
            "\n",
            "         [[-0.0403,  0.0106,  0.0758],\n",
            "          [-0.0841, -0.0220,  0.0639],\n",
            "          [-0.0751,  0.0172,  0.0431]],\n",
            "\n",
            "         [[-0.1026,  0.1032, -0.0302],\n",
            "          [ 0.0760,  0.0738, -0.0075],\n",
            "          [ 0.0982,  0.0025, -0.0808]]],\n",
            "\n",
            "\n",
            "        [[[ 0.0722, -0.0166, -0.0949],\n",
            "          [-0.0224,  0.0677, -0.0972],\n",
            "          [-0.0556, -0.0740, -0.0246]],\n",
            "\n",
            "         [[ 0.0169,  0.1022, -0.0427],\n",
            "          [-0.0499, -0.0184,  0.0014],\n",
            "          [-0.0594,  0.0835,  0.0305]],\n",
            "\n",
            "         [[-0.0360,  0.0802, -0.0814],\n",
            "          [ 0.0068,  0.0321,  0.0320],\n",
            "          [ 0.0321,  0.0037, -0.0963]],\n",
            "\n",
            "         ...,\n",
            "\n",
            "         [[ 0.0089, -0.1036, -0.0950],\n",
            "          [-0.0112, -0.1011,  0.0646],\n",
            "          [-0.0924,  0.0284, -0.0680]],\n",
            "\n",
            "         [[ 0.0618,  0.0970, -0.0677],\n",
            "          [ 0.0684,  0.0063, -0.0178],\n",
            "          [-0.0440,  0.0281,  0.0062]],\n",
            "\n",
            "         [[-0.1037,  0.0759, -0.0999],\n",
            "          [ 0.0692, -0.0961, -0.0187],\n",
            "          [-0.0856, -0.0766,  0.0502]]]], requires_grad=True)\n",
            "Parameter containing:\n",
            "tensor([ 0.0432,  0.0371,  0.0034,  0.0073, -0.0464, -0.0053,  0.0083,  0.0031,\n",
            "         0.0346, -0.0530, -0.0242,  0.0244, -0.0142,  0.0839,  0.0472, -0.0498,\n",
            "        -0.0564, -0.0072,  0.0785,  0.0033], requires_grad=True)\n",
            "Parameter containing:\n",
            "tensor([[-0.0033, -0.0107,  0.0040,  ...,  0.0031, -0.0102, -0.0074],\n",
            "        [-0.0095,  0.0084,  0.0033,  ...,  0.0173, -0.0051,  0.0039],\n",
            "        [ 0.0103, -0.0085, -0.0022,  ...,  0.0213,  0.0182, -0.0216],\n",
            "        ...,\n",
            "        [ 0.0062, -0.0189,  0.0134,  ...,  0.0073,  0.0157,  0.0020],\n",
            "        [-0.0170,  0.0157,  0.0152,  ...,  0.0078,  0.0175, -0.0130],\n",
            "        [ 0.0153, -0.0016,  0.0134,  ...,  0.0178, -0.0201, -0.0019]],\n",
            "       requires_grad=True)\n",
            "Parameter containing:\n",
            "tensor([-0.0014,  0.0110,  0.0179,  0.0216,  0.0030,  0.0006, -0.0014,  0.0063,\n",
            "         0.0135,  0.0030,  0.0164, -0.0018,  0.0042, -0.0030, -0.0038, -0.0205,\n",
            "         0.0015,  0.0079,  0.0002,  0.0127,  0.0202,  0.0087,  0.0051, -0.0185,\n",
            "        -0.0129, -0.0215, -0.0027, -0.0079,  0.0076,  0.0058,  0.0089, -0.0186,\n",
            "         0.0111, -0.0179, -0.0065, -0.0114, -0.0106, -0.0093, -0.0075, -0.0216,\n",
            "         0.0099, -0.0017,  0.0005, -0.0195, -0.0026, -0.0166, -0.0084, -0.0025,\n",
            "        -0.0065, -0.0114, -0.0165,  0.0024, -0.0078, -0.0073,  0.0188,  0.0192,\n",
            "         0.0124, -0.0012,  0.0021,  0.0193, -0.0085,  0.0001, -0.0040,  0.0092,\n",
            "         0.0051, -0.0037,  0.0138, -0.0075, -0.0146,  0.0099, -0.0193, -0.0187,\n",
            "         0.0168,  0.0189, -0.0027,  0.0179,  0.0075, -0.0105, -0.0199,  0.0120,\n",
            "         0.0065, -0.0094, -0.0089,  0.0141, -0.0170,  0.0057,  0.0069, -0.0159,\n",
            "         0.0012,  0.0094, -0.0141,  0.0185, -0.0051,  0.0118, -0.0047,  0.0190,\n",
            "        -0.0091,  0.0219,  0.0197,  0.0176, -0.0147, -0.0054,  0.0182, -0.0170,\n",
            "         0.0171,  0.0082, -0.0137, -0.0201, -0.0190, -0.0083, -0.0074,  0.0065,\n",
            "         0.0122, -0.0096,  0.0098, -0.0033,  0.0090,  0.0058, -0.0024,  0.0100,\n",
            "         0.0180,  0.0068, -0.0034, -0.0007,  0.0012, -0.0209, -0.0213, -0.0103,\n",
            "         0.0037,  0.0118,  0.0169, -0.0076, -0.0016,  0.0020, -0.0144, -0.0222,\n",
            "        -0.0198, -0.0141,  0.0098, -0.0116,  0.0066, -0.0076,  0.0096,  0.0135,\n",
            "        -0.0212, -0.0103,  0.0090, -0.0207,  0.0040,  0.0069,  0.0008, -0.0110,\n",
            "        -0.0053,  0.0213, -0.0129, -0.0017,  0.0102, -0.0201,  0.0217, -0.0035,\n",
            "        -0.0129, -0.0087, -0.0151,  0.0197, -0.0182,  0.0049, -0.0060, -0.0113,\n",
            "         0.0197, -0.0024,  0.0080,  0.0090, -0.0061, -0.0223, -0.0143,  0.0129,\n",
            "         0.0155,  0.0201,  0.0134, -0.0130,  0.0154, -0.0088, -0.0043, -0.0051,\n",
            "         0.0165,  0.0022, -0.0073,  0.0015, -0.0013,  0.0134, -0.0088,  0.0177,\n",
            "        -0.0203,  0.0193,  0.0183,  0.0007, -0.0191,  0.0127, -0.0046, -0.0109,\n",
            "        -0.0164,  0.0020, -0.0026,  0.0086, -0.0134,  0.0049,  0.0087, -0.0143,\n",
            "         0.0130, -0.0030,  0.0182,  0.0142, -0.0083, -0.0160, -0.0041,  0.0101,\n",
            "         0.0043,  0.0121,  0.0116,  0.0073, -0.0186, -0.0063, -0.0033, -0.0011,\n",
            "        -0.0123, -0.0170, -0.0195, -0.0138, -0.0064,  0.0205,  0.0062,  0.0117,\n",
            "        -0.0177, -0.0054, -0.0031, -0.0098, -0.0127, -0.0120, -0.0124, -0.0196,\n",
            "        -0.0117, -0.0049, -0.0021,  0.0123, -0.0043, -0.0137,  0.0141, -0.0065,\n",
            "         0.0072,  0.0125,  0.0060, -0.0042,  0.0066,  0.0062, -0.0022,  0.0206,\n",
            "        -0.0193, -0.0051, -0.0084, -0.0166, -0.0055,  0.0111,  0.0051, -0.0122,\n",
            "         0.0008, -0.0129,  0.0122, -0.0200,  0.0176,  0.0186,  0.0103, -0.0220,\n",
            "         0.0207, -0.0214, -0.0126,  0.0163, -0.0196, -0.0057, -0.0196, -0.0184,\n",
            "        -0.0104, -0.0037,  0.0133,  0.0044,  0.0116,  0.0062, -0.0135, -0.0079,\n",
            "         0.0138, -0.0139,  0.0185, -0.0092, -0.0040, -0.0098,  0.0051, -0.0111,\n",
            "         0.0123, -0.0138,  0.0081,  0.0216, -0.0137,  0.0139,  0.0078, -0.0064,\n",
            "        -0.0034,  0.0091,  0.0062,  0.0161,  0.0154, -0.0221,  0.0127, -0.0208,\n",
            "         0.0130,  0.0069, -0.0120,  0.0101,  0.0187,  0.0192, -0.0027, -0.0130,\n",
            "        -0.0164,  0.0065, -0.0038, -0.0129,  0.0040, -0.0212,  0.0006, -0.0096,\n",
            "        -0.0191,  0.0006,  0.0149,  0.0051, -0.0087,  0.0060, -0.0132,  0.0093,\n",
            "         0.0048, -0.0084, -0.0092,  0.0098, -0.0010, -0.0016, -0.0016,  0.0085,\n",
            "        -0.0220, -0.0131, -0.0170, -0.0013, -0.0069, -0.0012, -0.0221, -0.0128,\n",
            "         0.0101,  0.0109,  0.0085,  0.0053, -0.0019, -0.0204, -0.0208, -0.0145,\n",
            "         0.0196, -0.0172, -0.0065,  0.0100, -0.0076,  0.0006,  0.0216, -0.0148,\n",
            "         0.0159,  0.0126, -0.0087, -0.0107,  0.0110, -0.0052, -0.0038,  0.0015,\n",
            "        -0.0172,  0.0079,  0.0166,  0.0011, -0.0171, -0.0223,  0.0214,  0.0004,\n",
            "         0.0058,  0.0084,  0.0107, -0.0167, -0.0005, -0.0061,  0.0222,  0.0172,\n",
            "         0.0064,  0.0218, -0.0194,  0.0045,  0.0077,  0.0035, -0.0076, -0.0091,\n",
            "         0.0197,  0.0047, -0.0125,  0.0119,  0.0062, -0.0059,  0.0022, -0.0079,\n",
            "        -0.0147,  0.0206,  0.0004, -0.0126,  0.0198, -0.0136,  0.0139, -0.0005,\n",
            "        -0.0192,  0.0133, -0.0006, -0.0223, -0.0017, -0.0098, -0.0138, -0.0079,\n",
            "         0.0145, -0.0071,  0.0080, -0.0120, -0.0089,  0.0010, -0.0077,  0.0174,\n",
            "        -0.0176, -0.0198,  0.0045,  0.0172,  0.0167,  0.0132,  0.0039,  0.0009,\n",
            "        -0.0145, -0.0209, -0.0216,  0.0133, -0.0133, -0.0107,  0.0053,  0.0119,\n",
            "         0.0179,  0.0112,  0.0052, -0.0017,  0.0059,  0.0027,  0.0070,  0.0152,\n",
            "        -0.0175, -0.0157,  0.0184, -0.0188, -0.0184,  0.0131,  0.0117, -0.0082,\n",
            "         0.0013,  0.0154, -0.0209,  0.0199, -0.0033,  0.0050, -0.0193,  0.0032,\n",
            "        -0.0038, -0.0062,  0.0093, -0.0087,  0.0196, -0.0178, -0.0106,  0.0082,\n",
            "         0.0122, -0.0167, -0.0027, -0.0199, -0.0065, -0.0026, -0.0103, -0.0090,\n",
            "        -0.0223,  0.0030,  0.0026,  0.0033,  0.0111, -0.0073,  0.0012,  0.0117,\n",
            "        -0.0139, -0.0079,  0.0101,  0.0146], requires_grad=True)\n",
            "Parameter containing:\n",
            "tensor([[ 0.0229,  0.0375,  0.0379,  ...,  0.0101,  0.0135,  0.0428],\n",
            "        [-0.0043,  0.0228,  0.0013,  ...,  0.0383, -0.0015,  0.0256],\n",
            "        [-0.0226,  0.0060,  0.0340,  ..., -0.0411, -0.0185, -0.0256],\n",
            "        ...,\n",
            "        [-0.0119,  0.0403,  0.0392,  ..., -0.0167, -0.0042,  0.0343],\n",
            "        [ 0.0349,  0.0297, -0.0032,  ...,  0.0173, -0.0038, -0.0126],\n",
            "        [ 0.0211, -0.0117, -0.0429,  ...,  0.0243,  0.0062, -0.0063]],\n",
            "       requires_grad=True)\n",
            "Parameter containing:\n",
            "tensor([ 0.0347, -0.0134,  0.0257,  0.0062,  0.0194,  0.0351, -0.0006,  0.0247,\n",
            "         0.0416, -0.0226], requires_grad=True)\n"
          ],
          "name": "stdout"
        }
      ]
    },
    {
      "cell_type": "code",
      "metadata": {
        "colab": {
          "base_uri": "https://localhost:8080/"
        },
        "id": "Y-t38U2P26vk",
        "outputId": "c9b9977f-7b14-4b69-a21d-68000c73f1ab"
      },
      "source": [
        "\n",
        "for name,parameters in ConvNet().named_parameters():\n",
        "    print(name,':',parameters.size())\n"
      ],
      "execution_count": 21,
      "outputs": [
        {
          "output_type": "stream",
          "text": [
            "conv1.weight : torch.Size([10, 1, 5, 5])\n",
            "conv1.bias : torch.Size([10])\n",
            "conv2.weight : torch.Size([20, 10, 3, 3])\n",
            "conv2.bias : torch.Size([20])\n",
            "fc1.weight : torch.Size([500, 2000])\n",
            "fc1.bias : torch.Size([500])\n",
            "fc2.weight : torch.Size([10, 500])\n",
            "fc2.bias : torch.Size([10])\n"
          ],
          "name": "stdout"
        }
      ]
    },
    {
      "cell_type": "markdown",
      "metadata": {
        "id": "dls2i7w4sv7c"
      },
      "source": [
        "除此以外，也可以使用summary()去查看所有的层、参数"
      ]
    },
    {
      "cell_type": "code",
      "metadata": {
        "colab": {
          "base_uri": "https://localhost:8080/"
        },
        "id": "c-ONgqYHs2fp",
        "outputId": "237ae57f-7f0b-4e08-be0b-e1e5e792440d"
      },
      "source": [
        "\n",
        "from torchsummary import summary\n",
        "summary(ConvNet(), input_size=(1, 28, 28))"
      ],
      "execution_count": 22,
      "outputs": [
        {
          "output_type": "stream",
          "text": [
            "----------------------------------------------------------------\n",
            "        Layer (type)               Output Shape         Param #\n",
            "================================================================\n",
            "            Conv2d-1           [-1, 10, 24, 24]             260\n",
            "            Conv2d-2           [-1, 20, 10, 10]           1,820\n",
            "            Linear-3                  [-1, 500]       1,000,500\n",
            "            Linear-4                   [-1, 10]           5,010\n",
            "================================================================\n",
            "Total params: 1,007,590\n",
            "Trainable params: 1,007,590\n",
            "Non-trainable params: 0\n",
            "----------------------------------------------------------------\n",
            "Input size (MB): 0.00\n",
            "Forward/backward pass size (MB): 0.06\n",
            "Params size (MB): 3.84\n",
            "Estimated Total Size (MB): 3.91\n",
            "----------------------------------------------------------------\n"
          ],
          "name": "stdout"
        }
      ]
    },
    {
      "cell_type": "markdown",
      "metadata": {
        "id": "lpvvi6_NznL7"
      },
      "source": [
        "## 模型训练\n",
        "\n",
        "一般而言，训练策略由batch_size, epoch, 求导机制,优化策略, 学习率等构成<br>\n",
        "首先有：\n",
        "* batch_size（一批次的大小）：在一个epoch中，每一次迭代使用的样本量，常常设置为：32/64/128等。\n",
        "\n",
        "* epoch（轮次）：在每一个epoch中，所有训练集都会以每次batch_size个输入模型中\n",
        "\n",
        "* iteration（迭代次数）：每跑完一个batch都要更新参数，这个过程叫一个iteration。\n",
        "\n",
        "**因此显然iteration是由batch_size,epoch共同构成，比方说：\n",
        "总共有10000张图片，每个batch_size有100张图片，epoch = 20，意味着，iterations = （10000/100）$\\times$20 = 2000（次）**\n"
      ]
    },
    {
      "cell_type": "markdown",
      "metadata": {
        "id": "g2m3KvdhzqmJ"
      },
      "source": [
        "### 求导机制"
      ]
    },
    {
      "cell_type": "markdown",
      "metadata": {
        "id": "jSQsXDx1ztcI"
      },
      "source": [
        "### 学习率设置\n",
        "\n",
        "一般而言，常用的学习率有Adam,SGD算法两种，它们分别代表了"
      ]
    },
    {
      "cell_type": "markdown",
      "metadata": {
        "id": "huMlUdeEzwqO"
      },
      "source": [
        "### Batchsize设置\n",
        "不考虑Batch Normalization的情况下，batch size的大小决定了深度学习训练过程中的完成每个epoch所需的时间和每次迭代(iteration)之间梯度的平滑程度。batch size只能说是影响完成每个epoch所需要的时间，决定也算不上吧。<br>\n",
        "由于目前主流深度学习框架处理mini-batch的反向传播时，默认都是先将每个mini-batch中每个instance得到的loss平均化之后再反求梯度，也就是说每次反向传播的梯度是对mini-batch中每个instance的梯度平均之后的结果，所以b的大小决定了相邻迭代之间的梯度平滑程度，b太小，相邻mini-batch间的差异相对过大，那么相邻两次迭代的梯度震荡情况会比较严重，不利于收敛；b越大，相邻mini-batch间的差异相对越小，虽然梯度震荡情况会比较小，一定程度上利于模型收敛，但如果b极端大，相邻mini-batch间的差异过小，相邻两个mini-batch的梯度没有区别了，整个训练过程就是沿着一个方向蹭蹭蹭往下走，很容易陷入到局部最小值出不来。<br>\n",
        "\n",
        "**总结下来：batch size过小，花费时间多，同时梯度震荡严重，不利于收敛；batch size过大，不同batch的梯度方向没有任何变化，容易陷入局部极小值。**<br>\n",
        "\n",
        "但是对于GPU并行计算的情况下，小batch反而会需要更长时间\n",
        "\n"
      ]
    },
    {
      "cell_type": "code",
      "metadata": {
        "id": "bmbC0bPP7DLo"
      },
      "source": [
        "import torch.optim as optim\n",
        "model = ConvNet().to(device)\n",
        "optimizer = optim.Adam(model.parameters())"
      ],
      "execution_count": 23,
      "outputs": []
    },
    {
      "cell_type": "code",
      "metadata": {
        "id": "1vI-OD-g7PyT"
      },
      "source": [
        "def train(model, device, train_loader, optimizer, epoch):\n",
        "    model.train()\n",
        "    for batch_idx, (data, target) in enumerate(train_loader):\n",
        "        data, target = data.to(device), target.to(device)\n",
        "        optimizer.zero_grad()\n",
        "        output = model(data)\n",
        "        loss = F.nll_loss(output, target)\n",
        "        loss.backward()\n",
        "        optimizer.step()\n",
        "        if(batch_idx+1)%30 == 0: \n",
        "            print('Train Epoch: {} [{}/{} ({:.0f}%)]\\tLoss: {:.6f}'.format(\n",
        "                epoch, batch_idx * len(data), len(train_loader.dataset),\n",
        "                100. * batch_idx / len(train_loader), loss.item()))\n",
        "\n",
        "\n",
        "def test(model, device, test_loader):\n",
        "    model.eval()\n",
        "    test_loss = 0\n",
        "    correct = 0\n",
        "    with torch.no_grad():\n",
        "        for data, target in test_loader:\n",
        "            data, target = data.to(device), target.to(device)\n",
        "            output = model(data)\n",
        "            test_loss += F.nll_loss(output, target, reduction='sum').item() # 将一批的损失相加\n",
        "            pred = output.max(1, keepdim=True)[1] # 找到概率最大的下标\n",
        "            correct += pred.eq(target.view_as(pred)).sum().item()\n",
        "\n",
        "    test_loss /= len(test_loader.dataset)\n",
        "    print('\\nTest set: Average loss: {:.4f}, Accuracy: {}/{} ({:.0f}%)\\n'.format(\n",
        "        test_loss, correct, len(test_loader.dataset),\n",
        "        100. * correct / len(test_loader.dataset)))"
      ],
      "execution_count": 24,
      "outputs": []
    },
    {
      "cell_type": "code",
      "metadata": {
        "colab": {
          "base_uri": "https://localhost:8080/"
        },
        "id": "7_lddC6h7Wx8",
        "outputId": "f977d64d-fbba-4814-8446-d8fc39d4c549"
      },
      "source": [
        "for epoch in range(0, 20):\n",
        "    train(model, device, train_loader, optimizer, epoch)\n",
        "    test(model, device, test_loader)"
      ],
      "execution_count": 25,
      "outputs": [
        {
          "output_type": "stream",
          "text": [
            "\n",
            "Test set: Average loss: 0.0379, Accuracy: 9896/10000 (99%)\n",
            "\n",
            "Train Epoch: 16 [14848/60000 (25%)]\tLoss: 0.001414\n",
            "Train Epoch: 16 [30208/60000 (50%)]\tLoss: 0.001565\n",
            "Train Epoch: 16 [45568/60000 (75%)]\tLoss: 0.003553\n",
            "\n",
            "Test set: Average loss: 0.0448, Accuracy: 9873/10000 (99%)\n",
            "\n",
            "Train Epoch: 17 [14848/60000 (25%)]\tLoss: 0.001779\n",
            "Train Epoch: 17 [30208/60000 (50%)]\tLoss: 0.001190\n",
            "Train Epoch: 17 [45568/60000 (75%)]\tLoss: 0.001397\n",
            "\n",
            "Test set: Average loss: 0.0561, Accuracy: 9868/10000 (99%)\n",
            "\n",
            "Train Epoch: 18 [14848/60000 (25%)]\tLoss: 0.003216\n",
            "Train Epoch: 18 [30208/60000 (50%)]\tLoss: 0.000994\n",
            "Train Epoch: 18 [45568/60000 (75%)]\tLoss: 0.000716\n",
            "\n",
            "Test set: Average loss: 0.0382, Accuracy: 9910/10000 (99%)\n",
            "\n",
            "Train Epoch: 19 [14848/60000 (25%)]\tLoss: 0.000301\n",
            "Train Epoch: 19 [30208/60000 (50%)]\tLoss: 0.000336\n",
            "Train Epoch: 19 [45568/60000 (75%)]\tLoss: 0.000343\n",
            "\n",
            "Test set: Average loss: 0.0397, Accuracy: 9906/10000 (99%)\n",
            "\n"
          ],
          "name": "stdout"
        }
      ]
    },
    {
      "cell_type": "markdown",
      "metadata": {
        "id": "DjWLw9_gz3EW"
      },
      "source": [
        "## 可视化"
      ]
    },
    {
      "cell_type": "markdown",
      "metadata": {
        "id": "rQRpD4va0NQZ"
      },
      "source": [
        "### 本地保存\n",
        "只需稍微修改下train，test即可"
      ]
    },
    {
      "cell_type": "code",
      "metadata": {
        "id": "LJxRL89dDRmn"
      },
      "source": [
        "Loss_list = []\n",
        "Loss_val_list = []\n",
        "\n",
        "def train(model, device, train_loader, optimizer, epoch):\n",
        "    model.train()\n",
        "    for batch_idx, (data, target) in enumerate(train_loader):\n",
        "        data, target = data.to(device), target.to(device)\n",
        "        optimizer.zero_grad()\n",
        "        output = model(data)\n",
        "        loss = F.nll_loss(output, target)\n",
        "        loss.backward()\n",
        "        optimizer.step()\n",
        "        if(batch_idx+1)%30 == 0: \n",
        "            print('Train Epoch: {} [{}/{} ({:.0f}%)]\\tLoss: {:.6f}'.format(\n",
        "                epoch, batch_idx * len(data), len(train_loader.dataset),\n",
        "                100. * batch_idx / len(train_loader), loss.item()))\n",
        "            Loss_list.append(loss.item())\n",
        "\n",
        "\n",
        "def test(model, device, test_loader):\n",
        "    model.eval()\n",
        "    test_loss = 0\n",
        "    correct = 0\n",
        "    with torch.no_grad():\n",
        "        for data, target in test_loader:\n",
        "            data, target = data.to(device), target.to(device)\n",
        "            output = model(data)\n",
        "            test_loss += F.nll_loss(output, target, reduction='sum').item() # 将一批的损失相加\n",
        "            pred = output.max(1, keepdim=True)[1] # 找到概率最大的下标\n",
        "            correct += pred.eq(target.view_as(pred)).sum().item()\n",
        "\n",
        "    test_loss /= len(test_loader.dataset)\n",
        "    Loss_val_list.append(test_loss)\n",
        "    print('\\nTest set: Average loss: {:.4f}, Accuracy: {}/{} ({:.0f}%)\\n'.format(\n",
        "        test_loss, correct, len(test_loader.dataset),\n",
        "        100. * correct / len(test_loader.dataset)))"
      ],
      "execution_count": 26,
      "outputs": []
    },
    {
      "cell_type": "code",
      "metadata": {
        "id": "KHVOE1eFE2_h",
        "colab": {
          "base_uri": "https://localhost:8080/"
        },
        "outputId": "5040c852-d692-4a85-94c8-55e9fb8b165f"
      },
      "source": [
        "epoches = 2\n",
        "for epoch in range(epoches):\n",
        "    train(model, device, train_loader, optimizer, epoch)\n",
        "    test(model, device, test_loader)\n",
        "\n",
        "print(Loss_list)\n",
        "print(Loss_val_list)"
      ],
      "execution_count": 27,
      "outputs": [
        {
          "output_type": "stream",
          "text": [
            "Train Epoch: 0 [14848/60000 (25%)]\tLoss: 0.000374\n",
            "Train Epoch: 0 [30208/60000 (50%)]\tLoss: 0.000082\n",
            "Train Epoch: 0 [45568/60000 (75%)]\tLoss: 0.000183\n",
            "\n",
            "Test set: Average loss: 0.0414, Accuracy: 9906/10000 (99%)\n",
            "\n",
            "Train Epoch: 1 [14848/60000 (25%)]\tLoss: 0.000129\n",
            "Train Epoch: 1 [30208/60000 (50%)]\tLoss: 0.000304\n",
            "Train Epoch: 1 [45568/60000 (75%)]\tLoss: 0.000211\n",
            "\n",
            "Test set: Average loss: 0.0388, Accuracy: 9915/10000 (99%)\n",
            "\n",
            "[0.0003735315112862736, 8.212582906708121e-05, 0.0001833964925026521, 0.0001292115921387449, 0.0003035182598978281, 0.00021089684742037207]\n",
            "[0.041391693830490114, 0.03876026911735535]\n"
          ],
          "name": "stdout"
        }
      ]
    },
    {
      "cell_type": "markdown",
      "metadata": {
        "id": "mq_kIPqiD0dX"
      },
      "source": [
        "再保存到本地即可"
      ]
    },
    {
      "cell_type": "code",
      "metadata": {
        "colab": {
          "base_uri": "https://localhost:8080/"
        },
        "id": "WS1ueuObD4Lf",
        "outputId": "fde8daf8-1ead-4903-dcf0-63595e48bc28"
      },
      "source": [
        "## Loss\n",
        "file = open('Loss.txt', 'w')\n",
        "for i in range(len(Loss_list)):\n",
        "    s = str(Loss_list[i]).replace('[','').replace(']','')#去除[],这两行按数据不同，可以选择\n",
        "    s = s.replace(\"'\",'').replace(',','') +'\\n'  #去除单引号，逗号，每行末尾追加换行符\n",
        "    file.write(s)\n",
        "file.close()\n",
        "print(\"保存文件成功\")\n",
        "\n",
        "## Loss_val\n",
        "file = open('Loss_val.txt', 'w')\n",
        "for i in range(len(Loss_val_list)):\n",
        "    s = str(Loss_val_list[i]).replace('[','').replace(']','')#去除[],这两行按数据不同，可以选择\n",
        "    s = s.replace(\"'\",'').replace(',','') +'\\n'  #去除单引号，逗号，每行末尾追加换行符\n",
        "    file.write(s)\n",
        "file.close()\n",
        "print(\"保存文件成功\")"
      ],
      "execution_count": 28,
      "outputs": [
        {
          "output_type": "stream",
          "text": [
            "保存文件成功\n",
            "保存文件成功\n"
          ],
          "name": "stdout"
        }
      ]
    },
    {
      "cell_type": "markdown",
      "metadata": {
        "id": "wpQ2prYv0crk"
      },
      "source": [
        "## Pre-Train & Fine-Tune\n",
        "对于一些较深的模型，可能从头开始训练会十分耗时，因此有时候只需要训练最后面几个分类器即可。Fine-Tune主要是针对一个模型在一个全新的数据集上训练，因此原有的分类器的分类能力可能会存在不足。在大部分情况下，原有的的模型都是基于ImagNet训练的，这是一个百分类问题，但是在实际应用时，有时候可能只是二分类问题，因此上述模型可能不适用。\n",
        "这一部分具体可以查看：https://github.com/zergtant/pytorch-handbook/blob/master/chapter4/4.1-fine-tuning.ipynb\n",
        "<br>\n",
        "还有一种情况，我们的模型训练后需要保存参数，可以使用："
      ]
    },
    {
      "cell_type": "code",
      "metadata": {
        "id": "XWAN4vsczmq-"
      },
      "source": [
        "torch.save(model.state_dict(), 'example.pt')"
      ],
      "execution_count": 29,
      "outputs": []
    },
    {
      "cell_type": "code",
      "metadata": {
        "id": "deVkr1thzgQK"
      },
      "source": [
        ""
      ],
      "execution_count": 29,
      "outputs": []
    },
    {
      "cell_type": "markdown",
      "metadata": {
        "id": "hz5-ptErz-Iz"
      },
      "source": [
        "# 参考文献：\n",
        "\n",
        "[1] 李宏毅机器学习https://speech.ee.ntu.edu.tw/~hylee/ml/2021-spring.html\n",
        "\n",
        "[2]: 深入浅出Pytorch"
      ]
    },
    {
      "cell_type": "markdown",
      "metadata": {
        "id": "Bnt51OEI0HvY"
      },
      "source": [
        ""
      ]
    }
  ]
}