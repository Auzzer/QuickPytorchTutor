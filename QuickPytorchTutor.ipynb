{
  "nbformat": 4,
  "nbformat_minor": 0,
  "metadata": {
    "colab": {
      "name": "QuickPytorchTutor.ipynb",
      "provenance": [],
      "collapsed_sections": [
        "mfivPcEtj6xv",
        "Jhf_3MDZk4Lt"
      ],
      "toc_visible": true,
      "authorship_tag": "ABX9TyNxL6ItH4RXxMpoENttb8lT",
      "include_colab_link": true
    },
    "kernelspec": {
      "name": "python3",
      "display_name": "Python 3"
    },
    "language_info": {
      "name": "python"
    },
    "widgets": {
      "application/vnd.jupyter.widget-state+json": {
        "4ba933a2a222477390472ca78da856df": {
          "model_module": "@jupyter-widgets/controls",
          "model_name": "HBoxModel",
          "state": {
            "_view_name": "HBoxView",
            "_dom_classes": [],
            "_model_name": "HBoxModel",
            "_view_module": "@jupyter-widgets/controls",
            "_model_module_version": "1.5.0",
            "_view_count": null,
            "_view_module_version": "1.5.0",
            "box_style": "",
            "layout": "IPY_MODEL_4efe4b157d6441f6abb8587a772329a3",
            "_model_module": "@jupyter-widgets/controls",
            "children": [
              "IPY_MODEL_ff5e4906cfbd43b98725ebecfdf223f5",
              "IPY_MODEL_69f5476d70434019b5a721b9a79c1773"
            ]
          }
        },
        "4efe4b157d6441f6abb8587a772329a3": {
          "model_module": "@jupyter-widgets/base",
          "model_name": "LayoutModel",
          "state": {
            "_view_name": "LayoutView",
            "grid_template_rows": null,
            "right": null,
            "justify_content": null,
            "_view_module": "@jupyter-widgets/base",
            "overflow": null,
            "_model_module_version": "1.2.0",
            "_view_count": null,
            "flex_flow": null,
            "width": null,
            "min_width": null,
            "border": null,
            "align_items": null,
            "bottom": null,
            "_model_module": "@jupyter-widgets/base",
            "top": null,
            "grid_column": null,
            "overflow_y": null,
            "overflow_x": null,
            "grid_auto_flow": null,
            "grid_area": null,
            "grid_template_columns": null,
            "flex": null,
            "_model_name": "LayoutModel",
            "justify_items": null,
            "grid_row": null,
            "max_height": null,
            "align_content": null,
            "visibility": null,
            "align_self": null,
            "height": null,
            "min_height": null,
            "padding": null,
            "grid_auto_rows": null,
            "grid_gap": null,
            "max_width": null,
            "order": null,
            "_view_module_version": "1.2.0",
            "grid_template_areas": null,
            "object_position": null,
            "object_fit": null,
            "grid_auto_columns": null,
            "margin": null,
            "display": null,
            "left": null
          }
        },
        "ff5e4906cfbd43b98725ebecfdf223f5": {
          "model_module": "@jupyter-widgets/controls",
          "model_name": "FloatProgressModel",
          "state": {
            "_view_name": "ProgressView",
            "style": "IPY_MODEL_db8f178614eb4b5889078082c08cf0cb",
            "_dom_classes": [],
            "description": "",
            "_model_name": "FloatProgressModel",
            "bar_style": "success",
            "max": 9912422,
            "_view_module": "@jupyter-widgets/controls",
            "_model_module_version": "1.5.0",
            "value": 9912422,
            "_view_count": null,
            "_view_module_version": "1.5.0",
            "orientation": "horizontal",
            "min": 0,
            "description_tooltip": null,
            "_model_module": "@jupyter-widgets/controls",
            "layout": "IPY_MODEL_f08202886aa140fea991f50db0421027"
          }
        },
        "69f5476d70434019b5a721b9a79c1773": {
          "model_module": "@jupyter-widgets/controls",
          "model_name": "HTMLModel",
          "state": {
            "_view_name": "HTMLView",
            "style": "IPY_MODEL_38cd1e3f736c461684c9d6278f2fa383",
            "_dom_classes": [],
            "description": "",
            "_model_name": "HTMLModel",
            "placeholder": "​",
            "_view_module": "@jupyter-widgets/controls",
            "_model_module_version": "1.5.0",
            "value": " 9913344/? [04:59&lt;00:00, 33110.28it/s]",
            "_view_count": null,
            "_view_module_version": "1.5.0",
            "description_tooltip": null,
            "_model_module": "@jupyter-widgets/controls",
            "layout": "IPY_MODEL_751882f837714a2b81f0e8c3962aedcc"
          }
        },
        "db8f178614eb4b5889078082c08cf0cb": {
          "model_module": "@jupyter-widgets/controls",
          "model_name": "ProgressStyleModel",
          "state": {
            "_view_name": "StyleView",
            "_model_name": "ProgressStyleModel",
            "description_width": "initial",
            "_view_module": "@jupyter-widgets/base",
            "_model_module_version": "1.5.0",
            "_view_count": null,
            "_view_module_version": "1.2.0",
            "bar_color": null,
            "_model_module": "@jupyter-widgets/controls"
          }
        },
        "f08202886aa140fea991f50db0421027": {
          "model_module": "@jupyter-widgets/base",
          "model_name": "LayoutModel",
          "state": {
            "_view_name": "LayoutView",
            "grid_template_rows": null,
            "right": null,
            "justify_content": null,
            "_view_module": "@jupyter-widgets/base",
            "overflow": null,
            "_model_module_version": "1.2.0",
            "_view_count": null,
            "flex_flow": null,
            "width": null,
            "min_width": null,
            "border": null,
            "align_items": null,
            "bottom": null,
            "_model_module": "@jupyter-widgets/base",
            "top": null,
            "grid_column": null,
            "overflow_y": null,
            "overflow_x": null,
            "grid_auto_flow": null,
            "grid_area": null,
            "grid_template_columns": null,
            "flex": null,
            "_model_name": "LayoutModel",
            "justify_items": null,
            "grid_row": null,
            "max_height": null,
            "align_content": null,
            "visibility": null,
            "align_self": null,
            "height": null,
            "min_height": null,
            "padding": null,
            "grid_auto_rows": null,
            "grid_gap": null,
            "max_width": null,
            "order": null,
            "_view_module_version": "1.2.0",
            "grid_template_areas": null,
            "object_position": null,
            "object_fit": null,
            "grid_auto_columns": null,
            "margin": null,
            "display": null,
            "left": null
          }
        },
        "38cd1e3f736c461684c9d6278f2fa383": {
          "model_module": "@jupyter-widgets/controls",
          "model_name": "DescriptionStyleModel",
          "state": {
            "_view_name": "StyleView",
            "_model_name": "DescriptionStyleModel",
            "description_width": "",
            "_view_module": "@jupyter-widgets/base",
            "_model_module_version": "1.5.0",
            "_view_count": null,
            "_view_module_version": "1.2.0",
            "_model_module": "@jupyter-widgets/controls"
          }
        },
        "751882f837714a2b81f0e8c3962aedcc": {
          "model_module": "@jupyter-widgets/base",
          "model_name": "LayoutModel",
          "state": {
            "_view_name": "LayoutView",
            "grid_template_rows": null,
            "right": null,
            "justify_content": null,
            "_view_module": "@jupyter-widgets/base",
            "overflow": null,
            "_model_module_version": "1.2.0",
            "_view_count": null,
            "flex_flow": null,
            "width": null,
            "min_width": null,
            "border": null,
            "align_items": null,
            "bottom": null,
            "_model_module": "@jupyter-widgets/base",
            "top": null,
            "grid_column": null,
            "overflow_y": null,
            "overflow_x": null,
            "grid_auto_flow": null,
            "grid_area": null,
            "grid_template_columns": null,
            "flex": null,
            "_model_name": "LayoutModel",
            "justify_items": null,
            "grid_row": null,
            "max_height": null,
            "align_content": null,
            "visibility": null,
            "align_self": null,
            "height": null,
            "min_height": null,
            "padding": null,
            "grid_auto_rows": null,
            "grid_gap": null,
            "max_width": null,
            "order": null,
            "_view_module_version": "1.2.0",
            "grid_template_areas": null,
            "object_position": null,
            "object_fit": null,
            "grid_auto_columns": null,
            "margin": null,
            "display": null,
            "left": null
          }
        },
        "f49d1b20c12049bda5efe16a733508fc": {
          "model_module": "@jupyter-widgets/controls",
          "model_name": "HBoxModel",
          "state": {
            "_view_name": "HBoxView",
            "_dom_classes": [],
            "_model_name": "HBoxModel",
            "_view_module": "@jupyter-widgets/controls",
            "_model_module_version": "1.5.0",
            "_view_count": null,
            "_view_module_version": "1.5.0",
            "box_style": "",
            "layout": "IPY_MODEL_03f12d6218ca48cb8cec345f2ed780b4",
            "_model_module": "@jupyter-widgets/controls",
            "children": [
              "IPY_MODEL_c119a99d06334d128bf305c1495ad99a",
              "IPY_MODEL_9e7ba3aaca9049fbba316e04944ba48e"
            ]
          }
        },
        "03f12d6218ca48cb8cec345f2ed780b4": {
          "model_module": "@jupyter-widgets/base",
          "model_name": "LayoutModel",
          "state": {
            "_view_name": "LayoutView",
            "grid_template_rows": null,
            "right": null,
            "justify_content": null,
            "_view_module": "@jupyter-widgets/base",
            "overflow": null,
            "_model_module_version": "1.2.0",
            "_view_count": null,
            "flex_flow": null,
            "width": null,
            "min_width": null,
            "border": null,
            "align_items": null,
            "bottom": null,
            "_model_module": "@jupyter-widgets/base",
            "top": null,
            "grid_column": null,
            "overflow_y": null,
            "overflow_x": null,
            "grid_auto_flow": null,
            "grid_area": null,
            "grid_template_columns": null,
            "flex": null,
            "_model_name": "LayoutModel",
            "justify_items": null,
            "grid_row": null,
            "max_height": null,
            "align_content": null,
            "visibility": null,
            "align_self": null,
            "height": null,
            "min_height": null,
            "padding": null,
            "grid_auto_rows": null,
            "grid_gap": null,
            "max_width": null,
            "order": null,
            "_view_module_version": "1.2.0",
            "grid_template_areas": null,
            "object_position": null,
            "object_fit": null,
            "grid_auto_columns": null,
            "margin": null,
            "display": null,
            "left": null
          }
        },
        "c119a99d06334d128bf305c1495ad99a": {
          "model_module": "@jupyter-widgets/controls",
          "model_name": "FloatProgressModel",
          "state": {
            "_view_name": "ProgressView",
            "style": "IPY_MODEL_008d2467c6ee44c29b8eccf58874fba6",
            "_dom_classes": [],
            "description": "",
            "_model_name": "FloatProgressModel",
            "bar_style": "success",
            "max": 28881,
            "_view_module": "@jupyter-widgets/controls",
            "_model_module_version": "1.5.0",
            "value": 28881,
            "_view_count": null,
            "_view_module_version": "1.5.0",
            "orientation": "horizontal",
            "min": 0,
            "description_tooltip": null,
            "_model_module": "@jupyter-widgets/controls",
            "layout": "IPY_MODEL_593d5f399ce64f6ca8dfa29e2a70cbfb"
          }
        },
        "9e7ba3aaca9049fbba316e04944ba48e": {
          "model_module": "@jupyter-widgets/controls",
          "model_name": "HTMLModel",
          "state": {
            "_view_name": "HTMLView",
            "style": "IPY_MODEL_08ff397ad7ae4a6892976b30b169e7ea",
            "_dom_classes": [],
            "description": "",
            "_model_name": "HTMLModel",
            "placeholder": "​",
            "_view_module": "@jupyter-widgets/controls",
            "_model_module_version": "1.5.0",
            "value": " 29696/? [00:03&lt;00:00, 8541.71it/s]",
            "_view_count": null,
            "_view_module_version": "1.5.0",
            "description_tooltip": null,
            "_model_module": "@jupyter-widgets/controls",
            "layout": "IPY_MODEL_1feadb17da894e3b8fe7c78929f4b0df"
          }
        },
        "008d2467c6ee44c29b8eccf58874fba6": {
          "model_module": "@jupyter-widgets/controls",
          "model_name": "ProgressStyleModel",
          "state": {
            "_view_name": "StyleView",
            "_model_name": "ProgressStyleModel",
            "description_width": "initial",
            "_view_module": "@jupyter-widgets/base",
            "_model_module_version": "1.5.0",
            "_view_count": null,
            "_view_module_version": "1.2.0",
            "bar_color": null,
            "_model_module": "@jupyter-widgets/controls"
          }
        },
        "593d5f399ce64f6ca8dfa29e2a70cbfb": {
          "model_module": "@jupyter-widgets/base",
          "model_name": "LayoutModel",
          "state": {
            "_view_name": "LayoutView",
            "grid_template_rows": null,
            "right": null,
            "justify_content": null,
            "_view_module": "@jupyter-widgets/base",
            "overflow": null,
            "_model_module_version": "1.2.0",
            "_view_count": null,
            "flex_flow": null,
            "width": null,
            "min_width": null,
            "border": null,
            "align_items": null,
            "bottom": null,
            "_model_module": "@jupyter-widgets/base",
            "top": null,
            "grid_column": null,
            "overflow_y": null,
            "overflow_x": null,
            "grid_auto_flow": null,
            "grid_area": null,
            "grid_template_columns": null,
            "flex": null,
            "_model_name": "LayoutModel",
            "justify_items": null,
            "grid_row": null,
            "max_height": null,
            "align_content": null,
            "visibility": null,
            "align_self": null,
            "height": null,
            "min_height": null,
            "padding": null,
            "grid_auto_rows": null,
            "grid_gap": null,
            "max_width": null,
            "order": null,
            "_view_module_version": "1.2.0",
            "grid_template_areas": null,
            "object_position": null,
            "object_fit": null,
            "grid_auto_columns": null,
            "margin": null,
            "display": null,
            "left": null
          }
        },
        "08ff397ad7ae4a6892976b30b169e7ea": {
          "model_module": "@jupyter-widgets/controls",
          "model_name": "DescriptionStyleModel",
          "state": {
            "_view_name": "StyleView",
            "_model_name": "DescriptionStyleModel",
            "description_width": "",
            "_view_module": "@jupyter-widgets/base",
            "_model_module_version": "1.5.0",
            "_view_count": null,
            "_view_module_version": "1.2.0",
            "_model_module": "@jupyter-widgets/controls"
          }
        },
        "1feadb17da894e3b8fe7c78929f4b0df": {
          "model_module": "@jupyter-widgets/base",
          "model_name": "LayoutModel",
          "state": {
            "_view_name": "LayoutView",
            "grid_template_rows": null,
            "right": null,
            "justify_content": null,
            "_view_module": "@jupyter-widgets/base",
            "overflow": null,
            "_model_module_version": "1.2.0",
            "_view_count": null,
            "flex_flow": null,
            "width": null,
            "min_width": null,
            "border": null,
            "align_items": null,
            "bottom": null,
            "_model_module": "@jupyter-widgets/base",
            "top": null,
            "grid_column": null,
            "overflow_y": null,
            "overflow_x": null,
            "grid_auto_flow": null,
            "grid_area": null,
            "grid_template_columns": null,
            "flex": null,
            "_model_name": "LayoutModel",
            "justify_items": null,
            "grid_row": null,
            "max_height": null,
            "align_content": null,
            "visibility": null,
            "align_self": null,
            "height": null,
            "min_height": null,
            "padding": null,
            "grid_auto_rows": null,
            "grid_gap": null,
            "max_width": null,
            "order": null,
            "_view_module_version": "1.2.0",
            "grid_template_areas": null,
            "object_position": null,
            "object_fit": null,
            "grid_auto_columns": null,
            "margin": null,
            "display": null,
            "left": null
          }
        },
        "4a78d6b7e8a9410f90cca2785188008c": {
          "model_module": "@jupyter-widgets/controls",
          "model_name": "HBoxModel",
          "state": {
            "_view_name": "HBoxView",
            "_dom_classes": [],
            "_model_name": "HBoxModel",
            "_view_module": "@jupyter-widgets/controls",
            "_model_module_version": "1.5.0",
            "_view_count": null,
            "_view_module_version": "1.5.0",
            "box_style": "",
            "layout": "IPY_MODEL_ca5703577db1409785b0f0ac58c24401",
            "_model_module": "@jupyter-widgets/controls",
            "children": [
              "IPY_MODEL_85795da19b1b48a7b67731ca74bbaef4",
              "IPY_MODEL_6d18123e3c864df89644e70b1d0efe0d"
            ]
          }
        },
        "ca5703577db1409785b0f0ac58c24401": {
          "model_module": "@jupyter-widgets/base",
          "model_name": "LayoutModel",
          "state": {
            "_view_name": "LayoutView",
            "grid_template_rows": null,
            "right": null,
            "justify_content": null,
            "_view_module": "@jupyter-widgets/base",
            "overflow": null,
            "_model_module_version": "1.2.0",
            "_view_count": null,
            "flex_flow": null,
            "width": null,
            "min_width": null,
            "border": null,
            "align_items": null,
            "bottom": null,
            "_model_module": "@jupyter-widgets/base",
            "top": null,
            "grid_column": null,
            "overflow_y": null,
            "overflow_x": null,
            "grid_auto_flow": null,
            "grid_area": null,
            "grid_template_columns": null,
            "flex": null,
            "_model_name": "LayoutModel",
            "justify_items": null,
            "grid_row": null,
            "max_height": null,
            "align_content": null,
            "visibility": null,
            "align_self": null,
            "height": null,
            "min_height": null,
            "padding": null,
            "grid_auto_rows": null,
            "grid_gap": null,
            "max_width": null,
            "order": null,
            "_view_module_version": "1.2.0",
            "grid_template_areas": null,
            "object_position": null,
            "object_fit": null,
            "grid_auto_columns": null,
            "margin": null,
            "display": null,
            "left": null
          }
        },
        "85795da19b1b48a7b67731ca74bbaef4": {
          "model_module": "@jupyter-widgets/controls",
          "model_name": "FloatProgressModel",
          "state": {
            "_view_name": "ProgressView",
            "style": "IPY_MODEL_7e9afc94567346e4aad01a5c582e323f",
            "_dom_classes": [],
            "description": "",
            "_model_name": "FloatProgressModel",
            "bar_style": "success",
            "max": 1648877,
            "_view_module": "@jupyter-widgets/controls",
            "_model_module_version": "1.5.0",
            "value": 1648877,
            "_view_count": null,
            "_view_module_version": "1.5.0",
            "orientation": "horizontal",
            "min": 0,
            "description_tooltip": null,
            "_model_module": "@jupyter-widgets/controls",
            "layout": "IPY_MODEL_4eb5ac98325d439cbd070d1832b08b0d"
          }
        },
        "6d18123e3c864df89644e70b1d0efe0d": {
          "model_module": "@jupyter-widgets/controls",
          "model_name": "HTMLModel",
          "state": {
            "_view_name": "HTMLView",
            "style": "IPY_MODEL_76e1b11ae043469a88d3cadad113312a",
            "_dom_classes": [],
            "description": "",
            "_model_name": "HTMLModel",
            "placeholder": "​",
            "_view_module": "@jupyter-widgets/controls",
            "_model_module_version": "1.5.0",
            "value": " 1649664/? [00:01&lt;00:00, 1391458.93it/s]",
            "_view_count": null,
            "_view_module_version": "1.5.0",
            "description_tooltip": null,
            "_model_module": "@jupyter-widgets/controls",
            "layout": "IPY_MODEL_95eabed10df34fc49a5242c645647f1c"
          }
        },
        "7e9afc94567346e4aad01a5c582e323f": {
          "model_module": "@jupyter-widgets/controls",
          "model_name": "ProgressStyleModel",
          "state": {
            "_view_name": "StyleView",
            "_model_name": "ProgressStyleModel",
            "description_width": "initial",
            "_view_module": "@jupyter-widgets/base",
            "_model_module_version": "1.5.0",
            "_view_count": null,
            "_view_module_version": "1.2.0",
            "bar_color": null,
            "_model_module": "@jupyter-widgets/controls"
          }
        },
        "4eb5ac98325d439cbd070d1832b08b0d": {
          "model_module": "@jupyter-widgets/base",
          "model_name": "LayoutModel",
          "state": {
            "_view_name": "LayoutView",
            "grid_template_rows": null,
            "right": null,
            "justify_content": null,
            "_view_module": "@jupyter-widgets/base",
            "overflow": null,
            "_model_module_version": "1.2.0",
            "_view_count": null,
            "flex_flow": null,
            "width": null,
            "min_width": null,
            "border": null,
            "align_items": null,
            "bottom": null,
            "_model_module": "@jupyter-widgets/base",
            "top": null,
            "grid_column": null,
            "overflow_y": null,
            "overflow_x": null,
            "grid_auto_flow": null,
            "grid_area": null,
            "grid_template_columns": null,
            "flex": null,
            "_model_name": "LayoutModel",
            "justify_items": null,
            "grid_row": null,
            "max_height": null,
            "align_content": null,
            "visibility": null,
            "align_self": null,
            "height": null,
            "min_height": null,
            "padding": null,
            "grid_auto_rows": null,
            "grid_gap": null,
            "max_width": null,
            "order": null,
            "_view_module_version": "1.2.0",
            "grid_template_areas": null,
            "object_position": null,
            "object_fit": null,
            "grid_auto_columns": null,
            "margin": null,
            "display": null,
            "left": null
          }
        },
        "76e1b11ae043469a88d3cadad113312a": {
          "model_module": "@jupyter-widgets/controls",
          "model_name": "DescriptionStyleModel",
          "state": {
            "_view_name": "StyleView",
            "_model_name": "DescriptionStyleModel",
            "description_width": "",
            "_view_module": "@jupyter-widgets/base",
            "_model_module_version": "1.5.0",
            "_view_count": null,
            "_view_module_version": "1.2.0",
            "_model_module": "@jupyter-widgets/controls"
          }
        },
        "95eabed10df34fc49a5242c645647f1c": {
          "model_module": "@jupyter-widgets/base",
          "model_name": "LayoutModel",
          "state": {
            "_view_name": "LayoutView",
            "grid_template_rows": null,
            "right": null,
            "justify_content": null,
            "_view_module": "@jupyter-widgets/base",
            "overflow": null,
            "_model_module_version": "1.2.0",
            "_view_count": null,
            "flex_flow": null,
            "width": null,
            "min_width": null,
            "border": null,
            "align_items": null,
            "bottom": null,
            "_model_module": "@jupyter-widgets/base",
            "top": null,
            "grid_column": null,
            "overflow_y": null,
            "overflow_x": null,
            "grid_auto_flow": null,
            "grid_area": null,
            "grid_template_columns": null,
            "flex": null,
            "_model_name": "LayoutModel",
            "justify_items": null,
            "grid_row": null,
            "max_height": null,
            "align_content": null,
            "visibility": null,
            "align_self": null,
            "height": null,
            "min_height": null,
            "padding": null,
            "grid_auto_rows": null,
            "grid_gap": null,
            "max_width": null,
            "order": null,
            "_view_module_version": "1.2.0",
            "grid_template_areas": null,
            "object_position": null,
            "object_fit": null,
            "grid_auto_columns": null,
            "margin": null,
            "display": null,
            "left": null
          }
        },
        "cd601c44a97a4cc49338b4daa3957ab5": {
          "model_module": "@jupyter-widgets/controls",
          "model_name": "HBoxModel",
          "state": {
            "_view_name": "HBoxView",
            "_dom_classes": [],
            "_model_name": "HBoxModel",
            "_view_module": "@jupyter-widgets/controls",
            "_model_module_version": "1.5.0",
            "_view_count": null,
            "_view_module_version": "1.5.0",
            "box_style": "",
            "layout": "IPY_MODEL_9ebb2f950d8b4ca9be42c0a26a18d2bc",
            "_model_module": "@jupyter-widgets/controls",
            "children": [
              "IPY_MODEL_6f9aa51737c24fd089358e03a9bd9a58",
              "IPY_MODEL_d82855749e9142789a1032d6ccd4062f"
            ]
          }
        },
        "9ebb2f950d8b4ca9be42c0a26a18d2bc": {
          "model_module": "@jupyter-widgets/base",
          "model_name": "LayoutModel",
          "state": {
            "_view_name": "LayoutView",
            "grid_template_rows": null,
            "right": null,
            "justify_content": null,
            "_view_module": "@jupyter-widgets/base",
            "overflow": null,
            "_model_module_version": "1.2.0",
            "_view_count": null,
            "flex_flow": null,
            "width": null,
            "min_width": null,
            "border": null,
            "align_items": null,
            "bottom": null,
            "_model_module": "@jupyter-widgets/base",
            "top": null,
            "grid_column": null,
            "overflow_y": null,
            "overflow_x": null,
            "grid_auto_flow": null,
            "grid_area": null,
            "grid_template_columns": null,
            "flex": null,
            "_model_name": "LayoutModel",
            "justify_items": null,
            "grid_row": null,
            "max_height": null,
            "align_content": null,
            "visibility": null,
            "align_self": null,
            "height": null,
            "min_height": null,
            "padding": null,
            "grid_auto_rows": null,
            "grid_gap": null,
            "max_width": null,
            "order": null,
            "_view_module_version": "1.2.0",
            "grid_template_areas": null,
            "object_position": null,
            "object_fit": null,
            "grid_auto_columns": null,
            "margin": null,
            "display": null,
            "left": null
          }
        },
        "6f9aa51737c24fd089358e03a9bd9a58": {
          "model_module": "@jupyter-widgets/controls",
          "model_name": "FloatProgressModel",
          "state": {
            "_view_name": "ProgressView",
            "style": "IPY_MODEL_82ecf0be3e9a4218a137c6ecfd969517",
            "_dom_classes": [],
            "description": "",
            "_model_name": "FloatProgressModel",
            "bar_style": "success",
            "max": 4542,
            "_view_module": "@jupyter-widgets/controls",
            "_model_module_version": "1.5.0",
            "value": 4542,
            "_view_count": null,
            "_view_module_version": "1.5.0",
            "orientation": "horizontal",
            "min": 0,
            "description_tooltip": null,
            "_model_module": "@jupyter-widgets/controls",
            "layout": "IPY_MODEL_6f628149c3fd4d31a2a2e2f1d457602d"
          }
        },
        "d82855749e9142789a1032d6ccd4062f": {
          "model_module": "@jupyter-widgets/controls",
          "model_name": "HTMLModel",
          "state": {
            "_view_name": "HTMLView",
            "style": "IPY_MODEL_c70260ec3bc547379c455005ad3592cb",
            "_dom_classes": [],
            "description": "",
            "_model_name": "HTMLModel",
            "placeholder": "​",
            "_view_module": "@jupyter-widgets/controls",
            "_model_module_version": "1.5.0",
            "value": " 5120/? [00:00&lt;00:00, 18401.24it/s]",
            "_view_count": null,
            "_view_module_version": "1.5.0",
            "description_tooltip": null,
            "_model_module": "@jupyter-widgets/controls",
            "layout": "IPY_MODEL_1d1fc8d05ebb4a5d8e991b656a6b83da"
          }
        },
        "82ecf0be3e9a4218a137c6ecfd969517": {
          "model_module": "@jupyter-widgets/controls",
          "model_name": "ProgressStyleModel",
          "state": {
            "_view_name": "StyleView",
            "_model_name": "ProgressStyleModel",
            "description_width": "initial",
            "_view_module": "@jupyter-widgets/base",
            "_model_module_version": "1.5.0",
            "_view_count": null,
            "_view_module_version": "1.2.0",
            "bar_color": null,
            "_model_module": "@jupyter-widgets/controls"
          }
        },
        "6f628149c3fd4d31a2a2e2f1d457602d": {
          "model_module": "@jupyter-widgets/base",
          "model_name": "LayoutModel",
          "state": {
            "_view_name": "LayoutView",
            "grid_template_rows": null,
            "right": null,
            "justify_content": null,
            "_view_module": "@jupyter-widgets/base",
            "overflow": null,
            "_model_module_version": "1.2.0",
            "_view_count": null,
            "flex_flow": null,
            "width": null,
            "min_width": null,
            "border": null,
            "align_items": null,
            "bottom": null,
            "_model_module": "@jupyter-widgets/base",
            "top": null,
            "grid_column": null,
            "overflow_y": null,
            "overflow_x": null,
            "grid_auto_flow": null,
            "grid_area": null,
            "grid_template_columns": null,
            "flex": null,
            "_model_name": "LayoutModel",
            "justify_items": null,
            "grid_row": null,
            "max_height": null,
            "align_content": null,
            "visibility": null,
            "align_self": null,
            "height": null,
            "min_height": null,
            "padding": null,
            "grid_auto_rows": null,
            "grid_gap": null,
            "max_width": null,
            "order": null,
            "_view_module_version": "1.2.0",
            "grid_template_areas": null,
            "object_position": null,
            "object_fit": null,
            "grid_auto_columns": null,
            "margin": null,
            "display": null,
            "left": null
          }
        },
        "c70260ec3bc547379c455005ad3592cb": {
          "model_module": "@jupyter-widgets/controls",
          "model_name": "DescriptionStyleModel",
          "state": {
            "_view_name": "StyleView",
            "_model_name": "DescriptionStyleModel",
            "description_width": "",
            "_view_module": "@jupyter-widgets/base",
            "_model_module_version": "1.5.0",
            "_view_count": null,
            "_view_module_version": "1.2.0",
            "_model_module": "@jupyter-widgets/controls"
          }
        },
        "1d1fc8d05ebb4a5d8e991b656a6b83da": {
          "model_module": "@jupyter-widgets/base",
          "model_name": "LayoutModel",
          "state": {
            "_view_name": "LayoutView",
            "grid_template_rows": null,
            "right": null,
            "justify_content": null,
            "_view_module": "@jupyter-widgets/base",
            "overflow": null,
            "_model_module_version": "1.2.0",
            "_view_count": null,
            "flex_flow": null,
            "width": null,
            "min_width": null,
            "border": null,
            "align_items": null,
            "bottom": null,
            "_model_module": "@jupyter-widgets/base",
            "top": null,
            "grid_column": null,
            "overflow_y": null,
            "overflow_x": null,
            "grid_auto_flow": null,
            "grid_area": null,
            "grid_template_columns": null,
            "flex": null,
            "_model_name": "LayoutModel",
            "justify_items": null,
            "grid_row": null,
            "max_height": null,
            "align_content": null,
            "visibility": null,
            "align_self": null,
            "height": null,
            "min_height": null,
            "padding": null,
            "grid_auto_rows": null,
            "grid_gap": null,
            "max_width": null,
            "order": null,
            "_view_module_version": "1.2.0",
            "grid_template_areas": null,
            "object_position": null,
            "object_fit": null,
            "grid_auto_columns": null,
            "margin": null,
            "display": null,
            "left": null
          }
        }
      }
    }
  },
  "cells": [
    {
      "cell_type": "markdown",
      "metadata": {
        "id": "view-in-github",
        "colab_type": "text"
      },
      "source": [
        "<a href=\"https://colab.research.google.com/github/Auzzer/QuickPytorchTutor/blob/main/QuickPytorchTutor.ipynb\" target=\"_parent\"><img src=\"https://colab.research.google.com/assets/colab-badge.svg\" alt=\"Open In Colab\"/></a>"
      ]
    },
    {
      "cell_type": "markdown",
      "metadata": {
        "id": "Ibcrniah2B94"
      },
      "source": [
        ""
      ]
    },
    {
      "cell_type": "markdown",
      "metadata": {
        "id": "GjsadXRuj12S"
      },
      "source": [
        "# Tensor (张量)的创建与基本操作\n",
        "张量是GPU运算中常见的数据类型，类似于Numpy中的数组，但是由于深度学习中常常需要使用GPU进行并行运算，提升计算速度，因此使用Tensor"
      ]
    },
    {
      "cell_type": "markdown",
      "metadata": {
        "id": "DAknU9WCkuqU"
      },
      "source": [
        "## 创建"
      ]
    },
    {
      "cell_type": "code",
      "metadata": {
        "id": "TZlmxcMRjhR1"
      },
      "source": [
        "import torch"
      ],
      "execution_count": 3,
      "outputs": []
    },
    {
      "cell_type": "code",
      "metadata": {
        "colab": {
          "base_uri": "https://localhost:8080/"
        },
        "id": "ig-ZWsc6kfzD",
        "outputId": "97462354-eb99-42a5-e0cd-3967e6880b32"
      },
      "source": [
        "# 创建一个张量通常需要初始化，我们一般使用：\n",
        "x1 = torch.empty(5, 3) #一个5x3的张量\n",
        "print(x1)\n",
        "\n",
        "# 随机初始化张量\n",
        "x2 = torch.rand(5, 3)\n",
        "print(x2)\n",
        "\n",
        "# 在初始化张量时，有时需要指定数据类型：\n",
        "x3 = torch.zeros(5, 3, dtype=torch.long) #创建一个数据类型为long的\"0\"填充矩阵\n",
        "print(x3)\n",
        "\n",
        "# 如果已知一个矩阵，将其转化为张量加速计算\n",
        "x4 = torch.tensor([[1,2,3],[6,7,8]]) \n",
        "print(x4)"
      ],
      "execution_count": 4,
      "outputs": [
        {
          "output_type": "stream",
          "text": [
            "tensor([[-4.2279e+30,  3.0802e-41,  3.3631e-44],\n",
            "        [ 0.0000e+00,         nan,  0.0000e+00],\n",
            "        [ 1.1578e+27,  1.1362e+30,  7.1547e+22],\n",
            "        [ 4.5828e+30,  1.2121e+04,  7.1846e+22],\n",
            "        [ 9.2198e-39,  7.0374e+22,  0.0000e+00]])\n",
            "tensor([[0.3083, 0.2135, 0.3380],\n",
            "        [0.2926, 0.1158, 0.7822],\n",
            "        [0.9148, 0.4447, 0.5401],\n",
            "        [0.9438, 0.4919, 0.4529],\n",
            "        [0.1500, 0.7364, 0.8328]])\n",
            "tensor([[0, 0, 0],\n",
            "        [0, 0, 0],\n",
            "        [0, 0, 0],\n",
            "        [0, 0, 0],\n",
            "        [0, 0, 0]])\n",
            "tensor([[1, 2, 3],\n",
            "        [6, 7, 8]])\n"
          ],
          "name": "stdout"
        }
      ]
    },
    {
      "cell_type": "code",
      "metadata": {
        "colab": {
          "base_uri": "https://localhost:8080/"
        },
        "id": "aBQL0ZvouIbW",
        "outputId": "f7adabc4-a06a-49df-89ec-4834064d6ff7"
      },
      "source": [
        "# 获取size\n",
        "print(x4.size()) # 结果表示为两行三列"
      ],
      "execution_count": 5,
      "outputs": [
        {
          "output_type": "stream",
          "text": [
            "torch.Size([2, 3])\n"
          ],
          "name": "stdout"
        }
      ]
    },
    {
      "cell_type": "markdown",
      "metadata": {
        "id": "mfivPcEtj6xv"
      },
      "source": [
        "## Basic Product\n"
      ]
    },
    {
      "cell_type": "markdown",
      "metadata": {
        "id": "LhcpNne0v146"
      },
      "source": [
        "### 加法"
      ]
    },
    {
      "cell_type": "code",
      "metadata": {
        "colab": {
          "base_uri": "https://localhost:8080/"
        },
        "id": "8AEOQiMQk0C8",
        "outputId": "b361da8b-84c9-4f86-8cdf-2a1fc8804882"
      },
      "source": [
        "# 对于一个最简单的加法\n",
        "x = torch.rand(5, 3)\n",
        "y = torch.rand(5, 3)\n",
        "print (x+y)\n",
        "# 或者\n",
        "print (torch.add(x, y))\n",
        "\n",
        "# 对于torch.add(),有一个option可以将结果保存下来,但是首先需要将结果初始化\n",
        "result = torch.empty(5, 3)\n",
        "torch.add(x, y, out = result)\n",
        "print(\"result: \\n\",result)\n",
        "\n",
        "#特别值得注意的是，torch.add()函数只能对两个张量进行运算，当数量大于二的时候：\n",
        "y1 = torch.zeros(5, 3)\n",
        "y2 = torch.empty(5, 3)\n",
        "for i in range(0, 5):\n",
        "  xi = torch.rand(5, 3)\n",
        "  y1.add(xi)\n",
        "  y2.add(xi)\n",
        "\n",
        "print(\"y1\\n\",y1)\n",
        "print(\"y2\\n\",y2)\n",
        "# 结果显示在做加法的时候，由于empty张量会随机给一个值，所以应该使用\"zeros张量\""
      ],
      "execution_count": 6,
      "outputs": [
        {
          "output_type": "stream",
          "text": [
            "tensor([[0.9202, 1.0584, 1.4810],\n",
            "        [1.1046, 0.7690, 0.1293],\n",
            "        [0.9329, 0.5507, 1.4556],\n",
            "        [1.9064, 0.8618, 1.5797],\n",
            "        [0.9316, 0.6383, 1.1291]])\n",
            "tensor([[0.9202, 1.0584, 1.4810],\n",
            "        [1.1046, 0.7690, 0.1293],\n",
            "        [0.9329, 0.5507, 1.4556],\n",
            "        [1.9064, 0.8618, 1.5797],\n",
            "        [0.9316, 0.6383, 1.1291]])\n",
            "result: \n",
            " tensor([[0.9202, 1.0584, 1.4810],\n",
            "        [1.1046, 0.7690, 0.1293],\n",
            "        [0.9329, 0.5507, 1.4556],\n",
            "        [1.9064, 0.8618, 1.5797],\n",
            "        [0.9316, 0.6383, 1.1291]])\n",
            "y1\n",
            " tensor([[0., 0., 0.],\n",
            "        [0., 0., 0.],\n",
            "        [0., 0., 0.],\n",
            "        [0., 0., 0.],\n",
            "        [0., 0., 0.]])\n",
            "y2\n",
            " tensor([[-4.2281e+30,  3.0802e-41,  1.4810e+00],\n",
            "        [ 1.1046e+00,  7.6896e-01,  1.2933e-01],\n",
            "        [ 9.3293e-01,  5.5074e-01,  1.4556e+00],\n",
            "        [ 1.9064e+00,  8.6177e-01,  1.5797e+00],\n",
            "        [ 9.3164e-01,  6.3835e-01,  1.1291e+00]])\n"
          ],
          "name": "stdout"
        }
      ]
    },
    {
      "cell_type": "markdown",
      "metadata": {
        "id": "GnVEnYjsyuBR"
      },
      "source": [
        "### 乘法\n",
        "在矩阵中，乘法有点乘和叉乘两种，张量也有相对应的不同计算方法"
      ]
    },
    {
      "cell_type": "code",
      "metadata": {
        "colab": {
          "base_uri": "https://localhost:8080/"
        },
        "id": "a_Pe1mhsy9-b",
        "outputId": "19b331be-c2d8-4e4e-c840-fa5d0c3600b2"
      },
      "source": [
        "# 点乘\n",
        "x1 = torch.rand(5, 3)\n",
        "x2 = torch.rand(5, 3)\n",
        "y = torch.mul(x1, x2)# 类似与上文的add，在多个张量可以使用x1.mul(x2)\n",
        "print(\"x1:\\n\", x1, \"\\n x2:\\n\", x2, \"\\n y:\\n\",y)\n",
        "\n",
        "# 叉乘\n",
        "x1 = torch.rand(2, 3)\n",
        "x2 = torch.rand(3, 4)\n",
        "y = torch.mm(x1, x2)# 类似与上文的add，在多个张量可以使用x1.mm(x2)\n",
        "print(\"x1:\\n\", x1, \"\\nx2:\\n\", x2, \"\\ny:\\n\",y)"
      ],
      "execution_count": 7,
      "outputs": [
        {
          "output_type": "stream",
          "text": [
            "x1:\n",
            " tensor([[0.3840, 0.7472, 0.4305],\n",
            "        [0.4437, 0.0203, 0.9148],\n",
            "        [0.5343, 0.2222, 0.5724],\n",
            "        [0.7567, 0.8379, 0.1768],\n",
            "        [0.3121, 0.9952, 0.5416]]) \n",
            " x2:\n",
            " tensor([[0.0810, 0.4766, 0.3485],\n",
            "        [0.2339, 0.8681, 0.5443],\n",
            "        [0.3651, 0.5737, 0.6560],\n",
            "        [0.8699, 0.6703, 0.8695],\n",
            "        [0.4314, 0.9474, 0.4859]]) \n",
            " y:\n",
            " tensor([[0.0311, 0.3561, 0.1500],\n",
            "        [0.1038, 0.0176, 0.4980],\n",
            "        [0.1950, 0.1275, 0.3755],\n",
            "        [0.6583, 0.5616, 0.1537],\n",
            "        [0.1347, 0.9428, 0.2632]])\n",
            "x1:\n",
            " tensor([[0.0143, 0.9619, 0.2387],\n",
            "        [0.7477, 0.6897, 0.1568]]) \n",
            "x2:\n",
            " tensor([[0.6123, 0.1112, 0.6069, 0.2977],\n",
            "        [0.4341, 0.2125, 0.1959, 0.6867],\n",
            "        [0.1397, 0.1882, 0.2804, 0.9850]]) \n",
            "y:\n",
            " tensor([[0.4596, 0.2509, 0.2640, 0.8998],\n",
            "        [0.7791, 0.2593, 0.6328, 0.8506]])\n"
          ],
          "name": "stdout"
        }
      ]
    },
    {
      "cell_type": "markdown",
      "metadata": {
        "id": "B6mEi_L_58zQ"
      },
      "source": [
        "### Numpy中的对应与转化"
      ]
    },
    {
      "cell_type": "markdown",
      "metadata": {
        "id": "Aio6cWJ63gDh"
      },
      "source": [
        "#### 索引\n",
        "torch支持使用类似于Numpy中的索引对张量进行操作\n"
      ]
    },
    {
      "cell_type": "code",
      "metadata": {
        "colab": {
          "base_uri": "https://localhost:8080/"
        },
        "id": "NVOpdct03fK0",
        "outputId": "18d0fa75-e7e8-4892-b553-e2b941140786"
      },
      "source": [
        "x = torch.tensor([[1,2,3],[3,4,5]])\n",
        "print(x[:,0])\n",
        "print(x[1,:])"
      ],
      "execution_count": 8,
      "outputs": [
        {
          "output_type": "stream",
          "text": [
            "tensor([1, 3])\n",
            "tensor([3, 4, 5])\n"
          ],
          "name": "stdout"
        }
      ]
    },
    {
      "cell_type": "markdown",
      "metadata": {
        "id": "J3cygC_r5wiA"
      },
      "source": [
        "#### 在numpy中reshape对应"
      ]
    },
    {
      "cell_type": "code",
      "metadata": {
        "colab": {
          "base_uri": "https://localhost:8080/"
        },
        "id": "27uYpMdW6MbV",
        "outputId": "2b3e7b99-fde2-43fc-9762-30a0a6d85ea5"
      },
      "source": [
        "x = torch.randn(5, 3)\n",
        "y = x.view(3, 5)\n",
        "z = x.view(-1, 5) # 当选项中有一个-1时候，代表从另外一个维度考虑转化方式\n",
        "print(x)\n",
        "print(y)\n",
        "print(z)"
      ],
      "execution_count": 9,
      "outputs": [
        {
          "output_type": "stream",
          "text": [
            "tensor([[ 0.3404, -0.6423, -0.1727],\n",
            "        [-0.7653,  0.3765,  0.4161],\n",
            "        [ 1.5477,  0.2313,  1.4929],\n",
            "        [ 0.3766,  0.0797,  0.3642],\n",
            "        [-1.3204, -0.4306,  0.0147]])\n",
            "tensor([[ 0.3404, -0.6423, -0.1727, -0.7653,  0.3765],\n",
            "        [ 0.4161,  1.5477,  0.2313,  1.4929,  0.3766],\n",
            "        [ 0.0797,  0.3642, -1.3204, -0.4306,  0.0147]])\n",
            "tensor([[ 0.3404, -0.6423, -0.1727, -0.7653,  0.3765],\n",
            "        [ 0.4161,  1.5477,  0.2313,  1.4929,  0.3766],\n",
            "        [ 0.0797,  0.3642, -1.3204, -0.4306,  0.0147]])\n"
          ],
          "name": "stdout"
        }
      ]
    },
    {
      "cell_type": "markdown",
      "metadata": {
        "id": "4nJJsSoI84R5"
      },
      "source": [
        "### 覆盖操作\n",
        "任何以\"_\"结尾的函数（操作）都会替换原来的变量"
      ]
    },
    {
      "cell_type": "code",
      "metadata": {
        "colab": {
          "base_uri": "https://localhost:8080/"
        },
        "id": "wkXlm9j29Kal",
        "outputId": "8dc460c2-049b-429f-885c-f61995c34baa"
      },
      "source": [
        "x1 = torch.rand(5, 3)\n",
        "print(\"覆盖以前的x1:\\n\", x1)\n",
        "x2 = torch.rand(5, 3)\n",
        "y = x1.add_(x2)\n",
        "print(\"覆盖以后的x1:\\n\", x1)\n",
        "print(y)"
      ],
      "execution_count": 10,
      "outputs": [
        {
          "output_type": "stream",
          "text": [
            "覆盖以前的x1:\n",
            " tensor([[0.8036, 0.4045, 0.8086],\n",
            "        [0.4229, 0.6808, 0.4614],\n",
            "        [0.3564, 0.4612, 0.6289],\n",
            "        [0.2734, 0.3472, 0.9731],\n",
            "        [0.3873, 0.7231, 0.6686]])\n",
            "覆盖以后的x1:\n",
            " tensor([[1.4741, 1.2441, 1.2919],\n",
            "        [0.8659, 1.6525, 1.3207],\n",
            "        [0.4129, 0.7700, 0.8130],\n",
            "        [0.4030, 0.6786, 1.5688],\n",
            "        [1.1190, 0.9968, 0.8594]])\n",
            "tensor([[1.4741, 1.2441, 1.2919],\n",
            "        [0.8659, 1.6525, 1.3207],\n",
            "        [0.4129, 0.7700, 0.8130],\n",
            "        [0.4030, 0.6786, 1.5688],\n",
            "        [1.1190, 0.9968, 0.8594]])\n"
          ],
          "name": "stdout"
        }
      ]
    },
    {
      "cell_type": "markdown",
      "metadata": {
        "id": "JyRe1bB96GIy"
      },
      "source": [
        "可以看到x1的值发生了变化,但是和y的值是一样的<br>\n",
        "更多对于tensor的operation可以参考官方文档：https://pytorch.org/docs/stable/torch.html\n"
      ]
    },
    {
      "cell_type": "markdown",
      "metadata": {
        "id": "Jhf_3MDZk4Lt"
      },
      "source": [
        "## Cuda加速\n",
        "在这里我们先提出一个概念：\n",
        "为了计算加速，有一些数据可以被放入cuda中加速计算。<br>\n",
        "在这里我们先将tensor放入cuda中，第一步需要先判定是否有cuda(GPU)可以使用"
      ]
    },
    {
      "cell_type": "code",
      "metadata": {
        "colab": {
          "base_uri": "https://localhost:8080/"
        },
        "id": "OkSHA4gKlBAp",
        "outputId": "b658e64f-3d2d-4559-8b27-c00cbf4ebfa6"
      },
      "source": [
        "import torch\n",
        "x = torch.rand(5, 3)\n",
        "\n",
        "device = torch.device(\"cuda\" if torch.cuda.is_available() else \"cpu\")\n",
        "\n",
        "# 下面分别从cuda中直接生成tensor以及将tensor生成后放进cuda中\n",
        "x = x.to(device)\n",
        "y = torch.ones_like(x, device=device)\n",
        "z = x + y\n",
        "print(z)\n",
        "print(z.to(\"cpu\", torch.double))\n"
      ],
      "execution_count": 11,
      "outputs": [
        {
          "output_type": "stream",
          "text": [
            "tensor([[1.2875, 1.5176, 1.2816],\n",
            "        [1.0000, 1.8483, 1.3742],\n",
            "        [1.9357, 1.0182, 1.4467],\n",
            "        [1.3328, 1.2566, 1.1818],\n",
            "        [1.9008, 1.9553, 1.6145]])\n",
            "tensor([[1.2875, 1.5176, 1.2816],\n",
            "        [1.0000, 1.8483, 1.3742],\n",
            "        [1.9357, 1.0182, 1.4467],\n",
            "        [1.3328, 1.2566, 1.1818],\n",
            "        [1.9008, 1.9553, 1.6145]], dtype=torch.float64)\n"
          ],
          "name": "stdout"
        }
      ]
    },
    {
      "cell_type": "markdown",
      "metadata": {
        "id": "kx-3siwizYOp"
      },
      "source": [
        "# 神经网络训练\n",
        "对于一个神经网络而言，一般都会有\n",
        "\n",
        "1.   数据处理\n",
        "2.   定义网络\n",
        "3.   训练策略\n",
        "4.   可视化\n",
        "5.   Pre-train & Fine-Tune(可选) <br>\n",
        "\n",
        "这几个部分，接下来我们将逐一介绍\n",
        "\n"
      ]
    },
    {
      "cell_type": "markdown",
      "metadata": {
        "id": "6S6iMV6lzhnI"
      },
      "source": [
        "## 数据处理\n"
      ]
    },
    {
      "cell_type": "markdown",
      "metadata": {
        "id": "EPYyc6wy_AWE"
      },
      "source": [
        "### 数据加载"
      ]
    },
    {
      "cell_type": "markdown",
      "metadata": {
        "id": "LgQ27Wk5ADLk"
      },
      "source": [
        "在进行对比实验时，经常需要公用数据集，torch内置了几个常用数据集包括：\n",
        "\n",
        "* MNIST\n",
        "* ImageNet\n",
        "* COCO\n",
        "* CIFAR <br>\n",
        "\n",
        "等等....<br>\n",
        "我们只需要调用torchvision中的torchvision.datasets就可以使用它，他的安装方式是：\n",
        "\n",
        "\n",
        "```\n",
        "pip install torchvision\n",
        "```\n",
        "torchvision.datasets 可以理解为PyTorch团队自定义的dataset，这些dataset帮我们提前处理好了很多的图片数据集，我们拿来就可以直接使用,具体使用方式如下：\n",
        "\n",
        "\n",
        "\n"
      ]
    },
    {
      "cell_type": "code",
      "metadata": {
        "id": "MbebLkcDAEX_",
        "colab": {
          "base_uri": "https://localhost:8080/",
          "height": 692,
          "referenced_widgets": [
            "4ba933a2a222477390472ca78da856df",
            "4efe4b157d6441f6abb8587a772329a3",
            "ff5e4906cfbd43b98725ebecfdf223f5",
            "69f5476d70434019b5a721b9a79c1773",
            "db8f178614eb4b5889078082c08cf0cb",
            "f08202886aa140fea991f50db0421027",
            "38cd1e3f736c461684c9d6278f2fa383",
            "751882f837714a2b81f0e8c3962aedcc",
            "f49d1b20c12049bda5efe16a733508fc",
            "03f12d6218ca48cb8cec345f2ed780b4",
            "c119a99d06334d128bf305c1495ad99a",
            "9e7ba3aaca9049fbba316e04944ba48e",
            "008d2467c6ee44c29b8eccf58874fba6",
            "593d5f399ce64f6ca8dfa29e2a70cbfb",
            "08ff397ad7ae4a6892976b30b169e7ea",
            "1feadb17da894e3b8fe7c78929f4b0df",
            "4a78d6b7e8a9410f90cca2785188008c",
            "ca5703577db1409785b0f0ac58c24401",
            "85795da19b1b48a7b67731ca74bbaef4",
            "6d18123e3c864df89644e70b1d0efe0d",
            "7e9afc94567346e4aad01a5c582e323f",
            "4eb5ac98325d439cbd070d1832b08b0d",
            "76e1b11ae043469a88d3cadad113312a",
            "95eabed10df34fc49a5242c645647f1c",
            "cd601c44a97a4cc49338b4daa3957ab5",
            "9ebb2f950d8b4ca9be42c0a26a18d2bc",
            "6f9aa51737c24fd089358e03a9bd9a58",
            "d82855749e9142789a1032d6ccd4062f",
            "82ecf0be3e9a4218a137c6ecfd969517",
            "6f628149c3fd4d31a2a2e2f1d457602d",
            "c70260ec3bc547379c455005ad3592cb",
            "1d1fc8d05ebb4a5d8e991b656a6b83da"
          ]
        },
        "outputId": "79a7b9b9-3459-4d59-f4dc-4f4a9de26d00"
      },
      "source": [
        "import torchvision.datasets as datasets\n",
        "\n",
        "trainset = datasets.MNIST(root=\"./data\",\n",
        "              train=True,# True为训练集，False为测试集\n",
        "              download=True, #表示是否需要下载数据集\n",
        "              transform=None) #是否对其进行数据增广\n",
        "validset = datasets.MNIST(root=\"./data\", train=True, download=False, transform=None)        "
      ],
      "execution_count": 12,
      "outputs": [
        {
          "output_type": "stream",
          "text": [
            "Downloading http://yann.lecun.com/exdb/mnist/train-images-idx3-ubyte.gz\n",
            "Downloading http://yann.lecun.com/exdb/mnist/train-images-idx3-ubyte.gz to ./data/MNIST/raw/train-images-idx3-ubyte.gz\n"
          ],
          "name": "stdout"
        },
        {
          "output_type": "display_data",
          "data": {
            "application/vnd.jupyter.widget-view+json": {
              "model_id": "4ba933a2a222477390472ca78da856df",
              "version_minor": 0,
              "version_major": 2
            },
            "text/plain": [
              "HBox(children=(FloatProgress(value=0.0, max=9912422.0), HTML(value='')))"
            ]
          },
          "metadata": {
            "tags": []
          }
        },
        {
          "output_type": "stream",
          "text": [
            "\n",
            "Extracting ./data/MNIST/raw/train-images-idx3-ubyte.gz to ./data/MNIST/raw\n",
            "\n",
            "Downloading http://yann.lecun.com/exdb/mnist/train-labels-idx1-ubyte.gz\n",
            "Downloading http://yann.lecun.com/exdb/mnist/train-labels-idx1-ubyte.gz to ./data/MNIST/raw/train-labels-idx1-ubyte.gz\n"
          ],
          "name": "stdout"
        },
        {
          "output_type": "display_data",
          "data": {
            "application/vnd.jupyter.widget-view+json": {
              "model_id": "f49d1b20c12049bda5efe16a733508fc",
              "version_minor": 0,
              "version_major": 2
            },
            "text/plain": [
              "HBox(children=(FloatProgress(value=0.0, max=28881.0), HTML(value='')))"
            ]
          },
          "metadata": {
            "tags": []
          }
        },
        {
          "output_type": "stream",
          "text": [
            "\n",
            "Extracting ./data/MNIST/raw/train-labels-idx1-ubyte.gz to ./data/MNIST/raw\n",
            "\n",
            "Downloading http://yann.lecun.com/exdb/mnist/t10k-images-idx3-ubyte.gz\n",
            "Downloading http://yann.lecun.com/exdb/mnist/t10k-images-idx3-ubyte.gz to ./data/MNIST/raw/t10k-images-idx3-ubyte.gz\n",
            "Failed to download (trying next):\n",
            "HTTP Error 503: Service Unavailable\n",
            "\n",
            "Downloading https://ossci-datasets.s3.amazonaws.com/mnist/t10k-images-idx3-ubyte.gz\n",
            "Downloading https://ossci-datasets.s3.amazonaws.com/mnist/t10k-images-idx3-ubyte.gz to ./data/MNIST/raw/t10k-images-idx3-ubyte.gz\n"
          ],
          "name": "stdout"
        },
        {
          "output_type": "display_data",
          "data": {
            "application/vnd.jupyter.widget-view+json": {
              "model_id": "4a78d6b7e8a9410f90cca2785188008c",
              "version_minor": 0,
              "version_major": 2
            },
            "text/plain": [
              "HBox(children=(FloatProgress(value=0.0, max=1648877.0), HTML(value='')))"
            ]
          },
          "metadata": {
            "tags": []
          }
        },
        {
          "output_type": "stream",
          "text": [
            "\n",
            "Extracting ./data/MNIST/raw/t10k-images-idx3-ubyte.gz to ./data/MNIST/raw\n",
            "\n",
            "Downloading http://yann.lecun.com/exdb/mnist/t10k-labels-idx1-ubyte.gz\n",
            "Downloading http://yann.lecun.com/exdb/mnist/t10k-labels-idx1-ubyte.gz to ./data/MNIST/raw/t10k-labels-idx1-ubyte.gz\n"
          ],
          "name": "stdout"
        },
        {
          "output_type": "display_data",
          "data": {
            "application/vnd.jupyter.widget-view+json": {
              "model_id": "cd601c44a97a4cc49338b4daa3957ab5",
              "version_minor": 0,
              "version_major": 2
            },
            "text/plain": [
              "HBox(children=(FloatProgress(value=0.0, max=4542.0), HTML(value='')))"
            ]
          },
          "metadata": {
            "tags": []
          }
        },
        {
          "output_type": "stream",
          "text": [
            "\n",
            "Extracting ./data/MNIST/raw/t10k-labels-idx1-ubyte.gz to ./data/MNIST/raw\n",
            "\n",
            "Processing...\n",
            "Done!\n"
          ],
          "name": "stdout"
        },
        {
          "output_type": "stream",
          "text": [
            "/usr/local/lib/python3.7/dist-packages/torchvision/datasets/mnist.py:502: UserWarning: The given NumPy array is not writeable, and PyTorch does not support non-writeable tensors. This means you can write to the underlying (supposedly non-writeable) NumPy array using the tensor. You may want to copy the array to protect its data or make it writeable before converting it to a tensor. This type of warning will be suppressed for the rest of this program. (Triggered internally at  /pytorch/torch/csrc/utils/tensor_numpy.cpp:143.)\n",
            "  return torch.from_numpy(parsed.astype(m[2], copy=False)).view(*s)\n"
          ],
          "name": "stderr"
        }
      ]
    },
    {
      "cell_type": "markdown",
      "metadata": {
        "id": "emzhThi3CL6l"
      },
      "source": [
        "在很多时候，我们也需要自定义数据集去完成我们需要的任务，接下来介绍如何进行操作"
      ]
    },
    {
      "cell_type": "markdown",
      "metadata": {
        "id": "gu6QgsKmXXR9"
      },
      "source": [
        "在Pytorch中为了便于调用函数（因为通常在文件过大的时候会将不同部分拆分成为几个python脚本），我们通常需要声明类。对于数据加载的类编写方式如下：其主要分为两步：1. 数据集定义 2. 数据加载器 <br>\n",
        "注：为了方便起见，使用kaggle上的[bluebook for bulldozers](https://www.kaggle.com/c/bluebook-for-bulldozers/data)举例"
      ]
    },
    {
      "cell_type": "code",
      "metadata": {
        "id": "57gyXGg0XRFK"
      },
      "source": [
        ""
      ],
      "execution_count": 12,
      "outputs": []
    },
    {
      "cell_type": "markdown",
      "metadata": {
        "id": "_VKnbJy7_Cq_"
      },
      "source": [
        "### 数据预处理\n",
        "一般来说，即便是对于ImageNet这样大型数据集也需要进行数据增广(data augementation)，在torchvision中的transforms模块内置了大量的操作，这里我们只进行简单举例，更多可以访问transforms操作文件。\n"
      ]
    },
    {
      "cell_type": "code",
      "metadata": {
        "id": "MOrSnzv0bozY"
      },
      "source": [
        "from torchvision import transforms\n",
        "transform = transforms.Compose([\n",
        "    transforms.RandomCrop(32, padding=4),  #先四周填充0，在把图像随机裁剪成32*32\n",
        "    transforms.RandomHorizontalFlip(),  #图像一半的概率翻转，一半的概率不翻转\n",
        "    transforms.RandomRotation((-45,45)), #随机旋转\n",
        "    transforms.ToTensor(),\n",
        "    transforms.Normalize((0.1307,), (0.3081,)), #R,G,B每层的归一化用到的均值和方差\n",
        "])\n",
        "\n"
      ],
      "execution_count": 13,
      "outputs": []
    },
    {
      "cell_type": "markdown",
      "metadata": {
        "id": "fnpQfXllbqog"
      },
      "source": [
        "接下来我们只需要对数据数据加载部分进行简单修改即可"
      ]
    },
    {
      "cell_type": "code",
      "metadata": {
        "id": "byDfMqSmboxk"
      },
      "source": [
        "trainset = datasets.MNIST(root=\"./data\", train=True, download=False, transform= transform)  "
      ],
      "execution_count": 14,
      "outputs": []
    },
    {
      "cell_type": "markdown",
      "metadata": {
        "id": "_GBlvogEdHZ0"
      },
      "source": [
        "由于Pytorch中以及包含了MNIST数据集，也可以直接使用DataLoader对数据进行读取。\n"
      ]
    },
    {
      "cell_type": "code",
      "metadata": {
        "id": "09B_Qf93dYli"
      },
      "source": [
        "\n",
        "train_loader = torch.utils.data.DataLoader(\n",
        "        datasets.MNIST('./data', train=True, download=True, \n",
        "                       transform=transforms.Compose([\n",
        "                           transforms.ToTensor(),# 将读取的数据转化为张量方便计算\n",
        "                           transforms.Normalize((0.1307,), (0.3081,))#这一部分来源于前人根据这个数据集获得的标准化参数，不同的数据集不同\n",
        "                       ])),\n",
        "                       \n",
        "        batch_size=512, #这里的batch_size将在下文的训练策略中详细介绍\n",
        "        shuffle=True)"
      ],
      "execution_count": 15,
      "outputs": []
    },
    {
      "cell_type": "code",
      "metadata": {
        "id": "Afvjdl8yhSlO"
      },
      "source": [
        "test_loader = torch.utils.data.DataLoader(\n",
        "        datasets.MNIST('data', train=False, transform=transforms.Compose([\n",
        "                           transforms.ToTensor(), \n",
        "                           transforms.Normalize((0.1307,), (0.3081,))])), \n",
        "        batch_size=512, shuffle=True)"
      ],
      "execution_count": 16,
      "outputs": []
    },
    {
      "cell_type": "markdown",
      "metadata": {
        "id": "AeZjrn1RzjuG"
      },
      "source": [
        "## 定义网络"
      ]
    },
    {
      "cell_type": "markdown",
      "metadata": {
        "id": "X1Dwet6scTGI"
      },
      "source": [
        "正如上文对数据调用时声明类一样，建议使用类定义网网络：                                                          \n",
        "\n"
      ]
    },
    {
      "cell_type": "code",
      "metadata": {
        "id": "xR_niT3Fl7Lr"
      },
      "source": [
        "import torch\n",
        "import torch.nn as nn # 定义网络\n",
        "import torch.nn.functional as F #网络中的操作，如卷积、padding通常在这个里面"
      ],
      "execution_count": 17,
      "outputs": []
    },
    {
      "cell_type": "code",
      "metadata": {
        "id": "1LenDw2tkjXq"
      },
      "source": [
        "class ConvNet(nn.Module):\n",
        "    def __init__(self):\n",
        "        super().__init__()\n",
        "        # batch*1*28*28（每次会送入batch个样本，输入通道数1（黑白图像），图像分辨率是28x28）\n",
        "        # 下面的卷积层Conv2d的第一个参数指输入通道数，第二个参数指输出通道数，第三个参数指卷积核的大小\n",
        "        self.conv1 = nn.Conv2d(1, 10, 5) # 输入通道数1，输出通道数10，核的大小5\n",
        "        self.conv2 = nn.Conv2d(10, 20, 3) # 输入通道数10，输出通道数20，核的大小3\n",
        "        # 下面的全连接层Linear的第一个参数指输入通道数，第二个参数指输出通道数\n",
        "        self.fc1 = nn.Linear(20*10*10, 500) # 输入通道数是2000，输出通道数是500\n",
        "        self.fc2 = nn.Linear(500, 10) # 输入通道数是500，输出通道数是10，即10分类\n",
        "    def forward(self,x):\n",
        "        in_size = x.size(0) # 在本例中in_size=512，也就是BATCH_SIZE的值。输入的x可以看成是512*1*28*28的张量。\n",
        "        x = self.conv1(x) # batch*1*28*28 -> batch*10*24*24（28x28的图像经过一次核为5x5的卷积，输出变为24x24）\n",
        "        x = F.relu(x) # batch*10*24*24（激活函数ReLU不改变形状））\n",
        "        x = F.max_pool2d(x, 2, 2) # batch*10*24*24 -> batch*10*12*12（2*2的池化层会减半）\n",
        "        x = self.conv2(x) # batch*10*12*12 -> batch*20*10*10（再卷积一次，核的大小是3）\n",
        "        x = F.relu(x) # batch*20*10*10\n",
        "        x = x.view(in_size, -1) # batch*20*10*10 -> batch*2000（out的第二维是-1，说明是自动推算，本例中第二维是20*10*10）\n",
        "        x = self.fc1(x) # batch*2000 -> batch*500\n",
        "        x = F.relu(x) # batch*500\n",
        "        x = self.fc2(x) # batch*500 -> batch*10\n",
        "        x = F.log_softmax(x, dim=1) # 计算log(softmax(x))\n",
        "        return x"
      ],
      "execution_count": 18,
      "outputs": []
    },
    {
      "cell_type": "markdown",
      "metadata": {
        "id": "qiiRD2Kexkzv"
      },
      "source": [
        "正如上文所说的，tensor放入cuda中可以加速运算，这里也适用"
      ]
    },
    {
      "cell_type": "code",
      "metadata": {
        "colab": {
          "base_uri": "https://localhost:8080/"
        },
        "id": "8hNdGrXHxjp2",
        "outputId": "cf01d4f9-ecb2-4227-b26a-d8cacb38e137"
      },
      "source": [
        "# 依然按照上文的方法来判断是否有cuda可以使用\n",
        "device = torch.device(\"cuda\" if torch.cuda.is_available() else \"cpu\")\n",
        "model = ConvNet().to(device)\n",
        "print(model)"
      ],
      "execution_count": 19,
      "outputs": [
        {
          "output_type": "stream",
          "text": [
            "ConvNet(\n",
            "  (conv1): Conv2d(1, 10, kernel_size=(5, 5), stride=(1, 1))\n",
            "  (conv2): Conv2d(10, 20, kernel_size=(3, 3), stride=(1, 1))\n",
            "  (fc1): Linear(in_features=2000, out_features=500, bias=True)\n",
            "  (fc2): Linear(in_features=500, out_features=10, bias=True)\n",
            ")\n"
          ],
          "name": "stdout"
        }
      ]
    },
    {
      "cell_type": "markdown",
      "metadata": {
        "id": "ZlbYhHHFz5VG"
      },
      "source": [
        "很多情况下，我们需要分析模型的复杂度，需要通过查看模型的参数个数来看.另外需要查看学习的参数和名称<br>\n",
        "注意，在部分程序中，有人会将定义好的神经网络存储到net中，这是这个net是一个类，parameters这个函数必须跟一个类，而不是一个函数名名称\n",
        "比方说这里ConvNet.parametrics()就是错误的，因为ConvNet()才是一个类。\n",
        "但是如果使用net = ConvNet()定义以后，就可以使用：net.parameters()。\n",
        "建议用net=CovNet()定义，方便代码的阅读以及后续训练"
      ]
    },
    {
      "cell_type": "code",
      "metadata": {
        "id": "Rz6Ng7Xiz4wu",
        "colab": {
          "base_uri": "https://localhost:8080/"
        },
        "outputId": "9ed1e5df-7210-4d62-d171-538344442974"
      },
      "source": [
        "for parameters in ConvNet().parameters(): \n",
        "    print(parameters)"
      ],
      "execution_count": 20,
      "outputs": [
        {
          "output_type": "stream",
          "text": [
            "Parameter containing:\n",
            "tensor([[[[-0.1914, -0.1217, -0.0173,  0.0741,  0.0442],\n",
            "          [ 0.0821, -0.0502,  0.0687,  0.1917,  0.0723],\n",
            "          [ 0.0545, -0.1408,  0.1174,  0.1725,  0.0407],\n",
            "          [-0.1346, -0.1166,  0.0604,  0.0214,  0.1584],\n",
            "          [ 0.0992, -0.1549,  0.0307, -0.0323,  0.0242]]],\n",
            "\n",
            "\n",
            "        [[[ 0.0354,  0.1115,  0.1179,  0.1330,  0.0311],\n",
            "          [-0.0581, -0.0527, -0.1939,  0.0897,  0.0796],\n",
            "          [-0.0362, -0.0905, -0.0454,  0.0312, -0.1955],\n",
            "          [ 0.0055,  0.0554, -0.0812, -0.1768,  0.1712],\n",
            "          [-0.0742,  0.1683,  0.0672,  0.0931, -0.1190]]],\n",
            "\n",
            "\n",
            "        [[[ 0.1064,  0.1040,  0.1535,  0.0115, -0.0023],\n",
            "          [-0.1331,  0.1263, -0.1416, -0.0816, -0.0939],\n",
            "          [-0.0047,  0.1017, -0.0757,  0.0934,  0.0693],\n",
            "          [ 0.1590, -0.0433, -0.1663,  0.0893,  0.1021],\n",
            "          [-0.1922,  0.0750, -0.0122, -0.1602, -0.1916]]],\n",
            "\n",
            "\n",
            "        [[[-0.0194,  0.0230,  0.1193, -0.0187, -0.1489],\n",
            "          [-0.1563, -0.0400,  0.0719,  0.0996,  0.0811],\n",
            "          [-0.0083, -0.1717, -0.0214, -0.0436, -0.1932],\n",
            "          [ 0.0775, -0.1272, -0.1059, -0.0571, -0.0842],\n",
            "          [-0.0302, -0.0631, -0.0893, -0.1548, -0.0872]]],\n",
            "\n",
            "\n",
            "        [[[-0.0742,  0.0980,  0.1747,  0.1507,  0.0188],\n",
            "          [ 0.1687, -0.0559,  0.1075, -0.0299, -0.1235],\n",
            "          [ 0.1745, -0.0886,  0.1925,  0.0917, -0.1461],\n",
            "          [-0.1467,  0.0402,  0.0580,  0.1475,  0.1885],\n",
            "          [-0.1095,  0.0811,  0.1310, -0.1398,  0.1118]]],\n",
            "\n",
            "\n",
            "        [[[-0.0983,  0.0339,  0.0235,  0.1029,  0.0796],\n",
            "          [-0.1416,  0.0400,  0.1894, -0.1893,  0.0741],\n",
            "          [ 0.1103, -0.1369, -0.1789, -0.1180, -0.0418],\n",
            "          [ 0.0085,  0.1634,  0.1135,  0.1585,  0.0016],\n",
            "          [-0.0223,  0.0705, -0.0208,  0.1762,  0.0426]]],\n",
            "\n",
            "\n",
            "        [[[ 0.1483, -0.1434,  0.1610,  0.0258,  0.0825],\n",
            "          [ 0.0712,  0.1652, -0.0102, -0.1498, -0.1351],\n",
            "          [-0.0952,  0.1222,  0.0179,  0.0782, -0.1019],\n",
            "          [-0.1553,  0.1399, -0.1983,  0.0231, -0.1248],\n",
            "          [-0.1183,  0.0908, -0.1419, -0.0732,  0.1983]]],\n",
            "\n",
            "\n",
            "        [[[ 0.1854, -0.0136, -0.1654, -0.0997,  0.0316],\n",
            "          [-0.0298,  0.0941,  0.1488,  0.0758, -0.1194],\n",
            "          [-0.0279,  0.0845,  0.1875,  0.1442,  0.0221],\n",
            "          [ 0.1401, -0.1742,  0.0262,  0.1743, -0.0333],\n",
            "          [-0.1282,  0.1634,  0.1577,  0.0613, -0.1940]]],\n",
            "\n",
            "\n",
            "        [[[ 0.1993, -0.0214, -0.0903,  0.0950,  0.1951],\n",
            "          [ 0.0878,  0.0454, -0.0860, -0.0836, -0.0565],\n",
            "          [-0.1887, -0.0920,  0.1002, -0.1616,  0.1817],\n",
            "          [-0.0322,  0.0237, -0.0195, -0.1293,  0.1168],\n",
            "          [ 0.0663,  0.0178,  0.0384, -0.0358, -0.1803]]],\n",
            "\n",
            "\n",
            "        [[[ 0.0188,  0.1946, -0.0248,  0.1648, -0.1605],\n",
            "          [-0.1793,  0.1339, -0.0436,  0.0030,  0.0903],\n",
            "          [-0.0204,  0.1625, -0.1894,  0.1995, -0.1650],\n",
            "          [-0.0186,  0.0171, -0.1888,  0.1568,  0.1028],\n",
            "          [-0.0159,  0.1121, -0.1660,  0.0593, -0.1116]]]], requires_grad=True)\n",
            "Parameter containing:\n",
            "tensor([-0.1481, -0.0067,  0.0220,  0.0086, -0.1692,  0.0529, -0.1734, -0.0214,\n",
            "        -0.0465, -0.0683], requires_grad=True)\n",
            "Parameter containing:\n",
            "tensor([[[[ 8.8783e-02, -8.8708e-04, -7.9227e-02],\n",
            "          [-1.0209e-01, -8.9643e-02,  5.8871e-02],\n",
            "          [ 6.5246e-03,  2.4731e-02,  6.0000e-02]],\n",
            "\n",
            "         [[-6.1830e-03, -7.5526e-02,  3.1346e-02],\n",
            "          [ 2.7506e-05,  6.6344e-02,  6.1308e-02],\n",
            "          [ 6.2815e-02,  2.7429e-02, -3.7529e-02]],\n",
            "\n",
            "         [[ 1.1359e-02, -3.7305e-02,  6.8279e-02],\n",
            "          [ 4.3797e-02,  3.9418e-02,  8.7547e-02],\n",
            "          [ 1.8237e-02, -9.0033e-02, -4.6120e-02]],\n",
            "\n",
            "         ...,\n",
            "\n",
            "         [[-5.5224e-02, -9.4168e-02, -1.9241e-02],\n",
            "          [-7.3001e-02, -6.4275e-03,  8.9396e-02],\n",
            "          [ 1.3808e-02,  8.6233e-02,  1.5395e-02]],\n",
            "\n",
            "         [[-5.9854e-02, -9.5951e-02,  1.0331e-01],\n",
            "          [ 9.4621e-02, -8.2150e-02, -9.3326e-02],\n",
            "          [ 3.5646e-02, -9.9436e-02, -5.8452e-02]],\n",
            "\n",
            "         [[-7.2693e-03,  6.6243e-03,  1.9263e-02],\n",
            "          [ 4.8631e-02, -1.0041e-01, -1.6342e-02],\n",
            "          [ 9.9366e-02, -1.0437e-01, -4.8158e-02]]],\n",
            "\n",
            "\n",
            "        [[[ 4.7883e-02, -4.5798e-03, -9.3036e-02],\n",
            "          [ 2.7521e-02,  8.5014e-02, -6.1562e-02],\n",
            "          [ 6.9939e-02, -7.5748e-02, -5.1705e-02]],\n",
            "\n",
            "         [[ 6.7113e-02,  2.8045e-02, -1.3573e-02],\n",
            "          [ 8.3932e-03, -8.4110e-02, -4.7569e-02],\n",
            "          [-8.8118e-02, -6.6951e-02, -6.9520e-02]],\n",
            "\n",
            "         [[-3.0906e-02,  8.1692e-02,  6.7773e-02],\n",
            "          [-5.8017e-02, -7.2166e-02,  8.8965e-02],\n",
            "          [ 3.8782e-02, -9.4303e-02,  2.7889e-02]],\n",
            "\n",
            "         ...,\n",
            "\n",
            "         [[-1.6981e-02,  6.3720e-02,  4.5312e-02],\n",
            "          [ 7.4110e-02, -5.2356e-02,  8.9974e-02],\n",
            "          [ 2.7254e-02, -6.8482e-02,  5.9931e-03]],\n",
            "\n",
            "         [[ 5.5582e-02, -4.6441e-02,  3.8699e-02],\n",
            "          [ 5.1313e-02, -9.8898e-03,  4.1943e-02],\n",
            "          [-3.5202e-03,  6.5126e-02, -9.9483e-02]],\n",
            "\n",
            "         [[-4.5277e-02, -6.4186e-02, -2.9167e-02],\n",
            "          [ 2.5390e-02, -1.7629e-02, -2.0265e-02],\n",
            "          [ 4.9134e-02,  9.0089e-03,  4.5288e-02]]],\n",
            "\n",
            "\n",
            "        [[[-1.6838e-02, -1.8382e-02,  1.7262e-02],\n",
            "          [ 2.7556e-02,  7.4410e-02,  1.5919e-02],\n",
            "          [-5.6861e-02, -2.9457e-02,  1.0266e-01]],\n",
            "\n",
            "         [[ 2.7114e-02, -7.7749e-02,  1.1633e-02],\n",
            "          [-3.0949e-02, -9.0886e-02,  4.1108e-02],\n",
            "          [ 9.9717e-02,  6.5145e-02, -7.1033e-02]],\n",
            "\n",
            "         [[-3.4768e-02,  2.1537e-02,  2.0606e-02],\n",
            "          [ 1.0344e-01,  6.4948e-02, -5.7986e-02],\n",
            "          [ 2.8054e-02, -5.6683e-02,  8.7754e-02]],\n",
            "\n",
            "         ...,\n",
            "\n",
            "         [[ 7.5276e-04, -8.9729e-02,  4.7907e-02],\n",
            "          [-6.5366e-02, -1.1396e-02,  4.9387e-02],\n",
            "          [ 3.2780e-02, -7.1289e-02,  1.4138e-02]],\n",
            "\n",
            "         [[ 2.7623e-02,  9.4131e-02,  6.2903e-02],\n",
            "          [-6.6335e-02,  8.3668e-02, -6.3036e-02],\n",
            "          [-9.9554e-02, -5.8636e-02,  5.3467e-02]],\n",
            "\n",
            "         [[-4.6035e-02, -8.2149e-03,  9.1573e-03],\n",
            "          [-9.3704e-02, -6.9976e-02, -3.2154e-02],\n",
            "          [-2.2854e-02,  5.7707e-02,  6.1888e-02]]],\n",
            "\n",
            "\n",
            "        ...,\n",
            "\n",
            "\n",
            "        [[[-5.7944e-03, -3.8592e-02, -4.7707e-02],\n",
            "          [-2.2558e-02, -1.0214e-01,  7.8121e-02],\n",
            "          [ 1.6626e-02,  6.3004e-02,  1.9299e-02]],\n",
            "\n",
            "         [[-8.6036e-02, -8.5819e-02, -2.0202e-02],\n",
            "          [-1.9522e-02,  6.6882e-03,  3.8611e-02],\n",
            "          [-9.5122e-02, -9.2572e-02, -7.4714e-02]],\n",
            "\n",
            "         [[-2.1230e-02, -2.2979e-02, -3.4085e-02],\n",
            "          [-8.6891e-02, -1.5894e-02,  7.5802e-02],\n",
            "          [-1.4158e-02,  9.8099e-02, -6.9492e-02]],\n",
            "\n",
            "         ...,\n",
            "\n",
            "         [[-6.5239e-02,  8.9265e-02, -4.5106e-02],\n",
            "          [ 7.3672e-02,  2.2556e-02,  4.8430e-02],\n",
            "          [-1.9648e-02, -7.7201e-02,  3.3790e-02]],\n",
            "\n",
            "         [[-2.1178e-02,  1.9731e-02, -9.1259e-02],\n",
            "          [-7.9630e-02, -9.3953e-02, -2.4752e-02],\n",
            "          [-5.1828e-02, -5.3223e-02, -3.8238e-02]],\n",
            "\n",
            "         [[-7.3664e-02, -5.7411e-02,  3.4822e-02],\n",
            "          [ 8.2563e-02, -9.5136e-02,  8.1739e-02],\n",
            "          [ 2.2892e-02,  2.2867e-02, -1.0098e-01]]],\n",
            "\n",
            "\n",
            "        [[[-3.0028e-02,  5.6156e-02,  8.5309e-02],\n",
            "          [ 4.6044e-02,  4.9309e-02, -4.8951e-02],\n",
            "          [ 6.5357e-02,  6.2002e-02, -7.4220e-02]],\n",
            "\n",
            "         [[-3.9074e-02,  9.6703e-02,  7.6815e-02],\n",
            "          [-9.3211e-02, -9.3027e-02,  4.1724e-02],\n",
            "          [-2.4045e-02,  9.7595e-02, -2.8643e-02]],\n",
            "\n",
            "         [[ 2.8937e-02,  7.5435e-02, -1.8676e-03],\n",
            "          [ 4.6392e-02,  7.0337e-02, -4.0085e-02],\n",
            "          [-8.2380e-02, -8.8834e-02, -8.1891e-03]],\n",
            "\n",
            "         ...,\n",
            "\n",
            "         [[ 1.5878e-03, -5.4601e-02,  2.0928e-02],\n",
            "          [ 9.6236e-02,  9.4948e-03,  5.0425e-04],\n",
            "          [-5.6977e-02,  3.2928e-02,  5.0067e-04]],\n",
            "\n",
            "         [[-7.5076e-02, -8.8553e-02,  2.4906e-02],\n",
            "          [ 3.6357e-02, -1.6991e-02,  4.4595e-02],\n",
            "          [-3.9213e-02, -1.0361e-01, -2.1477e-02]],\n",
            "\n",
            "         [[-4.7833e-02, -5.5785e-02, -5.9397e-02],\n",
            "          [ 5.4771e-02, -2.2403e-02, -4.9077e-02],\n",
            "          [-1.0995e-02, -8.9026e-02,  1.0234e-02]]],\n",
            "\n",
            "\n",
            "        [[[ 1.0166e-01, -1.0296e-01, -8.9930e-02],\n",
            "          [ 8.8943e-02, -6.2934e-02, -1.7328e-02],\n",
            "          [ 7.4960e-02, -9.7684e-02, -9.3130e-02]],\n",
            "\n",
            "         [[ 9.2547e-02, -7.6853e-02,  2.9618e-02],\n",
            "          [ 3.6387e-02,  9.4350e-02,  6.8793e-02],\n",
            "          [ 3.2342e-02,  6.4059e-03, -7.6292e-02]],\n",
            "\n",
            "         [[-3.2636e-02, -1.9341e-02, -7.6146e-02],\n",
            "          [-1.1854e-02, -8.6636e-02,  4.9136e-02],\n",
            "          [ 8.5916e-02,  6.4639e-02, -3.1136e-02]],\n",
            "\n",
            "         ...,\n",
            "\n",
            "         [[ 8.2262e-04, -5.5564e-02,  1.7901e-02],\n",
            "          [-2.3536e-02,  8.2813e-04,  2.8434e-02],\n",
            "          [-9.5378e-02,  3.3896e-02, -8.1334e-02]],\n",
            "\n",
            "         [[-9.4030e-02, -7.8041e-02, -3.0511e-02],\n",
            "          [ 5.7858e-02,  9.0297e-02,  2.3383e-02],\n",
            "          [-3.5018e-02,  2.5190e-02, -3.0935e-02]],\n",
            "\n",
            "         [[-4.5164e-02,  1.5466e-02,  4.7439e-03],\n",
            "          [-2.8990e-02, -8.6560e-02, -1.5252e-02],\n",
            "          [-6.6117e-02, -5.9124e-02,  2.3368e-02]]]], requires_grad=True)\n",
            "Parameter containing:\n",
            "tensor([ 0.0196, -0.0289, -0.0087,  0.0020,  0.0992, -0.0488, -0.0121, -0.0753,\n",
            "         0.0338,  0.0857, -0.0035, -0.0349, -0.0287, -0.0466, -0.0824,  0.0519,\n",
            "        -0.0488,  0.0897, -0.0511, -0.0911], requires_grad=True)\n",
            "Parameter containing:\n",
            "tensor([[-0.0189, -0.0193,  0.0095,  ..., -0.0084,  0.0109,  0.0203],\n",
            "        [-0.0131,  0.0123,  0.0076,  ...,  0.0151,  0.0021, -0.0114],\n",
            "        [ 0.0104,  0.0069,  0.0028,  ...,  0.0010,  0.0180,  0.0083],\n",
            "        ...,\n",
            "        [ 0.0172, -0.0146, -0.0159,  ...,  0.0002, -0.0154, -0.0092],\n",
            "        [ 0.0160,  0.0124,  0.0033,  ..., -0.0188, -0.0213,  0.0074],\n",
            "        [-0.0014,  0.0054, -0.0192,  ...,  0.0023, -0.0120, -0.0045]],\n",
            "       requires_grad=True)\n",
            "Parameter containing:\n",
            "tensor([-9.1867e-03,  7.3862e-03,  7.2190e-04, -1.2358e-02, -7.3008e-04,\n",
            "        -1.3107e-02,  2.0677e-03, -4.5294e-03, -1.2924e-02,  1.7944e-02,\n",
            "        -1.4386e-02, -1.0041e-02, -1.6305e-02, -4.4950e-05, -8.4658e-03,\n",
            "         1.7456e-02, -4.1446e-03,  1.8598e-02, -6.9236e-04,  8.3885e-03,\n",
            "         2.0623e-02,  2.1904e-02,  1.4299e-03,  1.8252e-02,  3.3705e-04,\n",
            "        -1.0124e-02, -1.5215e-02, -1.7857e-02,  9.7950e-03, -9.0954e-03,\n",
            "        -8.8032e-04,  7.9006e-03,  5.1017e-03, -6.7325e-05, -1.8125e-02,\n",
            "        -1.8426e-02, -1.5443e-02,  1.5761e-02,  1.3838e-02,  1.9030e-02,\n",
            "         1.0606e-02,  2.1953e-02,  1.6602e-02,  1.9429e-02,  5.7846e-03,\n",
            "        -2.0882e-02,  6.6400e-04,  8.4113e-03, -2.1532e-02, -1.4826e-02,\n",
            "        -1.9369e-02,  8.0893e-04, -1.6999e-02, -1.8694e-02,  7.2621e-03,\n",
            "         1.3760e-02, -3.4221e-03, -1.5966e-02, -7.5952e-03, -4.5453e-03,\n",
            "         1.4754e-02,  1.6316e-02,  2.7782e-03,  2.9126e-03,  1.5760e-02,\n",
            "         2.2700e-03, -1.0370e-02,  5.9355e-03,  3.1918e-03, -9.8760e-03,\n",
            "         3.6792e-03,  1.4536e-02, -5.1318e-03,  4.9677e-03,  1.5502e-02,\n",
            "        -1.4380e-02,  5.5692e-04, -1.0273e-02, -8.4561e-03,  1.8701e-02,\n",
            "         1.9531e-02,  1.6455e-02,  1.1101e-02, -2.9251e-04,  1.6809e-02,\n",
            "        -9.7571e-03,  1.3915e-02,  2.5212e-03,  9.9728e-05,  1.1018e-02,\n",
            "         1.3802e-02, -1.2245e-02, -7.3357e-03,  1.2016e-02, -2.6256e-03,\n",
            "         1.3803e-02,  6.8499e-03, -1.5889e-02,  7.4333e-03,  4.3897e-03,\n",
            "        -9.2303e-03, -1.2170e-02,  8.3848e-03,  8.1228e-03,  2.1721e-02,\n",
            "         1.8949e-02, -1.2825e-02, -3.8156e-03, -1.4550e-02,  1.1983e-02,\n",
            "        -9.5505e-03, -2.5909e-03,  1.6009e-02,  9.9170e-03, -3.8206e-03,\n",
            "        -4.6111e-03, -1.6030e-02, -2.0359e-02,  1.6929e-02,  1.2511e-02,\n",
            "         6.9388e-03, -4.7620e-03, -1.7433e-02, -5.0312e-03,  1.2811e-02,\n",
            "        -1.9021e-02, -2.0620e-02, -1.3889e-03,  7.4900e-03, -1.6396e-02,\n",
            "         5.0245e-04, -1.7321e-02,  1.0096e-02, -1.7766e-02, -9.0791e-03,\n",
            "         3.7170e-03, -1.5304e-02,  1.8422e-02,  1.5234e-02,  4.1462e-03,\n",
            "         1.1223e-02, -1.4213e-03, -1.4088e-02, -1.8475e-02,  2.1134e-02,\n",
            "         9.7551e-03,  4.4356e-03, -2.6689e-03,  1.0505e-02, -1.8894e-02,\n",
            "        -1.9305e-02,  7.0915e-04, -1.6253e-02, -9.8274e-03,  2.1989e-02,\n",
            "         1.7241e-02, -2.0133e-03, -1.9873e-02,  2.0784e-02,  1.4961e-02,\n",
            "         1.3230e-02,  1.5055e-02,  1.6607e-03, -8.0710e-03,  5.2916e-03,\n",
            "        -6.4350e-04, -1.3081e-02,  7.9894e-03,  1.8791e-02,  6.0535e-03,\n",
            "         9.6511e-03,  7.6837e-03, -1.0556e-02,  2.1756e-02,  1.4089e-02,\n",
            "        -2.0679e-02,  1.5515e-02, -1.2897e-02, -2.2046e-02, -1.6428e-02,\n",
            "        -1.7462e-02,  4.7374e-04, -1.2421e-02,  7.0501e-03, -1.7701e-03,\n",
            "         1.5320e-02,  1.4495e-02,  6.5009e-03,  2.4156e-03,  1.8928e-03,\n",
            "         4.5906e-03, -7.9383e-03,  1.1808e-02, -1.5791e-02,  2.1060e-02,\n",
            "         1.1218e-02,  2.1965e-02, -4.5222e-03, -1.8577e-02,  2.0443e-02,\n",
            "         1.2920e-02,  1.6976e-02,  3.2250e-03,  9.7475e-03, -3.7987e-03,\n",
            "         3.7265e-03,  1.1679e-02, -8.7188e-03,  1.4073e-02, -1.7752e-02,\n",
            "         1.6689e-02, -1.6713e-03, -2.1834e-02,  4.4283e-03, -1.0240e-02,\n",
            "         1.8642e-02, -2.1231e-02, -1.0728e-04, -2.0095e-02, -1.3447e-03,\n",
            "        -2.1223e-02, -3.9849e-03, -6.7970e-03, -4.1057e-03,  1.9044e-02,\n",
            "        -1.2088e-04, -1.0323e-02,  1.7095e-02, -1.3944e-02, -2.5982e-03,\n",
            "         3.1949e-03, -1.1736e-03, -1.9381e-02,  1.7739e-02, -1.9257e-02,\n",
            "        -2.0578e-02,  1.6445e-02,  1.6215e-02, -9.9278e-03, -1.3583e-03,\n",
            "        -2.0761e-02, -1.9468e-02, -1.3492e-02, -2.0903e-02,  1.9956e-02,\n",
            "        -1.0906e-02, -1.3588e-02, -2.0428e-02,  2.0301e-02, -1.5250e-02,\n",
            "        -6.8037e-03, -2.0252e-02, -1.9070e-03, -1.9480e-02,  4.5606e-03,\n",
            "        -1.3582e-02,  2.8607e-03, -1.0455e-02, -1.8626e-02,  2.1338e-02,\n",
            "        -1.5673e-02,  2.0657e-02,  4.3953e-03, -3.8339e-03, -1.8818e-02,\n",
            "         4.0674e-03,  2.2356e-02, -1.5268e-02,  1.9481e-02, -1.0246e-02,\n",
            "        -8.9909e-04,  2.0376e-02,  1.0386e-02,  9.4462e-03, -1.2390e-03,\n",
            "         5.3126e-04,  9.6814e-03,  1.9333e-02, -1.3400e-03, -2.0348e-02,\n",
            "         1.5405e-03, -1.3324e-02, -7.0617e-03, -1.7556e-02,  4.7981e-03,\n",
            "        -5.6966e-03,  9.8142e-03,  2.0399e-02, -9.6122e-03,  1.6712e-02,\n",
            "        -3.5418e-03, -3.5065e-03,  7.5558e-03,  2.2023e-02, -2.0601e-03,\n",
            "        -4.0816e-03,  1.4378e-02, -6.6008e-03, -1.0943e-02,  1.9806e-02,\n",
            "        -6.9267e-03, -2.3046e-03,  1.1074e-02,  5.2804e-03, -2.2750e-03,\n",
            "         1.3496e-02,  2.2160e-02, -1.1475e-02,  1.1643e-02, -3.6576e-03,\n",
            "        -1.8775e-02,  1.4446e-02,  9.1153e-03, -6.4010e-03,  1.8066e-02,\n",
            "         1.2764e-02, -2.0878e-02,  2.5870e-03, -1.6613e-02, -3.8884e-03,\n",
            "        -1.7882e-02, -1.6767e-02,  1.7013e-02, -6.2290e-04,  3.9893e-03,\n",
            "        -7.1200e-03, -8.8915e-03,  2.1455e-02, -1.4835e-02,  2.0638e-02,\n",
            "        -2.0790e-02, -9.0339e-03, -1.6734e-02, -9.6896e-03,  1.6633e-02,\n",
            "         4.9753e-03, -1.1534e-02, -2.2068e-02,  9.1517e-03,  5.2037e-03,\n",
            "        -6.0575e-03,  8.1779e-03,  1.2215e-02, -6.3478e-03, -1.6877e-02,\n",
            "        -7.1557e-03, -1.9167e-02, -4.0717e-03,  6.9702e-03, -9.8764e-03,\n",
            "         6.9673e-03, -1.1291e-02, -2.0012e-02, -1.1555e-02, -4.9129e-03,\n",
            "         1.8814e-03, -2.1842e-02, -5.0678e-03, -8.3715e-03,  2.7500e-04,\n",
            "        -2.3580e-03, -2.0339e-02, -1.9202e-02,  1.2092e-02, -2.0797e-03,\n",
            "        -5.5702e-03, -2.9609e-03,  1.5689e-02, -2.1285e-02,  1.4212e-02,\n",
            "        -1.2164e-02,  9.0324e-03,  1.9610e-02,  9.8767e-03, -1.4913e-03,\n",
            "         2.0353e-02,  1.5865e-02, -1.0263e-02, -2.1360e-02,  6.7433e-03,\n",
            "         1.1333e-02, -1.3783e-02,  9.0280e-03,  1.0914e-04, -2.1061e-02,\n",
            "        -1.8937e-03, -3.1574e-03,  4.6898e-03, -6.0298e-03,  2.2133e-02,\n",
            "         8.3010e-03,  9.2978e-03, -1.2653e-02,  5.3683e-03,  1.4345e-02,\n",
            "         1.8238e-02, -6.8145e-04,  1.6549e-02, -9.9599e-03,  5.2885e-03,\n",
            "         1.7431e-02, -3.4731e-03,  9.2336e-03, -2.0168e-02, -1.5525e-02,\n",
            "        -6.1647e-03, -7.2411e-03,  1.2682e-02,  1.0149e-02, -4.7210e-03,\n",
            "        -9.8324e-03,  9.3308e-03, -2.2018e-02,  2.2732e-03,  1.6647e-03,\n",
            "        -9.2328e-03, -1.2294e-03, -8.8407e-03,  5.5767e-03, -2.4332e-03,\n",
            "        -1.6291e-02, -1.4865e-02,  1.5746e-02, -1.8070e-03,  1.8958e-03,\n",
            "        -6.4458e-03,  1.6950e-02, -1.7697e-02, -9.5777e-03,  5.0942e-03,\n",
            "        -6.8353e-03, -1.8310e-02, -1.5735e-02,  3.5850e-03, -6.1332e-03,\n",
            "        -2.0954e-02, -2.0770e-02, -9.5116e-03,  2.0652e-02, -2.1316e-03,\n",
            "         1.1459e-02,  1.1436e-02, -1.6950e-02, -9.3413e-03, -1.5109e-02,\n",
            "        -1.2547e-02,  5.3678e-04,  3.7804e-03, -2.3875e-03,  1.0694e-02,\n",
            "         7.5560e-03, -2.1585e-03,  1.2592e-02, -1.8641e-02,  1.6224e-02,\n",
            "        -1.7223e-02, -1.6642e-02, -8.4637e-03,  1.7061e-02,  1.4321e-02,\n",
            "         1.2363e-02, -8.8411e-03, -6.5972e-04, -1.4893e-02,  1.4487e-02,\n",
            "         7.3519e-03, -1.7336e-02, -9.7920e-03,  1.6486e-02, -1.4785e-02,\n",
            "         2.1517e-03,  6.7315e-03,  9.8889e-03,  1.8077e-02, -2.5379e-03,\n",
            "        -1.1695e-02, -7.6520e-03, -2.1452e-02,  1.8037e-02,  1.0197e-02,\n",
            "         2.0458e-02, -9.5826e-04,  9.8487e-03, -1.2423e-02, -7.6652e-03,\n",
            "        -1.9378e-02,  3.8680e-03, -3.2223e-03,  2.0796e-02, -8.0191e-03,\n",
            "         6.3404e-03, -4.8578e-05,  3.2373e-03, -2.1234e-02,  2.1371e-02,\n",
            "        -1.5164e-02, -1.3342e-02, -2.4555e-03,  9.1924e-03, -1.7844e-02],\n",
            "       requires_grad=True)\n",
            "Parameter containing:\n",
            "tensor([[ 0.0291,  0.0438,  0.0111,  ..., -0.0346, -0.0349, -0.0378],\n",
            "        [ 0.0356,  0.0176, -0.0274,  ..., -0.0414, -0.0170,  0.0307],\n",
            "        [-0.0036,  0.0199, -0.0161,  ..., -0.0272,  0.0098, -0.0242],\n",
            "        ...,\n",
            "        [-0.0030,  0.0314, -0.0128,  ...,  0.0023,  0.0318, -0.0165],\n",
            "        [-0.0087, -0.0113, -0.0184,  ..., -0.0008, -0.0144, -0.0219],\n",
            "        [-0.0399,  0.0084, -0.0351,  ...,  0.0187, -0.0173, -0.0364]],\n",
            "       requires_grad=True)\n",
            "Parameter containing:\n",
            "tensor([-0.0149,  0.0092,  0.0087, -0.0173,  0.0124,  0.0266, -0.0185,  0.0407,\n",
            "        -0.0018, -0.0165], requires_grad=True)\n"
          ],
          "name": "stdout"
        }
      ]
    },
    {
      "cell_type": "code",
      "metadata": {
        "colab": {
          "base_uri": "https://localhost:8080/"
        },
        "id": "Y-t38U2P26vk",
        "outputId": "2d5b20ac-9bcc-442b-9418-4530d990812d"
      },
      "source": [
        "for name,parameters in ConvNet().named_parameters():\n",
        "    print(name,':',parameters.size())\n"
      ],
      "execution_count": 21,
      "outputs": [
        {
          "output_type": "stream",
          "text": [
            "conv1.weight : torch.Size([10, 1, 5, 5])\n",
            "conv1.bias : torch.Size([10])\n",
            "conv2.weight : torch.Size([20, 10, 3, 3])\n",
            "conv2.bias : torch.Size([20])\n",
            "fc1.weight : torch.Size([500, 2000])\n",
            "fc1.bias : torch.Size([500])\n",
            "fc2.weight : torch.Size([10, 500])\n",
            "fc2.bias : torch.Size([10])\n"
          ],
          "name": "stdout"
        }
      ]
    },
    {
      "cell_type": "markdown",
      "metadata": {
        "id": "dls2i7w4sv7c"
      },
      "source": [
        "除此以外，也可以使用summary()去查看所有的层、参数"
      ]
    },
    {
      "cell_type": "code",
      "metadata": {
        "colab": {
          "base_uri": "https://localhost:8080/"
        },
        "id": "c-ONgqYHs2fp",
        "outputId": "898b649d-4ad7-434e-bb8e-c97e86611e96"
      },
      "source": [
        "from torchsummary import summary\n",
        "summary(ConvNet(), input_size=(1, 28, 28))# 注意这里的input_size必须和前文保持一致"
      ],
      "execution_count": 22,
      "outputs": [
        {
          "output_type": "stream",
          "text": [
            "----------------------------------------------------------------\n",
            "        Layer (type)               Output Shape         Param #\n",
            "================================================================\n",
            "            Conv2d-1           [-1, 10, 24, 24]             260\n",
            "            Conv2d-2           [-1, 20, 10, 10]           1,820\n",
            "            Linear-3                  [-1, 500]       1,000,500\n",
            "            Linear-4                   [-1, 10]           5,010\n",
            "================================================================\n",
            "Total params: 1,007,590\n",
            "Trainable params: 1,007,590\n",
            "Non-trainable params: 0\n",
            "----------------------------------------------------------------\n",
            "Input size (MB): 0.00\n",
            "Forward/backward pass size (MB): 0.06\n",
            "Params size (MB): 3.84\n",
            "Estimated Total Size (MB): 3.91\n",
            "----------------------------------------------------------------\n"
          ],
          "name": "stdout"
        }
      ]
    },
    {
      "cell_type": "markdown",
      "metadata": {
        "id": "lpvvi6_NznL7"
      },
      "source": [
        "## 模型训练\n",
        "\n",
        "一般而言，训练策略由batch_size, epoch, 求导机制,优化策略, 学习率等构成<br>\n",
        "首先有：\n",
        "* batch_size（一批次的大小）：在一个epoch中，每一次迭代使用的样本量，常常设置为：32/64/128等。\n",
        "\n",
        "* epoch（轮次）：在每一个epoch中，所有训练集都会以每次batch_size个输入模型中\n",
        "\n",
        "* iteration（迭代次数）：每跑完一个batch都要更新参数，这个过程叫一个iteration。\n",
        "\n",
        "**因此显然iteration是由batch_size,epoch共同构成，比方说：\n",
        "总共有10000张图片，每个batch_size有100张图片，epoch = 20，意味着，iterations = （10000/100）$\\times$20 = 2000（次）**\n"
      ]
    },
    {
      "cell_type": "markdown",
      "metadata": {
        "id": "huMlUdeEzwqO"
      },
      "source": [
        "### Batchsize设置\n",
        "不考虑Batch Normalization的情况下，batch size的大小决定了深度学习训练过程中的完成每个epoch所需的时间和每次迭代(iteration)之间梯度的平滑程度。batch size只能说是影响完成每个epoch所需要的时间，决定也算不上吧。<br>\n",
        "由于目前主流深度学习框架处理mini-batch的反向传播时，默认都是先将每个mini-batch中每个instance得到的loss平均化之后再反求梯度，也就是说每次反向传播的梯度是对mini-batch中每个instance的梯度平均之后的结果，所以b的大小决定了相邻迭代之间的梯度平滑程度，b太小，相邻mini-batch间的差异相对过大，那么相邻两次迭代的梯度震荡情况会比较严重，不利于收敛；b越大，相邻mini-batch间的差异相对越小，虽然梯度震荡情况会比较小，一定程度上利于模型收敛，但如果b极端大，相邻mini-batch间的差异过小，相邻两个mini-batch的梯度没有区别了，整个训练过程就是沿着一个方向蹭蹭蹭往下走，很容易陷入到局部最小值出不来。<br>\n",
        "\n",
        "**总结下来：batch size过小，花费时间多，同时梯度震荡严重，不利于收敛；batch size过大，不同batch的梯度方向没有任何变化，容易陷入局部极小值。**<br>\n",
        "\n",
        "但是对于GPU并行计算的情况下，小batch反而会需要更长时间\n",
        "\n"
      ]
    },
    {
      "cell_type": "markdown",
      "metadata": {
        "id": "g2m3KvdhzqmJ"
      },
      "source": [
        "### 求导与微分"
      ]
    },
    {
      "cell_type": "markdown",
      "metadata": {
        "id": "4UCcUBT3iCHi"
      },
      "source": [
        "### 优化策略\n",
        "一般优化策略由三部分构成：\n",
        "* 损失函数设置\n",
        "* 优化器设置\n",
        "* 等间隔学习率调整\n",
        "\n",
        "他们分别有以下选择：\n",
        "#### 损失函数\n",
        "1. 在多分类问题中最常用的**交叉熵损失**\n",
        "nn.CrossEntropyLoss()\n",
        "\n",
        "2. **L1损失**<br>\n",
        "nn.nn.L1Loss(size_average=None, reduce=None, reduction='mean')\n",
        "如果reduction不为'none'(默认设为'mean'),则：\n",
        "$\\ell(x, y)=\\left\\{\\begin{array}{ll}\\operatorname{mean}(L), & \\text { if reduction }=\\text { 'mean' } \\\\ \\operatorname{sum}(L), & \\text { if reduction }=\\text { 'sum' }\\end{array}\\right.$\n",
        "\n",
        "<br>\n",
        "\n",
        "3. **L2损失**<br>\n",
        "nn.MSELoss()(他的选项对应L1损失)\n",
        "<br>more:https://pytorch.org/docs/stable/nn.html#loss-functions\n",
        "\n",
        "#### 优化器\n",
        "最常用的两个微分优化器：Adam、SGD，以及在稀疏情况下的SparseAdam，分别对应：\n",
        "* torch.optim.Adam()\n",
        "* torch.optim.SGD()\n",
        "* torch.optim.SparseAdam()\n",
        "\n",
        "\n",
        "使用时建议首先像定义损失函数一样先定义：\n",
        "optimizer = torch.optim.SGD(net.parameters(), lr=0.1) \n",
        "\n",
        "更多可以参考：\n",
        "https://pytorch.org/docs/stable/optim.html\n",
        "\n",
        "\n",
        "\n",
        "\n",
        "\n",
        "#### 学习率调整\n",
        "初始情况下会设置一个学习率用来迭代模型中的超参数，但是随着训练进行，初始设置的学习率可能无法适应，因此需要调整学习率。\n",
        "常见的四个学习率调整：\n",
        "* 等间隔调整\n",
        "* 按需间隔调整\n",
        "* 指数衰减调整\n",
        "* 余弦退火调整\n",
        "<br>\n",
        "\n",
        "下面来依次介绍\n",
        "以SGD优化算法为例，初始学习率为0.001。\n",
        "\n",
        "##### **等间隔调整**\n",
        "```\n",
        "optimizer = torch.optim.SGD(model.parameters(), lr=0.001, momentum=0.9)\n",
        "scheduler = torch.optim.lr_scheduler.StepLR(optimizer, step_size = 20, gamma = 0.1, last_epoch=-1)\n",
        "\n",
        "```\n",
        "其中gamma为调整倍数，20指的是调整的间隔，即0-20、21-40、41-60epoch内的学习率分别为0.001、0.0001、0.00001.\n",
        "last_epoch为上一个epoch数，一般默认为-1初始值。如果需要断点续训，则将其改为续接的点的epoch。\n",
        "\n",
        "##### **按需间隔调整**\n",
        "```\n",
        "optimizer = torch.optim.SGD(model.parameters(), lr=0.001, momentum=0.9)\n",
        "scheduler = torch.optim.lr_scheduler.MultiStepLR(optimizer,  milestones = [50, 80], gamma = 0.1, last_epoch=-1)\n",
        "\n",
        "```\n",
        "0-50、51-80、81-100epochs的学习率分别为0.001、0.0001、0.00001.\n",
        "\n",
        "\n",
        "##### **指数衰减调整**\n",
        "其调整方式为学习率=上一epoch的学习率*gamma^epoch\n",
        "```\n",
        "optimizer = torch.optim.SGD(model.parameters(), lr=0.001, momentum=0.9)\n",
        "scheduler = torch.optim.lr_scheduler.ExponentialLR(optimizer, gamma = 0.1, last_epoch=-1)\n",
        "```\n",
        "\n",
        "##### **余弦退火调整**\n",
        "\n",
        "以余弦函数的周期为周期，在每个周期的最大值时重新设置学习率，初始学习率为最大学习率，以2*T_max为周期，周期内先下降后上升。\n",
        "\n",
        "```\n",
        "optimizer = torch.optim.SGD(model.parameters(), lr=0.001, momentum=0.9)\n",
        "scheduler = torch.optim.lr_scheduler.CosineAnnealingLR(optimizer, T_max = 10, eta_min=0, last_epoch=-1)\n",
        "```\n",
        "其中：<br>\n",
        "T_max个epoch之后重新设置学习率<br>\n",
        "eta_min为最小学习率，即周期内学习率最小下降的下限，默认为0\n",
        "\n",
        "##### **如何选择？**\n",
        "梯度下降算法需要我们指定一个学习率作为权重更新步幅的控制因子，常用的学习率有0.01、0.001以及0.0001等，学习率越大则权重更新。一般来说，我们希望在训练初期学习率大一些，使得网络收敛迅速，在训练后期学习率小一些，使得网络更好的收敛到最优解。下图展示了随着迭代的进行动态调整学习率的4种策略曲线：\n",
        "![1.jpg](https://pic4.zhimg.com/v2-e0c69cd8f1e8af5c839f8595696c75db_r.jpg)\n",
        "\n",
        "\n",
        "同时也可以使用自适应学习率调整：\n",
        "```\n",
        "optimizer = torch.optim.SGD(model.parameters(), lr=0.001, momentum=0.9)\n",
        "scheduler = torch.optim.lr_scheduler.ReduceLROnPlateau(optimizer, mode='min', factor=0.1, patience=10, verbose=False, threshold=0.0001, threshold_mode='rel', cooldown=0, min_lr=0, eps=1e-08)\n",
        "\n",
        "```\n",
        "其中：<br>\n",
        "* mode:模式，min：当指标（如损失）不再降低；\n",
        "* max：当指标（如精度）不再上升\n",
        "* factor：学习率调整倍数，相当于gamma\n",
        "* patience：当10个epoch后指标不再发生变化时，调整学习率\n",
        "* verbose：是否打印学习率信息\n",
        "* threshold_mode：判断指标是否达到最优的模式\n",
        "* rel：当mode=max，dynami_threshold=best(1+threshold) 当mode=min,dynamic_threshold=best(1-threshold)\n",
        "* abs:当mode=max,dynamic_threshold=best+threshold\n",
        "* 当mode=min,dynamic_threshold=best-threshold\n",
        "* threshold:与threshold_mode相关\n",
        "* cooldown:调整学习率后，原来额学习率仍然保持 cooldown个epoch后再调整学习率\n",
        "* min_lr:学习率降低的下限\n",
        "* eps:学习率变化小于该值时，不调整学习率\n",
        "\n",
        "要注意的是，scheduler.step(val_loss)需要定义一个参数，即需要衡量的指标，一般选择验证集上的损失。\n",
        "\n",
        "咋一看这种学习率下降的方式似乎是最好的，但是在实际应用中我发现存在很多问题，比如当patience太小的时候，学习率很快就下降到了最小值。这是因为就算是在合适的学习率时损失函数依然会存在一定时间的不下降的情况，不会一直下降的，所以patience的大小不应该太小\n",
        "\n"
      ]
    },
    {
      "cell_type": "markdown",
      "metadata": {
        "id": "wNFZxIcRyceg"
      },
      "source": [
        "以上介绍了关于训练时候的优化策略，在实际使用中，建议在在模型训练之前先定义好比如："
      ]
    },
    {
      "cell_type": "code",
      "metadata": {
        "id": "bmbC0bPP7DLo"
      },
      "source": [
        "lr = 3e-5\n",
        "gamma = 0.7\n",
        "import torch.nn as nn\n",
        "import torch.optim as optim\n",
        "from torch.optim.lr_scheduler import StepLR\n",
        "# loss function\n",
        "criterion = nn.CrossEntropyLoss()\n",
        "# optimizer\n",
        "optimizer = optim.Adam(model.parameters(), lr=lr)\n",
        "# scheduler\n",
        "scheduler = StepLR(optimizer, step_size=1, gamma=gamma)"
      ],
      "execution_count": 23,
      "outputs": []
    },
    {
      "cell_type": "markdown",
      "metadata": {
        "id": "gvs03q-Bz8l9"
      },
      "source": [
        "然后再在训练过程中调用，后面将会展示。\n",
        "接下来是定义训练函数和测试函数："
      ]
    },
    {
      "cell_type": "code",
      "metadata": {
        "id": "1vI-OD-g7PyT"
      },
      "source": [
        "def train(model, device, train_loader, optimizer, epoch):\n",
        "    model.train()\n",
        "    for batch_idx, (data, label) in enumerate(train_loader):\n",
        "        data, label = data.to(device), label.to(device)\n",
        "\n",
        "        output = model(data)\n",
        "        loss = criterion(output, label)\n",
        "\n",
        "        optimizer.zero_grad()#梯度情除\n",
        "        loss.backward()\n",
        "        optimizer.step()\n",
        "\n",
        "        if(batch_idx+1)%30 == 0: \n",
        "            print('Train Epoch: {} [{}/{} ({:.0f}%)]\\tLoss: {:.6f}'.format(\n",
        "                epoch, batch_idx * len(data), len(train_loader.dataset),\n",
        "                100. * batch_idx / len(train_loader), loss.item()))\n",
        "\n",
        "\n",
        "def test(model, device, test_loader):\n",
        "    model.eval()\n",
        "    test_loss = 0\n",
        "    correct = 0\n",
        "    with torch.no_grad():\n",
        "        for data, label in test_loader:\n",
        "            data, label = data.to(device), label.to(device)\n",
        "            output = model(data)\n",
        "            test_loss += F.nll_loss(output, label, reduction='sum').item() # 将一批的损失相加\n",
        "            pred = output.max(1, keepdim=True)[1] # 找到概率最大的下标\n",
        "            correct += pred.eq(label. view_as(pred)).sum().item()\n",
        "\n",
        "    test_loss /= len(test_loader.dataset)\n",
        "    print('\\nTest set: Average loss: {:.4f}, Accuracy: {}/{} ({:.0f}%)\\n'.format(\n",
        "        test_loss, correct, len(test_loader.dataset),\n",
        "        100. * correct / len(test_loader.dataset)))"
      ],
      "execution_count": 24,
      "outputs": []
    },
    {
      "cell_type": "code",
      "metadata": {
        "colab": {
          "base_uri": "https://localhost:8080/"
        },
        "id": "7_lddC6h7Wx8",
        "outputId": "14b62ae6-4aa8-424a-d01e-15428b00e4f5"
      },
      "source": [
        "for epoch in range(0, 10):\n",
        "    train(model, device, train_loader, optimizer, epoch)\n",
        "    test(model, device, test_loader)"
      ],
      "execution_count": 35,
      "outputs": [
        {
          "output_type": "stream",
          "text": [
            "Train Epoch: 0 [14848/60000 (25%)]\tLoss: 0.052310\n",
            "Train Epoch: 0 [30208/60000 (50%)]\tLoss: 0.052816\n",
            "Train Epoch: 0 [45568/60000 (75%)]\tLoss: 0.063472\n",
            "\n",
            "Test set: Average loss: 0.0530, Accuracy: 9826/10000 (98%)\n",
            "\n",
            "Train Epoch: 1 [14848/60000 (25%)]\tLoss: 0.052521\n",
            "Train Epoch: 1 [30208/60000 (50%)]\tLoss: 0.030715\n",
            "Train Epoch: 1 [45568/60000 (75%)]\tLoss: 0.058379\n",
            "\n",
            "Test set: Average loss: 0.0515, Accuracy: 9831/10000 (98%)\n",
            "\n",
            "Train Epoch: 2 [14848/60000 (25%)]\tLoss: 0.042966\n",
            "Train Epoch: 2 [30208/60000 (50%)]\tLoss: 0.037848\n",
            "Train Epoch: 2 [45568/60000 (75%)]\tLoss: 0.075389\n",
            "\n",
            "Test set: Average loss: 0.0504, Accuracy: 9836/10000 (98%)\n",
            "\n",
            "Train Epoch: 3 [14848/60000 (25%)]\tLoss: 0.032503\n",
            "Train Epoch: 3 [30208/60000 (50%)]\tLoss: 0.084230\n",
            "Train Epoch: 3 [45568/60000 (75%)]\tLoss: 0.029368\n",
            "\n",
            "Test set: Average loss: 0.0497, Accuracy: 9842/10000 (98%)\n",
            "\n",
            "Train Epoch: 4 [14848/60000 (25%)]\tLoss: 0.048287\n",
            "Train Epoch: 4 [30208/60000 (50%)]\tLoss: 0.038565\n",
            "Train Epoch: 4 [45568/60000 (75%)]\tLoss: 0.071999\n",
            "\n",
            "Test set: Average loss: 0.0481, Accuracy: 9844/10000 (98%)\n",
            "\n",
            "Train Epoch: 5 [14848/60000 (25%)]\tLoss: 0.034976\n",
            "Train Epoch: 5 [30208/60000 (50%)]\tLoss: 0.041507\n",
            "Train Epoch: 5 [45568/60000 (75%)]\tLoss: 0.042938\n",
            "\n",
            "Test set: Average loss: 0.0475, Accuracy: 9838/10000 (98%)\n",
            "\n",
            "Train Epoch: 6 [14848/60000 (25%)]\tLoss: 0.042271\n",
            "Train Epoch: 6 [30208/60000 (50%)]\tLoss: 0.036481\n",
            "Train Epoch: 6 [45568/60000 (75%)]\tLoss: 0.037604\n",
            "\n",
            "Test set: Average loss: 0.0467, Accuracy: 9848/10000 (98%)\n",
            "\n",
            "Train Epoch: 7 [14848/60000 (25%)]\tLoss: 0.048334\n",
            "Train Epoch: 7 [30208/60000 (50%)]\tLoss: 0.033822\n",
            "Train Epoch: 7 [45568/60000 (75%)]\tLoss: 0.031647\n",
            "\n",
            "Test set: Average loss: 0.0489, Accuracy: 9841/10000 (98%)\n",
            "\n",
            "Train Epoch: 8 [14848/60000 (25%)]\tLoss: 0.043384\n",
            "Train Epoch: 8 [30208/60000 (50%)]\tLoss: 0.038527\n",
            "Train Epoch: 8 [45568/60000 (75%)]\tLoss: 0.073212\n",
            "\n",
            "Test set: Average loss: 0.0447, Accuracy: 9852/10000 (99%)\n",
            "\n",
            "Train Epoch: 9 [14848/60000 (25%)]\tLoss: 0.045645\n",
            "Train Epoch: 9 [30208/60000 (50%)]\tLoss: 0.036657\n",
            "Train Epoch: 9 [45568/60000 (75%)]\tLoss: 0.049670\n",
            "\n",
            "Test set: Average loss: 0.0448, Accuracy: 9848/10000 (98%)\n",
            "\n"
          ],
          "name": "stdout"
        }
      ]
    },
    {
      "cell_type": "markdown",
      "metadata": {
        "id": "DjWLw9_gz3EW"
      },
      "source": [
        "## 可视化"
      ]
    },
    {
      "cell_type": "markdown",
      "metadata": {
        "id": "rQRpD4va0NQZ"
      },
      "source": [
        "### 本地保存\n",
        "很多时候由于服务器是断网的，就需要将结果保存到本地，只需要对训练函数进行稍微修改即可,再在训练后本地保存"
      ]
    },
    {
      "cell_type": "code",
      "metadata": {
        "id": "FV6vM-CzNhYo"
      },
      "source": [
        "Loss_list = []\n",
        "Acc_list = []\n",
        "Loss_val_list = []\n",
        "Acc_val_list = []\n",
        "\n",
        "def train(model, device, train_loader, optimizer, epoch):\n",
        "    model.train()\n",
        "    for batch_idx, (data, label) in enumerate(train_loader):\n",
        "        data, label = data.to(device), label.to(device)\n",
        "\n",
        "        output = model(data)\n",
        "        loss = criterion(output, label)\n",
        "\n",
        "        optimizer.zero_grad()#梯度情除\n",
        "        loss.backward()\n",
        "        optimizer.step()\n",
        "\n",
        "        if(batch_idx+1)%30 == 0:\n",
        "\n",
        "            \n",
        "            print('Train Epoch: {} [{}/{} ({:.0f}%)]\\tLoss: {:.6f}'.format(\n",
        "                epoch, batch_idx * len(data), len(train_loader.dataset), \n",
        "                100. * batch_idx / len(train_loader), loss.item()))\n",
        "            Loss_list.append(loss.item())\n",
        "            \n",
        "\n",
        "\n",
        "def test(model, device, test_loader):\n",
        "    model.eval()\n",
        "    test_loss = 0\n",
        "    correct = 0\n",
        "    with torch.no_grad():\n",
        "        for data, label in test_loader:\n",
        "            data, label = data.to(device), label.to(device)\n",
        "            output = model(data)\n",
        "            test_loss += F.nll_loss(output, label, reduction='sum').item() # 将一批的损失相加\n",
        "            pred = output.max(1, keepdim=True)[1] # 找到概率最大的下标\n",
        "            correct += pred.eq(label. view_as(pred)).sum().item()\n",
        "\n",
        "    test_loss /= len(test_loader.dataset)\n",
        "    print('\\nTest set: Average loss: {:.4f}, Accuracy: {}/{} ({:.0f}%)\\n'.format(\n",
        "        test_loss, correct, len(test_loader.dataset),\n",
        "        100. * correct / len(test_loader.dataset)))\n",
        "    Loss_val_list.append(test_loss)\n",
        "    Acc_val_list.append(correct)\n",
        "    \n",
        "  "
      ],
      "execution_count": 36,
      "outputs": []
    },
    {
      "cell_type": "code",
      "metadata": {
        "colab": {
          "base_uri": "https://localhost:8080/"
        },
        "id": "5X8IyKyOPmEB",
        "outputId": "363ee8c8-3f91-4407-f509-e1cc20369990"
      },
      "source": [
        "for epoch in range(0, 2):\n",
        "    train(model, device, train_loader, optimizer, epoch)\n",
        "    test(model, device, test_loader)\n",
        "  "
      ],
      "execution_count": 37,
      "outputs": [
        {
          "output_type": "stream",
          "text": [
            "Train Epoch: 0 [14848/60000 (25%)]\tLoss: 0.050962\n",
            "Train Epoch: 0 [30208/60000 (50%)]\tLoss: 0.041392\n",
            "Train Epoch: 0 [45568/60000 (75%)]\tLoss: 0.036332\n",
            "\n",
            "Test set: Average loss: 0.0456, Accuracy: 9852/10000 (99%)\n",
            "\n",
            "Train Epoch: 1 [14848/60000 (25%)]\tLoss: 0.042068\n",
            "Train Epoch: 1 [30208/60000 (50%)]\tLoss: 0.024427\n",
            "Train Epoch: 1 [45568/60000 (75%)]\tLoss: 0.029993\n",
            "\n",
            "Test set: Average loss: 0.0429, Accuracy: 9857/10000 (99%)\n",
            "\n"
          ],
          "name": "stdout"
        }
      ]
    },
    {
      "cell_type": "code",
      "metadata": {
        "id": "ODzwTbT9Rbgz",
        "outputId": "2fe794b2-7a3b-468c-db0e-93858180f68d",
        "colab": {
          "base_uri": "https://localhost:8080/"
        }
      },
      "source": [
        "print(Loss_list)\n",
        "print(Loss_val_list)\n",
        "print(Acc_val_list)"
      ],
      "execution_count": 38,
      "outputs": [
        {
          "output_type": "stream",
          "text": [
            "[0.050961993634700775, 0.041392043232917786, 0.03633207455277443, 0.04206787422299385, 0.024426527321338654, 0.029993146657943726]\n",
            "[0.04555539608001709, 0.04286238012313843]\n",
            "[9852, 9857]\n"
          ],
          "name": "stdout"
        }
      ]
    },
    {
      "cell_type": "code",
      "metadata": {
        "colab": {
          "base_uri": "https://localhost:8080/"
        },
        "id": "nkA0glBnPyV2",
        "outputId": "461af7ac-a626-4025-be6d-b327684b231e"
      },
      "source": [
        "## Loss\n",
        "file = open('Loss.txt', 'w')\n",
        "for i in range(len(Loss_list)):\n",
        "    s = str(Loss_list[i]).replace('[','').replace(']','')#去除[],这两行按数据不同，可以选择\n",
        "    s = s.replace(\"'\",'').replace(',','') +'\\n'  #去除单引号，逗号，每行末尾追加换行符\n",
        "    file.write(s)\n",
        "file.close()\n",
        "print(\"保存文件成功\")\n",
        "\n",
        "\n",
        "\n",
        "## Acc\n",
        "file = open('accuracy.txt', 'w')\n",
        "for i in range(len(Acc_list)):\n",
        "    s = str(Acc_list[i]).replace('[','').replace(']','')#去除[],这两行按数据不同，可以选择\n",
        "    s = s.replace(\"'\",'').replace(',','') +'\\n'  #去除单引号，逗号，每行末尾追加换行符\n",
        "    file.write(s)\n",
        "file.close()\n",
        "print(\"保存文件成功\")\n",
        "\n",
        "\n",
        "## Loss_val\n",
        "file = open('Loss_val.txt', 'w')\n",
        "for i in range(len(Loss_val_list)):\n",
        "    s = str(Loss_val_list[i]).replace('[','').replace(']','')#去除[],这两行按数据不同，可以选择\n",
        "    s = s.replace(\"'\",'').replace(',','') +'\\n'  #去除单引号，逗号，每行末尾追加换行符\n",
        "    file.write(s)\n",
        "file.close()\n",
        "print(\"保存文件成功\")\n",
        "\n",
        "\n",
        "## Acc_val\n",
        "file = open('Acc_val.txt', 'w')\n",
        "for i in range(len(Acc_val_list)):\n",
        "    s = str(Acc_val_list[i]).replace('[','').replace(']','')#去除[],这两行按数据不同，可以选择\n",
        "    s = s.replace(\"'\",'').replace(',','') +'\\n'  #去除单引号，逗号，每行末尾追加换行符\n",
        "    file.write(s)\n",
        "file.close()\n",
        "print(\"保存文件成功\")\n"
      ],
      "execution_count": 39,
      "outputs": [
        {
          "output_type": "stream",
          "text": [
            "保存文件成功\n",
            "保存文件成功\n",
            "保存文件成功\n",
            "保存文件成功\n"
          ],
          "name": "stdout"
        }
      ]
    },
    {
      "cell_type": "markdown",
      "metadata": {
        "id": "wpQ2prYv0crk"
      },
      "source": [
        "## Pre-Train & Fine-Tune\n",
        "这一部分具体可以查看：https://github.com/zergtant/pytorch-handbook/blob/master/chapter4/4.1-fine-tuning.ipynb"
      ]
    },
    {
      "cell_type": "code",
      "metadata": {
        "id": "XWAN4vsczmq-"
      },
      "source": [
        ""
      ],
      "execution_count": 39,
      "outputs": []
    },
    {
      "cell_type": "code",
      "metadata": {
        "id": "deVkr1thzgQK"
      },
      "source": [
        ""
      ],
      "execution_count": 39,
      "outputs": []
    },
    {
      "cell_type": "markdown",
      "metadata": {
        "id": "hz5-ptErz-Iz"
      },
      "source": [
        "# 参考文献：\n",
        "\n",
        "[1] 李宏毅机器学习https://speech.ee.ntu.edu.tw/~hylee/ml/2021-spring.html\n",
        "\n",
        "[2]: "
      ]
    },
    {
      "cell_type": "markdown",
      "metadata": {
        "id": "Bnt51OEI0HvY"
      },
      "source": [
        ""
      ]
    }
  ]
}