{
  "nbformat": 4,
  "nbformat_minor": 0,
  "metadata": {
    "colab": {
      "name": "QuickPytorchTutor.ipynb",
      "provenance": [],
      "collapsed_sections": [
        "mfivPcEtj6xv",
        "Jhf_3MDZk4Lt"
      ],
      "toc_visible": true,
      "authorship_tag": "ABX9TyMIIcxqzTn0ytqYP1WSb5VZ",
      "include_colab_link": true
    },
    "kernelspec": {
      "name": "python3",
      "display_name": "Python 3"
    },
    "language_info": {
      "name": "python"
    },
    "widgets": {
      "application/vnd.jupyter.widget-state+json": {
        "ef5904c683034056a956227284ce4f2c": {
          "model_module": "@jupyter-widgets/controls",
          "model_name": "HBoxModel",
          "state": {
            "_view_name": "HBoxView",
            "_dom_classes": [],
            "_model_name": "HBoxModel",
            "_view_module": "@jupyter-widgets/controls",
            "_model_module_version": "1.5.0",
            "_view_count": null,
            "_view_module_version": "1.5.0",
            "box_style": "",
            "layout": "IPY_MODEL_7e01422f73d041ce81aebee07bd64ffa",
            "_model_module": "@jupyter-widgets/controls",
            "children": [
              "IPY_MODEL_67ff8dc0fc644da7b92a3769b151ab2b",
              "IPY_MODEL_21ac7d65aec1449c8fb0bc80401195bd"
            ]
          }
        },
        "7e01422f73d041ce81aebee07bd64ffa": {
          "model_module": "@jupyter-widgets/base",
          "model_name": "LayoutModel",
          "state": {
            "_view_name": "LayoutView",
            "grid_template_rows": null,
            "right": null,
            "justify_content": null,
            "_view_module": "@jupyter-widgets/base",
            "overflow": null,
            "_model_module_version": "1.2.0",
            "_view_count": null,
            "flex_flow": null,
            "width": null,
            "min_width": null,
            "border": null,
            "align_items": null,
            "bottom": null,
            "_model_module": "@jupyter-widgets/base",
            "top": null,
            "grid_column": null,
            "overflow_y": null,
            "overflow_x": null,
            "grid_auto_flow": null,
            "grid_area": null,
            "grid_template_columns": null,
            "flex": null,
            "_model_name": "LayoutModel",
            "justify_items": null,
            "grid_row": null,
            "max_height": null,
            "align_content": null,
            "visibility": null,
            "align_self": null,
            "height": null,
            "min_height": null,
            "padding": null,
            "grid_auto_rows": null,
            "grid_gap": null,
            "max_width": null,
            "order": null,
            "_view_module_version": "1.2.0",
            "grid_template_areas": null,
            "object_position": null,
            "object_fit": null,
            "grid_auto_columns": null,
            "margin": null,
            "display": null,
            "left": null
          }
        },
        "67ff8dc0fc644da7b92a3769b151ab2b": {
          "model_module": "@jupyter-widgets/controls",
          "model_name": "FloatProgressModel",
          "state": {
            "_view_name": "ProgressView",
            "style": "IPY_MODEL_bdaa8755922347269fae775d781f48e8",
            "_dom_classes": [],
            "description": "",
            "_model_name": "FloatProgressModel",
            "bar_style": "success",
            "max": 9912422,
            "_view_module": "@jupyter-widgets/controls",
            "_model_module_version": "1.5.0",
            "value": 9912422,
            "_view_count": null,
            "_view_module_version": "1.5.0",
            "orientation": "horizontal",
            "min": 0,
            "description_tooltip": null,
            "_model_module": "@jupyter-widgets/controls",
            "layout": "IPY_MODEL_cfdf2338d68e4c06a67f36b3f97e4f48"
          }
        },
        "21ac7d65aec1449c8fb0bc80401195bd": {
          "model_module": "@jupyter-widgets/controls",
          "model_name": "HTMLModel",
          "state": {
            "_view_name": "HTMLView",
            "style": "IPY_MODEL_98566a18a8c0462a866480ac6007b484",
            "_dom_classes": [],
            "description": "",
            "_model_name": "HTMLModel",
            "placeholder": "​",
            "_view_module": "@jupyter-widgets/controls",
            "_model_module_version": "1.5.0",
            "value": " 9913344/? [00:01&lt;00:00, 6182949.10it/s]",
            "_view_count": null,
            "_view_module_version": "1.5.0",
            "description_tooltip": null,
            "_model_module": "@jupyter-widgets/controls",
            "layout": "IPY_MODEL_85707edec1c947879268bcc732512b1a"
          }
        },
        "bdaa8755922347269fae775d781f48e8": {
          "model_module": "@jupyter-widgets/controls",
          "model_name": "ProgressStyleModel",
          "state": {
            "_view_name": "StyleView",
            "_model_name": "ProgressStyleModel",
            "description_width": "initial",
            "_view_module": "@jupyter-widgets/base",
            "_model_module_version": "1.5.0",
            "_view_count": null,
            "_view_module_version": "1.2.0",
            "bar_color": null,
            "_model_module": "@jupyter-widgets/controls"
          }
        },
        "cfdf2338d68e4c06a67f36b3f97e4f48": {
          "model_module": "@jupyter-widgets/base",
          "model_name": "LayoutModel",
          "state": {
            "_view_name": "LayoutView",
            "grid_template_rows": null,
            "right": null,
            "justify_content": null,
            "_view_module": "@jupyter-widgets/base",
            "overflow": null,
            "_model_module_version": "1.2.0",
            "_view_count": null,
            "flex_flow": null,
            "width": null,
            "min_width": null,
            "border": null,
            "align_items": null,
            "bottom": null,
            "_model_module": "@jupyter-widgets/base",
            "top": null,
            "grid_column": null,
            "overflow_y": null,
            "overflow_x": null,
            "grid_auto_flow": null,
            "grid_area": null,
            "grid_template_columns": null,
            "flex": null,
            "_model_name": "LayoutModel",
            "justify_items": null,
            "grid_row": null,
            "max_height": null,
            "align_content": null,
            "visibility": null,
            "align_self": null,
            "height": null,
            "min_height": null,
            "padding": null,
            "grid_auto_rows": null,
            "grid_gap": null,
            "max_width": null,
            "order": null,
            "_view_module_version": "1.2.0",
            "grid_template_areas": null,
            "object_position": null,
            "object_fit": null,
            "grid_auto_columns": null,
            "margin": null,
            "display": null,
            "left": null
          }
        },
        "98566a18a8c0462a866480ac6007b484": {
          "model_module": "@jupyter-widgets/controls",
          "model_name": "DescriptionStyleModel",
          "state": {
            "_view_name": "StyleView",
            "_model_name": "DescriptionStyleModel",
            "description_width": "",
            "_view_module": "@jupyter-widgets/base",
            "_model_module_version": "1.5.0",
            "_view_count": null,
            "_view_module_version": "1.2.0",
            "_model_module": "@jupyter-widgets/controls"
          }
        },
        "85707edec1c947879268bcc732512b1a": {
          "model_module": "@jupyter-widgets/base",
          "model_name": "LayoutModel",
          "state": {
            "_view_name": "LayoutView",
            "grid_template_rows": null,
            "right": null,
            "justify_content": null,
            "_view_module": "@jupyter-widgets/base",
            "overflow": null,
            "_model_module_version": "1.2.0",
            "_view_count": null,
            "flex_flow": null,
            "width": null,
            "min_width": null,
            "border": null,
            "align_items": null,
            "bottom": null,
            "_model_module": "@jupyter-widgets/base",
            "top": null,
            "grid_column": null,
            "overflow_y": null,
            "overflow_x": null,
            "grid_auto_flow": null,
            "grid_area": null,
            "grid_template_columns": null,
            "flex": null,
            "_model_name": "LayoutModel",
            "justify_items": null,
            "grid_row": null,
            "max_height": null,
            "align_content": null,
            "visibility": null,
            "align_self": null,
            "height": null,
            "min_height": null,
            "padding": null,
            "grid_auto_rows": null,
            "grid_gap": null,
            "max_width": null,
            "order": null,
            "_view_module_version": "1.2.0",
            "grid_template_areas": null,
            "object_position": null,
            "object_fit": null,
            "grid_auto_columns": null,
            "margin": null,
            "display": null,
            "left": null
          }
        },
        "404dafcdb79c4a8cbd5f2b87c4d35a1b": {
          "model_module": "@jupyter-widgets/controls",
          "model_name": "HBoxModel",
          "state": {
            "_view_name": "HBoxView",
            "_dom_classes": [],
            "_model_name": "HBoxModel",
            "_view_module": "@jupyter-widgets/controls",
            "_model_module_version": "1.5.0",
            "_view_count": null,
            "_view_module_version": "1.5.0",
            "box_style": "",
            "layout": "IPY_MODEL_0d03fbd6801f44448cc098a6b4b9d3d3",
            "_model_module": "@jupyter-widgets/controls",
            "children": [
              "IPY_MODEL_4478de62ca02428d9016c991c2d7ba24",
              "IPY_MODEL_4420a662cfa248fdbd05b0c59ff5bf29"
            ]
          }
        },
        "0d03fbd6801f44448cc098a6b4b9d3d3": {
          "model_module": "@jupyter-widgets/base",
          "model_name": "LayoutModel",
          "state": {
            "_view_name": "LayoutView",
            "grid_template_rows": null,
            "right": null,
            "justify_content": null,
            "_view_module": "@jupyter-widgets/base",
            "overflow": null,
            "_model_module_version": "1.2.0",
            "_view_count": null,
            "flex_flow": null,
            "width": null,
            "min_width": null,
            "border": null,
            "align_items": null,
            "bottom": null,
            "_model_module": "@jupyter-widgets/base",
            "top": null,
            "grid_column": null,
            "overflow_y": null,
            "overflow_x": null,
            "grid_auto_flow": null,
            "grid_area": null,
            "grid_template_columns": null,
            "flex": null,
            "_model_name": "LayoutModel",
            "justify_items": null,
            "grid_row": null,
            "max_height": null,
            "align_content": null,
            "visibility": null,
            "align_self": null,
            "height": null,
            "min_height": null,
            "padding": null,
            "grid_auto_rows": null,
            "grid_gap": null,
            "max_width": null,
            "order": null,
            "_view_module_version": "1.2.0",
            "grid_template_areas": null,
            "object_position": null,
            "object_fit": null,
            "grid_auto_columns": null,
            "margin": null,
            "display": null,
            "left": null
          }
        },
        "4478de62ca02428d9016c991c2d7ba24": {
          "model_module": "@jupyter-widgets/controls",
          "model_name": "FloatProgressModel",
          "state": {
            "_view_name": "ProgressView",
            "style": "IPY_MODEL_0041808bcb1943b8b51f4ef76d85f19b",
            "_dom_classes": [],
            "description": "",
            "_model_name": "FloatProgressModel",
            "bar_style": "success",
            "max": 28881,
            "_view_module": "@jupyter-widgets/controls",
            "_model_module_version": "1.5.0",
            "value": 28881,
            "_view_count": null,
            "_view_module_version": "1.5.0",
            "orientation": "horizontal",
            "min": 0,
            "description_tooltip": null,
            "_model_module": "@jupyter-widgets/controls",
            "layout": "IPY_MODEL_a19db126d2454e73b03fb1ed89e8a416"
          }
        },
        "4420a662cfa248fdbd05b0c59ff5bf29": {
          "model_module": "@jupyter-widgets/controls",
          "model_name": "HTMLModel",
          "state": {
            "_view_name": "HTMLView",
            "style": "IPY_MODEL_d17a1a8409044e759d0be4a2233ace91",
            "_dom_classes": [],
            "description": "",
            "_model_name": "HTMLModel",
            "placeholder": "​",
            "_view_module": "@jupyter-widgets/controls",
            "_model_module_version": "1.5.0",
            "value": " 29696/? [00:00&lt;00:00, 41237.86it/s]",
            "_view_count": null,
            "_view_module_version": "1.5.0",
            "description_tooltip": null,
            "_model_module": "@jupyter-widgets/controls",
            "layout": "IPY_MODEL_4ca09514bd4f4e7e967076d23b64c2f5"
          }
        },
        "0041808bcb1943b8b51f4ef76d85f19b": {
          "model_module": "@jupyter-widgets/controls",
          "model_name": "ProgressStyleModel",
          "state": {
            "_view_name": "StyleView",
            "_model_name": "ProgressStyleModel",
            "description_width": "initial",
            "_view_module": "@jupyter-widgets/base",
            "_model_module_version": "1.5.0",
            "_view_count": null,
            "_view_module_version": "1.2.0",
            "bar_color": null,
            "_model_module": "@jupyter-widgets/controls"
          }
        },
        "a19db126d2454e73b03fb1ed89e8a416": {
          "model_module": "@jupyter-widgets/base",
          "model_name": "LayoutModel",
          "state": {
            "_view_name": "LayoutView",
            "grid_template_rows": null,
            "right": null,
            "justify_content": null,
            "_view_module": "@jupyter-widgets/base",
            "overflow": null,
            "_model_module_version": "1.2.0",
            "_view_count": null,
            "flex_flow": null,
            "width": null,
            "min_width": null,
            "border": null,
            "align_items": null,
            "bottom": null,
            "_model_module": "@jupyter-widgets/base",
            "top": null,
            "grid_column": null,
            "overflow_y": null,
            "overflow_x": null,
            "grid_auto_flow": null,
            "grid_area": null,
            "grid_template_columns": null,
            "flex": null,
            "_model_name": "LayoutModel",
            "justify_items": null,
            "grid_row": null,
            "max_height": null,
            "align_content": null,
            "visibility": null,
            "align_self": null,
            "height": null,
            "min_height": null,
            "padding": null,
            "grid_auto_rows": null,
            "grid_gap": null,
            "max_width": null,
            "order": null,
            "_view_module_version": "1.2.0",
            "grid_template_areas": null,
            "object_position": null,
            "object_fit": null,
            "grid_auto_columns": null,
            "margin": null,
            "display": null,
            "left": null
          }
        },
        "d17a1a8409044e759d0be4a2233ace91": {
          "model_module": "@jupyter-widgets/controls",
          "model_name": "DescriptionStyleModel",
          "state": {
            "_view_name": "StyleView",
            "_model_name": "DescriptionStyleModel",
            "description_width": "",
            "_view_module": "@jupyter-widgets/base",
            "_model_module_version": "1.5.0",
            "_view_count": null,
            "_view_module_version": "1.2.0",
            "_model_module": "@jupyter-widgets/controls"
          }
        },
        "4ca09514bd4f4e7e967076d23b64c2f5": {
          "model_module": "@jupyter-widgets/base",
          "model_name": "LayoutModel",
          "state": {
            "_view_name": "LayoutView",
            "grid_template_rows": null,
            "right": null,
            "justify_content": null,
            "_view_module": "@jupyter-widgets/base",
            "overflow": null,
            "_model_module_version": "1.2.0",
            "_view_count": null,
            "flex_flow": null,
            "width": null,
            "min_width": null,
            "border": null,
            "align_items": null,
            "bottom": null,
            "_model_module": "@jupyter-widgets/base",
            "top": null,
            "grid_column": null,
            "overflow_y": null,
            "overflow_x": null,
            "grid_auto_flow": null,
            "grid_area": null,
            "grid_template_columns": null,
            "flex": null,
            "_model_name": "LayoutModel",
            "justify_items": null,
            "grid_row": null,
            "max_height": null,
            "align_content": null,
            "visibility": null,
            "align_self": null,
            "height": null,
            "min_height": null,
            "padding": null,
            "grid_auto_rows": null,
            "grid_gap": null,
            "max_width": null,
            "order": null,
            "_view_module_version": "1.2.0",
            "grid_template_areas": null,
            "object_position": null,
            "object_fit": null,
            "grid_auto_columns": null,
            "margin": null,
            "display": null,
            "left": null
          }
        },
        "c898bff378e94593a2b83b08821484fc": {
          "model_module": "@jupyter-widgets/controls",
          "model_name": "HBoxModel",
          "state": {
            "_view_name": "HBoxView",
            "_dom_classes": [],
            "_model_name": "HBoxModel",
            "_view_module": "@jupyter-widgets/controls",
            "_model_module_version": "1.5.0",
            "_view_count": null,
            "_view_module_version": "1.5.0",
            "box_style": "",
            "layout": "IPY_MODEL_f633cec4074b461f90899787a9628cc1",
            "_model_module": "@jupyter-widgets/controls",
            "children": [
              "IPY_MODEL_5c6ad0ac39a440119d7270077d016330",
              "IPY_MODEL_2f0c5797a43e4fe1954af59d46844524"
            ]
          }
        },
        "f633cec4074b461f90899787a9628cc1": {
          "model_module": "@jupyter-widgets/base",
          "model_name": "LayoutModel",
          "state": {
            "_view_name": "LayoutView",
            "grid_template_rows": null,
            "right": null,
            "justify_content": null,
            "_view_module": "@jupyter-widgets/base",
            "overflow": null,
            "_model_module_version": "1.2.0",
            "_view_count": null,
            "flex_flow": null,
            "width": null,
            "min_width": null,
            "border": null,
            "align_items": null,
            "bottom": null,
            "_model_module": "@jupyter-widgets/base",
            "top": null,
            "grid_column": null,
            "overflow_y": null,
            "overflow_x": null,
            "grid_auto_flow": null,
            "grid_area": null,
            "grid_template_columns": null,
            "flex": null,
            "_model_name": "LayoutModel",
            "justify_items": null,
            "grid_row": null,
            "max_height": null,
            "align_content": null,
            "visibility": null,
            "align_self": null,
            "height": null,
            "min_height": null,
            "padding": null,
            "grid_auto_rows": null,
            "grid_gap": null,
            "max_width": null,
            "order": null,
            "_view_module_version": "1.2.0",
            "grid_template_areas": null,
            "object_position": null,
            "object_fit": null,
            "grid_auto_columns": null,
            "margin": null,
            "display": null,
            "left": null
          }
        },
        "5c6ad0ac39a440119d7270077d016330": {
          "model_module": "@jupyter-widgets/controls",
          "model_name": "FloatProgressModel",
          "state": {
            "_view_name": "ProgressView",
            "style": "IPY_MODEL_e5f0a594496840958c3f7cc20984e7d6",
            "_dom_classes": [],
            "description": "",
            "_model_name": "FloatProgressModel",
            "bar_style": "success",
            "max": 1648877,
            "_view_module": "@jupyter-widgets/controls",
            "_model_module_version": "1.5.0",
            "value": 1648877,
            "_view_count": null,
            "_view_module_version": "1.5.0",
            "orientation": "horizontal",
            "min": 0,
            "description_tooltip": null,
            "_model_module": "@jupyter-widgets/controls",
            "layout": "IPY_MODEL_4cb4b703fc0f4aac930203f3731820fa"
          }
        },
        "2f0c5797a43e4fe1954af59d46844524": {
          "model_module": "@jupyter-widgets/controls",
          "model_name": "HTMLModel",
          "state": {
            "_view_name": "HTMLView",
            "style": "IPY_MODEL_4d0a0fd7ad384e2e9d60588b6ad9546b",
            "_dom_classes": [],
            "description": "",
            "_model_name": "HTMLModel",
            "placeholder": "​",
            "_view_module": "@jupyter-widgets/controls",
            "_model_module_version": "1.5.0",
            "value": " 1649664/? [00:00&lt;00:00, 3999854.50it/s]",
            "_view_count": null,
            "_view_module_version": "1.5.0",
            "description_tooltip": null,
            "_model_module": "@jupyter-widgets/controls",
            "layout": "IPY_MODEL_accc3e50656440cd9ec2819d916edf18"
          }
        },
        "e5f0a594496840958c3f7cc20984e7d6": {
          "model_module": "@jupyter-widgets/controls",
          "model_name": "ProgressStyleModel",
          "state": {
            "_view_name": "StyleView",
            "_model_name": "ProgressStyleModel",
            "description_width": "initial",
            "_view_module": "@jupyter-widgets/base",
            "_model_module_version": "1.5.0",
            "_view_count": null,
            "_view_module_version": "1.2.0",
            "bar_color": null,
            "_model_module": "@jupyter-widgets/controls"
          }
        },
        "4cb4b703fc0f4aac930203f3731820fa": {
          "model_module": "@jupyter-widgets/base",
          "model_name": "LayoutModel",
          "state": {
            "_view_name": "LayoutView",
            "grid_template_rows": null,
            "right": null,
            "justify_content": null,
            "_view_module": "@jupyter-widgets/base",
            "overflow": null,
            "_model_module_version": "1.2.0",
            "_view_count": null,
            "flex_flow": null,
            "width": null,
            "min_width": null,
            "border": null,
            "align_items": null,
            "bottom": null,
            "_model_module": "@jupyter-widgets/base",
            "top": null,
            "grid_column": null,
            "overflow_y": null,
            "overflow_x": null,
            "grid_auto_flow": null,
            "grid_area": null,
            "grid_template_columns": null,
            "flex": null,
            "_model_name": "LayoutModel",
            "justify_items": null,
            "grid_row": null,
            "max_height": null,
            "align_content": null,
            "visibility": null,
            "align_self": null,
            "height": null,
            "min_height": null,
            "padding": null,
            "grid_auto_rows": null,
            "grid_gap": null,
            "max_width": null,
            "order": null,
            "_view_module_version": "1.2.0",
            "grid_template_areas": null,
            "object_position": null,
            "object_fit": null,
            "grid_auto_columns": null,
            "margin": null,
            "display": null,
            "left": null
          }
        },
        "4d0a0fd7ad384e2e9d60588b6ad9546b": {
          "model_module": "@jupyter-widgets/controls",
          "model_name": "DescriptionStyleModel",
          "state": {
            "_view_name": "StyleView",
            "_model_name": "DescriptionStyleModel",
            "description_width": "",
            "_view_module": "@jupyter-widgets/base",
            "_model_module_version": "1.5.0",
            "_view_count": null,
            "_view_module_version": "1.2.0",
            "_model_module": "@jupyter-widgets/controls"
          }
        },
        "accc3e50656440cd9ec2819d916edf18": {
          "model_module": "@jupyter-widgets/base",
          "model_name": "LayoutModel",
          "state": {
            "_view_name": "LayoutView",
            "grid_template_rows": null,
            "right": null,
            "justify_content": null,
            "_view_module": "@jupyter-widgets/base",
            "overflow": null,
            "_model_module_version": "1.2.0",
            "_view_count": null,
            "flex_flow": null,
            "width": null,
            "min_width": null,
            "border": null,
            "align_items": null,
            "bottom": null,
            "_model_module": "@jupyter-widgets/base",
            "top": null,
            "grid_column": null,
            "overflow_y": null,
            "overflow_x": null,
            "grid_auto_flow": null,
            "grid_area": null,
            "grid_template_columns": null,
            "flex": null,
            "_model_name": "LayoutModel",
            "justify_items": null,
            "grid_row": null,
            "max_height": null,
            "align_content": null,
            "visibility": null,
            "align_self": null,
            "height": null,
            "min_height": null,
            "padding": null,
            "grid_auto_rows": null,
            "grid_gap": null,
            "max_width": null,
            "order": null,
            "_view_module_version": "1.2.0",
            "grid_template_areas": null,
            "object_position": null,
            "object_fit": null,
            "grid_auto_columns": null,
            "margin": null,
            "display": null,
            "left": null
          }
        },
        "aeb72c012b49492baf57a4331efe9472": {
          "model_module": "@jupyter-widgets/controls",
          "model_name": "HBoxModel",
          "state": {
            "_view_name": "HBoxView",
            "_dom_classes": [],
            "_model_name": "HBoxModel",
            "_view_module": "@jupyter-widgets/controls",
            "_model_module_version": "1.5.0",
            "_view_count": null,
            "_view_module_version": "1.5.0",
            "box_style": "",
            "layout": "IPY_MODEL_374774917f1d425587d963efd58d38db",
            "_model_module": "@jupyter-widgets/controls",
            "children": [
              "IPY_MODEL_f7dc30568037491393850999b10d4316",
              "IPY_MODEL_45e46faa88604722960e46736a5e3a1c"
            ]
          }
        },
        "374774917f1d425587d963efd58d38db": {
          "model_module": "@jupyter-widgets/base",
          "model_name": "LayoutModel",
          "state": {
            "_view_name": "LayoutView",
            "grid_template_rows": null,
            "right": null,
            "justify_content": null,
            "_view_module": "@jupyter-widgets/base",
            "overflow": null,
            "_model_module_version": "1.2.0",
            "_view_count": null,
            "flex_flow": null,
            "width": null,
            "min_width": null,
            "border": null,
            "align_items": null,
            "bottom": null,
            "_model_module": "@jupyter-widgets/base",
            "top": null,
            "grid_column": null,
            "overflow_y": null,
            "overflow_x": null,
            "grid_auto_flow": null,
            "grid_area": null,
            "grid_template_columns": null,
            "flex": null,
            "_model_name": "LayoutModel",
            "justify_items": null,
            "grid_row": null,
            "max_height": null,
            "align_content": null,
            "visibility": null,
            "align_self": null,
            "height": null,
            "min_height": null,
            "padding": null,
            "grid_auto_rows": null,
            "grid_gap": null,
            "max_width": null,
            "order": null,
            "_view_module_version": "1.2.0",
            "grid_template_areas": null,
            "object_position": null,
            "object_fit": null,
            "grid_auto_columns": null,
            "margin": null,
            "display": null,
            "left": null
          }
        },
        "f7dc30568037491393850999b10d4316": {
          "model_module": "@jupyter-widgets/controls",
          "model_name": "FloatProgressModel",
          "state": {
            "_view_name": "ProgressView",
            "style": "IPY_MODEL_5482b7cf05dd4bd8aa993b7be5f4936e",
            "_dom_classes": [],
            "description": "",
            "_model_name": "FloatProgressModel",
            "bar_style": "success",
            "max": 4542,
            "_view_module": "@jupyter-widgets/controls",
            "_model_module_version": "1.5.0",
            "value": 4542,
            "_view_count": null,
            "_view_module_version": "1.5.0",
            "orientation": "horizontal",
            "min": 0,
            "description_tooltip": null,
            "_model_module": "@jupyter-widgets/controls",
            "layout": "IPY_MODEL_1e220abd23e74c9c84d9804f489cee77"
          }
        },
        "45e46faa88604722960e46736a5e3a1c": {
          "model_module": "@jupyter-widgets/controls",
          "model_name": "HTMLModel",
          "state": {
            "_view_name": "HTMLView",
            "style": "IPY_MODEL_85007cbf349241d9b79122db8aeae40f",
            "_dom_classes": [],
            "description": "",
            "_model_name": "HTMLModel",
            "placeholder": "​",
            "_view_module": "@jupyter-widgets/controls",
            "_model_module_version": "1.5.0",
            "value": " 5120/? [00:02&lt;00:00, 2473.31it/s]",
            "_view_count": null,
            "_view_module_version": "1.5.0",
            "description_tooltip": null,
            "_model_module": "@jupyter-widgets/controls",
            "layout": "IPY_MODEL_ae5b9c61a0c54a66bf074d6a120e0a22"
          }
        },
        "5482b7cf05dd4bd8aa993b7be5f4936e": {
          "model_module": "@jupyter-widgets/controls",
          "model_name": "ProgressStyleModel",
          "state": {
            "_view_name": "StyleView",
            "_model_name": "ProgressStyleModel",
            "description_width": "initial",
            "_view_module": "@jupyter-widgets/base",
            "_model_module_version": "1.5.0",
            "_view_count": null,
            "_view_module_version": "1.2.0",
            "bar_color": null,
            "_model_module": "@jupyter-widgets/controls"
          }
        },
        "1e220abd23e74c9c84d9804f489cee77": {
          "model_module": "@jupyter-widgets/base",
          "model_name": "LayoutModel",
          "state": {
            "_view_name": "LayoutView",
            "grid_template_rows": null,
            "right": null,
            "justify_content": null,
            "_view_module": "@jupyter-widgets/base",
            "overflow": null,
            "_model_module_version": "1.2.0",
            "_view_count": null,
            "flex_flow": null,
            "width": null,
            "min_width": null,
            "border": null,
            "align_items": null,
            "bottom": null,
            "_model_module": "@jupyter-widgets/base",
            "top": null,
            "grid_column": null,
            "overflow_y": null,
            "overflow_x": null,
            "grid_auto_flow": null,
            "grid_area": null,
            "grid_template_columns": null,
            "flex": null,
            "_model_name": "LayoutModel",
            "justify_items": null,
            "grid_row": null,
            "max_height": null,
            "align_content": null,
            "visibility": null,
            "align_self": null,
            "height": null,
            "min_height": null,
            "padding": null,
            "grid_auto_rows": null,
            "grid_gap": null,
            "max_width": null,
            "order": null,
            "_view_module_version": "1.2.0",
            "grid_template_areas": null,
            "object_position": null,
            "object_fit": null,
            "grid_auto_columns": null,
            "margin": null,
            "display": null,
            "left": null
          }
        },
        "85007cbf349241d9b79122db8aeae40f": {
          "model_module": "@jupyter-widgets/controls",
          "model_name": "DescriptionStyleModel",
          "state": {
            "_view_name": "StyleView",
            "_model_name": "DescriptionStyleModel",
            "description_width": "",
            "_view_module": "@jupyter-widgets/base",
            "_model_module_version": "1.5.0",
            "_view_count": null,
            "_view_module_version": "1.2.0",
            "_model_module": "@jupyter-widgets/controls"
          }
        },
        "ae5b9c61a0c54a66bf074d6a120e0a22": {
          "model_module": "@jupyter-widgets/base",
          "model_name": "LayoutModel",
          "state": {
            "_view_name": "LayoutView",
            "grid_template_rows": null,
            "right": null,
            "justify_content": null,
            "_view_module": "@jupyter-widgets/base",
            "overflow": null,
            "_model_module_version": "1.2.0",
            "_view_count": null,
            "flex_flow": null,
            "width": null,
            "min_width": null,
            "border": null,
            "align_items": null,
            "bottom": null,
            "_model_module": "@jupyter-widgets/base",
            "top": null,
            "grid_column": null,
            "overflow_y": null,
            "overflow_x": null,
            "grid_auto_flow": null,
            "grid_area": null,
            "grid_template_columns": null,
            "flex": null,
            "_model_name": "LayoutModel",
            "justify_items": null,
            "grid_row": null,
            "max_height": null,
            "align_content": null,
            "visibility": null,
            "align_self": null,
            "height": null,
            "min_height": null,
            "padding": null,
            "grid_auto_rows": null,
            "grid_gap": null,
            "max_width": null,
            "order": null,
            "_view_module_version": "1.2.0",
            "grid_template_areas": null,
            "object_position": null,
            "object_fit": null,
            "grid_auto_columns": null,
            "margin": null,
            "display": null,
            "left": null
          }
        }
      }
    }
  },
  "cells": [
    {
      "cell_type": "markdown",
      "metadata": {
        "id": "view-in-github",
        "colab_type": "text"
      },
      "source": [
        "<a href=\"https://colab.research.google.com/github/Auzzer/QuickPytorchTutor/blob/main/QuickPytorchTutor.ipynb\" target=\"_parent\"><img src=\"https://colab.research.google.com/assets/colab-badge.svg\" alt=\"Open In Colab\"/></a>"
      ]
    },
    {
      "cell_type": "markdown",
      "metadata": {
        "id": "Ibcrniah2B94"
      },
      "source": [
        ""
      ]
    },
    {
      "cell_type": "markdown",
      "metadata": {
        "id": "GjsadXRuj12S"
      },
      "source": [
        "# Tensor (张量)的创建与基本操作\n",
        "张量是GPU运算中常见的数据类型，类似于Numpy中的数组，但是由于深度学习中常常需要使用GPU进行并行运算，提升计算速度，因此使用Tensor"
      ]
    },
    {
      "cell_type": "markdown",
      "metadata": {
        "id": "DAknU9WCkuqU"
      },
      "source": [
        "## 创建"
      ]
    },
    {
      "cell_type": "code",
      "metadata": {
        "id": "TZlmxcMRjhR1"
      },
      "source": [
        "import torch"
      ],
      "execution_count": 5,
      "outputs": []
    },
    {
      "cell_type": "code",
      "metadata": {
        "colab": {
          "base_uri": "https://localhost:8080/"
        },
        "id": "ig-ZWsc6kfzD",
        "outputId": "30a2a8f8-8bc1-4273-b99f-ffd33e6f2f77"
      },
      "source": [
        "# 创建一个张量通常需要初始化，我们一般使用：\n",
        "x1 = torch.empty(5, 3) #一个5x3的张量\n",
        "print(x1)\n",
        "\n",
        "# 随机初始化张量\n",
        "x2 = torch.rand(5, 3)\n",
        "print(x2)\n",
        "\n",
        "# 在初始化张量时，有时需要指定数据类型：\n",
        "x3 = torch.zeros(5, 3, dtype=torch.long) #创建一个数据类型为long的\"0\"填充矩阵\n",
        "print(x3)\n",
        "\n",
        "# 如果已知一个矩阵，将其转化为张量加速计算\n",
        "x4 = torch.tensor([[1,2,3],[6,7,8]]) \n",
        "print(x4)"
      ],
      "execution_count": 6,
      "outputs": [
        {
          "output_type": "stream",
          "text": [
            "tensor([[-3.2421e-18,  3.0744e-41,  3.3631e-44],\n",
            "        [ 0.0000e+00,         nan,  0.0000e+00],\n",
            "        [ 1.1578e+27,  1.1362e+30,  7.1547e+22],\n",
            "        [ 4.5828e+30,  1.2121e+04,  7.1846e+22],\n",
            "        [ 9.2198e-39,  7.0374e+22,  0.0000e+00]])\n",
            "tensor([[0.4456, 0.6402, 0.0382],\n",
            "        [0.4644, 0.8428, 0.5611],\n",
            "        [0.7342, 0.9761, 0.5033],\n",
            "        [0.9489, 0.2707, 0.3581],\n",
            "        [0.9228, 0.9151, 0.1960]])\n",
            "tensor([[0, 0, 0],\n",
            "        [0, 0, 0],\n",
            "        [0, 0, 0],\n",
            "        [0, 0, 0],\n",
            "        [0, 0, 0]])\n",
            "tensor([[1, 2, 3],\n",
            "        [6, 7, 8]])\n"
          ],
          "name": "stdout"
        }
      ]
    },
    {
      "cell_type": "code",
      "metadata": {
        "colab": {
          "base_uri": "https://localhost:8080/"
        },
        "id": "aBQL0ZvouIbW",
        "outputId": "181c9a80-fb1a-412b-e2a9-962e53773366"
      },
      "source": [
        "# 获取size\n",
        "print(x4.size()) # 结果表示为两行三列"
      ],
      "execution_count": 7,
      "outputs": [
        {
          "output_type": "stream",
          "text": [
            "torch.Size([2, 3])\n"
          ],
          "name": "stdout"
        }
      ]
    },
    {
      "cell_type": "markdown",
      "metadata": {
        "id": "mfivPcEtj6xv"
      },
      "source": [
        "## Basic Product\n"
      ]
    },
    {
      "cell_type": "markdown",
      "metadata": {
        "id": "LhcpNne0v146"
      },
      "source": [
        "### 加法"
      ]
    },
    {
      "cell_type": "code",
      "metadata": {
        "colab": {
          "base_uri": "https://localhost:8080/"
        },
        "id": "8AEOQiMQk0C8",
        "outputId": "5706daf9-e405-4bf9-9b7d-7f2be1f881fd"
      },
      "source": [
        "# 对于一个最简单的加法\n",
        "x = torch.rand(5, 3)\n",
        "y = torch.rand(5, 3)\n",
        "print (x+y)\n",
        "# 或者\n",
        "print (torch.add(x, y))\n",
        "\n",
        "# 对于torch.add(),有一个option可以将结果保存下来,但是首先需要将结果初始化\n",
        "result = torch.empty(5, 3)\n",
        "torch.add(x, y, out = result)\n",
        "print(\"result: \\n\",result)\n",
        "\n",
        "#特别值得注意的是，torch.add()函数只能对两个张量进行运算，当数量大于二的时候：\n",
        "y1 = torch.zeros(5, 3)\n",
        "y2 = torch.empty(5, 3)\n",
        "for i in range(0, 5):\n",
        "  xi = torch.rand(5, 3)\n",
        "  y1.add(xi)\n",
        "  y2.add(xi)\n",
        "\n",
        "print(\"y1\\n\",y1)\n",
        "print(\"y2\\n\",y2)\n",
        "# 结果显示在做加法的时候，由于empty张量会随机给一个值，所以应该使用\"zeros张量\""
      ],
      "execution_count": 8,
      "outputs": [
        {
          "output_type": "stream",
          "text": [
            "tensor([[1.2369, 0.6343, 1.6699],\n",
            "        [0.6543, 0.2474, 0.5704],\n",
            "        [0.4581, 1.1925, 1.1761],\n",
            "        [1.4182, 0.5535, 1.1697],\n",
            "        [0.9455, 0.9002, 0.9133]])\n",
            "tensor([[1.2369, 0.6343, 1.6699],\n",
            "        [0.6543, 0.2474, 0.5704],\n",
            "        [0.4581, 1.1925, 1.1761],\n",
            "        [1.4182, 0.5535, 1.1697],\n",
            "        [0.9455, 0.9002, 0.9133]])\n",
            "result: \n",
            " tensor([[1.2369, 0.6343, 1.6699],\n",
            "        [0.6543, 0.2474, 0.5704],\n",
            "        [0.4581, 1.1925, 1.1761],\n",
            "        [1.4182, 0.5535, 1.1697],\n",
            "        [0.9455, 0.9002, 0.9133]])\n",
            "y1\n",
            " tensor([[0., 0., 0.],\n",
            "        [0., 0., 0.],\n",
            "        [0., 0., 0.],\n",
            "        [0., 0., 0.],\n",
            "        [0., 0., 0.]])\n",
            "y2\n",
            " tensor([[-3.2422e-18,  3.0744e-41,  1.6699e+00],\n",
            "        [ 6.5426e-01,  2.4738e-01,  5.7041e-01],\n",
            "        [ 4.5815e-01,  1.1925e+00,  1.1761e+00],\n",
            "        [ 1.4182e+00,  5.5355e-01,  1.1697e+00],\n",
            "        [ 9.4548e-01,  9.0020e-01,  9.1331e-01]])\n"
          ],
          "name": "stdout"
        }
      ]
    },
    {
      "cell_type": "markdown",
      "metadata": {
        "id": "GnVEnYjsyuBR"
      },
      "source": [
        "### 乘法\n",
        "在矩阵中，乘法有点乘和叉乘两种，张量也有相对应的不同计算方法"
      ]
    },
    {
      "cell_type": "code",
      "metadata": {
        "colab": {
          "base_uri": "https://localhost:8080/"
        },
        "id": "a_Pe1mhsy9-b",
        "outputId": "99b2d9fe-e460-48b6-9d1e-8d76008c0fb4"
      },
      "source": [
        "# 点乘\n",
        "x1 = torch.rand(5, 3)\n",
        "x2 = torch.rand(5, 3)\n",
        "y = torch.mul(x1, x2)# 类似与上文的add，在多个张量可以使用x1.mul(x2)\n",
        "print(\"x1:\\n\", x1, \"\\n x2:\\n\", x2, \"\\n y:\\n\",y)\n",
        "\n",
        "# 叉乘\n",
        "x1 = torch.rand(2, 3)\n",
        "x2 = torch.rand(3, 4)\n",
        "y = torch.mm(x1, x2)# 类似与上文的add，在多个张量可以使用x1.mm(x2)\n",
        "print(\"x1:\\n\", x1, \"\\nx2:\\n\", x2, \"\\ny:\\n\",y)"
      ],
      "execution_count": 9,
      "outputs": [
        {
          "output_type": "stream",
          "text": [
            "x1:\n",
            " tensor([[0.0881, 0.7032, 0.4822],\n",
            "        [0.0977, 0.2409, 0.4266],\n",
            "        [0.5005, 0.0530, 0.4396],\n",
            "        [0.0028, 0.6754, 0.1721],\n",
            "        [0.4216, 0.2120, 0.1060]]) \n",
            " x2:\n",
            " tensor([[0.2793, 0.0019, 0.2414],\n",
            "        [0.0983, 0.4774, 0.3920],\n",
            "        [0.0697, 0.9936, 0.3007],\n",
            "        [0.8484, 0.2909, 0.7186],\n",
            "        [0.7813, 0.2895, 0.3635]]) \n",
            " y:\n",
            " tensor([[0.0246, 0.0013, 0.1164],\n",
            "        [0.0096, 0.1150, 0.1672],\n",
            "        [0.0349, 0.0526, 0.1322],\n",
            "        [0.0024, 0.1965, 0.1237],\n",
            "        [0.3294, 0.0614, 0.0385]])\n",
            "x1:\n",
            " tensor([[0.8032, 0.4734, 0.5511],\n",
            "        [0.0625, 0.2105, 0.9098]]) \n",
            "x2:\n",
            " tensor([[0.3858, 0.0129, 0.7808, 0.3517],\n",
            "        [0.2613, 0.6456, 0.5114, 0.6896],\n",
            "        [0.9197, 0.5174, 0.3417, 0.2045]]) \n",
            "y:\n",
            " tensor([[0.9404, 0.6011, 1.0575, 0.7217],\n",
            "        [0.9159, 0.6074, 0.4673, 0.3532]])\n"
          ],
          "name": "stdout"
        }
      ]
    },
    {
      "cell_type": "markdown",
      "metadata": {
        "id": "B6mEi_L_58zQ"
      },
      "source": [
        "### Numpy中的对应与转化"
      ]
    },
    {
      "cell_type": "markdown",
      "metadata": {
        "id": "Aio6cWJ63gDh"
      },
      "source": [
        "#### 索引\n",
        "torch支持使用类似于Numpy中的索引对张量进行操作\n"
      ]
    },
    {
      "cell_type": "code",
      "metadata": {
        "colab": {
          "base_uri": "https://localhost:8080/"
        },
        "id": "NVOpdct03fK0",
        "outputId": "cdcac2d4-765a-4ba2-98d3-e74fc8c0eb92"
      },
      "source": [
        "x = torch.tensor([[1,2,3],[3,4,5]])\n",
        "print(x[:,0])\n",
        "print(x[1,:])"
      ],
      "execution_count": 10,
      "outputs": [
        {
          "output_type": "stream",
          "text": [
            "tensor([1, 3])\n",
            "tensor([3, 4, 5])\n"
          ],
          "name": "stdout"
        }
      ]
    },
    {
      "cell_type": "markdown",
      "metadata": {
        "id": "J3cygC_r5wiA"
      },
      "source": [
        "#### 在numpy中reshape对应"
      ]
    },
    {
      "cell_type": "code",
      "metadata": {
        "colab": {
          "base_uri": "https://localhost:8080/"
        },
        "id": "27uYpMdW6MbV",
        "outputId": "cd67e9ed-4bb5-418d-8b69-0672685bfccb"
      },
      "source": [
        "x = torch.randn(5, 3)\n",
        "y = x.view(3, 5)\n",
        "z = x.view(-1, 5) # 当选项中有一个-1时候，代表从另外一个维度考虑转化方式\n",
        "print(x)\n",
        "print(y)\n",
        "print(z)"
      ],
      "execution_count": 11,
      "outputs": [
        {
          "output_type": "stream",
          "text": [
            "tensor([[ 1.2650, -0.2028, -0.5862],\n",
            "        [-1.4907,  0.4704,  1.8958],\n",
            "        [-0.9064, -0.8529,  1.2621],\n",
            "        [ 1.2626, -0.2702,  1.4999],\n",
            "        [ 1.3624, -0.2365, -0.7315]])\n",
            "tensor([[ 1.2650, -0.2028, -0.5862, -1.4907,  0.4704],\n",
            "        [ 1.8958, -0.9064, -0.8529,  1.2621,  1.2626],\n",
            "        [-0.2702,  1.4999,  1.3624, -0.2365, -0.7315]])\n",
            "tensor([[ 1.2650, -0.2028, -0.5862, -1.4907,  0.4704],\n",
            "        [ 1.8958, -0.9064, -0.8529,  1.2621,  1.2626],\n",
            "        [-0.2702,  1.4999,  1.3624, -0.2365, -0.7315]])\n"
          ],
          "name": "stdout"
        }
      ]
    },
    {
      "cell_type": "markdown",
      "metadata": {
        "id": "4nJJsSoI84R5"
      },
      "source": [
        "### 覆盖操作\n",
        "任何以\"_\"结尾的函数（操作）都会替换原来的变量"
      ]
    },
    {
      "cell_type": "code",
      "metadata": {
        "colab": {
          "base_uri": "https://localhost:8080/"
        },
        "id": "wkXlm9j29Kal",
        "outputId": "c7c2c846-fb68-494b-893d-ea0cc2e8b6b1"
      },
      "source": [
        "x1 = torch.rand(5, 3)\n",
        "print(\"覆盖以前的x1:\\n\", x1)\n",
        "x2 = torch.rand(5, 3)\n",
        "y = x1.add_(x2)\n",
        "print(\"覆盖以后的x1:\\n\", x1)\n",
        "print(y)"
      ],
      "execution_count": 12,
      "outputs": [
        {
          "output_type": "stream",
          "text": [
            "覆盖以前的x1:\n",
            " tensor([[0.9106, 0.7204, 0.3183],\n",
            "        [0.1822, 0.0404, 0.7722],\n",
            "        [0.3542, 0.1158, 0.3097],\n",
            "        [0.1543, 0.5186, 0.0266],\n",
            "        [0.4276, 0.7210, 0.3803]])\n",
            "覆盖以后的x1:\n",
            " tensor([[1.8458, 1.3653, 0.6243],\n",
            "        [0.9819, 0.2316, 1.0245],\n",
            "        [1.2317, 0.9074, 0.5705],\n",
            "        [0.4341, 1.2725, 0.1031],\n",
            "        [0.9146, 1.0977, 0.9487]])\n",
            "tensor([[1.8458, 1.3653, 0.6243],\n",
            "        [0.9819, 0.2316, 1.0245],\n",
            "        [1.2317, 0.9074, 0.5705],\n",
            "        [0.4341, 1.2725, 0.1031],\n",
            "        [0.9146, 1.0977, 0.9487]])\n"
          ],
          "name": "stdout"
        }
      ]
    },
    {
      "cell_type": "markdown",
      "metadata": {
        "id": "JyRe1bB96GIy"
      },
      "source": [
        "可以看到x1的值发生了变化,但是和y的值是一样的<br>\n",
        "更多对于tensor的operation可以参考官方文档：https://pytorch.org/docs/stable/torch.html\n"
      ]
    },
    {
      "cell_type": "markdown",
      "metadata": {
        "id": "Jhf_3MDZk4Lt"
      },
      "source": [
        "## Cuda加速\n",
        "在这里我们先提出一个概念：\n",
        "为了计算加速，有一些数据可以被放入cuda中加速计算。<br>\n",
        "在这里我们先将tensor放入cuda中，第一步需要先判定是否有cuda(GPU)可以使用"
      ]
    },
    {
      "cell_type": "code",
      "metadata": {
        "colab": {
          "base_uri": "https://localhost:8080/"
        },
        "id": "OkSHA4gKlBAp",
        "outputId": "c31afff5-9081-4274-e665-b5a755ee13dd"
      },
      "source": [
        "import torch\n",
        "x = torch.rand(5, 3)\n",
        "\n",
        "device = torch.device(\"cuda\" if torch.cuda.is_available() else \"cpu\")\n",
        "\n",
        "# 下面分别从cuda中直接生成tensor以及将tensor生成后放进cuda中\n",
        "x = x.to(device)\n",
        "y = torch.ones_like(x, device=device)\n",
        "z = x + y\n",
        "print(z)\n",
        "print(z.to(\"cpu\", torch.double))\n"
      ],
      "execution_count": 13,
      "outputs": [
        {
          "output_type": "stream",
          "text": [
            "tensor([[1.0470, 1.9108, 1.5184],\n",
            "        [1.5377, 1.9308, 1.0736],\n",
            "        [1.8337, 1.5510, 1.2411],\n",
            "        [1.0325, 1.0588, 1.2670],\n",
            "        [1.9351, 1.7513, 1.6019]])\n",
            "tensor([[1.0470, 1.9108, 1.5184],\n",
            "        [1.5377, 1.9308, 1.0736],\n",
            "        [1.8337, 1.5510, 1.2411],\n",
            "        [1.0325, 1.0588, 1.2670],\n",
            "        [1.9351, 1.7513, 1.6019]], dtype=torch.float64)\n"
          ],
          "name": "stdout"
        }
      ]
    },
    {
      "cell_type": "markdown",
      "metadata": {
        "id": "kx-3siwizYOp"
      },
      "source": [
        "# 神经网络训练\n",
        "对于一个神经网络而言，一般都会有\n",
        "\n",
        "1.   数据处理\n",
        "2.   定义网络\n",
        "3.   训练策略\n",
        "4.   可视化\n",
        "5.   Pre-train & Fine-Tune(可选) <br>\n",
        "\n",
        "这几个部分，接下来我们将逐一介绍\n",
        "\n"
      ]
    },
    {
      "cell_type": "markdown",
      "metadata": {
        "id": "6S6iMV6lzhnI"
      },
      "source": [
        "## 数据处理\n"
      ]
    },
    {
      "cell_type": "markdown",
      "metadata": {
        "id": "EPYyc6wy_AWE"
      },
      "source": [
        "### 数据加载"
      ]
    },
    {
      "cell_type": "markdown",
      "metadata": {
        "id": "LgQ27Wk5ADLk"
      },
      "source": [
        "在进行对比实验时，经常需要公用数据集，torch内置了几个常用数据集包括：\n",
        "\n",
        "* MNIST\n",
        "* ImageNet\n",
        "* COCO\n",
        "* CIFAR <br>\n",
        "\n",
        "等等....<br>\n",
        "我们只需要调用torchvision中的torchvision.datasets就可以使用它，他的安装方式是：\n",
        "\n",
        "\n",
        "```\n",
        "pip install torchvision\n",
        "```\n",
        "torchvision.datasets 可以理解为PyTorch团队自定义的dataset，这些dataset帮我们提前处理好了很多的图片数据集，我们拿来就可以直接使用,具体使用方式如下：\n",
        "\n",
        "\n",
        "\n"
      ]
    },
    {
      "cell_type": "code",
      "metadata": {
        "id": "MbebLkcDAEX_"
      },
      "source": [
        "import torchvision.datasets as datasets\n",
        "\n",
        "trainset = datasets.MNIST(root=\"./data\",\n",
        "              train=True,# True为训练集，False为测试集\n",
        "              download=True, #表示是否需要下载数据集\n",
        "              transform=None) #是否对其进行数据增广\n",
        "validset = datasets.MNIST(root=\"./data\", train=True, download=False, transform=None)        "
      ],
      "execution_count": 14,
      "outputs": []
    },
    {
      "cell_type": "markdown",
      "metadata": {
        "id": "emzhThi3CL6l"
      },
      "source": [
        "在很多时候，我们也需要自定义数据集去完成我们需要的任务，接下来介绍如何进行操作"
      ]
    },
    {
      "cell_type": "markdown",
      "metadata": {
        "id": "gu6QgsKmXXR9"
      },
      "source": [
        "在Pytorch中为了便于调用函数（因为通常在文件过大的时候会将不同部分拆分成为几个python脚本），我们通常需要声明类。对于数据加载的类编写方式如下：其主要分为两步：1. 数据集定义 2. 数据加载器 <br>\n",
        "注：为了方便起见，使用kaggle上的[bluebook for bulldozers](https://www.kaggle.com/c/bluebook-for-bulldozers/data)举例"
      ]
    },
    {
      "cell_type": "code",
      "metadata": {
        "id": "57gyXGg0XRFK"
      },
      "source": [
        ""
      ],
      "execution_count": 14,
      "outputs": []
    },
    {
      "cell_type": "markdown",
      "metadata": {
        "id": "_VKnbJy7_Cq_"
      },
      "source": [
        "### 数据预处理\n",
        "一般来说，即便是对于ImageNet这样大型数据集也需要进行数据增广(data augementation)，在torchvision中的transforms模块内置了大量的操作，这里我们只进行简单举例，更多可以访问transforms操作文件。\n"
      ]
    },
    {
      "cell_type": "code",
      "metadata": {
        "id": "MOrSnzv0bozY"
      },
      "source": [
        "from torchvision import transforms\n",
        "transform = transforms.Compose([\n",
        "    transforms.RandomCrop(32, padding=4),  #先四周填充0，在把图像随机裁剪成32*32\n",
        "    transforms.RandomHorizontalFlip(),  #图像一半的概率翻转，一半的概率不翻转\n",
        "    transforms.RandomRotation((-45,45)), #随机旋转\n",
        "    transforms.ToTensor(),\n",
        "    transforms.Normalize((0.1307,), (0.3081,)), #R,G,B每层的归一化用到的均值和方差\n",
        "])\n",
        "\n"
      ],
      "execution_count": 15,
      "outputs": []
    },
    {
      "cell_type": "markdown",
      "metadata": {
        "id": "fnpQfXllbqog"
      },
      "source": [
        "接下来我们只需要对数据数据加载部分进行简单修改即可"
      ]
    },
    {
      "cell_type": "code",
      "metadata": {
        "id": "byDfMqSmboxk"
      },
      "source": [
        "trainset = datasets.MNIST(root=\"./data\", train=True, download=False, transform= transform)  "
      ],
      "execution_count": 16,
      "outputs": []
    },
    {
      "cell_type": "markdown",
      "metadata": {
        "id": "_GBlvogEdHZ0"
      },
      "source": [
        "由于Pytorch中以及包含了MNIST数据集，也可以直接使用DataLoader对数据进行读取。\n"
      ]
    },
    {
      "cell_type": "code",
      "metadata": {
        "id": "09B_Qf93dYli"
      },
      "source": [
        "\n",
        "train_loader = torch.utils.data.DataLoader(\n",
        "        datasets.MNIST('./data', train=True, download=True, \n",
        "                       transform=transforms.Compose([\n",
        "                           transforms.ToTensor(),# 将读取的数据转化为张量方便计算\n",
        "                           transforms.Normalize((0.1307,), (0.3081,))#这一部分来源于前人根据这个数据集获得的标准化参数，不同的数据集不同\n",
        "                       ])),\n",
        "                       \n",
        "        batch_size=512, #这里的batch_size将在下文的训练策略中详细介绍\n",
        "        shuffle=True)"
      ],
      "execution_count": 17,
      "outputs": []
    },
    {
      "cell_type": "code",
      "metadata": {
        "id": "Afvjdl8yhSlO"
      },
      "source": [
        "test_loader = torch.utils.data.DataLoader(\n",
        "        datasets.MNIST('data', train=False, transform=transforms.Compose([\n",
        "                           transforms.ToTensor(), \n",
        "                           transforms.Normalize((0.1307,), (0.3081,))])), \n",
        "        batch_size=512, shuffle=True)"
      ],
      "execution_count": 18,
      "outputs": []
    },
    {
      "cell_type": "code",
      "metadata": {
        "colab": {
          "base_uri": "https://localhost:8080/",
          "height": 892,
          "referenced_widgets": [
            "ef5904c683034056a956227284ce4f2c",
            "7e01422f73d041ce81aebee07bd64ffa",
            "67ff8dc0fc644da7b92a3769b151ab2b",
            "21ac7d65aec1449c8fb0bc80401195bd",
            "bdaa8755922347269fae775d781f48e8",
            "cfdf2338d68e4c06a67f36b3f97e4f48",
            "98566a18a8c0462a866480ac6007b484",
            "85707edec1c947879268bcc732512b1a",
            "404dafcdb79c4a8cbd5f2b87c4d35a1b",
            "0d03fbd6801f44448cc098a6b4b9d3d3",
            "4478de62ca02428d9016c991c2d7ba24",
            "4420a662cfa248fdbd05b0c59ff5bf29",
            "0041808bcb1943b8b51f4ef76d85f19b",
            "a19db126d2454e73b03fb1ed89e8a416",
            "d17a1a8409044e759d0be4a2233ace91",
            "4ca09514bd4f4e7e967076d23b64c2f5",
            "c898bff378e94593a2b83b08821484fc",
            "f633cec4074b461f90899787a9628cc1",
            "5c6ad0ac39a440119d7270077d016330",
            "2f0c5797a43e4fe1954af59d46844524",
            "e5f0a594496840958c3f7cc20984e7d6",
            "4cb4b703fc0f4aac930203f3731820fa",
            "4d0a0fd7ad384e2e9d60588b6ad9546b",
            "accc3e50656440cd9ec2819d916edf18",
            "aeb72c012b49492baf57a4331efe9472",
            "374774917f1d425587d963efd58d38db",
            "f7dc30568037491393850999b10d4316",
            "45e46faa88604722960e46736a5e3a1c",
            "5482b7cf05dd4bd8aa993b7be5f4936e",
            "1e220abd23e74c9c84d9804f489cee77",
            "85007cbf349241d9b79122db8aeae40f",
            "ae5b9c61a0c54a66bf074d6a120e0a22"
          ]
        },
        "id": "fO8d21Jy53x3",
        "outputId": "b9dea2ec-1311-4b7a-8264-368b036dbc79"
      },
      "source": [
        "import torchvision\n",
        "import torch\n",
        "ds_train = torchvision.datasets.MNIST(root=\"./data/minist/\",train=True,download=True,transform=transform)\n",
        "ds_valid = torchvision.datasets.MNIST(root=\"./data/minist/\",train=False,download=True,transform=transform)\n",
        "\n",
        "dl_train =  torch.utils.data.DataLoader(ds_train, batch_size=128, shuffle=True, num_workers=4)\n",
        "dl_valid =  torch.utils.data.DataLoader(ds_valid, batch_size=128, shuffle=False, num_workers=4)"
      ],
      "execution_count": 19,
      "outputs": [
        {
          "output_type": "stream",
          "text": [
            "Downloading http://yann.lecun.com/exdb/mnist/train-images-idx3-ubyte.gz\n",
            "Failed to download (trying next):\n",
            "HTTP Error 503: Service Unavailable\n",
            "\n",
            "Downloading https://ossci-datasets.s3.amazonaws.com/mnist/train-images-idx3-ubyte.gz\n",
            "Downloading https://ossci-datasets.s3.amazonaws.com/mnist/train-images-idx3-ubyte.gz to ./data/minist/MNIST/raw/train-images-idx3-ubyte.gz\n"
          ],
          "name": "stdout"
        },
        {
          "output_type": "display_data",
          "data": {
            "application/vnd.jupyter.widget-view+json": {
              "model_id": "ef5904c683034056a956227284ce4f2c",
              "version_minor": 0,
              "version_major": 2
            },
            "text/plain": [
              "HBox(children=(FloatProgress(value=0.0, max=9912422.0), HTML(value='')))"
            ]
          },
          "metadata": {
            "tags": []
          }
        },
        {
          "output_type": "stream",
          "text": [
            "\n",
            "Extracting ./data/minist/MNIST/raw/train-images-idx3-ubyte.gz to ./data/minist/MNIST/raw\n",
            "\n",
            "Downloading http://yann.lecun.com/exdb/mnist/train-labels-idx1-ubyte.gz\n",
            "Failed to download (trying next):\n",
            "HTTP Error 503: Service Unavailable\n",
            "\n",
            "Downloading https://ossci-datasets.s3.amazonaws.com/mnist/train-labels-idx1-ubyte.gz\n",
            "Downloading https://ossci-datasets.s3.amazonaws.com/mnist/train-labels-idx1-ubyte.gz to ./data/minist/MNIST/raw/train-labels-idx1-ubyte.gz\n"
          ],
          "name": "stdout"
        },
        {
          "output_type": "display_data",
          "data": {
            "application/vnd.jupyter.widget-view+json": {
              "model_id": "404dafcdb79c4a8cbd5f2b87c4d35a1b",
              "version_minor": 0,
              "version_major": 2
            },
            "text/plain": [
              "HBox(children=(FloatProgress(value=0.0, max=28881.0), HTML(value='')))"
            ]
          },
          "metadata": {
            "tags": []
          }
        },
        {
          "output_type": "stream",
          "text": [
            "\n",
            "Extracting ./data/minist/MNIST/raw/train-labels-idx1-ubyte.gz to ./data/minist/MNIST/raw\n",
            "\n",
            "Downloading http://yann.lecun.com/exdb/mnist/t10k-images-idx3-ubyte.gz\n",
            "Failed to download (trying next):\n",
            "HTTP Error 503: Service Unavailable\n",
            "\n",
            "Downloading https://ossci-datasets.s3.amazonaws.com/mnist/t10k-images-idx3-ubyte.gz\n",
            "Downloading https://ossci-datasets.s3.amazonaws.com/mnist/t10k-images-idx3-ubyte.gz to ./data/minist/MNIST/raw/t10k-images-idx3-ubyte.gz\n"
          ],
          "name": "stdout"
        },
        {
          "output_type": "display_data",
          "data": {
            "application/vnd.jupyter.widget-view+json": {
              "model_id": "c898bff378e94593a2b83b08821484fc",
              "version_minor": 0,
              "version_major": 2
            },
            "text/plain": [
              "HBox(children=(FloatProgress(value=0.0, max=1648877.0), HTML(value='')))"
            ]
          },
          "metadata": {
            "tags": []
          }
        },
        {
          "output_type": "stream",
          "text": [
            "\n",
            "Extracting ./data/minist/MNIST/raw/t10k-images-idx3-ubyte.gz to ./data/minist/MNIST/raw\n",
            "\n",
            "Downloading http://yann.lecun.com/exdb/mnist/t10k-labels-idx1-ubyte.gz\n",
            "Failed to download (trying next):\n",
            "HTTP Error 503: Service Unavailable\n",
            "\n",
            "Downloading https://ossci-datasets.s3.amazonaws.com/mnist/t10k-labels-idx1-ubyte.gz\n",
            "Downloading https://ossci-datasets.s3.amazonaws.com/mnist/t10k-labels-idx1-ubyte.gz to ./data/minist/MNIST/raw/t10k-labels-idx1-ubyte.gz\n"
          ],
          "name": "stdout"
        },
        {
          "output_type": "display_data",
          "data": {
            "application/vnd.jupyter.widget-view+json": {
              "model_id": "aeb72c012b49492baf57a4331efe9472",
              "version_minor": 0,
              "version_major": 2
            },
            "text/plain": [
              "HBox(children=(FloatProgress(value=0.0, max=4542.0), HTML(value='')))"
            ]
          },
          "metadata": {
            "tags": []
          }
        },
        {
          "output_type": "stream",
          "text": [
            "\n",
            "Extracting ./data/minist/MNIST/raw/t10k-labels-idx1-ubyte.gz to ./data/minist/MNIST/raw\n",
            "\n",
            "Processing...\n",
            "Done!\n"
          ],
          "name": "stdout"
        },
        {
          "output_type": "stream",
          "text": [
            "/usr/local/lib/python3.7/dist-packages/torch/utils/data/dataloader.py:477: UserWarning: This DataLoader will create 4 worker processes in total. Our suggested max number of worker in current system is 2, which is smaller than what this DataLoader is going to create. Please be aware that excessive worker creation might get DataLoader running slow or even freeze, lower the worker number to avoid potential slowness/freeze if necessary.\n",
            "  cpuset_checked))\n"
          ],
          "name": "stderr"
        }
      ]
    },
    {
      "cell_type": "markdown",
      "metadata": {
        "id": "AeZjrn1RzjuG"
      },
      "source": [
        "## 定义网络"
      ]
    },
    {
      "cell_type": "markdown",
      "metadata": {
        "id": "X1Dwet6scTGI"
      },
      "source": [
        "正如上文对数据调用时声明类一样，建议使用类定义网网络：                                                          \n",
        "\n"
      ]
    },
    {
      "cell_type": "code",
      "metadata": {
        "id": "xR_niT3Fl7Lr"
      },
      "source": [
        "import torch\n",
        "import torch.nn as nn # 定义网络\n",
        "import torch.nn.functional as F #网络中的操作，如卷积、padding通常在这个里面"
      ],
      "execution_count": 20,
      "outputs": []
    },
    {
      "cell_type": "code",
      "metadata": {
        "id": "1LenDw2tkjXq"
      },
      "source": [
        "class ConvNet(nn.Module):\n",
        "    def __init__(self):\n",
        "        super().__init__()\n",
        "        # batch*1*28*28（每次会送入batch个样本，输入通道数1（黑白图像），图像分辨率是28x28）\n",
        "        # 下面的卷积层Conv2d的第一个参数指输入通道数，第二个参数指输出通道数，第三个参数指卷积核的大小\n",
        "        self.conv1 = nn.Conv2d(1, 10, 5) # 输入通道数1，输出通道数10，核的大小5\n",
        "        self.conv2 = nn.Conv2d(10, 20, 3) # 输入通道数10，输出通道数20，核的大小3\n",
        "        # 下面的全连接层Linear的第一个参数指输入通道数，第二个参数指输出通道数\n",
        "        self.fc1 = nn.Linear(20*10*10, 500) # 输入通道数是2000，输出通道数是500\n",
        "        self.fc2 = nn.Linear(500, 10) # 输入通道数是500，输出通道数是10，即10分类\n",
        "    def forward(self,x):\n",
        "        in_size = x.size(0) # 在本例中in_size=512，也就是BATCH_SIZE的值。输入的x可以看成是512*1*28*28的张量。\n",
        "        x = self.conv1(x) # batch*1*28*28 -> batch*10*24*24（28x28的图像经过一次核为5x5的卷积，输出变为24x24）\n",
        "        x = F.relu(x) # batch*10*24*24（激活函数ReLU不改变形状））\n",
        "        x = F.max_pool2d(x, 2, 2) # batch*10*24*24 -> batch*10*12*12（2*2的池化层会减半）\n",
        "        x = self.conv2(x) # batch*10*12*12 -> batch*20*10*10（再卷积一次，核的大小是3）\n",
        "        x = F.relu(x) # batch*20*10*10\n",
        "        x = x.view(in_size, -1) # batch*20*10*10 -> batch*2000（out的第二维是-1，说明是自动推算，本例中第二维是20*10*10）\n",
        "        x = self.fc1(x) # batch*2000 -> batch*500\n",
        "        x = F.relu(x) # batch*500\n",
        "        x = self.fc2(x) # batch*500 -> batch*10\n",
        "        x = F.log_softmax(x, dim=1) # 计算log(softmax(x))\n",
        "        return x"
      ],
      "execution_count": 21,
      "outputs": []
    },
    {
      "cell_type": "markdown",
      "metadata": {
        "id": "qiiRD2Kexkzv"
      },
      "source": [
        "正如上文所说的，tensor放入cuda中可以加速运算，这里也适用"
      ]
    },
    {
      "cell_type": "code",
      "metadata": {
        "colab": {
          "base_uri": "https://localhost:8080/"
        },
        "id": "8hNdGrXHxjp2",
        "outputId": "58008c3c-2b55-45f6-c8cd-b5a58adda194"
      },
      "source": [
        "# 依然按照上文的方法来判断是否有cuda可以使用\n",
        "device = torch.device(\"cuda\" if torch.cuda.is_available() else \"cpu\")\n",
        "model = ConvNet().to(device)\n",
        "print(model)"
      ],
      "execution_count": 22,
      "outputs": [
        {
          "output_type": "stream",
          "text": [
            "ConvNet(\n",
            "  (conv1): Conv2d(1, 10, kernel_size=(5, 5), stride=(1, 1))\n",
            "  (conv2): Conv2d(10, 20, kernel_size=(3, 3), stride=(1, 1))\n",
            "  (fc1): Linear(in_features=2000, out_features=500, bias=True)\n",
            "  (fc2): Linear(in_features=500, out_features=10, bias=True)\n",
            ")\n"
          ],
          "name": "stdout"
        }
      ]
    },
    {
      "cell_type": "markdown",
      "metadata": {
        "id": "ZlbYhHHFz5VG"
      },
      "source": [
        "很多情况下，我们需要分析模型的复杂度，需要通过查看模型的参数个数来看.另外需要查看学习的参数和名称"
      ]
    },
    {
      "cell_type": "code",
      "metadata": {
        "id": "Rz6Ng7Xiz4wu",
        "colab": {
          "base_uri": "https://localhost:8080/"
        },
        "outputId": "423c0ddb-1abd-4586-9022-bc6a528179c9"
      },
      "source": [
        "for parameters in ConvNet().parameters(): \n",
        "#注意，在部分程序中，有人会将定义好的神经网络存储到net中，这是这个net是一个类，parameters这个函数必须跟一个类，而不是一个函数名名称\n",
        "#比方说这里ConvNet.parametrics()就是错误的，因为ConvNet()才是一个类\n",
        "#但是如果使用net = ConvNet()定义以后，就可以使用：net.parameters()\n",
        "    print(parameters)"
      ],
      "execution_count": 23,
      "outputs": [
        {
          "output_type": "stream",
          "text": [
            "Parameter containing:\n",
            "tensor([[[[-0.1818,  0.1521,  0.1709, -0.0105,  0.0986],\n",
            "          [ 0.0905, -0.0201,  0.1243, -0.0474,  0.0193],\n",
            "          [ 0.0361, -0.0242,  0.1043,  0.1173, -0.1372],\n",
            "          [-0.0861,  0.1166, -0.1772, -0.1674,  0.0901],\n",
            "          [-0.1836,  0.1548,  0.1203, -0.0957,  0.1491]]],\n",
            "\n",
            "\n",
            "        [[[ 0.1992, -0.1185,  0.1265, -0.1318, -0.0664],\n",
            "          [ 0.0106,  0.0978,  0.0267, -0.1754, -0.1969],\n",
            "          [-0.1508, -0.1260, -0.0747, -0.0109,  0.0676],\n",
            "          [ 0.1089,  0.1299,  0.1348,  0.1442,  0.1135],\n",
            "          [-0.1445, -0.0919, -0.1106, -0.0087, -0.0779]]],\n",
            "\n",
            "\n",
            "        [[[-0.1866, -0.1837,  0.0898,  0.1062,  0.1891],\n",
            "          [-0.1840,  0.1294, -0.1283,  0.1806, -0.1782],\n",
            "          [-0.0395,  0.0583,  0.1332,  0.1306,  0.0625],\n",
            "          [-0.0087, -0.1865,  0.1254, -0.1141,  0.0074],\n",
            "          [ 0.1720,  0.0372,  0.1249, -0.0559,  0.0160]]],\n",
            "\n",
            "\n",
            "        [[[ 0.1557, -0.0897, -0.1576, -0.0426, -0.0402],\n",
            "          [-0.1925, -0.0528,  0.1113,  0.1731,  0.0130],\n",
            "          [ 0.0511,  0.0427,  0.0858,  0.0196,  0.0925],\n",
            "          [-0.1691,  0.1878, -0.0138,  0.0603,  0.1467],\n",
            "          [-0.1128, -0.1482, -0.1616,  0.1939, -0.0380]]],\n",
            "\n",
            "\n",
            "        [[[ 0.1817,  0.1451, -0.0412,  0.0748, -0.1580],\n",
            "          [ 0.0407,  0.1194,  0.0433, -0.1372, -0.0737],\n",
            "          [ 0.0211, -0.0745,  0.0642,  0.1742, -0.0627],\n",
            "          [-0.0293,  0.0844, -0.0557,  0.1404,  0.1307],\n",
            "          [-0.0181,  0.1500,  0.1890,  0.1037, -0.0852]]],\n",
            "\n",
            "\n",
            "        [[[-0.0799,  0.1763, -0.0809,  0.1351,  0.1599],\n",
            "          [-0.0344, -0.1451,  0.1799,  0.0020,  0.1971],\n",
            "          [-0.0915,  0.1534,  0.0709,  0.0409,  0.1207],\n",
            "          [ 0.0326,  0.1016,  0.1538,  0.1871,  0.1005],\n",
            "          [ 0.1405, -0.0273, -0.1177, -0.1390,  0.0392]]],\n",
            "\n",
            "\n",
            "        [[[-0.1468,  0.1973, -0.0834, -0.0093, -0.1947],\n",
            "          [ 0.1221,  0.0619,  0.1189, -0.0845,  0.0911],\n",
            "          [ 0.1511, -0.1772,  0.0958,  0.1356, -0.0556],\n",
            "          [ 0.1581, -0.1038, -0.1589, -0.0127,  0.0867],\n",
            "          [ 0.0520,  0.1507, -0.1697,  0.0050, -0.0753]]],\n",
            "\n",
            "\n",
            "        [[[-0.0562,  0.0924, -0.1821, -0.0943,  0.0227],\n",
            "          [-0.0995,  0.1809, -0.0082,  0.0775, -0.0285],\n",
            "          [ 0.1302, -0.0374, -0.0969, -0.0444, -0.1548],\n",
            "          [-0.0737,  0.0004,  0.1114, -0.0885, -0.1348],\n",
            "          [-0.0365, -0.0779, -0.1268, -0.0028, -0.0824]]],\n",
            "\n",
            "\n",
            "        [[[-0.0313, -0.1696,  0.0567,  0.0233,  0.1358],\n",
            "          [-0.0092,  0.1120, -0.0208, -0.1988, -0.1740],\n",
            "          [ 0.1655,  0.1656, -0.0797,  0.0448,  0.0884],\n",
            "          [-0.1867,  0.0233,  0.1944,  0.0509, -0.1461],\n",
            "          [ 0.1536, -0.1019, -0.0583,  0.0709,  0.0641]]],\n",
            "\n",
            "\n",
            "        [[[-0.1380,  0.1408,  0.0344, -0.0426,  0.0483],\n",
            "          [-0.1164,  0.1646,  0.1418, -0.1216,  0.0259],\n",
            "          [-0.0394, -0.1791,  0.1033,  0.1183,  0.1024],\n",
            "          [-0.1113,  0.1052,  0.0381, -0.1522,  0.1678],\n",
            "          [-0.0118, -0.1125,  0.1447, -0.1315,  0.0764]]]], requires_grad=True)\n",
            "Parameter containing:\n",
            "tensor([ 0.1732,  0.0667, -0.0045, -0.1382,  0.1653,  0.1417, -0.0234,  0.1395,\n",
            "        -0.0624, -0.1634], requires_grad=True)\n",
            "Parameter containing:\n",
            "tensor([[[[ 0.0720, -0.0998,  0.0413],\n",
            "          [-0.0123,  0.0474,  0.0575],\n",
            "          [ 0.0892, -0.0341,  0.0055]],\n",
            "\n",
            "         [[-0.0326, -0.0044,  0.0512],\n",
            "          [ 0.0709, -0.0872,  0.1043],\n",
            "          [ 0.0237,  0.0462, -0.0813]],\n",
            "\n",
            "         [[-0.0191, -0.0509, -0.0951],\n",
            "          [-0.0128,  0.0661,  0.0515],\n",
            "          [-0.0372,  0.0854, -0.0893]],\n",
            "\n",
            "         ...,\n",
            "\n",
            "         [[ 0.0294,  0.0865, -0.0942],\n",
            "          [ 0.0490,  0.0509, -0.0572],\n",
            "          [ 0.0815, -0.0249, -0.0160]],\n",
            "\n",
            "         [[-0.0424, -0.0966, -0.0404],\n",
            "          [ 0.0814,  0.0908, -0.0882],\n",
            "          [-0.0477,  0.0731,  0.0725]],\n",
            "\n",
            "         [[ 0.0281,  0.0675, -0.1033],\n",
            "          [ 0.0310, -0.0820,  0.0436],\n",
            "          [ 0.0232, -0.0447,  0.0080]]],\n",
            "\n",
            "\n",
            "        [[[ 0.0185,  0.0755,  0.0093],\n",
            "          [ 0.0980,  0.0521, -0.0793],\n",
            "          [-0.0534, -0.0237,  0.0604]],\n",
            "\n",
            "         [[-0.0765,  0.0702, -0.0399],\n",
            "          [ 0.0795, -0.0670, -0.0218],\n",
            "          [-0.0511,  0.0242,  0.0997]],\n",
            "\n",
            "         [[ 0.1014, -0.0143,  0.0795],\n",
            "          [ 0.0147,  0.0050, -0.0689],\n",
            "          [ 0.0399, -0.0245,  0.0544]],\n",
            "\n",
            "         ...,\n",
            "\n",
            "         [[-0.0601, -0.0391,  0.0955],\n",
            "          [ 0.0613, -0.0184, -0.0305],\n",
            "          [ 0.0992,  0.0894,  0.0661]],\n",
            "\n",
            "         [[ 0.0791, -0.1053,  0.1031],\n",
            "          [-0.0644, -0.0964,  0.0203],\n",
            "          [ 0.0973,  0.0461, -0.0576]],\n",
            "\n",
            "         [[-0.0072,  0.0151,  0.0600],\n",
            "          [-0.0538, -0.0400, -0.0418],\n",
            "          [ 0.0274,  0.0168, -0.0971]]],\n",
            "\n",
            "\n",
            "        [[[ 0.0821,  0.0396, -0.0448],\n",
            "          [ 0.0724, -0.0904,  0.0561],\n",
            "          [ 0.0249,  0.0102, -0.0270]],\n",
            "\n",
            "         [[-0.0337,  0.0634,  0.0644],\n",
            "          [-0.0249,  0.0265, -0.0905],\n",
            "          [-0.0924,  0.0982,  0.0987]],\n",
            "\n",
            "         [[-0.1038, -0.1006,  0.0585],\n",
            "          [-0.0353, -0.0767,  0.0772],\n",
            "          [-0.0452, -0.0534, -0.0984]],\n",
            "\n",
            "         ...,\n",
            "\n",
            "         [[-0.1040, -0.0121,  0.0360],\n",
            "          [ 0.0147,  0.0484,  0.0292],\n",
            "          [ 0.0661,  0.0978, -0.0972]],\n",
            "\n",
            "         [[-0.0539, -0.0272,  0.0426],\n",
            "          [ 0.0183, -0.0163,  0.0077],\n",
            "          [ 0.0809,  0.0902,  0.0425]],\n",
            "\n",
            "         [[ 0.0970,  0.1036, -0.0112],\n",
            "          [-0.0540,  0.0203,  0.0736],\n",
            "          [ 0.0290, -0.0812, -0.0858]]],\n",
            "\n",
            "\n",
            "        ...,\n",
            "\n",
            "\n",
            "        [[[ 0.0696, -0.0239, -0.0828],\n",
            "          [-0.0596, -0.0500,  0.1051],\n",
            "          [-0.0132,  0.0507, -0.0730]],\n",
            "\n",
            "         [[ 0.0236, -0.0325, -0.0391],\n",
            "          [-0.0671,  0.0391, -0.0826],\n",
            "          [ 0.0154,  0.0607, -0.0618]],\n",
            "\n",
            "         [[-0.0623,  0.0671,  0.0675],\n",
            "          [-0.0228, -0.1049, -0.0710],\n",
            "          [-0.0925, -0.0233, -0.0112]],\n",
            "\n",
            "         ...,\n",
            "\n",
            "         [[-0.0095, -0.0386,  0.0214],\n",
            "          [-0.0751,  0.0145, -0.0748],\n",
            "          [-0.0555,  0.0290,  0.0143]],\n",
            "\n",
            "         [[ 0.0786,  0.0755,  0.0774],\n",
            "          [ 0.0689,  0.0185, -0.0097],\n",
            "          [-0.0804,  0.0133, -0.0907]],\n",
            "\n",
            "         [[-0.0803,  0.0692,  0.0301],\n",
            "          [-0.0049,  0.0693,  0.0260],\n",
            "          [-0.0183,  0.0494, -0.0575]]],\n",
            "\n",
            "\n",
            "        [[[-0.0158,  0.0458, -0.0091],\n",
            "          [-0.0101,  0.0893,  0.0404],\n",
            "          [ 0.0921,  0.0914, -0.0277]],\n",
            "\n",
            "         [[ 0.0032,  0.0336,  0.0499],\n",
            "          [ 0.0069,  0.0266, -0.0428],\n",
            "          [ 0.0171, -0.0481,  0.0998]],\n",
            "\n",
            "         [[-0.0934,  0.0671,  0.0725],\n",
            "          [-0.1034, -0.0335, -0.0681],\n",
            "          [ 0.1027,  0.0531,  0.0501]],\n",
            "\n",
            "         ...,\n",
            "\n",
            "         [[ 0.0063,  0.0648,  0.0102],\n",
            "          [ 0.0328,  0.0925, -0.0368],\n",
            "          [-0.0263,  0.0017, -0.0979]],\n",
            "\n",
            "         [[-0.0755, -0.0462, -0.0873],\n",
            "          [-0.0313, -0.0398, -0.0477],\n",
            "          [ 0.0836,  0.0079,  0.0150]],\n",
            "\n",
            "         [[-0.0620, -0.0952,  0.0659],\n",
            "          [ 0.0177, -0.0275,  0.0908],\n",
            "          [-0.0594, -0.0276,  0.0338]]],\n",
            "\n",
            "\n",
            "        [[[ 0.0379, -0.0700,  0.0545],\n",
            "          [-0.0988,  0.0702,  0.0831],\n",
            "          [ 0.0097, -0.0553,  0.0798]],\n",
            "\n",
            "         [[-0.1040,  0.0833,  0.0917],\n",
            "          [-0.0973, -0.0615,  0.0944],\n",
            "          [-0.0142, -0.0802,  0.0106]],\n",
            "\n",
            "         [[-0.0660, -0.0478, -0.0245],\n",
            "          [ 0.0540,  0.0017,  0.0926],\n",
            "          [ 0.0751, -0.0263, -0.0782]],\n",
            "\n",
            "         ...,\n",
            "\n",
            "         [[ 0.1034,  0.0945, -0.0090],\n",
            "          [ 0.0616,  0.0341, -0.0714],\n",
            "          [-0.0188,  0.0861,  0.0698]],\n",
            "\n",
            "         [[-0.0543,  0.0894, -0.0788],\n",
            "          [ 0.0567, -0.0276, -0.0068],\n",
            "          [-0.0583,  0.0953, -0.0050]],\n",
            "\n",
            "         [[ 0.0921, -0.0257, -0.0020],\n",
            "          [-0.0306,  0.0880,  0.0685],\n",
            "          [-0.0985, -0.0005, -0.0775]]]], requires_grad=True)\n",
            "Parameter containing:\n",
            "tensor([ 0.0955,  0.0720,  0.0929, -0.0426, -0.0236,  0.0367, -0.0758,  0.0762,\n",
            "         0.0052, -0.0003, -0.0002, -0.0517,  0.0914, -0.0407, -0.0011, -0.0539,\n",
            "        -0.0728, -0.0821, -0.0434,  0.0735], requires_grad=True)\n",
            "Parameter containing:\n",
            "tensor([[ 0.0004, -0.0158, -0.0059,  ..., -0.0157,  0.0190,  0.0201],\n",
            "        [-0.0048, -0.0181, -0.0167,  ..., -0.0077,  0.0104, -0.0020],\n",
            "        [ 0.0204,  0.0159, -0.0208,  ...,  0.0144,  0.0018,  0.0112],\n",
            "        ...,\n",
            "        [ 0.0189,  0.0064, -0.0202,  ...,  0.0217,  0.0213, -0.0086],\n",
            "        [-0.0045,  0.0027,  0.0206,  ...,  0.0139, -0.0130, -0.0082],\n",
            "        [-0.0141,  0.0094,  0.0214,  ..., -0.0090,  0.0113, -0.0152]],\n",
            "       requires_grad=True)\n",
            "Parameter containing:\n",
            "tensor([-9.0581e-03, -1.2542e-02,  2.1792e-02, -1.7216e-02, -1.4706e-02,\n",
            "         1.2989e-02, -1.7736e-02, -1.3162e-02, -1.5101e-03,  1.8648e-02,\n",
            "         6.9372e-03,  2.0751e-02,  1.2485e-02, -8.3929e-03, -1.9983e-02,\n",
            "        -1.4615e-02, -1.2358e-02, -2.5608e-03,  1.5929e-02,  2.2320e-02,\n",
            "        -4.9562e-03, -8.5773e-03, -6.5603e-03,  1.0464e-02, -5.4293e-04,\n",
            "         5.6171e-03, -1.5639e-02, -3.6161e-04, -1.1412e-02, -4.9758e-03,\n",
            "        -2.0629e-02, -1.9281e-02,  9.5542e-03,  3.0781e-03, -7.3082e-03,\n",
            "        -1.9383e-02, -1.5624e-02, -2.1363e-02,  1.6466e-02, -9.6245e-03,\n",
            "         5.9486e-03,  1.0945e-02,  8.1759e-03,  1.9906e-02,  1.0088e-02,\n",
            "         2.7037e-03, -1.3373e-02,  2.1931e-02,  1.1902e-02, -2.9421e-03,\n",
            "        -2.1759e-02, -1.8227e-02, -1.6544e-02,  1.9103e-02,  3.1362e-03,\n",
            "         2.9148e-03,  2.1984e-02, -1.0021e-02, -1.9084e-02, -1.6594e-02,\n",
            "        -1.1466e-02,  2.1903e-02,  5.5465e-03,  1.0759e-02, -9.6896e-03,\n",
            "        -2.2827e-03,  8.0224e-03,  1.1400e-02, -1.2758e-02,  3.5541e-03,\n",
            "        -1.9726e-02,  1.2035e-02,  2.0363e-02, -2.0199e-02, -8.5009e-04,\n",
            "         1.3159e-03,  1.4666e-02,  9.0794e-03, -7.0312e-03, -3.3963e-03,\n",
            "        -1.4962e-02, -1.6725e-02,  1.3947e-02,  1.5340e-02, -1.6604e-02,\n",
            "        -1.1865e-02, -1.8768e-02,  1.7951e-02,  7.3170e-03,  1.5102e-02,\n",
            "         1.6624e-02,  8.3522e-04, -1.6700e-02,  1.1545e-02,  1.5029e-03,\n",
            "        -2.1988e-03,  7.3681e-03, -1.9659e-02,  8.2568e-03,  6.6612e-03,\n",
            "         1.8883e-02, -6.7902e-03, -2.9329e-03, -1.6309e-02, -2.1607e-02,\n",
            "        -5.2835e-03,  2.0752e-02, -3.6245e-03, -9.5691e-03,  1.4231e-02,\n",
            "        -1.0032e-02, -1.7047e-04,  7.8361e-03,  1.4505e-02, -1.7915e-02,\n",
            "         1.8234e-02, -2.1761e-02,  1.8948e-02, -2.0555e-02, -1.2846e-03,\n",
            "        -8.0426e-03, -5.8321e-05,  2.3355e-03, -7.7300e-03,  2.1305e-02,\n",
            "         5.3745e-04, -6.5678e-03,  9.3569e-03,  1.6693e-02, -1.6298e-02,\n",
            "        -1.9339e-02,  2.1844e-02,  1.7304e-02, -1.9235e-02,  1.0380e-03,\n",
            "        -1.4126e-02,  1.3611e-02, -4.5176e-03,  8.7524e-03,  1.8531e-02,\n",
            "        -8.4787e-03,  1.1966e-02,  1.6998e-02, -2.7733e-03, -1.6207e-02,\n",
            "        -1.7042e-02,  1.4160e-02, -8.3508e-03,  8.7531e-03, -1.4290e-02,\n",
            "        -1.0424e-03, -4.4207e-03, -2.1828e-02,  1.0306e-02, -1.3466e-02,\n",
            "         1.7913e-02,  6.6236e-04,  2.7032e-03,  1.1742e-02,  1.9399e-02,\n",
            "         1.2760e-02, -1.4039e-02,  4.3936e-03,  1.2715e-02,  6.3711e-03,\n",
            "         5.0220e-03, -1.1629e-02,  1.5331e-03,  1.0854e-02,  1.2195e-02,\n",
            "         1.6660e-02,  4.6909e-03,  2.1637e-02, -2.0269e-02, -9.1648e-04,\n",
            "        -1.0448e-02,  3.6021e-03,  3.9407e-03,  1.3912e-02, -2.0627e-03,\n",
            "         3.2137e-04, -1.7341e-02, -1.6622e-03,  3.9104e-03,  7.5691e-03,\n",
            "         1.6682e-02,  3.4416e-03,  1.7741e-02,  1.9306e-02, -3.4456e-03,\n",
            "         4.7654e-03,  6.8831e-03,  1.3283e-02, -7.3786e-03, -2.0753e-02,\n",
            "         1.3444e-02, -1.8596e-02, -1.1104e-03,  4.5043e-04, -2.2191e-02,\n",
            "         1.6682e-02, -6.0714e-03,  9.3621e-03,  5.6756e-03,  2.0685e-02,\n",
            "         1.1963e-02, -1.6443e-02, -9.9394e-04, -2.1688e-02,  1.1615e-02,\n",
            "         2.1511e-02,  1.0567e-03, -1.7165e-02, -4.2671e-03, -9.5587e-03,\n",
            "         1.1944e-02, -2.0563e-02, -6.0432e-03, -1.2304e-02,  1.7044e-03,\n",
            "        -3.8652e-03,  9.1590e-03, -1.7421e-02, -5.5774e-03, -1.6819e-02,\n",
            "         8.3715e-03, -6.0913e-03,  2.0371e-02, -1.6764e-02, -5.4997e-03,\n",
            "        -7.4742e-03,  1.8679e-02,  9.5683e-03, -9.0270e-03,  1.2807e-02,\n",
            "         1.9908e-02, -6.8515e-03, -1.5387e-03,  1.2168e-02,  1.7435e-03,\n",
            "         1.4357e-02, -7.2526e-03, -6.2848e-03,  1.0046e-02,  3.5188e-03,\n",
            "        -6.4899e-03, -1.2231e-03,  6.8897e-03, -4.3467e-03,  6.9292e-03,\n",
            "        -1.0651e-02, -1.7299e-02, -5.7830e-03, -4.0918e-03,  2.1510e-02,\n",
            "         9.8677e-03,  1.2185e-02, -8.4536e-03, -1.0484e-02, -1.9551e-02,\n",
            "        -7.2913e-03,  1.8343e-02,  6.8714e-03,  1.8320e-02,  5.6280e-03,\n",
            "        -1.5874e-02,  1.2426e-02,  1.5949e-02, -8.0971e-03,  3.2934e-03,\n",
            "        -1.0601e-02,  1.5698e-02,  1.1416e-02, -1.1454e-02, -9.5160e-03,\n",
            "        -3.8790e-03,  4.6065e-03,  1.0605e-02, -4.1809e-03,  5.9000e-03,\n",
            "        -1.5515e-02,  1.9693e-02,  4.2805e-03,  1.2783e-03,  1.1694e-02,\n",
            "         1.2626e-02, -1.6407e-02, -7.2057e-03,  3.9383e-03,  1.2879e-02,\n",
            "        -1.0587e-02,  1.8172e-02, -3.0825e-03,  1.2782e-02,  4.6451e-03,\n",
            "         1.1385e-02,  1.9029e-03,  1.7882e-02, -1.9249e-02,  4.1386e-03,\n",
            "         1.3575e-02,  5.5373e-03,  3.0381e-04, -2.1982e-02, -1.8624e-02,\n",
            "        -1.7827e-02, -1.4376e-02,  6.9027e-03,  1.6816e-02,  1.5590e-02,\n",
            "        -2.0194e-02,  1.3719e-02, -2.1840e-02, -1.0356e-03,  1.2936e-02,\n",
            "         1.5309e-02, -3.1103e-03, -6.5913e-04, -1.6443e-02, -8.0558e-03,\n",
            "        -7.9884e-03, -8.6357e-03, -1.9719e-02,  4.4632e-03, -5.6463e-03,\n",
            "        -7.0756e-03,  1.5582e-02,  1.0742e-03, -1.3278e-02, -2.0116e-03,\n",
            "         1.1000e-03,  1.5663e-02, -1.1263e-03,  4.6680e-03,  1.6343e-02,\n",
            "        -1.2013e-02,  1.4105e-02,  1.2348e-02,  1.0996e-02, -1.3036e-02,\n",
            "        -4.0348e-03, -2.0578e-02, -1.3133e-02,  2.1532e-02,  1.4767e-02,\n",
            "         1.8250e-02,  1.5763e-02, -1.2038e-02,  1.8912e-02, -4.4670e-03,\n",
            "         1.8287e-03,  1.0347e-03, -7.8394e-03,  1.3806e-02, -2.1471e-02,\n",
            "        -1.5658e-02, -3.4080e-04,  1.2665e-02, -6.5552e-03, -9.4625e-03,\n",
            "        -2.2198e-02,  1.5395e-02,  2.1358e-02,  1.5767e-02, -3.7697e-03,\n",
            "        -1.6694e-02,  1.0880e-02,  2.2007e-02,  1.9495e-03, -1.6746e-02,\n",
            "        -4.3815e-04,  1.3177e-02,  1.3083e-02, -2.1898e-02,  7.1714e-03,\n",
            "         8.6767e-03, -6.4983e-04, -1.4840e-02, -1.9690e-02, -6.2186e-03,\n",
            "         1.8286e-02, -9.1664e-03,  1.6316e-02,  3.9978e-03,  1.2044e-02,\n",
            "        -1.8170e-02, -1.3458e-02, -1.6411e-03,  7.7012e-03,  2.0578e-02,\n",
            "        -2.0916e-02, -9.6851e-03,  1.9957e-03, -1.4945e-02, -3.2169e-03,\n",
            "        -8.3466e-03,  1.1358e-02, -1.9138e-02, -1.5123e-03, -1.3956e-02,\n",
            "        -1.0206e-02,  1.8050e-02, -3.6887e-03,  7.6516e-03,  1.7211e-02,\n",
            "         1.0692e-02,  1.6772e-02, -1.0602e-02,  1.1999e-02, -6.8623e-03,\n",
            "        -1.1834e-02,  7.1205e-03, -1.6581e-02,  4.4235e-03,  6.0679e-03,\n",
            "         1.9034e-03,  8.0150e-03,  1.8328e-03,  3.1737e-03,  1.7574e-02,\n",
            "        -1.2625e-02,  2.2261e-03, -1.3089e-02,  1.1238e-02,  4.3741e-04,\n",
            "         1.3975e-02,  5.2399e-03,  1.7293e-02,  1.3035e-03, -2.2821e-03,\n",
            "         2.2062e-02,  9.9219e-04, -1.9470e-02, -1.4994e-02, -4.0595e-03,\n",
            "        -2.1961e-02,  1.8572e-02,  1.2349e-02, -6.2026e-03, -2.8987e-03,\n",
            "        -4.2249e-03,  1.1669e-02,  4.5108e-04,  1.5851e-02, -1.7563e-02,\n",
            "         1.5301e-03, -4.8789e-03,  8.9850e-03,  9.1905e-03,  3.9606e-03,\n",
            "         1.0510e-02, -1.8098e-02,  5.4213e-03, -1.3353e-02,  1.0913e-02,\n",
            "        -3.6135e-03,  2.0847e-02, -1.3011e-02,  7.7202e-03,  1.5449e-03,\n",
            "         3.4672e-03,  1.6375e-02,  2.3730e-03,  1.5593e-02, -1.8611e-03,\n",
            "        -1.6859e-02, -7.5292e-03, -1.4009e-02, -2.3354e-03,  1.0536e-02,\n",
            "        -1.5340e-02, -2.0536e-02, -1.2004e-02, -1.3359e-02, -2.4150e-03,\n",
            "        -6.3529e-03,  3.0868e-03,  1.7022e-02,  6.7631e-03, -1.8036e-02,\n",
            "        -1.1491e-02, -9.4360e-03, -8.9848e-03,  5.4925e-03, -1.6521e-02,\n",
            "         1.6053e-02, -1.8176e-02,  9.6030e-03, -6.7638e-04, -1.0972e-02,\n",
            "         1.4091e-02, -1.1167e-02,  1.4102e-02,  9.6086e-03, -7.1787e-03,\n",
            "         4.3873e-03,  1.8571e-02, -1.1494e-02,  2.1859e-02, -1.6382e-02],\n",
            "       requires_grad=True)\n",
            "Parameter containing:\n",
            "tensor([[-0.0235,  0.0190, -0.0416,  ...,  0.0278, -0.0112,  0.0318],\n",
            "        [-0.0390, -0.0118,  0.0237,  ...,  0.0176,  0.0169,  0.0338],\n",
            "        [ 0.0213, -0.0310, -0.0092,  ..., -0.0082, -0.0102, -0.0040],\n",
            "        ...,\n",
            "        [-0.0157,  0.0258,  0.0054,  ..., -0.0363, -0.0304, -0.0133],\n",
            "        [ 0.0264,  0.0182,  0.0104,  ...,  0.0045,  0.0085, -0.0102],\n",
            "        [-0.0108, -0.0370,  0.0241,  ...,  0.0271, -0.0358,  0.0186]],\n",
            "       requires_grad=True)\n",
            "Parameter containing:\n",
            "tensor([ 0.0115, -0.0165, -0.0325,  0.0409, -0.0378, -0.0351, -0.0205, -0.0019,\n",
            "        -0.0335,  0.0215], requires_grad=True)\n"
          ],
          "name": "stdout"
        }
      ]
    },
    {
      "cell_type": "code",
      "metadata": {
        "colab": {
          "base_uri": "https://localhost:8080/"
        },
        "id": "Y-t38U2P26vk",
        "outputId": "3457fda5-1049-4532-ac32-0e91b906ea72"
      },
      "source": [
        "\n",
        "for name,parameters in ConvNet().named_parameters():\n",
        "    print(name,':',parameters.size())\n"
      ],
      "execution_count": 24,
      "outputs": [
        {
          "output_type": "stream",
          "text": [
            "conv1.weight : torch.Size([10, 1, 5, 5])\n",
            "conv1.bias : torch.Size([10])\n",
            "conv2.weight : torch.Size([20, 10, 3, 3])\n",
            "conv2.bias : torch.Size([20])\n",
            "fc1.weight : torch.Size([500, 2000])\n",
            "fc1.bias : torch.Size([500])\n",
            "fc2.weight : torch.Size([10, 500])\n",
            "fc2.bias : torch.Size([10])\n"
          ],
          "name": "stdout"
        }
      ]
    },
    {
      "cell_type": "markdown",
      "metadata": {
        "id": "dls2i7w4sv7c"
      },
      "source": [
        "除此以外，也可以使用summary()去查看所有的层、参数"
      ]
    },
    {
      "cell_type": "code",
      "metadata": {
        "colab": {
          "base_uri": "https://localhost:8080/"
        },
        "id": "c-ONgqYHs2fp",
        "outputId": "02af4b44-c9a5-44a2-affd-fda60fabce65"
      },
      "source": [
        "\n",
        "from torchsummary import summary\n",
        "summary(ConvNet(), input_size=(1, 28, 28))"
      ],
      "execution_count": 25,
      "outputs": [
        {
          "output_type": "stream",
          "text": [
            "----------------------------------------------------------------\n",
            "        Layer (type)               Output Shape         Param #\n",
            "================================================================\n",
            "            Conv2d-1           [-1, 10, 24, 24]             260\n",
            "            Conv2d-2           [-1, 20, 10, 10]           1,820\n",
            "            Linear-3                  [-1, 500]       1,000,500\n",
            "            Linear-4                   [-1, 10]           5,010\n",
            "================================================================\n",
            "Total params: 1,007,590\n",
            "Trainable params: 1,007,590\n",
            "Non-trainable params: 0\n",
            "----------------------------------------------------------------\n",
            "Input size (MB): 0.00\n",
            "Forward/backward pass size (MB): 0.06\n",
            "Params size (MB): 3.84\n",
            "Estimated Total Size (MB): 3.91\n",
            "----------------------------------------------------------------\n"
          ],
          "name": "stdout"
        }
      ]
    },
    {
      "cell_type": "markdown",
      "metadata": {
        "id": "lpvvi6_NznL7"
      },
      "source": [
        "## 模型训练\n",
        "\n",
        "一般而言，训练策略由batch_size, epoch, 求导机制,优化策略, 学习率等构成<br>\n",
        "首先有：\n",
        "* batch_size（一批次的大小）：在一个epoch中，每一次迭代使用的样本量，常常设置为：32/64/128等。\n",
        "\n",
        "* epoch（轮次）：在每一个epoch中，所有训练集都会以每次batch_size个输入模型中\n",
        "\n",
        "* iteration（迭代次数）：每跑完一个batch都要更新参数，这个过程叫一个iteration。\n",
        "\n",
        "**因此显然iteration是由batch_size,epoch共同构成，比方说：\n",
        "总共有10000张图片，每个batch_size有100张图片，epoch = 20，意味着，iterations = （10000/100）$\\times$20 = 2000（次）**\n"
      ]
    },
    {
      "cell_type": "markdown",
      "metadata": {
        "id": "g2m3KvdhzqmJ"
      },
      "source": [
        "### 求导机制"
      ]
    },
    {
      "cell_type": "markdown",
      "metadata": {
        "id": "jSQsXDx1ztcI"
      },
      "source": [
        "### 学习率设置\n",
        "\n",
        "一般而言，常用的学习率有Adam,SGD算法两种，它们分别代表了"
      ]
    },
    {
      "cell_type": "markdown",
      "metadata": {
        "id": "huMlUdeEzwqO"
      },
      "source": [
        "### Batchsize设置\n",
        "不考虑Batch Normalization的情况下，batch size的大小决定了深度学习训练过程中的完成每个epoch所需的时间和每次迭代(iteration)之间梯度的平滑程度。batch size只能说是影响完成每个epoch所需要的时间，决定也算不上吧。<br>\n",
        "由于目前主流深度学习框架处理mini-batch的反向传播时，默认都是先将每个mini-batch中每个instance得到的loss平均化之后再反求梯度，也就是说每次反向传播的梯度是对mini-batch中每个instance的梯度平均之后的结果，所以b的大小决定了相邻迭代之间的梯度平滑程度，b太小，相邻mini-batch间的差异相对过大，那么相邻两次迭代的梯度震荡情况会比较严重，不利于收敛；b越大，相邻mini-batch间的差异相对越小，虽然梯度震荡情况会比较小，一定程度上利于模型收敛，但如果b极端大，相邻mini-batch间的差异过小，相邻两个mini-batch的梯度没有区别了，整个训练过程就是沿着一个方向蹭蹭蹭往下走，很容易陷入到局部最小值出不来。<br>\n",
        "\n",
        "**总结下来：batch size过小，花费时间多，同时梯度震荡严重，不利于收敛；batch size过大，不同batch的梯度方向没有任何变化，容易陷入局部极小值。**<br>\n",
        "\n",
        "但是对于GPU并行计算的情况下，小batch反而会需要更长时间\n",
        "\n"
      ]
    },
    {
      "cell_type": "code",
      "metadata": {
        "id": "bmbC0bPP7DLo"
      },
      "source": [
        "import torch.optim as optim\n",
        "model = ConvNet().to(device)\n",
        "optimizer = optim.Adam(model.parameters())"
      ],
      "execution_count": 26,
      "outputs": []
    },
    {
      "cell_type": "code",
      "metadata": {
        "id": "1vI-OD-g7PyT"
      },
      "source": [
        "def train(model, device, train_loader, optimizer, epoch):\n",
        "    model.train()\n",
        "    for batch_idx, (data, target) in enumerate(train_loader):\n",
        "        data, target = data.to(device), target.to(device)\n",
        "        optimizer.zero_grad()\n",
        "        output = model(data)\n",
        "        loss = F.nll_loss(output, target)\n",
        "        loss.backward()\n",
        "        optimizer.step()\n",
        "        if(batch_idx+1)%30 == 0: \n",
        "            print('Train Epoch: {} [{}/{} ({:.0f}%)]\\tLoss: {:.6f}'.format(\n",
        "                epoch, batch_idx * len(data), len(train_loader.dataset),\n",
        "                100. * batch_idx / len(train_loader), loss.item()))\n",
        "\n",
        "\n",
        "def test(model, device, test_loader):\n",
        "    model.eval()\n",
        "    test_loss = 0\n",
        "    correct = 0\n",
        "    with torch.no_grad():\n",
        "        for data, target in test_loader:\n",
        "            data, target = data.to(device), target.to(device)\n",
        "            output = model(data)\n",
        "            test_loss += F.nll_loss(output, target, reduction='sum').item() # 将一批的损失相加\n",
        "            pred = output.max(1, keepdim=True)[1] # 找到概率最大的下标\n",
        "            correct += pred.eq(target.view_as(pred)).sum().item()\n",
        "\n",
        "    test_loss /= len(test_loader.dataset)\n",
        "    print('\\nTest set: Average loss: {:.4f}, Accuracy: {}/{} ({:.0f}%)\\n'.format(\n",
        "        test_loss, correct, len(test_loader.dataset),\n",
        "        100. * correct / len(test_loader.dataset)))"
      ],
      "execution_count": 27,
      "outputs": []
    },
    {
      "cell_type": "code",
      "metadata": {
        "colab": {
          "base_uri": "https://localhost:8080/",
          "height": 762
        },
        "id": "7_lddC6h7Wx8",
        "outputId": "6a663449-a0cd-411f-fa33-2d076f86c2fa"
      },
      "source": [
        "for epoch in range(0, 20):\n",
        "    train(model, device, train_loader, optimizer, epoch)\n",
        "    test(model, device, test_loader)"
      ],
      "execution_count": 29,
      "outputs": [
        {
          "output_type": "stream",
          "text": [
            "Train Epoch: 0 [14848/60000 (25%)]\tLoss: 0.071625\n",
            "Train Epoch: 0 [30208/60000 (50%)]\tLoss: 0.092552\n",
            "Train Epoch: 0 [45568/60000 (75%)]\tLoss: 0.079429\n",
            "\n",
            "Test set: Average loss: 0.0578, Accuracy: 9807/10000 (98%)\n",
            "\n",
            "Train Epoch: 1 [14848/60000 (25%)]\tLoss: 0.057478\n",
            "Train Epoch: 1 [30208/60000 (50%)]\tLoss: 0.065036\n",
            "Train Epoch: 1 [45568/60000 (75%)]\tLoss: 0.072007\n",
            "\n",
            "Test set: Average loss: 0.0462, Accuracy: 9857/10000 (99%)\n",
            "\n",
            "Train Epoch: 2 [14848/60000 (25%)]\tLoss: 0.033647\n",
            "Train Epoch: 2 [30208/60000 (50%)]\tLoss: 0.069999\n",
            "Train Epoch: 2 [45568/60000 (75%)]\tLoss: 0.031459\n",
            "\n",
            "Test set: Average loss: 0.0421, Accuracy: 9867/10000 (99%)\n",
            "\n",
            "Train Epoch: 3 [14848/60000 (25%)]\tLoss: 0.023288\n",
            "Train Epoch: 3 [30208/60000 (50%)]\tLoss: 0.033518\n",
            "Train Epoch: 3 [45568/60000 (75%)]\tLoss: 0.035553\n"
          ],
          "name": "stdout"
        },
        {
          "output_type": "error",
          "ename": "KeyboardInterrupt",
          "evalue": "ignored",
          "traceback": [
            "\u001b[0;31m---------------------------------------------------------------------------\u001b[0m",
            "\u001b[0;31mKeyboardInterrupt\u001b[0m                         Traceback (most recent call last)",
            "\u001b[0;32m<ipython-input-29-1e8a7b53f6af>\u001b[0m in \u001b[0;36m<module>\u001b[0;34m()\u001b[0m\n\u001b[1;32m      1\u001b[0m \u001b[0;32mfor\u001b[0m \u001b[0mepoch\u001b[0m \u001b[0;32min\u001b[0m \u001b[0mrange\u001b[0m\u001b[0;34m(\u001b[0m\u001b[0;36m0\u001b[0m\u001b[0;34m,\u001b[0m \u001b[0;36m20\u001b[0m\u001b[0;34m)\u001b[0m\u001b[0;34m:\u001b[0m\u001b[0;34m\u001b[0m\u001b[0;34m\u001b[0m\u001b[0m\n\u001b[0;32m----> 2\u001b[0;31m     \u001b[0mtrain\u001b[0m\u001b[0;34m(\u001b[0m\u001b[0mmodel\u001b[0m\u001b[0;34m,\u001b[0m \u001b[0mdevice\u001b[0m\u001b[0;34m,\u001b[0m \u001b[0mtrain_loader\u001b[0m\u001b[0;34m,\u001b[0m \u001b[0moptimizer\u001b[0m\u001b[0;34m,\u001b[0m \u001b[0mepoch\u001b[0m\u001b[0;34m)\u001b[0m\u001b[0;34m\u001b[0m\u001b[0;34m\u001b[0m\u001b[0m\n\u001b[0m\u001b[1;32m      3\u001b[0m     \u001b[0mtest\u001b[0m\u001b[0;34m(\u001b[0m\u001b[0mmodel\u001b[0m\u001b[0;34m,\u001b[0m \u001b[0mdevice\u001b[0m\u001b[0;34m,\u001b[0m \u001b[0mtest_loader\u001b[0m\u001b[0;34m)\u001b[0m\u001b[0;34m\u001b[0m\u001b[0;34m\u001b[0m\u001b[0m\n",
            "\u001b[0;32m<ipython-input-27-c85028da7923>\u001b[0m in \u001b[0;36mtrain\u001b[0;34m(model, device, train_loader, optimizer, epoch)\u001b[0m\n\u001b[1;32m      1\u001b[0m \u001b[0;32mdef\u001b[0m \u001b[0mtrain\u001b[0m\u001b[0;34m(\u001b[0m\u001b[0mmodel\u001b[0m\u001b[0;34m,\u001b[0m \u001b[0mdevice\u001b[0m\u001b[0;34m,\u001b[0m \u001b[0mtrain_loader\u001b[0m\u001b[0;34m,\u001b[0m \u001b[0moptimizer\u001b[0m\u001b[0;34m,\u001b[0m \u001b[0mepoch\u001b[0m\u001b[0;34m)\u001b[0m\u001b[0;34m:\u001b[0m\u001b[0;34m\u001b[0m\u001b[0;34m\u001b[0m\u001b[0m\n\u001b[1;32m      2\u001b[0m     \u001b[0mmodel\u001b[0m\u001b[0;34m.\u001b[0m\u001b[0mtrain\u001b[0m\u001b[0;34m(\u001b[0m\u001b[0;34m)\u001b[0m\u001b[0;34m\u001b[0m\u001b[0;34m\u001b[0m\u001b[0m\n\u001b[0;32m----> 3\u001b[0;31m     \u001b[0;32mfor\u001b[0m \u001b[0mbatch_idx\u001b[0m\u001b[0;34m,\u001b[0m \u001b[0;34m(\u001b[0m\u001b[0mdata\u001b[0m\u001b[0;34m,\u001b[0m \u001b[0mtarget\u001b[0m\u001b[0;34m)\u001b[0m \u001b[0;32min\u001b[0m \u001b[0menumerate\u001b[0m\u001b[0;34m(\u001b[0m\u001b[0mtrain_loader\u001b[0m\u001b[0;34m)\u001b[0m\u001b[0;34m:\u001b[0m\u001b[0;34m\u001b[0m\u001b[0;34m\u001b[0m\u001b[0m\n\u001b[0m\u001b[1;32m      4\u001b[0m         \u001b[0mdata\u001b[0m\u001b[0;34m,\u001b[0m \u001b[0mtarget\u001b[0m \u001b[0;34m=\u001b[0m \u001b[0mdata\u001b[0m\u001b[0;34m.\u001b[0m\u001b[0mto\u001b[0m\u001b[0;34m(\u001b[0m\u001b[0mdevice\u001b[0m\u001b[0;34m)\u001b[0m\u001b[0;34m,\u001b[0m \u001b[0mtarget\u001b[0m\u001b[0;34m.\u001b[0m\u001b[0mto\u001b[0m\u001b[0;34m(\u001b[0m\u001b[0mdevice\u001b[0m\u001b[0;34m)\u001b[0m\u001b[0;34m\u001b[0m\u001b[0;34m\u001b[0m\u001b[0m\n\u001b[1;32m      5\u001b[0m         \u001b[0moptimizer\u001b[0m\u001b[0;34m.\u001b[0m\u001b[0mzero_grad\u001b[0m\u001b[0;34m(\u001b[0m\u001b[0;34m)\u001b[0m\u001b[0;34m\u001b[0m\u001b[0;34m\u001b[0m\u001b[0m\n",
            "\u001b[0;32m/usr/local/lib/python3.7/dist-packages/torch/utils/data/dataloader.py\u001b[0m in \u001b[0;36m__next__\u001b[0;34m(self)\u001b[0m\n\u001b[1;32m    515\u001b[0m             \u001b[0;32mif\u001b[0m \u001b[0mself\u001b[0m\u001b[0;34m.\u001b[0m\u001b[0m_sampler_iter\u001b[0m \u001b[0;32mis\u001b[0m \u001b[0;32mNone\u001b[0m\u001b[0;34m:\u001b[0m\u001b[0;34m\u001b[0m\u001b[0;34m\u001b[0m\u001b[0m\n\u001b[1;32m    516\u001b[0m                 \u001b[0mself\u001b[0m\u001b[0;34m.\u001b[0m\u001b[0m_reset\u001b[0m\u001b[0;34m(\u001b[0m\u001b[0;34m)\u001b[0m\u001b[0;34m\u001b[0m\u001b[0;34m\u001b[0m\u001b[0m\n\u001b[0;32m--> 517\u001b[0;31m             \u001b[0mdata\u001b[0m \u001b[0;34m=\u001b[0m \u001b[0mself\u001b[0m\u001b[0;34m.\u001b[0m\u001b[0m_next_data\u001b[0m\u001b[0;34m(\u001b[0m\u001b[0;34m)\u001b[0m\u001b[0;34m\u001b[0m\u001b[0;34m\u001b[0m\u001b[0m\n\u001b[0m\u001b[1;32m    518\u001b[0m             \u001b[0mself\u001b[0m\u001b[0;34m.\u001b[0m\u001b[0m_num_yielded\u001b[0m \u001b[0;34m+=\u001b[0m \u001b[0;36m1\u001b[0m\u001b[0;34m\u001b[0m\u001b[0;34m\u001b[0m\u001b[0m\n\u001b[1;32m    519\u001b[0m             \u001b[0;32mif\u001b[0m \u001b[0mself\u001b[0m\u001b[0;34m.\u001b[0m\u001b[0m_dataset_kind\u001b[0m \u001b[0;34m==\u001b[0m \u001b[0m_DatasetKind\u001b[0m\u001b[0;34m.\u001b[0m\u001b[0mIterable\u001b[0m \u001b[0;32mand\u001b[0m\u001b[0;31m \u001b[0m\u001b[0;31m\\\u001b[0m\u001b[0;34m\u001b[0m\u001b[0;34m\u001b[0m\u001b[0m\n",
            "\u001b[0;32m/usr/local/lib/python3.7/dist-packages/torch/utils/data/dataloader.py\u001b[0m in \u001b[0;36m_next_data\u001b[0;34m(self)\u001b[0m\n\u001b[1;32m    555\u001b[0m     \u001b[0;32mdef\u001b[0m \u001b[0m_next_data\u001b[0m\u001b[0;34m(\u001b[0m\u001b[0mself\u001b[0m\u001b[0;34m)\u001b[0m\u001b[0;34m:\u001b[0m\u001b[0;34m\u001b[0m\u001b[0;34m\u001b[0m\u001b[0m\n\u001b[1;32m    556\u001b[0m         \u001b[0mindex\u001b[0m \u001b[0;34m=\u001b[0m \u001b[0mself\u001b[0m\u001b[0;34m.\u001b[0m\u001b[0m_next_index\u001b[0m\u001b[0;34m(\u001b[0m\u001b[0;34m)\u001b[0m  \u001b[0;31m# may raise StopIteration\u001b[0m\u001b[0;34m\u001b[0m\u001b[0;34m\u001b[0m\u001b[0m\n\u001b[0;32m--> 557\u001b[0;31m         \u001b[0mdata\u001b[0m \u001b[0;34m=\u001b[0m \u001b[0mself\u001b[0m\u001b[0;34m.\u001b[0m\u001b[0m_dataset_fetcher\u001b[0m\u001b[0;34m.\u001b[0m\u001b[0mfetch\u001b[0m\u001b[0;34m(\u001b[0m\u001b[0mindex\u001b[0m\u001b[0;34m)\u001b[0m  \u001b[0;31m# may raise StopIteration\u001b[0m\u001b[0;34m\u001b[0m\u001b[0;34m\u001b[0m\u001b[0m\n\u001b[0m\u001b[1;32m    558\u001b[0m         \u001b[0;32mif\u001b[0m \u001b[0mself\u001b[0m\u001b[0;34m.\u001b[0m\u001b[0m_pin_memory\u001b[0m\u001b[0;34m:\u001b[0m\u001b[0;34m\u001b[0m\u001b[0;34m\u001b[0m\u001b[0m\n\u001b[1;32m    559\u001b[0m             \u001b[0mdata\u001b[0m \u001b[0;34m=\u001b[0m \u001b[0m_utils\u001b[0m\u001b[0;34m.\u001b[0m\u001b[0mpin_memory\u001b[0m\u001b[0;34m.\u001b[0m\u001b[0mpin_memory\u001b[0m\u001b[0;34m(\u001b[0m\u001b[0mdata\u001b[0m\u001b[0;34m)\u001b[0m\u001b[0;34m\u001b[0m\u001b[0;34m\u001b[0m\u001b[0m\n",
            "\u001b[0;32m/usr/local/lib/python3.7/dist-packages/torch/utils/data/_utils/fetch.py\u001b[0m in \u001b[0;36mfetch\u001b[0;34m(self, possibly_batched_index)\u001b[0m\n\u001b[1;32m     42\u001b[0m     \u001b[0;32mdef\u001b[0m \u001b[0mfetch\u001b[0m\u001b[0;34m(\u001b[0m\u001b[0mself\u001b[0m\u001b[0;34m,\u001b[0m \u001b[0mpossibly_batched_index\u001b[0m\u001b[0;34m)\u001b[0m\u001b[0;34m:\u001b[0m\u001b[0;34m\u001b[0m\u001b[0;34m\u001b[0m\u001b[0m\n\u001b[1;32m     43\u001b[0m         \u001b[0;32mif\u001b[0m \u001b[0mself\u001b[0m\u001b[0;34m.\u001b[0m\u001b[0mauto_collation\u001b[0m\u001b[0;34m:\u001b[0m\u001b[0;34m\u001b[0m\u001b[0;34m\u001b[0m\u001b[0m\n\u001b[0;32m---> 44\u001b[0;31m             \u001b[0mdata\u001b[0m \u001b[0;34m=\u001b[0m \u001b[0;34m[\u001b[0m\u001b[0mself\u001b[0m\u001b[0;34m.\u001b[0m\u001b[0mdataset\u001b[0m\u001b[0;34m[\u001b[0m\u001b[0midx\u001b[0m\u001b[0;34m]\u001b[0m \u001b[0;32mfor\u001b[0m \u001b[0midx\u001b[0m \u001b[0;32min\u001b[0m \u001b[0mpossibly_batched_index\u001b[0m\u001b[0;34m]\u001b[0m\u001b[0;34m\u001b[0m\u001b[0;34m\u001b[0m\u001b[0m\n\u001b[0m\u001b[1;32m     45\u001b[0m         \u001b[0;32melse\u001b[0m\u001b[0;34m:\u001b[0m\u001b[0;34m\u001b[0m\u001b[0;34m\u001b[0m\u001b[0m\n\u001b[1;32m     46\u001b[0m             \u001b[0mdata\u001b[0m \u001b[0;34m=\u001b[0m \u001b[0mself\u001b[0m\u001b[0;34m.\u001b[0m\u001b[0mdataset\u001b[0m\u001b[0;34m[\u001b[0m\u001b[0mpossibly_batched_index\u001b[0m\u001b[0;34m]\u001b[0m\u001b[0;34m\u001b[0m\u001b[0;34m\u001b[0m\u001b[0m\n",
            "\u001b[0;32m/usr/local/lib/python3.7/dist-packages/torch/utils/data/_utils/fetch.py\u001b[0m in \u001b[0;36m<listcomp>\u001b[0;34m(.0)\u001b[0m\n\u001b[1;32m     42\u001b[0m     \u001b[0;32mdef\u001b[0m \u001b[0mfetch\u001b[0m\u001b[0;34m(\u001b[0m\u001b[0mself\u001b[0m\u001b[0;34m,\u001b[0m \u001b[0mpossibly_batched_index\u001b[0m\u001b[0;34m)\u001b[0m\u001b[0;34m:\u001b[0m\u001b[0;34m\u001b[0m\u001b[0;34m\u001b[0m\u001b[0m\n\u001b[1;32m     43\u001b[0m         \u001b[0;32mif\u001b[0m \u001b[0mself\u001b[0m\u001b[0;34m.\u001b[0m\u001b[0mauto_collation\u001b[0m\u001b[0;34m:\u001b[0m\u001b[0;34m\u001b[0m\u001b[0;34m\u001b[0m\u001b[0m\n\u001b[0;32m---> 44\u001b[0;31m             \u001b[0mdata\u001b[0m \u001b[0;34m=\u001b[0m \u001b[0;34m[\u001b[0m\u001b[0mself\u001b[0m\u001b[0;34m.\u001b[0m\u001b[0mdataset\u001b[0m\u001b[0;34m[\u001b[0m\u001b[0midx\u001b[0m\u001b[0;34m]\u001b[0m \u001b[0;32mfor\u001b[0m \u001b[0midx\u001b[0m \u001b[0;32min\u001b[0m \u001b[0mpossibly_batched_index\u001b[0m\u001b[0;34m]\u001b[0m\u001b[0;34m\u001b[0m\u001b[0;34m\u001b[0m\u001b[0m\n\u001b[0m\u001b[1;32m     45\u001b[0m         \u001b[0;32melse\u001b[0m\u001b[0;34m:\u001b[0m\u001b[0;34m\u001b[0m\u001b[0;34m\u001b[0m\u001b[0m\n\u001b[1;32m     46\u001b[0m             \u001b[0mdata\u001b[0m \u001b[0;34m=\u001b[0m \u001b[0mself\u001b[0m\u001b[0;34m.\u001b[0m\u001b[0mdataset\u001b[0m\u001b[0;34m[\u001b[0m\u001b[0mpossibly_batched_index\u001b[0m\u001b[0;34m]\u001b[0m\u001b[0;34m\u001b[0m\u001b[0;34m\u001b[0m\u001b[0m\n",
            "\u001b[0;32m/usr/local/lib/python3.7/dist-packages/torchvision/datasets/mnist.py\u001b[0m in \u001b[0;36m__getitem__\u001b[0;34m(self, index)\u001b[0m\n\u001b[1;32m    110\u001b[0m \u001b[0;34m\u001b[0m\u001b[0m\n\u001b[1;32m    111\u001b[0m         \u001b[0;32mif\u001b[0m \u001b[0mself\u001b[0m\u001b[0;34m.\u001b[0m\u001b[0mtransform\u001b[0m \u001b[0;32mis\u001b[0m \u001b[0;32mnot\u001b[0m \u001b[0;32mNone\u001b[0m\u001b[0;34m:\u001b[0m\u001b[0;34m\u001b[0m\u001b[0;34m\u001b[0m\u001b[0m\n\u001b[0;32m--> 112\u001b[0;31m             \u001b[0mimg\u001b[0m \u001b[0;34m=\u001b[0m \u001b[0mself\u001b[0m\u001b[0;34m.\u001b[0m\u001b[0mtransform\u001b[0m\u001b[0;34m(\u001b[0m\u001b[0mimg\u001b[0m\u001b[0;34m)\u001b[0m\u001b[0;34m\u001b[0m\u001b[0;34m\u001b[0m\u001b[0m\n\u001b[0m\u001b[1;32m    113\u001b[0m \u001b[0;34m\u001b[0m\u001b[0m\n\u001b[1;32m    114\u001b[0m         \u001b[0;32mif\u001b[0m \u001b[0mself\u001b[0m\u001b[0;34m.\u001b[0m\u001b[0mtarget_transform\u001b[0m \u001b[0;32mis\u001b[0m \u001b[0;32mnot\u001b[0m \u001b[0;32mNone\u001b[0m\u001b[0;34m:\u001b[0m\u001b[0;34m\u001b[0m\u001b[0;34m\u001b[0m\u001b[0m\n",
            "\u001b[0;32m/usr/local/lib/python3.7/dist-packages/torchvision/transforms/transforms.py\u001b[0m in \u001b[0;36m__call__\u001b[0;34m(self, img)\u001b[0m\n\u001b[1;32m     58\u001b[0m     \u001b[0;32mdef\u001b[0m \u001b[0m__call__\u001b[0m\u001b[0;34m(\u001b[0m\u001b[0mself\u001b[0m\u001b[0;34m,\u001b[0m \u001b[0mimg\u001b[0m\u001b[0;34m)\u001b[0m\u001b[0;34m:\u001b[0m\u001b[0;34m\u001b[0m\u001b[0;34m\u001b[0m\u001b[0m\n\u001b[1;32m     59\u001b[0m         \u001b[0;32mfor\u001b[0m \u001b[0mt\u001b[0m \u001b[0;32min\u001b[0m \u001b[0mself\u001b[0m\u001b[0;34m.\u001b[0m\u001b[0mtransforms\u001b[0m\u001b[0;34m:\u001b[0m\u001b[0;34m\u001b[0m\u001b[0;34m\u001b[0m\u001b[0m\n\u001b[0;32m---> 60\u001b[0;31m             \u001b[0mimg\u001b[0m \u001b[0;34m=\u001b[0m \u001b[0mt\u001b[0m\u001b[0;34m(\u001b[0m\u001b[0mimg\u001b[0m\u001b[0;34m)\u001b[0m\u001b[0;34m\u001b[0m\u001b[0;34m\u001b[0m\u001b[0m\n\u001b[0m\u001b[1;32m     61\u001b[0m         \u001b[0;32mreturn\u001b[0m \u001b[0mimg\u001b[0m\u001b[0;34m\u001b[0m\u001b[0;34m\u001b[0m\u001b[0m\n\u001b[1;32m     62\u001b[0m \u001b[0;34m\u001b[0m\u001b[0m\n",
            "\u001b[0;32m/usr/local/lib/python3.7/dist-packages/torchvision/transforms/transforms.py\u001b[0m in \u001b[0;36m__call__\u001b[0;34m(self, pic)\u001b[0m\n\u001b[1;32m     95\u001b[0m             \u001b[0mTensor\u001b[0m\u001b[0;34m:\u001b[0m \u001b[0mConverted\u001b[0m \u001b[0mimage\u001b[0m\u001b[0;34m.\u001b[0m\u001b[0;34m\u001b[0m\u001b[0;34m\u001b[0m\u001b[0m\n\u001b[1;32m     96\u001b[0m         \"\"\"\n\u001b[0;32m---> 97\u001b[0;31m         \u001b[0;32mreturn\u001b[0m \u001b[0mF\u001b[0m\u001b[0;34m.\u001b[0m\u001b[0mto_tensor\u001b[0m\u001b[0;34m(\u001b[0m\u001b[0mpic\u001b[0m\u001b[0;34m)\u001b[0m\u001b[0;34m\u001b[0m\u001b[0;34m\u001b[0m\u001b[0m\n\u001b[0m\u001b[1;32m     98\u001b[0m \u001b[0;34m\u001b[0m\u001b[0m\n\u001b[1;32m     99\u001b[0m     \u001b[0;32mdef\u001b[0m \u001b[0m__repr__\u001b[0m\u001b[0;34m(\u001b[0m\u001b[0mself\u001b[0m\u001b[0;34m)\u001b[0m\u001b[0;34m:\u001b[0m\u001b[0;34m\u001b[0m\u001b[0;34m\u001b[0m\u001b[0m\n",
            "\u001b[0;32m/usr/local/lib/python3.7/dist-packages/torchvision/transforms/functional.py\u001b[0m in \u001b[0;36mto_tensor\u001b[0;34m(pic)\u001b[0m\n\u001b[1;32m     99\u001b[0m         \u001b[0mTensor\u001b[0m\u001b[0;34m:\u001b[0m \u001b[0mConverted\u001b[0m \u001b[0mimage\u001b[0m\u001b[0;34m.\u001b[0m\u001b[0;34m\u001b[0m\u001b[0;34m\u001b[0m\u001b[0m\n\u001b[1;32m    100\u001b[0m     \"\"\"\n\u001b[0;32m--> 101\u001b[0;31m     \u001b[0;32mif\u001b[0m \u001b[0;32mnot\u001b[0m\u001b[0;34m(\u001b[0m\u001b[0mF_pil\u001b[0m\u001b[0;34m.\u001b[0m\u001b[0m_is_pil_image\u001b[0m\u001b[0;34m(\u001b[0m\u001b[0mpic\u001b[0m\u001b[0;34m)\u001b[0m \u001b[0;32mor\u001b[0m \u001b[0m_is_numpy\u001b[0m\u001b[0;34m(\u001b[0m\u001b[0mpic\u001b[0m\u001b[0;34m)\u001b[0m\u001b[0;34m)\u001b[0m\u001b[0;34m:\u001b[0m\u001b[0;34m\u001b[0m\u001b[0;34m\u001b[0m\u001b[0m\n\u001b[0m\u001b[1;32m    102\u001b[0m         \u001b[0;32mraise\u001b[0m \u001b[0mTypeError\u001b[0m\u001b[0;34m(\u001b[0m\u001b[0;34m'pic should be PIL Image or ndarray. Got {}'\u001b[0m\u001b[0;34m.\u001b[0m\u001b[0mformat\u001b[0m\u001b[0;34m(\u001b[0m\u001b[0mtype\u001b[0m\u001b[0;34m(\u001b[0m\u001b[0mpic\u001b[0m\u001b[0;34m)\u001b[0m\u001b[0;34m)\u001b[0m\u001b[0;34m)\u001b[0m\u001b[0;34m\u001b[0m\u001b[0;34m\u001b[0m\u001b[0m\n\u001b[1;32m    103\u001b[0m \u001b[0;34m\u001b[0m\u001b[0m\n",
            "\u001b[0;32m/usr/local/lib/python3.7/dist-packages/torchvision/transforms/functional_pil.py\u001b[0m in \u001b[0;36m_is_pil_image\u001b[0;34m(img)\u001b[0m\n\u001b[1;32m     12\u001b[0m \u001b[0;34m\u001b[0m\u001b[0m\n\u001b[1;32m     13\u001b[0m \u001b[0;34m\u001b[0m\u001b[0m\n\u001b[0;32m---> 14\u001b[0;31m \u001b[0;34m@\u001b[0m\u001b[0mtorch\u001b[0m\u001b[0;34m.\u001b[0m\u001b[0mjit\u001b[0m\u001b[0;34m.\u001b[0m\u001b[0munused\u001b[0m\u001b[0;34m\u001b[0m\u001b[0;34m\u001b[0m\u001b[0m\n\u001b[0m\u001b[1;32m     15\u001b[0m \u001b[0;32mdef\u001b[0m \u001b[0m_is_pil_image\u001b[0m\u001b[0;34m(\u001b[0m\u001b[0mimg\u001b[0m\u001b[0;34m:\u001b[0m \u001b[0mAny\u001b[0m\u001b[0;34m)\u001b[0m \u001b[0;34m->\u001b[0m \u001b[0mbool\u001b[0m\u001b[0;34m:\u001b[0m\u001b[0;34m\u001b[0m\u001b[0;34m\u001b[0m\u001b[0m\n\u001b[1;32m     16\u001b[0m     \u001b[0;32mif\u001b[0m \u001b[0maccimage\u001b[0m \u001b[0;32mis\u001b[0m \u001b[0;32mnot\u001b[0m \u001b[0;32mNone\u001b[0m\u001b[0;34m:\u001b[0m\u001b[0;34m\u001b[0m\u001b[0;34m\u001b[0m\u001b[0m\n",
            "\u001b[0;31mKeyboardInterrupt\u001b[0m: "
          ]
        }
      ]
    },
    {
      "cell_type": "markdown",
      "metadata": {
        "id": "DjWLw9_gz3EW"
      },
      "source": [
        "## 可视化"
      ]
    },
    {
      "cell_type": "markdown",
      "metadata": {
        "id": "rQRpD4va0NQZ"
      },
      "source": [
        "### 本地保存\n",
        "只需稍微修改下train，test即可"
      ]
    },
    {
      "cell_type": "code",
      "metadata": {
        "id": "LJxRL89dDRmn"
      },
      "source": [
        "Loss_list = []\n",
        "Loss_val_list = []\n",
        "\n",
        "def train(model, device, train_loader, optimizer, epoch):\n",
        "    model.train()\n",
        "    for batch_idx, (data, target) in enumerate(train_loader):\n",
        "        data, target = data.to(device), target.to(device)\n",
        "        optimizer.zero_grad()\n",
        "        output = model(data)\n",
        "        loss = F.nll_loss(output, target)\n",
        "        loss.backward()\n",
        "        optimizer.step()\n",
        "        if(batch_idx+1)%30 == 0: \n",
        "            print('Train Epoch: {} [{}/{} ({:.0f}%)]\\tLoss: {:.6f}'.format(\n",
        "                epoch, batch_idx * len(data), len(train_loader.dataset),\n",
        "                100. * batch_idx / len(train_loader), loss.item()))\n",
        "            Loss_list.append(loss.item())\n",
        "\n",
        "\n",
        "def test(model, device, test_loader):\n",
        "    model.eval()\n",
        "    test_loss = 0\n",
        "    correct = 0\n",
        "    with torch.no_grad():\n",
        "        for data, target in test_loader:\n",
        "            data, target = data.to(device), target.to(device)\n",
        "            output = model(data)\n",
        "            test_loss += F.nll_loss(output, target, reduction='sum').item() # 将一批的损失相加\n",
        "            pred = output.max(1, keepdim=True)[1] # 找到概率最大的下标\n",
        "            correct += pred.eq(target.view_as(pred)).sum().item()\n",
        "\n",
        "    test_loss /= len(test_loader.dataset)\n",
        "    Loss_val_list.append(test_loss)\n",
        "    print('\\nTest set: Average loss: {:.4f}, Accuracy: {}/{} ({:.0f}%)\\n'.format(\n",
        "        test_loss, correct, len(test_loader.dataset),\n",
        "        100. * correct / len(test_loader.dataset)))"
      ],
      "execution_count": 32,
      "outputs": []
    },
    {
      "cell_type": "code",
      "metadata": {
        "id": "KHVOE1eFE2_h"
      },
      "source": [
        "epoches = 2\n",
        "for epoch in range(epoches):\n",
        "    train(model, device, train_loader, optimizer, epoch)\n",
        "    test(model, device, test_loader)\n",
        "\n",
        "print(Loss_list)\n",
        "print(Loss_val_list)"
      ],
      "execution_count": null,
      "outputs": []
    },
    {
      "cell_type": "markdown",
      "metadata": {
        "id": "mq_kIPqiD0dX"
      },
      "source": [
        "再保存到本地即可"
      ]
    },
    {
      "cell_type": "code",
      "metadata": {
        "colab": {
          "base_uri": "https://localhost:8080/"
        },
        "id": "WS1ueuObD4Lf",
        "outputId": "57fe3b6e-cb82-4b50-e107-75cb0118664d"
      },
      "source": [
        "## Loss\n",
        "file = open('Loss.txt', 'w')\n",
        "for i in range(len(Loss_list)):\n",
        "    s = str(Loss_list[i]).replace('[','').replace(']','')#去除[],这两行按数据不同，可以选择\n",
        "    s = s.replace(\"'\",'').replace(',','') +'\\n'  #去除单引号，逗号，每行末尾追加换行符\n",
        "    file.write(s)\n",
        "file.close()\n",
        "print(\"保存文件成功\")\n",
        "\n",
        "## Loss_val\n",
        "file = open('Loss_val.txt', 'w')\n",
        "for i in range(len(Loss_val_list)):\n",
        "    s = str(Loss_val_list[i]).replace('[','').replace(']','')#去除[],这两行按数据不同，可以选择\n",
        "    s = s.replace(\"'\",'').replace(',','') +'\\n'  #去除单引号，逗号，每行末尾追加换行符\n",
        "    file.write(s)\n",
        "file.close()\n",
        "print(\"保存文件成功\")"
      ],
      "execution_count": 35,
      "outputs": [
        {
          "output_type": "stream",
          "text": [
            "保存文件成功\n",
            "保存文件成功\n"
          ],
          "name": "stdout"
        }
      ]
    },
    {
      "cell_type": "markdown",
      "metadata": {
        "id": "wpQ2prYv0crk"
      },
      "source": [
        "## Pre-Train & Fine-Tune\n",
        "这一部分具体可以查看：https://github.com/zergtant/pytorch-handbook/blob/master/chapter4/4.1-fine-tuning.ipynb"
      ]
    },
    {
      "cell_type": "code",
      "metadata": {
        "id": "XWAN4vsczmq-"
      },
      "source": [
        "\n",
        "torch.save(model.state_dict(), 'example.pt')"
      ],
      "execution_count": 36,
      "outputs": []
    },
    {
      "cell_type": "code",
      "metadata": {
        "id": "deVkr1thzgQK"
      },
      "source": [
        ""
      ],
      "execution_count": null,
      "outputs": []
    },
    {
      "cell_type": "markdown",
      "metadata": {
        "id": "hz5-ptErz-Iz"
      },
      "source": [
        "# 参考文献：\n",
        "\n",
        "[1] 李宏毅机器学习https://speech.ee.ntu.edu.tw/~hylee/ml/2021-spring.html\n",
        "\n",
        "[2]: 深入浅出Pytorch"
      ]
    },
    {
      "cell_type": "markdown",
      "metadata": {
        "id": "Bnt51OEI0HvY"
      },
      "source": [
        ""
      ]
    }
  ]
}